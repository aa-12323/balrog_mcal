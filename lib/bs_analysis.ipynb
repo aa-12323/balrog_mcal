{
 "cells": [
  {
   "cell_type": "code",
   "execution_count": 2,
   "metadata": {},
   "outputs": [],
   "source": [
    "import pandas as pd\n",
    "import numpy as np\n",
    "import pickle\n",
    "import treecorr\n",
    "from tqdm import tqdm_notebook as tqdm\n",
    "import seaborn as sns\n",
    "import matplotlib.pyplot as plt\n",
    "from scipy import stats"
   ]
  },
  {
   "cell_type": "code",
   "execution_count": 21,
   "metadata": {},
   "outputs": [],
   "source": [
    "sns.set(color_codes=True)"
   ]
  },
  {
   "cell_type": "code",
   "execution_count": 22,
   "metadata": {},
   "outputs": [],
   "source": [
    "df_riz = pd.read_pickle('/home/cz136/project/balrog/data/mcal{}_df_all.pkl'.format(3)) "
   ]
  },
  {
   "cell_type": "code",
   "execution_count": 23,
   "metadata": {},
   "outputs": [],
   "source": [
    "keys = df_riz.columns[40:]"
   ]
  },
  {
   "cell_type": "code",
   "execution_count": 24,
   "metadata": {},
   "outputs": [],
   "source": [
    "bs_xi_dict={}\n",
    "bs_xi_true_dict={}\n",
    "for key in keys:\n",
    "    xi_dict[key]=np.load(\"/home/cz136/project/balrog/data/bootstrap/{}.npy\".format(key))\n",
    "    xi_true_dict[key]=np.load(\"/home/cz136/project/balrog/data/bootstrap/{}_true.npy\".format(key))"
   ]
  },
  {
   "cell_type": "code",
   "execution_count": 25,
   "metadata": {},
   "outputs": [],
   "source": [
    "jk_xi_dict={}\n",
    "jk_xi_true_dict={}\n",
    "\n",
    "for key in keys:\n",
    "    xi_dict[key]=np.load(\"/home/cz136/project/balrog/data/equalsize/{}.npy\".format(key))\n",
    "    xi_true_dict[key]=np.load(\"/home/cz136/project/balrog/data/equalsize/{}_true.npy\".format(key))"
   ]
  },
  {
   "cell_type": "code",
   "execution_count": 3,
   "metadata": {},
   "outputs": [],
   "source": [
    "bs_chi_sqr=np.load('/home/cz136/project/balrog/data/bootstrap/chi_sqr_bs.npy')\n",
    "jk_chi_sqr=np.load(\"/home/cz136/project/balrog/data/equalsize/chi_sqr_array.npy\")"
   ]
  },
  {
   "cell_type": "code",
   "execution_count": 27,
   "metadata": {},
   "outputs": [
    {
     "data": {
      "text/plain": [
       "array([3.26761026e-02, 3.23633052e+03, 2.62847852e+01, 4.12526463e+01,\n",
       "       2.44918983e+01, 1.45954152e+04, 2.80211054e+01, 2.65947370e+01,\n",
       "       3.22447359e+01, 3.64825616e+01, 2.73471757e+01, 2.98708222e+01,\n",
       "       2.79593844e+01, 2.80211054e+01, 2.65947370e+01, 3.22447359e+01,\n",
       "       3.64825616e+01, 2.73471757e+01, 2.98708222e+01, 2.79593844e+01,\n",
       "       2.80211054e+01, 2.65947370e+01, 3.22447359e+01, 3.64825616e+01,\n",
       "       2.73471757e+01, 2.98708222e+01, 2.79593844e+01, 2.80211054e+01,\n",
       "       2.65947370e+01, 3.22447359e+01, 3.64825616e+01])"
      ]
     },
     "execution_count": 27,
     "metadata": {},
     "output_type": "execute_result"
    }
   ],
   "source": [
    "jk_chi_sqr"
   ]
  },
  {
   "cell_type": "code",
   "execution_count": 28,
   "metadata": {},
   "outputs": [
    {
     "data": {
      "text/plain": [
       "<matplotlib.axes._subplots.AxesSubplot at 0x7f2e48f26d30>"
      ]
     },
     "execution_count": 28,
     "metadata": {},
     "output_type": "execute_result"
    },
    {
     "data": {
      "image/png": "[encoded data removed]",
      "text/plain": [
       "<Figure size 432x288 with 1 Axes>"
      ]
     },
     "metadata": {},
     "output_type": "display_data"
    }
   ],
   "source": [
    "sns.distplot(jk_chi_sqr)"
   ]
  },
  {
   "cell_type": "code",
   "execution_count": 5,
   "metadata": {},
   "outputs": [],
   "source": [
    "test=pd.Series(bs_chi_sqr)"
   ]
  },
  {
   "cell_type": "code",
   "execution_count": 6,
   "metadata": {},
   "outputs": [
    {
     "data": {
      "text/plain": [
       "count    31.000000\n",
       "mean     20.127908\n",
       "std       1.960401\n",
       "min      10.785281\n",
       "25%      19.669857\n",
       "50%      20.766778\n",
       "75%      21.073929\n",
       "max      21.635954\n",
       "dtype: float64"
      ]
     },
     "execution_count": 6,
     "metadata": {},
     "output_type": "execute_result"
    }
   ],
   "source": [
    "test.describe()"
   ]
  },
  {
   "cell_type": "code",
   "execution_count": null,
   "metadata": {},
   "outputs": [],
   "source": []
  }
 ],
 "metadata": {
  "kernelspec": {
   "display_name": "Python 3",
   "language": "python",
   "name": "python3"
  },
  "language_info": {
   "codemirror_mode": {
    "name": "ipython",
    "version": 3
   },
   "file_extension": ".py",
   "mimetype": "text/x-python",
   "name": "python",
   "nbconvert_exporter": "python",
   "pygments_lexer": "ipython3",
   "version": "3.7.3"
  }
 },
 "nbformat": 4,
 "nbformat_minor": 4
}
