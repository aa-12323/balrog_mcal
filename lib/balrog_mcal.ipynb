{
 "cells": [
  {
   "cell_type": "markdown",
   "metadata": {},
   "source": [
    "# Header"
   ]
  },
  {
   "cell_type": "code",
   "execution_count": 1,
   "outputs": [
    {
     "name": "stdout",
     "text": [
      "3.7.3 (default, Mar 27 2019, 22:11:17) \n[GCC 7.3.0]\n/home/cz136/anaconda3/envs/balrog/bin/python\n"
     ],
     "output_type": "stream"
    }
   ],
   "source": [
    "import sys\n",
    "print(sys.version)\n",
    "print(sys.executable)"
   ],
   "metadata": {
    "collapsed": false,
    "pycharm": {
     "name": "#%%\n",
     "is_executing": false
    }
   }
  },
  {
   "cell_type": "code",
   "execution_count": 2,
   "metadata": {
    "pycharm": {
     "is_executing": false
    }
   },
   "outputs": [],
   "source": [
    "import matplotlib\n",
    "# matplotlib.use(\"agg\")\n",
    "import matplotlib.pyplot as plt\n",
    "import pylab\n",
    "import numpy as np\n",
    "import h5py\n",
    "from astropy.io import fits\n",
    "from tqdm import tqdm"
   ]
  },
  {
   "cell_type": "code",
   "execution_count": 3,
   "metadata": {
    "pycharm": {
     "is_executing": false
    }
   },
   "outputs": [],
   "source": [
    "detect = fits.open('/lsst/troxel/balrog/balrog_detection_catalog-v1.2.fits')[-1]\n",
    "phot   = fits.open('/lsst/troxel/balrog/balrog_matched_catalog_flatten.fits')\n",
    "id_balrog = fits.open('/lsst/troxel/balrog/balrog_mcal_bal_ids_v1.2.fits')\n",
    "\n",
    "#all objects riz\n",
    "mcal   = h5py.File('/lsst/troxel/balrog/balrog_mcal_stack-y3v02-0-riz-mcal-v1.2.h5','r')['catalog'] #with neighbor\n",
    "mcal1  = h5py.File('/lsst/troxel/balrog/balrog_mcal_stack-y3v02-0-riz-noNB-mcal-v1.2.h5','r')['catalog'] #no neighbor\n",
    "\n",
    "#only coadded objects riz\n",
    "mcal2   = h5py.File('/lsst/troxel/balrog/balrog_mcal_stack-y3v02-0-riz-mcal-1.3.h5','r')['catalog'] #with neighbor\n",
    "mcal3  = h5py.File('/lsst/troxel/balrog/balrog_mcal_stack-y3v02-0-riz-noNB-mcal-1.3.h5','r')['catalog'] #no neighbor\n",
    "\n",
    "#all objects griz\n",
    "mcal4   = h5py.File('/lsst/troxel/balrog/balrog_mcal_stack-y3v02-0-griz-mcal-1.3.h5','r')['catalog'] #with neighbor\n",
    "mcal5  = h5py.File('/lsst/troxel/balrog/balrog_mcal_stack-y3v02-0-griz-noNB-mcal-1.3.h5','r')['catalog'] #no neighbor"
   ]
  },
  {
   "cell_type": "code",
   "execution_count": 4,
   "metadata": {
    "pycharm": {
     "is_executing": false
    }
   },
   "outputs": [],
   "source": [
    "name_array = [\"mcal\",\"mcal1\",\"mcal2\",\"mcal3\",\"mcal4\",\"mcal5\"]\n",
    "catalog_array = [mcal,mcal1,mcal2,mcal3,mcal4,mcal5]"
   ]
  },
  {
   "cell_type": "code",
   "execution_count": 5,
   "metadata": {
    "pycharm": {
     "is_executing": false
    }
   },
   "outputs": [],
   "source": [
    "def get_np_unsheared_array(catalog_array):\n",
    "    catalog_array_unsheared=[]\n",
    "    for catalog in catalog_array:\n",
    "        data_dict={}\n",
    "        for key in list(catalog['unsheared'].keys()):\n",
    "            data_dict[key]=catalog['unsheared'][key].value\n",
    "        catalog_array_unsheared.append(data_dict)\n",
    "    return (catalog_array_unsheared)"
   ]
  },
  {
   "cell_type": "code",
   "execution_count": 6,
   "metadata": {
    "pycharm": {
     "is_executing": false
    }
   },
   "outputs": [
    {
     "name": "stderr",
     "text": [
      "/home/cz136/anaconda3/envs/balrog/lib/python3.7/site-packages/h5py/_hl/dataset.py:313: H5pyDeprecationWarning: dataset.value has been deprecated. Use dataset[()] instead.\n  \"Use dataset[()] instead.\", H5pyDeprecationWarning)\n"
     ],
     "output_type": "stream"
    }
   ],
   "source": [
    "catalog_array_unsheared=get_np_unsheared_array(catalog_array)\n",
    "keys_array = [list(mcal.keys()) for mcal in catalog_array_unsheared]"
   ]
  },
  {
   "cell_type": "code",
   "execution_count": 7,
   "metadata": {
    "pycharm": {
     "is_executing": false
    }
   },
   "outputs": [],
   "source": [
    "SNR_CUT = 10\n",
    "SIZE_RATIO_CUT = 0.5\n",
    "T_CUT = 1000"
   ]
  },
  {
   "cell_type": "markdown",
   "metadata": {},
   "source": [
    "# Functions"
   ]
  },
  {
   "cell_type": "code",
   "execution_count": 8,
   "metadata": {
    "pycharm": {
     "is_executing": false
    }
   },
   "outputs": [],
   "source": [
    "def sort_by_bal_id(catalog):\n",
    "    catalog_sorted = {}\n",
    "    order = catalog['bal_id'].argsort()\n",
    "    for key in catalog.keys():\n",
    "        catalog_sorted[key] = catalog[key][order]\n",
    "    return (catalog_sorted)"
   ]
  },
  {
   "cell_type": "code",
   "execution_count": 9,
   "metadata": {
    "pycharm": {
     "is_executing": false
    }
   },
   "outputs": [],
   "source": [
    "def get_true_dict(true_data):\n",
    "    true_data_dict = {}\n",
    "    for key in true_data.columns:\n",
    "        true_data_dict[key.name] = true_data[key.name]\n",
    "    return (true_data_dict)"
   ]
  },
  {
   "cell_type": "code",
   "execution_count": 10,
   "metadata": {
    "pycharm": {
     "is_executing": false
    }
   },
   "outputs": [],
   "source": [
    "def masking(catalog,SNR_CUT,SIZE_RATIO_CUT,T_CUT):\n",
    "    snr_mask = np.ma.masked_greater(catalog['snr'][:],SNR_CUT)\n",
    "    size_ratio_mask = np.ma.masked_greater(catalog['size_ratio'][:],SIZE_RATIO_CUT)\n",
    "    T_mask = np.ma.masked_less(catalog['T'],T_CUT)\n",
    "    mask_temp = np.logical_and(snr_mask.mask, size_ratio_mask.mask)\n",
    "    mask = np.logical_and(mask_temp, T_mask.mask)\n",
    "    return ([snr_mask,size_ratio_mask,T_mask,mask]) #index 3 is the final mask"
   ]
  },
  {
   "cell_type": "code",
   "execution_count": 11,
   "metadata": {
    "pycharm": {
     "is_executing": false
    }
   },
   "outputs": [],
   "source": [
    "def get_mask(catalog_array_unsheared):\n",
    "    mask_array = []\n",
    "    for catalog in catalog_array_unsheared:\n",
    "        mask_array.append(masking(catalog,SNR_CUT,SIZE_RATIO_CUT,T_CUT))\n",
    "    return (mask_array)"
   ]
  },
  {
   "cell_type": "code",
   "execution_count": 12,
   "metadata": {
    "pycharm": {
     "is_executing": false
    }
   },
   "outputs": [],
   "source": [
    "def print_mask():\n",
    "    for i,catalog in enumerate(catalog_array_unsheared):\n",
    "        print (\"For {:5}, snr > {:3} mask cuts {:8} elements, size_ratio > {:4} mask cuts {:8} elements, T > {:5} mask cuts {:5} elements\".format\n",
    "          (name_array[i],SNR_CUT,np.sum(~mask_array[i][0].mask),SIZE_RATIO_CUT,np.sum(~mask_array[i][1].mask),T_CUT,np.sum(~mask_array[i][2].mask)))"
   ]
  },
  {
   "cell_type": "code",
   "execution_count": 13,
   "metadata": {
    "pycharm": {
     "is_executing": false
    }
   },
   "outputs": [],
   "source": [
    "def mask_catalog_arrays(catalog_array,mask_array):\n",
    "    masked_catalog = []\n",
    "    for i,catalog in enumerate(catalog_array):\n",
    "        data_dict = {}\n",
    "        for key in list(catalog.keys()):\n",
    "            data_dict[key] = catalog[key][mask_array[i]]\n",
    "        masked_catalog.append(data_dict)\n",
    "    return (masked_catalog)"
   ]
  },
  {
   "cell_type": "code",
   "execution_count": 14,
   "metadata": {
    "pycharm": {
     "is_executing": false
    }
   },
   "outputs": [],
   "source": [
    "def get_unique_dict(old_dict):\n",
    "    new_dict={}\n",
    "    temp_dict,order=np.unique(old_dict['bal_id'],return_index=True)\n",
    "    for key in list(old_dict.keys()):\n",
    "        new_dict[key]=old_dict[key][order]\n",
    "    return(new_dict)"
   ]
  },
  {
   "cell_type": "code",
   "execution_count": 15,
   "metadata": {
    "pycharm": {
     "is_executing": false
    }
   },
   "outputs": [],
   "source": [
    "def sort_dict_by_bal(old_dict):\n",
    "    new_dict={}\n",
    "    order= old_dict['bal_id'].argsort()\n",
    "    for key in list(old_dict.keys()):\n",
    "        new_dict[key]=old_dict[key][order]\n",
    "    return(new_dict)"
   ]
  },
  {
   "cell_type": "code",
   "execution_count": 16,
   "metadata": {
    "pycharm": {
     "is_executing": false
    }
   },
   "outputs": [],
   "source": [
    "def get_intersected_mask(catalog1,catalog2):\n",
    "    \n",
    "    id_array_1 = catalog1['bal_id'][:]\n",
    "    id_array_2 = catalog2['bal_id'][:]\n",
    "\n",
    "    mask1 = np.in1d(id_array_1,id_array_2)\n",
    "    mask2 = np.in1d(id_array_2,id_array_1)\n",
    "\n",
    "    if np.sum(mask1)==np.sum(mask2):\n",
    "        print(\"The number of elements after taking the intersection of two sets are {}\".format(np.sum(mask1)))\n",
    "        print(\"The intersection operation takes {} elements from array1\".format(len(id_array_1)-np.sum(mask1)))\n",
    "        print(\"The intersection operation takes {} elements from array2\".format(len(id_array_2)-np.sum(mask2)))\n",
    "\n",
    "    if np.all((np.equal(id_array_1[mask1],id_array_2[mask2]))):\n",
    "        print(\"The balrog ids are two identical arrays after masking.\")\n",
    "        \n",
    "    return(mask1,mask2)"
   ]
  },
  {
   "cell_type": "code",
   "execution_count": 17,
   "metadata": {
    "pycharm": {
     "is_executing": false
    }
   },
   "outputs": [],
   "source": [
    "mask_array = get_mask(catalog_array_unsheared)"
   ]
  },
  {
   "cell_type": "code",
   "execution_count": 18,
   "metadata": {
    "pycharm": {
     "is_executing": false
    }
   },
   "outputs": [],
   "source": [
    "mask_array = [mask[3] for mask in mask_array]"
   ]
  },
  {
   "cell_type": "code",
   "execution_count": 19,
   "metadata": {
    "pycharm": {
     "is_executing": false
    }
   },
   "outputs": [],
   "source": [
    "masked_catalog = mask_catalog_arrays(catalog_array_unsheared,mask_array)"
   ]
  },
  {
   "cell_type": "code",
   "execution_count": null,
   "metadata": {
    "pycharm": {
     "is_executing": true
    }
   },
   "outputs": [],
   "source": [
    "relavant_catalogs=masked_catalog[2:6]\n",
    "# # new_relavant=[]\n",
    "# for catalog in relavant_catalogs:\n",
    "#     new_relavant.append()get_unique_dict(catalog):\n",
    "#     new_dict={}\n",
    "#     temp_dict,order=np.unique(old_dict['bal_id'],return_index=True)\n",
    "#     for key in list(old_dict.keys()):\n",
    "#         new_dict[key]=old_dict[key][order]\n",
    "#     return(new_dict)"
   ]
  },
  {
   "cell_type": "markdown",
   "metadata": {},
   "source": [
    "# Getting dictionary arrays"
   ]
  },
  {
   "cell_type": "code",
   "execution_count": 21,
   "metadata": {
    "pycharm": {
     "is_executing": false
    }
   },
   "outputs": [],
   "source": [
    "cols=phot[1].columns\n",
    "true_data = phot[1].data\n",
    "\n",
    "true_dict = get_true_dict(true_data)"
   ]
  },
  {
   "cell_type": "code",
   "execution_count": 22,
   "metadata": {
    "pycharm": {
     "is_executing": false
    }
   },
   "outputs": [],
   "source": [
    "true_dict_unique=get_unique_dict(true_dict);"
   ]
  },
  {
   "cell_type": "code",
   "execution_count": 23,
   "metadata": {
    "pycharm": {
     "is_executing": false
    }
   },
   "outputs": [],
   "source": [
    "true_dict_unique_sorted=sort_dict_by_bal(true_dict_unique)"
   ]
  },
  {
   "cell_type": "code",
   "execution_count": 24,
   "metadata": {
    "pycharm": {
     "is_executing": false
    }
   },
   "outputs": [],
   "source": [
    "def get_positive_g_mask(true_dict):\n",
    "    g1_mask = np.ma.masked_greater(true_dict['true_cm_g_1'],0)\n",
    "    g2_mask = np.ma.masked_greater(true_dict['true_cm_g_2'],0)\n",
    "    g_mask = np.logical_and(g1_mask.mask, g2_mask.mask)\n",
    "    return(g_mask)"
   ]
  },
  {
   "cell_type": "code",
   "execution_count": 25,
   "metadata": {
    "pycharm": {
     "is_executing": false
    }
   },
   "outputs": [],
   "source": [
    "def get_negative_g_mask(true_dict):\n",
    "    g1_mask = np.ma.masked_less(true_dict['true_cm_g_1'],0)\n",
    "    g2_mask = np.ma.masked_less(true_dict['true_cm_g_2'],0)\n",
    "    g_mask = np.logical_and(g1_mask.mask, g2_mask.mask)\n",
    "    return(g_mask)"
   ]
  },
  {
   "cell_type": "code",
   "execution_count": 26,
   "metadata": {
    "pycharm": {
     "is_executing": false
    }
   },
   "outputs": [],
   "source": [
    "positive_g_mask=get_positive_g_mask(true_dict_unique_sorted)\n",
    "negative_g_mask=get_negative_g_mask(true_dict_unique_sorted)"
   ]
  },
  {
   "cell_type": "code",
   "execution_count": 27,
   "metadata": {
    "pycharm": {
     "is_executing": false
    }
   },
   "outputs": [],
   "source": [
    "true_positive_g=mask_catalog_arrays([true_dict_unique_sorted],[positive_g_mask])[0]\n",
    "true_negative_g=mask_catalog_arrays([true_dict_unique_sorted],[negative_g_mask])[0]"
   ]
  },
  {
   "cell_type": "code",
   "execution_count": 28,
   "metadata": {
    "pycharm": {
     "is_executing": false
    }
   },
   "outputs": [
    {
     "name": "stdout",
     "text": [
      "The number of elements after taking the intersection of two sets are 320407\nThe intersection operation takes 768001 elements from array1\nThe intersection operation takes 967267 elements from array2\n",
      "The number of elements after taking the intersection of two sets are 450626\nThe intersection operation takes 637782 elements from array1\nThe intersection operation takes 1365985 elements from array2\n",
      "The number of elements after taking the intersection of two sets are 250457\nThe intersection operation takes 837951 elements from array1\nThe intersection operation takes 758531 elements from array2\n",
      "The number of elements after taking the intersection of two sets are 384605\nThe intersection operation takes 703803 elements from array1\nThe intersection operation takes 1169824 elements from array2\n"
     ],
     "output_type": "stream"
    }
   ],
   "source": [
    "positive_filtered=[]\n",
    "positive_true=[]\n",
    "for i,catalog in enumerate(relavant_catalogs):\n",
    "    positive_mask_true,positive_mask_mcal = get_intersected_mask(true_positive_g,catalog)\n",
    "    positive_filtered.append(mask_catalog_arrays([catalog],[positive_mask_mcal])[0])\n",
    "    positive_true.append(mask_catalog_arrays([true_positive_g],[positive_mask_true])[0])"
   ]
  },
  {
   "cell_type": "code",
   "execution_count": 29,
   "metadata": {
    "pycharm": {
     "is_executing": false
    }
   },
   "outputs": [
    {
     "name": "stdout",
     "text": [
      "The number of elements after taking the intersection of two sets are 317724\nThe intersection operation takes 764411 elements from array1\nThe intersection operation takes 969950 elements from array2\n",
      "The number of elements after taking the intersection of two sets are 445397\nThe intersection operation takes 636738 elements from array1\nThe intersection operation takes 1371214 elements from array2\n",
      "The number of elements after taking the intersection of two sets are 248804\nThe intersection operation takes 833331 elements from array1\nThe intersection operation takes 760184 elements from array2\n",
      "The number of elements after taking the intersection of two sets are 380589\nThe intersection operation takes 701546 elements from array1\nThe intersection operation takes 1173840 elements from array2\n"
     ],
     "output_type": "stream"
    }
   ],
   "source": [
    "negative_filtered=[]\n",
    "negative_true=[]\n",
    "for i,catalog in enumerate(relavant_catalogs):\n",
    "    negative_mask_true,negative_mask_mcal = get_intersected_mask(true_negative_g,catalog)\n",
    "    negative_filtered.append(mask_catalog_arrays([catalog],[negative_mask_mcal])[0])\n",
    "    negative_true.append(mask_catalog_arrays([true_negative_g],[negative_mask_true])[0])"
   ]
  },
  {
   "cell_type": "code",
   "execution_count": 30,
   "metadata": {
    "pycharm": {
     "is_executing": false
    }
   },
   "outputs": [
    {
     "name": "stdout",
     "text": [
      "4\n"
     ],
     "output_type": "stream"
    }
   ],
   "source": [
    "print (len(negative_filtered))"
   ]
  },
  {
   "cell_type": "markdown",
   "metadata": {},
   "source": [
    "# Intersect mcal2/3 mcal4/5"
   ]
  },
  {
   "cell_type": "code",
   "execution_count": 31,
   "metadata": {
    "pycharm": {
     "is_executing": false
    }
   },
   "outputs": [],
   "source": [
    "def intersect_the_same_catalog():\n",
    "    duo_intersected_array_positive=[]\n",
    "    duo_intersected_array_negative=[]\n",
    "    for i in [0,2]:\n",
    "        (mask1,mask2)=get_intersected_mask(positive_filtered[i],positive_filtered[i+1])\n",
    "        (mask3,mask4)=get_intersected_mask(negative_filtered[i],negative_filtered[i+1])\n",
    "        mask_array=[mask1,mask2,mask3,mask4]\n",
    "        duo_intersected_array_positive.append(mask_catalog_arrays([positive_filtered[i]],[mask_array[0]])[0])\n",
    "        duo_intersected_array_positive.append(mask_catalog_arrays([positive_filtered[i+1]],[mask_array[1]])[0])\n",
    "        duo_intersected_array_negative.append(mask_catalog_arrays([negative_filtered[i]],[mask_array[2]])[0])\n",
    "        duo_intersected_array_negative.append(mask_catalog_arrays([negative_filtered[i+1]],[mask_array[3]])[0])\n",
    "    return(duo_intersected_array_positive,duo_intersected_array_negative)"
   ]
  },
  {
   "cell_type": "code",
   "execution_count": 32,
   "metadata": {
    "pycharm": {
     "is_executing": false
    }
   },
   "outputs": [
    {
     "name": "stdout",
     "text": [
      "The number of elements after taking the intersection of two sets are 272818\nThe intersection operation takes 47589 elements from array1\nThe intersection operation takes 177808 elements from array2\nThe balrog ids are two identical arrays after masking.\n",
      "The number of elements after taking the intersection of two sets are 270876\nThe intersection operation takes 46848 elements from array1\nThe intersection operation takes 174521 elements from array2\nThe balrog ids are two identical arrays after masking.\n",
      "The number of elements after taking the intersection of two sets are 215145\nThe intersection operation takes 35312 elements from array1\nThe intersection operation takes 169460 elements from array2\nThe balrog ids are two identical arrays after masking.\nThe number of elements after taking the intersection of two sets are 213617\nThe intersection operation takes 35187 elements from array1\nThe intersection operation takes 166972 elements from array2\nThe balrog ids are two identical arrays after masking.\n"
     ],
     "output_type": "stream"
    }
   ],
   "source": [
    "(nor_positive,nor_negative) = intersect_the_same_catalog()"
   ]
  },
  {
   "cell_type": "code",
   "execution_count": 33,
   "metadata": {
    "pycharm": {
     "is_executing": false
    }
   },
   "outputs": [
    {
     "name": "stdout",
     "text": [
      "The number of elements after taking the intersection of two sets are 272818\nThe intersection operation takes 815590 elements from array1\nThe intersection operation takes 0 elements from array2\n",
      "The number of elements after taking the intersection of two sets are 272818\nThe intersection operation takes 815590 elements from array1\nThe intersection operation takes 0 elements from array2\n",
      "The number of elements after taking the intersection of two sets are 215145\nThe intersection operation takes 873263 elements from array1\nThe intersection operation takes 0 elements from array2\n",
      "The number of elements after taking the intersection of two sets are 215145\nThe intersection operation takes 873263 elements from array1\nThe intersection operation takes 0 elements from array2\n"
     ],
     "output_type": "stream"
    }
   ],
   "source": [
    "positive_filtered=[]\n",
    "positive_true=[]\n",
    "for i,catalog in enumerate(nor_positive):\n",
    "    positive_mask_true,positive_mask_mcal = get_intersected_mask(true_positive_g,catalog)\n",
    "    positive_filtered.append(mask_catalog_arrays([catalog],[positive_mask_mcal])[0])\n",
    "    positive_true.append(mask_catalog_arrays([true_positive_g],[positive_mask_true])[0])"
   ]
  },
  {
   "cell_type": "code",
   "execution_count": 34,
   "metadata": {
    "pycharm": {
     "is_executing": false
    }
   },
   "outputs": [
    {
     "name": "stdout",
     "text": [
      "The number of elements after taking the intersection of two sets are 270876\nThe intersection operation takes 811259 elements from array1\nThe intersection operation takes 0 elements from array2\n",
      "The number of elements after taking the intersection of two sets are 270876\nThe intersection operation takes 811259 elements from array1\nThe intersection operation takes 0 elements from array2\n",
      "The number of elements after taking the intersection of two sets are 213617\nThe intersection operation takes 868518 elements from array1\nThe intersection operation takes 0 elements from array2\n",
      "The number of elements after taking the intersection of two sets are 213617\nThe intersection operation takes 868518 elements from array1\nThe intersection operation takes 0 elements from array2\n"
     ],
     "output_type": "stream"
    }
   ],
   "source": [
    "negative_filtered=[]\n",
    "negative_true=[]\n",
    "for i,catalog in enumerate(nor_negative):\n",
    "    negative_mask_true,negative_mask_mcal = get_intersected_mask(true_negative_g,catalog)\n",
    "    negative_filtered.append(mask_catalog_arrays([catalog],[negative_mask_mcal])[0])\n",
    "    negative_true.append(mask_catalog_arrays([true_negative_g],[negative_mask_true])[0])"
   ]
  },
  {
   "cell_type": "code",
   "execution_count": 35,
   "metadata": {
    "pycharm": {
     "is_executing": false
    }
   },
   "outputs": [
    {
     "name": "stdout",
     "text": [
      "270876\n270876\n213617\n213617\n270876\n"
     ],
     "output_type": "stream"
    }
   ],
   "source": [
    "for catalog in nor_negative:\n",
    "    print (len(catalog['bal_id']))\n",
    "print (len(negative_true[0]['bal_id']))"
   ]
  },
  {
   "cell_type": "code",
   "execution_count": 36,
   "metadata": {
    "pycharm": {
     "is_executing": false
    }
   },
   "outputs": [
    {
     "name": "stdout",
     "text": [
      "[False False False ... False False False]\n"
     ],
     "output_type": "stream"
    }
   ],
   "source": [
    "print (np.equal(nor_positive[2]['e_1'],nor_positive[3]['e_1']))"
   ]
  },
  {
   "cell_type": "code",
   "execution_count": 37,
   "metadata": {
    "pycharm": {
     "is_executing": false
    }
   },
   "outputs": [
    {
     "name": "stdout",
     "text": [
      "True\n"
     ],
     "output_type": "stream"
    }
   ],
   "source": [
    "print (np.equal(negative_true[0]['true_cm_g_1'],negative_true[1]['true_cm_g_1']).all())"
   ]
  },
  {
   "cell_type": "code",
   "execution_count": 38,
   "metadata": {
    "pycharm": {
     "is_executing": false
    }
   },
   "outputs": [],
   "source": [
    "positive_filtered=nor_positive\n",
    "negative_filtered=nor_negative"
   ]
  },
  {
   "cell_type": "code",
   "execution_count": 39,
   "metadata": {
    "pycharm": {
     "is_executing": false
    }
   },
   "outputs": [],
   "source": [
    "def get_R(mcal,true):\n",
    "    e1=np.mean(mcal['e_1'])\n",
    "    e2=np.mean(mcal['e_2'])\n",
    "    g1=np.mean(true['true_cm_g_1'])\n",
    "    g2=np.mean(true['true_cm_g_2'])\n",
    "    r11=e1/g1\n",
    "    r12=e1/g2\n",
    "    r21=e2/g1\n",
    "    r22=e2/g2\n",
    "    return([[r11,r12],[r21,r22]],[[e1,e2],[g1,g2]])"
   ]
  },
  {
   "cell_type": "code",
   "execution_count": 40,
   "metadata": {
    "pycharm": {
     "is_executing": false
    }
   },
   "outputs": [],
   "source": [
    "R_array_positive=[]\n",
    "eg_array_positive=[]\n",
    "for i in range(4):\n",
    "    R_array_positive.append(get_R(positive_filtered[i],positive_true[i])[0])\n",
    "    eg_array_positive.append(get_R(positive_filtered[i],positive_true[i])[1])"
   ]
  },
  {
   "cell_type": "code",
   "execution_count": 41,
   "metadata": {
    "pycharm": {
     "is_executing": false
    }
   },
   "outputs": [],
   "source": [
    "R_array_negative=[]\n",
    "eg_array_negative=[]\n",
    "for i in range(4):\n",
    "    R_array_negative.append(get_R(negative_filtered[i],negative_true[i])[0])\n",
    "    eg_array_negative.append(get_R(negative_filtered[i],negative_true[i])[1])"
   ]
  },
  {
   "cell_type": "code",
   "execution_count": 42,
   "metadata": {
    "pycharm": {
     "is_executing": false
    }
   },
   "outputs": [],
   "source": [
    "real_R_array_positive=[]\n",
    "for i in range(4):\n",
    "    r11=np.mean(positive_filtered[i]['R11'])\n",
    "    r12=np.mean(positive_filtered[i]['R12'])\n",
    "    r21=np.mean(positive_filtered[i]['R21'])\n",
    "    r22=np.mean(positive_filtered[i]['R22'])\n",
    "    real_R_array_positive.append([[r11,r12],[r21,r22]])"
   ]
  },
  {
   "cell_type": "code",
   "execution_count": 43,
   "metadata": {
    "pycharm": {
     "is_executing": false
    }
   },
   "outputs": [],
   "source": [
    "real_R_array_negative=[]\n",
    "for i in range(4):\n",
    "    r11=np.mean(negative_filtered[i]['R11'])\n",
    "    r12=np.mean(negative_filtered[i]['R12'])\n",
    "    r21=np.mean(negative_filtered[i]['R21'])\n",
    "    r22=np.mean(negative_filtered[i]['R22'])\n",
    "    real_R_array_negative.append([[r11,r12],[r21,r22]])"
   ]
  },
  {
   "cell_type": "code",
   "execution_count": 44,
   "metadata": {
    "pycharm": {
     "is_executing": false
    }
   },
   "outputs": [
    {
     "name": "stdout",
     "text": [
      "For mcal2 with negative g, measured R is\n|7.100e-01 7.247e-01|\n|6.932e-01 7.076e-01|\n<e1>=-1.415e-01, <e2>=-1.381e-01, <g1>=-1.993e-01, <g2>=-1.952e-01, R11=7.748e-01, R22=7.802e-01\nd_e1=3.634e-04, d_e2=3.625e-04\nR11'_error=2.197e-03 R22'_error=2.230e-03\n\n\ng1'=-1.826e-01, g2'=-1.770e-01, g1'_error=6.369e-04, g2'_error=6.229e-04\n\n\nTheoretical R is\n|7.748e-01 -5.918e-02|\n|-5.926e-02 7.802e-01|\nR11'=7.100e-01, R22'=7.076e-01, R11=7.748e-01, R22=7.802e-01\n-----------------------------------------------------------------\n\n\nFor mcal3 with negative g, measured R is\n|7.074e-01 7.221e-01|\n|6.918e-01 7.062e-01|\n<e1>=-1.409e-01, <e2>=-1.378e-01, <g1>=-1.993e-01, <g2>=-1.952e-01, R11=7.699e-01, R22=7.745e-01\nd_e1=3.634e-04, d_e2=3.620e-04\nR11'_error=2.195e-03 R22'_error=2.226e-03\n\n\ng1'=-1.831e-01, g2'=-1.780e-01, g1'_error=6.439e-04, g2'_error=6.305e-04\n\n\nTheoretical R is\n|7.699e-01 -5.719e-02|\n|-5.868e-02 7.745e-01|\nR11'=7.074e-01, R22'=7.062e-01, R11=7.699e-01, R22=7.745e-01\n-----------------------------------------------------------------\n\n\nFor mcal4 with negative g, measured R is\n|7.163e-01 7.339e-01|\n|7.003e-01 7.175e-01|\n<e1>=-1.411e-01, <e2>=-1.379e-01, <g1>=-1.970e-01, <g2>=-1.923e-01, R11=7.967e-01, R22=7.979e-01\nd_e1=4.130e-04, d_e2=4.113e-04\nR11'_error=2.522e-03 R22'_error=2.570e-03\n\n\ng1'=-1.771e-01, g2'=-1.729e-01, g1'_error=7.273e-04, g2'_error=7.162e-04\n\n\nTheoretical R is\n|7.967e-01 -5.479e-02|\n|-5.943e-02 7.979e-01|\nR11'=7.163e-01, R22'=7.175e-01, R11=7.967e-01, R22=7.979e-01\n-----------------------------------------------------------------\n\n\nFor mcal5 with negative g, measured R is\n|7.168e-01 7.344e-01|\n|6.980e-01 7.152e-01|\n<e1>=-1.412e-01, <e2>=-1.375e-01, <g1>=-1.970e-01, <g2>=-1.923e-01, R11=7.893e-01, R22=7.949e-01\nd_e1=4.115e-04, d_e2=4.103e-04\nR11'_error=2.516e-03 R22'_error=2.563e-03\n\n\ng1'=-1.789e-01, g2'=-1.730e-01, g1'_error=7.411e-04, g2'_error=7.227e-04\n\n\nTheoretical R is\n|7.893e-01 -5.676e-02|\n|-5.743e-02 7.949e-01|\nR11'=7.168e-01, R22'=7.152e-01, R11=7.893e-01, R22=7.949e-01\n-----------------------------------------------------------------\n\n\n"
     ],
     "output_type": "stream"
    }
   ],
   "source": [
    "for i,R_array in enumerate(R_array_negative):\n",
    "    e1_error=np.std(negative_filtered[i]['e_1'])/np.sqrt(float(len(negative_filtered[i]['e_1'])))\n",
    "    e2_error=np.std(negative_filtered[i]['e_2'])/np.sqrt(float(len(negative_filtered[i]['e_2'])))\n",
    "    \n",
    "    g1_error=np.std(negative_true[i]['true_cm_g_1'])/np.sqrt(float(len(negative_true[i]['true_cm_g_1'])))\n",
    "    g2_error=np.std(negative_true[i]['true_cm_g_2'])/np.sqrt(float(len(negative_true[i]['true_cm_g_2'])))\n",
    "    \n",
    "    e1_mean=np.mean(negative_filtered[i]['e_1'])\n",
    "    e2_mean=np.mean(negative_filtered[i]['e_2'])\n",
    "    \n",
    "    g1_mean=np.mean(negative_true[i]['true_cm_g_1'])\n",
    "    g2_mean=np.mean(negative_true[i]['true_cm_g_2'])\n",
    "    \n",
    "    R11_error=np.sqrt((1/g1_mean)**2 * e1_error**2 + (e1_mean/(g1_mean**2))**2*g1_error**2)\n",
    "    R22_error=np.sqrt((1/g2_mean)**2 * e2_error**2 + (e2_mean/(g2_mean**2))**2*g2_error**2)\n",
    "    \n",
    "    R_11_mean=np.mean(negative_filtered[i]['R11'])\n",
    "    R_22_mean=np.mean(negative_filtered[i]['R22'])\n",
    "    R_11_std=np.std(negative_filtered[i]['R11'])\n",
    "    R_22_std=np.std(negative_filtered[i]['R22'])\n",
    "\n",
    "    \n",
    "    R_11_read_error=R_11_std/np.sqrt(float(len(negative_filtered[i]['R11'])))\n",
    "    R_22_read_error=R_11_std/np.sqrt(float(len(negative_filtered[i]['R22'])))\n",
    "\n",
    "    \n",
    "    \n",
    "    g_prime_1=np.mean(negative_filtered[i]['e_1'])/R_11_mean\n",
    "    g_prime_2=np.mean(negative_filtered[i]['e_2'])/R_22_mean\n",
    "    \n",
    "    g_prime_1_error=np.sqrt((1/R_11_mean)**2 * e1_error**2 + (e1_mean/R_11_mean**2)**2*R_11_read_error**2)\n",
    "    g_prime_2_error=np.sqrt((1/R_22_mean)**2 * e2_error**2 + (e2_mean/R_22_mean**2)**2*R_22_read_error**2)\n",
    "    print(\"For mcal{} with negative g, measured R is\".format(i+2))\n",
    "    for j,row1 in enumerate(R_array):\n",
    "        print(\"|{:5.3e} {:5.3e}|\".format(*row1))\n",
    "    print(\"<e1>={:5.3e}, <e2>={:5.3e}, <g1>={:5.3e}, <g2>={:5.3e}, R11={:5.3e}, R22={:5.3e}\".format(*eg_array_negative[i][0],*eg_array_negative[i][1],real_R_array_negative[i][0][0],real_R_array_negative[i][1][1]))\n",
    "    print(\"d_e1={:5.3e}, d_e2={:5.3e}\".format(e1_error,e2_error))\n",
    "    print(\"R11'_error={:5.3e} R22'_error={:5.3e}\".format(R11_error,R22_error))\n",
    "    print(\"\\n\")\n",
    "    print (\"g1'={:5.3e}, g2'={:5.3e},\".format(g_prime_1,g_prime_2)+\" g1'_error={:5.3e}, g2'_error={:5.3e}\".format(g_prime_1_error,g_prime_2_error))\n",
    "    print(\"\\n\")\n",
    "    print(\"Theoretical R is\".format(i+2))\n",
    "    for j,row1 in enumerate(R_array):\n",
    "        print(\"|{:5.3e} {:5.3e}|\".format(*real_R_array_negative[i][j]))\n",
    "    print (\"R11'={:5.3e}, R22'={:5.3e}, R11={:5.3e}, R22={:5.3e}\".format(R_array_negative[i][0][0],R_array_negative[i][1][1],real_R_array_negative[i][0][0],real_R_array_negative[i][1][1]))\n",
    "    print(\"-----------------------------------------------------------------\")\n",
    "    print(\"\\n\")\n"
   ]
  },
  {
   "cell_type": "code",
   "execution_count": 45,
   "metadata": {
    "pycharm": {
     "is_executing": false
    }
   },
   "outputs": [
    {
     "name": "stdout",
     "text": [
      "For mcal2 with positive g, measured R is\n|7.177e-01 7.467e-01|\n|6.844e-01 7.120e-01|\n<e1>=1.473e-01, <e2>=1.405e-01, <g1>=2.053e-01, <g2>=1.973e-01, R11=7.738e-01, R22=7.828e-01\nd_e1=3.676e-04, d_e2=3.627e-04\nR11'_error=2.168e-03 R22'_error=2.212e-03\n\n\ng1'=1.904e-01, g2'=1.795e-01, g1'_error=6.532e-04, g2'_error=6.182e-04\nTheoretical R is\n|7.738e-01 -6.377e-02|\n|-6.216e-02 7.828e-01|\nR11'=7.177e-01, R22'=7.120e-01, R11=7.738e-01, R22=7.828e-01\n-----------------------------------------------------------------\nFor mcal3 with positive g, measured R is\n|7.167e-01 7.457e-01|\n|6.822e-01 7.097e-01|\n<e1>=1.471e-01, <e2>=1.400e-01, <g1>=2.053e-01, <g2>=1.973e-01, R11=7.675e-01, R22=7.772e-01\nd_e1=3.665e-04, d_e2=3.619e-04\nR11'_error=2.163e-03 R22'_error=2.207e-03\n\n\ng1'=1.917e-01, g2'=1.802e-01, g1'_error=6.621e-04, g2'_error=6.310e-04\nTheoretical R is\n|7.675e-01 -6.231e-02|\n|-6.083e-02 7.772e-01|\nR11'=7.167e-01, R22'=7.097e-01, R11=7.675e-01, R22=7.772e-01\n-----------------------------------------------------------------\nFor mcal4 with positive g, measured R is\n|7.280e-01 7.625e-01|\n|6.895e-01 7.221e-01|\n<e1>=1.483e-01, <e2>=1.405e-01, <g1>=2.038e-01, <g2>=1.945e-01, R11=7.962e-01, R22=7.995e-01\nd_e1=4.170e-04, d_e2=4.101e-04\nR11'_error=2.480e-03 R22'_error=2.541e-03\n\n\ng1'=1.863e-01, g2'=1.757e-01, g1'_error=7.486e-04, g2'_error=7.300e-04\nTheoretical R is\n|7.962e-01 -6.734e-02|\n|-6.063e-02 7.995e-01|\nR11'=7.280e-01, R22'=7.221e-01, R11=7.962e-01, R22=7.995e-01\n-----------------------------------------------------------------\nFor mcal5 with positive g, measured R is\n|7.256e-01 7.599e-01|\n",
      "|6.865e-01 7.190e-01|\n<e1>=1.478e-01, <e2>=1.399e-01, <g1>=2.038e-01, <g2>=1.945e-01, R11=7.873e-01, R22=7.958e-01\nd_e1=4.161e-04, d_e2=4.093e-04\nR11'_error=2.474e-03 R22'_error=2.534e-03\n\n\ng1'=1.878e-01, g2'=1.758e-01, g1'_error=7.645e-04, g2'_error=7.064e-04\nTheoretical R is\n|7.873e-01 -5.769e-02|\n|-5.774e-02 7.958e-01|\nR11'=7.256e-01, R22'=7.190e-01, R11=7.873e-01, R22=7.958e-01\n-----------------------------------------------------------------\n"
     ],
     "output_type": "stream"
    }
   ],
   "source": [
    "for i,R_array in enumerate(R_array_positive):\n",
    "    e1_error=np.std(positive_filtered[i]['e_1'])/np.sqrt(float(len(positive_filtered[i]['e_1'])))\n",
    "    e2_error=np.std(positive_filtered[i]['e_2'])/np.sqrt(float(len(positive_filtered[i]['e_2'])))\n",
    "    g1_error=np.std(positive_true[i]['true_cm_g_1'])/np.sqrt(float(len(positive_true[i]['true_cm_g_1'])))\n",
    "    g2_error=np.std(positive_true[i]['true_cm_g_2'])/np.sqrt(float(len(positive_true[i]['true_cm_g_2'])))\n",
    "    e1_mean=np.mean(positive_filtered[i]['e_1'])\n",
    "    e2_mean=np.mean(positive_filtered[i]['e_2'])\n",
    "    g1_mean=np.mean(positive_true[i]['true_cm_g_1'])\n",
    "    g2_mean=np.mean(positive_true[i]['true_cm_g_2'])\n",
    "    R11_error=np.sqrt((1/g1_mean)**2 * e1_error**2 + (e1_mean/(g1_mean**2))**2*g1_error**2)\n",
    "    R22_error=np.sqrt((1/g2_mean)**2 * e2_error**2 + (e2_mean/(g2_mean**2))**2*g2_error**2)\n",
    "    \n",
    "    R_11_mean=np.mean(positive_filtered[i]['R11'])\n",
    "    R_22_mean=np.mean(positive_filtered[i]['R22'])\n",
    "    R_11_std=np.std(negative_filtered[i]['R11'])\n",
    "    R_22_std=np.std(negative_filtered[i]['R22'])\n",
    "    \n",
    "    R_11_read_error=R_11_std/np.sqrt(float(len(positive_filtered[i]['R11'])))\n",
    "    R_22_read_error=R_22_std/np.sqrt(float(len(positive_filtered[i]['R22'])))\n",
    "    \n",
    "    g_prime_1=np.mean(positive_filtered[i]['e_1'])/R_11_mean\n",
    "    g_prime_2=np.mean(positive_filtered[i]['e_2'])/R_22_mean\n",
    "    \n",
    "    g_prime_1_error=np.sqrt((1/R_11_mean)**2 * e1_error**2 + (e1_mean/(R_11_mean**2))**2*R_11_read_error**2)\n",
    "    g_prime_2_error=np.sqrt((1/R_22_mean)**2 * e2_error**2 + (e2_mean/(R_22_mean**2))**2*R_22_read_error**2)\n",
    "\n",
    "    \n",
    "\n",
    "    print(\"For mcal{} with positive g, measured R is\".format(i+2))\n",
    "    for j,row1 in enumerate(R_array):\n",
    "        print(\"|{:5.3e} {:5.3e}|\".format(*row1))\n",
    "    print(\"<e1>={:5.3e}, <e2>={:5.3e}, <g1>={:5.3e}, <g2>={:5.3e}, R11={:5.3e}, R22={:5.3e}\".format(*eg_array_positive[i][0],*eg_array_positive[i][1],real_R_array_positive[i][0][0],real_R_array_positive[i][1][1]))\n",
    "    print(\"d_e1={:5.3e}, d_e2={:5.3e}\".format(e1_error,e2_error))\n",
    "    print(\"R11'_error={:5.3e} R22'_error={:5.3e}\".format(R11_error,R22_error))\n",
    "    print(\"\\n\")\n",
    "    print (\"g1'={:5.3e}, g2'={:5.3e},\".format(g_prime_1,g_prime_2)+\" g1'_error={:5.3e}, g2'_error={:5.3e}\".format(g_prime_1_error,g_prime_2_error))\n",
    "    \n",
    "    print(\"Theoretical R is\".format(i+2))\n",
    "    for j,row1 in enumerate(R_array):\n",
    "        print(\"|{:5.3e} {:5.3e}|\".format(*real_R_array_positive[i][j]))\n",
    "    print (\"R11'={:5.3e}, R22'={:5.3e}, R11={:5.3e}, R22={:5.3e}\".format(R_array_positive[i][0][0],R_array_positive[i][1][1],real_R_array_positive[i][0][0],real_R_array_positive[i][1][1]))\n",
    "    print(\"-----------------------------------------------------------------\")"
   ]
  },
  {
   "cell_type": "code",
   "execution_count": 46,
   "metadata": {
    "pycharm": {
     "is_executing": false
    }
   },
   "outputs": [
    {
     "name": "stdout",
     "text": [
      "For positive_g\nThe difference beween R matrice in mcal2.000e+00 and mcal3.000e+00 is:\n|9.862e-04 1.026e-03|\n|2.212e-03 2.301e-03|\nThe difference beween R matrice in mcal4.000e+00 and mcal5.000e+00 is:\n|2.446e-03 2.562e-03|\n|2.935e-03 3.074e-03|\n"
     ],
     "output_type": "stream"
    }
   ],
   "source": [
    "print (\"For positive_g\")\n",
    "for i in [0,2]:\n",
    "    print (\"The difference beween R matrice in mcal{:5.3e} and mcal{:5.3e} is:\".format(i+2,i+3))\n",
    "    for j in range(2):\n",
    "        print (\"|{:5.3e} {:5.3e}|\".format(*(np.array(R_array_positive[i][j])-np.array(R_array_positive[i+1][j]))))"
   ]
  },
  {
   "cell_type": "code",
   "execution_count": 47,
   "metadata": {
    "pycharm": {
     "is_executing": false
    }
   },
   "outputs": [
    {
     "name": "stdout",
     "text": [
      "For negative g\nThe difference beween R matrice in mcal2 and mcal3 is:\n|2.577e-03 2.630e-03|\n|1.416e-03 1.445e-03|\nThe difference beween R matrice in mcal4 and mcal5 is:\n|-4.649e-04 -4.763e-04|\n|2.231e-03 2.286e-03|\n"
     ],
     "output_type": "stream"
    }
   ],
   "source": [
    "print (\"For negative g\")\n",
    "for i in [0,2]:\n",
    "    print (\"The difference beween R matrice in mcal{} and mcal{} is:\".format(i+2,i+3))\n",
    "    for j in range(2):\n",
    "        print (\"|{:5.3e} {:5.3e}|\".format(*(np.array(R_array_negative[i][j])-np.array(R_array_negative[i+1][j]))))"
   ]
  },
  {
   "cell_type": "code",
   "execution_count": 48,
   "metadata": {
    "pycharm": {
     "is_executing": false
    }
   },
   "outputs": [
    {
     "name": "stdout",
     "text": [
      "For positive g\nFor mcal2, the diffrence between measured and theoretical R is\n|-5.607e-02 8.105e-01|\n|7.465e-01 -7.076e-02|\nFor mcal3, the diffrence between measured and theoretical R is\n|-5.072e-02 8.080e-01|\n|7.430e-01 -6.747e-02|\nFor mcal4, the diffrence between measured and theoretical R is\n|-6.822e-02 8.298e-01|\n|7.501e-01 -7.738e-02|\nFor mcal5, the diffrence between measured and theoretical R is\n|-6.174e-02 8.176e-01|\n|7.443e-01 -7.673e-02|\n"
     ],
     "output_type": "stream"
    }
   ],
   "source": [
    "print (\"For positive g\")\n",
    "for i in range(4):\n",
    "    print(\"For mcal{}, the diffrence between measured and theoretical R is\".format(i+2))\n",
    "    for j in range(2):\n",
    "        print (\"|{:5.3e} {:5.3e}|\".format(*(np.array(R_array_positive[i][j])-np.array(real_R_array_positive[i][j])))) "
   ]
  },
  {
   "cell_type": "code",
   "execution_count": 49,
   "metadata": {
    "pycharm": {
     "is_executing": false
    }
   },
   "outputs": [
    {
     "name": "stdout",
     "text": [
      "For negative g\nFor mcal2, the diffrence between measured and theoretical R is\n|-6.482e-02 7.839e-01|\n|7.525e-01 -7.255e-02|\nFor mcal3, the diffrence between measured and theoretical R is\n|-6.254e-02 7.793e-01|\n|7.505e-01 -6.835e-02|\nFor mcal4, the diffrence between measured and theoretical R is\n|-8.032e-02 7.887e-01|\n|7.597e-01 -8.046e-02|\nFor mcal5, the diffrence between measured and theoretical R is\n|-7.253e-02 7.912e-01|\n|7.555e-01 -7.975e-02|\n"
     ],
     "output_type": "stream"
    }
   ],
   "source": [
    "print (\"For negative g\")\n",
    "for i in range(4):\n",
    "    print(\"For mcal{}, the diffrence between measured and theoretical R is\".format(i+2))\n",
    "    for j in range(2):\n",
    "        print (\"|{:5.3e} {:5.3e}|\".format(*(np.array(R_array_negative[i][j])-np.array(real_R_array_negative[i][j])))) "
   ]
  },
  {
   "cell_type": "markdown",
   "metadata": {},
   "source": [
    "# Fitting e_i = m_i * g + c"
   ]
  },
  {
   "cell_type": "code",
   "execution_count": 50,
   "metadata": {
    "pycharm": {
     "is_executing": false
    }
   },
   "outputs": [
    {
     "name": "stdout",
     "text": [
      "The number of elements after taking the intersection of two sets are 1287674\nThe intersection operation takes 3095231 elements from array1\nThe intersection operation takes 0 elements from array2\n",
      "The number of elements after taking the intersection of two sets are 1816611\nThe intersection operation takes 2566294 elements from array1\nThe intersection operation takes 0 elements from array2\n",
      "The number of elements after taking the intersection of two sets are 1008988\nThe intersection operation takes 3373917 elements from array1\nThe intersection operation takes 0 elements from array2\n",
      "The number of elements after taking the intersection of two sets are 1554429\nThe intersection operation takes 2828476 elements from array1\nThe intersection operation takes 0 elements from array2\n"
     ],
     "output_type": "stream"
    }
   ],
   "source": [
    "intersected_masks=[get_intersected_mask(true_dict_unique_sorted,catalog) for catalog in relavant_catalogs]"
   ]
  },
  {
   "cell_type": "code",
   "execution_count": 51,
   "metadata": {
    "pycharm": {
     "is_executing": false
    }
   },
   "outputs": [],
   "source": [
    "intersected_masks_for_mcal=[mask[1] for mask in intersected_masks]\n",
    "intersected_masks_for_true=[mask[0] for mask in intersected_masks]"
   ]
  },
  {
   "cell_type": "code",
   "execution_count": 52,
   "metadata": {
    "pycharm": {
     "is_executing": false
    }
   },
   "outputs": [],
   "source": [
    "intersected_clipped_array=mask_catalog_arrays(relavant_catalogs,intersected_masks_for_mcal)"
   ]
  },
  {
   "cell_type": "code",
   "execution_count": 53,
   "metadata": {
    "pycharm": {
     "is_executing": false
    }
   },
   "outputs": [],
   "source": [
    "four_true_dicts=[true_dict_unique_sorted for i in range(4)]"
   ]
  },
  {
   "cell_type": "code",
   "execution_count": 54,
   "metadata": {
    "pycharm": {
     "is_executing": false
    }
   },
   "outputs": [],
   "source": [
    "intersected_clipped_true=mask_catalog_arrays(four_true_dicts,intersected_masks_for_true)"
   ]
  },
  {
   "cell_type": "code",
   "execution_count": 55,
   "metadata": {
    "pycharm": {
     "is_executing": false
    }
   },
   "outputs": [],
   "source": [
    "def get_cm(true_dict,mcal_dict):\n",
    "        y1=mcal_dict['e_1']\n",
    "        x1=true_dict['true_cm_g_1']\n",
    "        y2=mcal_dict['e_2']\n",
    "        x2=true_dict['true_cm_g_2']\n",
    "        m1,c1=np.polyfit(x1,y1,1)\n",
    "        m2,c2=np.polyfit(x2,y2,1)\n",
    "        return([[m1,c1],[m2,c2]])"
   ]
  },
  {
   "cell_type": "code",
   "execution_count": 56,
   "metadata": {
    "pycharm": {
     "is_executing": false
    }
   },
   "outputs": [],
   "source": [
    "cm_array=[get_cm(intersected_clipped_true[i],intersected_clipped_array[i]) for i in range(4)]"
   ]
  },
  {
   "cell_type": "code",
   "execution_count": 57,
   "metadata": {
    "pycharm": {
     "is_executing": false
    }
   },
   "outputs": [],
   "source": [
    "cm_array_positive=[get_cm(positive_true[i],positive_filtered[i]) for i in range(4)]"
   ]
  },
  {
   "cell_type": "code",
   "execution_count": 58,
   "metadata": {
    "pycharm": {
     "is_executing": false
    }
   },
   "outputs": [],
   "source": [
    "cm_array_negative=[get_cm(negative_true[i],negative_filtered[i]) for i in range(4)]"
   ]
  },
  {
   "cell_type": "code",
   "execution_count": 59,
   "metadata": {
    "pycharm": {
     "is_executing": false
    }
   },
   "outputs": [],
   "source": [
    "def print_cm(cm_array):\n",
    "    for i,matrix in enumerate(cm_array):\n",
    "        print(\"For mcal{}, m1={:10.3e},c1={:10.3e},m2={:10.3e},c2={:10.3e}\".format((i+2),*matrix[0],*matrix[1]))"
   ]
  },
  {
   "cell_type": "code",
   "execution_count": 60,
   "metadata": {
    "pycharm": {
     "is_executing": false
    }
   },
   "outputs": [
    {
     "name": "stdout",
     "text": [
      "For mcal2, m1= 7.668e-04,c1= 1.897e-03,m2=-1.142e-03,c2= 3.495e-04\nFor mcal3, m1= 5.635e-04,c1= 2.420e-03,m2= 2.411e-04,c2= 6.351e-04\nFor mcal4, m1=-6.717e-04,c1= 1.741e-03,m2=-9.173e-04,c2= 5.626e-04\nFor mcal5, m1=-9.965e-04,c1= 2.446e-03,m2= 4.289e-04,c2= 7.195e-04\n"
     ],
     "output_type": "stream"
    }
   ],
   "source": [
    "print_cm(cm_array)"
   ]
  },
  {
   "cell_type": "code",
   "execution_count": 61,
   "metadata": {
    "pycharm": {
     "is_executing": false
    }
   },
   "outputs": [
    {
     "name": "stdout",
     "text": [
      "For mcal2, m1= 1.397e-03,c1= 1.471e-01,m2=-3.002e-03,c2= 1.411e-01\nFor mcal3, m1=-1.247e-03,c1= 1.474e-01,m2=-6.743e-04,c2= 1.402e-01\nFor mcal4, m1= 1.512e-03,c1= 1.480e-01,m2=-1.700e-04,c2= 1.405e-01\nFor mcal5, m1= 2.186e-03,c1= 1.474e-01,m2= 4.565e-04,c2= 1.398e-01\n"
     ],
     "output_type": "stream"
    }
   ],
   "source": [
    "print_cm(cm_array_positive)"
   ]
  },
  {
   "cell_type": "code",
   "execution_count": 62,
   "metadata": {
    "pycharm": {
     "is_executing": false
    }
   },
   "outputs": [
    {
     "name": "stdout",
     "text": [
      "For mcal2, m1= 2.809e-03,c1=-1.409e-01,m2=-7.016e-04,c2=-1.383e-01\nFor mcal3, m1= 4.042e-03,c1=-1.401e-01,m2= 5.362e-04,c2=-1.377e-01\nFor mcal4, m1=-3.612e-04,c1=-1.412e-01,m2=-9.481e-04,c2=-1.381e-01\nFor mcal5, m1=-1.431e-03,c1=-1.415e-01,m2= 1.179e-03,c2=-1.373e-01\n"
     ],
     "output_type": "stream"
    }
   ],
   "source": [
    "print_cm(cm_array_negative)"
   ]
  },
  {
   "cell_type": "code",
   "execution_count": 63,
   "metadata": {
    "pycharm": {
     "is_executing": false
    }
   },
   "outputs": [],
   "source": [
    "x1_array=[true_dict['true_cm_g_1'] for true_dict in intersected_clipped_true]\n",
    "x2_array=[true_dict['true_cm_g_2'] for true_dict in intersected_clipped_true]\n",
    "y1_array=[mcal_dict['e_1'] for mcal_dict in intersected_clipped_array]\n",
    "y2_array=[mcal_dict['e_2'] for mcal_dict in intersected_clipped_array]"
   ]
  },
  {
   "cell_type": "code",
   "execution_count": 64,
   "metadata": {
    "pycharm": {
     "is_executing": false
    }
   },
   "outputs": [],
   "source": [
    "x3_array=[true_dict['true_cm_g_1'] for true_dict in positive_true]\n",
    "x4_array=[true_dict['true_cm_g_2'] for true_dict in positive_true]\n",
    "y3_array=[mcal_dict['e_1'] for mcal_dict in positive_filtered]\n",
    "y4_array=[mcal_dict['e_2'] for mcal_dict in positive_filtered]"
   ]
  },
  {
   "cell_type": "code",
   "execution_count": 65,
   "metadata": {
    "pycharm": {
     "is_executing": false
    }
   },
   "outputs": [],
   "source": [
    "x5_array=[true_dict['true_cm_g_1'] for true_dict in negative_true]\n",
    "x6_array=[true_dict['true_cm_g_2'] for true_dict in negative_true]\n",
    "y5_array=[mcal_dict['e_1'] for mcal_dict in negative_filtered]\n",
    "y6_array=[mcal_dict['e_2'] for mcal_dict in negative_filtered]"
   ]
  },
  {
   "cell_type": "code",
   "execution_count": 66,
   "metadata": {
    "pycharm": {
     "is_executing": false
    }
   },
   "outputs": [],
   "source": [
    "colors=(0,0,0)\n",
    "area=0.01\n",
    "def plot_scatter(x,y,cm):\n",
    "    plt.scatter(x,y,s=area,c=colors,alpha=0.5)\n",
    "    x_range=np.linspace(0,1)\n",
    "    plt.plot(x_range,cm[0]*x_range+cm[1])"
   ]
  },
  {
   "cell_type": "code",
   "execution_count": 67,
   "metadata": {
    "pycharm": {
     "is_executing": false
    }
   },
   "outputs": [
    {
     "name": "stderr",
     "text": [
      "'c' argument looks like a single numeric RGB or RGBA sequence, which should be avoided as value-mapping will have precedence in case its length matches with 'x' & 'y'.  Please use a 2-D array with a single row if you really want to specify the same RGB or RGBA value for all points.\n"
     ],
     "output_type": "stream"
    },
    {
     "traceback": [
      "\u001b[0;31m---------------------------------------------------------------------------\u001b[0m",
      "\u001b[0;31mFileNotFoundError\u001b[0m                         Traceback (most recent call last)",
      "\u001b[0;32m<ipython-input-67-29a0df6b5866>\u001b[0m in \u001b[0;36m<module>\u001b[0;34m\u001b[0m\n\u001b[1;32m      3\u001b[0m     \u001b[0mplot_scatter\u001b[0m\u001b[0;34m(\u001b[0m\u001b[0mx1_array\u001b[0m\u001b[0;34m[\u001b[0m\u001b[0mi\u001b[0m\u001b[0;34m]\u001b[0m\u001b[0;34m,\u001b[0m\u001b[0my1_array\u001b[0m\u001b[0;34m[\u001b[0m\u001b[0mi\u001b[0m\u001b[0;34m]\u001b[0m\u001b[0;34m,\u001b[0m\u001b[0mcm_array\u001b[0m\u001b[0;34m[\u001b[0m\u001b[0mi\u001b[0m\u001b[0;34m]\u001b[0m\u001b[0;34m[\u001b[0m\u001b[0;36m0\u001b[0m\u001b[0;34m]\u001b[0m\u001b[0;34m)\u001b[0m\u001b[0;34m\u001b[0m\u001b[0;34m\u001b[0m\u001b[0m\n\u001b[1;32m      4\u001b[0m     \u001b[0mplt\u001b[0m\u001b[0;34m.\u001b[0m\u001b[0mtitle\u001b[0m\u001b[0;34m(\u001b[0m\u001b[0;34m\"mcal{} g_1 e_1\"\u001b[0m\u001b[0;34m.\u001b[0m\u001b[0mformat\u001b[0m\u001b[0;34m(\u001b[0m\u001b[0mi\u001b[0m\u001b[0;34m+\u001b[0m\u001b[0;36m2\u001b[0m\u001b[0;34m)\u001b[0m\u001b[0;34m)\u001b[0m\u001b[0;34m\u001b[0m\u001b[0;34m\u001b[0m\u001b[0m\n\u001b[0;32m----> 5\u001b[0;31m     \u001b[0mplt\u001b[0m\u001b[0;34m.\u001b[0m\u001b[0msavefig\u001b[0m\u001b[0;34m(\u001b[0m\u001b[0;34m\"scatter/mcal{}g1e1\"\u001b[0m\u001b[0;34m.\u001b[0m\u001b[0mformat\u001b[0m\u001b[0;34m(\u001b[0m\u001b[0mi\u001b[0m\u001b[0;34m+\u001b[0m\u001b[0;36m2\u001b[0m\u001b[0;34m)\u001b[0m\u001b[0;34m,\u001b[0m\u001b[0mdpi\u001b[0m\u001b[0;34m=\u001b[0m\u001b[0;36m300\u001b[0m\u001b[0;34m)\u001b[0m\u001b[0;34m\u001b[0m\u001b[0;34m\u001b[0m\u001b[0m\n\u001b[0m\u001b[1;32m      6\u001b[0m     \u001b[0mplt\u001b[0m\u001b[0;34m.\u001b[0m\u001b[0mclose\u001b[0m\u001b[0;34m(\u001b[0m\u001b[0;34m)\u001b[0m\u001b[0;34m\u001b[0m\u001b[0;34m\u001b[0m\u001b[0m\n\u001b[1;32m      7\u001b[0m     \u001b[0mplt\u001b[0m\u001b[0;34m.\u001b[0m\u001b[0mfigure\u001b[0m\u001b[0;34m(\u001b[0m\u001b[0;34m)\u001b[0m\u001b[0;34m\u001b[0m\u001b[0;34m\u001b[0m\u001b[0m\n",
      "\u001b[0;32m~/anaconda3/envs/balrog/lib/python3.7/site-packages/matplotlib/pyplot.py\u001b[0m in \u001b[0;36msavefig\u001b[0;34m(*args, **kwargs)\u001b[0m\n\u001b[1;32m    714\u001b[0m \u001b[0;32mdef\u001b[0m \u001b[0msavefig\u001b[0m\u001b[0;34m(\u001b[0m\u001b[0;34m*\u001b[0m\u001b[0margs\u001b[0m\u001b[0;34m,\u001b[0m \u001b[0;34m**\u001b[0m\u001b[0mkwargs\u001b[0m\u001b[0;34m)\u001b[0m\u001b[0;34m:\u001b[0m\u001b[0;34m\u001b[0m\u001b[0;34m\u001b[0m\u001b[0m\n\u001b[1;32m    715\u001b[0m     \u001b[0mfig\u001b[0m \u001b[0;34m=\u001b[0m \u001b[0mgcf\u001b[0m\u001b[0;34m(\u001b[0m\u001b[0;34m)\u001b[0m\u001b[0;34m\u001b[0m\u001b[0;34m\u001b[0m\u001b[0m\n\u001b[0;32m--> 716\u001b[0;31m     \u001b[0mres\u001b[0m \u001b[0;34m=\u001b[0m \u001b[0mfig\u001b[0m\u001b[0;34m.\u001b[0m\u001b[0msavefig\u001b[0m\u001b[0;34m(\u001b[0m\u001b[0;34m*\u001b[0m\u001b[0margs\u001b[0m\u001b[0;34m,\u001b[0m \u001b[0;34m**\u001b[0m\u001b[0mkwargs\u001b[0m\u001b[0;34m)\u001b[0m\u001b[0;34m\u001b[0m\u001b[0;34m\u001b[0m\u001b[0m\n\u001b[0m\u001b[1;32m    717\u001b[0m     \u001b[0mfig\u001b[0m\u001b[0;34m.\u001b[0m\u001b[0mcanvas\u001b[0m\u001b[0;34m.\u001b[0m\u001b[0mdraw_idle\u001b[0m\u001b[0;34m(\u001b[0m\u001b[0;34m)\u001b[0m   \u001b[0;31m# need this if 'transparent=True' to reset colors\u001b[0m\u001b[0;34m\u001b[0m\u001b[0;34m\u001b[0m\u001b[0m\n\u001b[1;32m    718\u001b[0m     \u001b[0;32mreturn\u001b[0m \u001b[0mres\u001b[0m\u001b[0;34m\u001b[0m\u001b[0;34m\u001b[0m\u001b[0m\n",
      "\u001b[0;32m~/anaconda3/envs/balrog/lib/python3.7/site-packages/matplotlib/figure.py\u001b[0m in \u001b[0;36msavefig\u001b[0;34m(self, fname, transparent, **kwargs)\u001b[0m\n\u001b[1;32m   2178\u001b[0m             \u001b[0mself\u001b[0m\u001b[0;34m.\u001b[0m\u001b[0mpatch\u001b[0m\u001b[0;34m.\u001b[0m\u001b[0mset_visible\u001b[0m\u001b[0;34m(\u001b[0m\u001b[0mframeon\u001b[0m\u001b[0;34m)\u001b[0m\u001b[0;34m\u001b[0m\u001b[0;34m\u001b[0m\u001b[0m\n\u001b[1;32m   2179\u001b[0m \u001b[0;34m\u001b[0m\u001b[0m\n\u001b[0;32m-> 2180\u001b[0;31m         \u001b[0mself\u001b[0m\u001b[0;34m.\u001b[0m\u001b[0mcanvas\u001b[0m\u001b[0;34m.\u001b[0m\u001b[0mprint_figure\u001b[0m\u001b[0;34m(\u001b[0m\u001b[0mfname\u001b[0m\u001b[0;34m,\u001b[0m \u001b[0;34m**\u001b[0m\u001b[0mkwargs\u001b[0m\u001b[0;34m)\u001b[0m\u001b[0;34m\u001b[0m\u001b[0;34m\u001b[0m\u001b[0m\n\u001b[0m\u001b[1;32m   2181\u001b[0m \u001b[0;34m\u001b[0m\u001b[0m\n\u001b[1;32m   2182\u001b[0m         \u001b[0;32mif\u001b[0m \u001b[0mframeon\u001b[0m\u001b[0;34m:\u001b[0m\u001b[0;34m\u001b[0m\u001b[0;34m\u001b[0m\u001b[0m\n",
      "\u001b[0;32m~/anaconda3/envs/balrog/lib/python3.7/site-packages/matplotlib/backend_bases.py\u001b[0m in \u001b[0;36mprint_figure\u001b[0;34m(self, filename, dpi, facecolor, edgecolor, orientation, format, bbox_inches, **kwargs)\u001b[0m\n\u001b[1;32m   2080\u001b[0m                     \u001b[0morientation\u001b[0m\u001b[0;34m=\u001b[0m\u001b[0morientation\u001b[0m\u001b[0;34m,\u001b[0m\u001b[0;34m\u001b[0m\u001b[0;34m\u001b[0m\u001b[0m\n\u001b[1;32m   2081\u001b[0m                     \u001b[0mbbox_inches_restore\u001b[0m\u001b[0;34m=\u001b[0m\u001b[0m_bbox_inches_restore\u001b[0m\u001b[0;34m,\u001b[0m\u001b[0;34m\u001b[0m\u001b[0;34m\u001b[0m\u001b[0m\n\u001b[0;32m-> 2082\u001b[0;31m                     **kwargs)\n\u001b[0m\u001b[1;32m   2083\u001b[0m             \u001b[0;32mfinally\u001b[0m\u001b[0;34m:\u001b[0m\u001b[0;34m\u001b[0m\u001b[0;34m\u001b[0m\u001b[0m\n\u001b[1;32m   2084\u001b[0m                 \u001b[0;32mif\u001b[0m \u001b[0mbbox_inches\u001b[0m \u001b[0;32mand\u001b[0m \u001b[0mrestore_bbox\u001b[0m\u001b[0;34m:\u001b[0m\u001b[0;34m\u001b[0m\u001b[0;34m\u001b[0m\u001b[0m\n",
      "\u001b[0;32m~/anaconda3/envs/balrog/lib/python3.7/site-packages/matplotlib/backends/backend_agg.py\u001b[0m in \u001b[0;36mprint_png\u001b[0;34m(self, filename_or_obj, metadata, pil_kwargs, *args, **kwargs)\u001b[0m\n\u001b[1;32m    528\u001b[0m             \u001b[0mrenderer\u001b[0m \u001b[0;34m=\u001b[0m \u001b[0mself\u001b[0m\u001b[0;34m.\u001b[0m\u001b[0mget_renderer\u001b[0m\u001b[0;34m(\u001b[0m\u001b[0;34m)\u001b[0m\u001b[0;34m\u001b[0m\u001b[0;34m\u001b[0m\u001b[0m\n\u001b[1;32m    529\u001b[0m             \u001b[0;32mwith\u001b[0m \u001b[0mcbook\u001b[0m\u001b[0;34m.\u001b[0m\u001b[0m_setattr_cm\u001b[0m\u001b[0;34m(\u001b[0m\u001b[0mrenderer\u001b[0m\u001b[0;34m,\u001b[0m \u001b[0mdpi\u001b[0m\u001b[0;34m=\u001b[0m\u001b[0mself\u001b[0m\u001b[0;34m.\u001b[0m\u001b[0mfigure\u001b[0m\u001b[0;34m.\u001b[0m\u001b[0mdpi\u001b[0m\u001b[0;34m)\u001b[0m\u001b[0;34m,\u001b[0m\u001b[0;31m \u001b[0m\u001b[0;31m\\\u001b[0m\u001b[0;34m\u001b[0m\u001b[0;34m\u001b[0m\u001b[0m\n\u001b[0;32m--> 530\u001b[0;31m                     \u001b[0mcbook\u001b[0m\u001b[0;34m.\u001b[0m\u001b[0mopen_file_cm\u001b[0m\u001b[0;34m(\u001b[0m\u001b[0mfilename_or_obj\u001b[0m\u001b[0;34m,\u001b[0m \u001b[0;34m\"wb\"\u001b[0m\u001b[0;34m)\u001b[0m \u001b[0;32mas\u001b[0m \u001b[0mfh\u001b[0m\u001b[0;34m:\u001b[0m\u001b[0;34m\u001b[0m\u001b[0;34m\u001b[0m\u001b[0m\n\u001b[0m\u001b[1;32m    531\u001b[0m                 _png.write_png(renderer._renderer, fh,\n\u001b[1;32m    532\u001b[0m                                self.figure.dpi, metadata=metadata)\n",
      "\u001b[0;32m~/anaconda3/envs/balrog/lib/python3.7/contextlib.py\u001b[0m in \u001b[0;36m__enter__\u001b[0;34m(self)\u001b[0m\n\u001b[1;32m    110\u001b[0m         \u001b[0;32mdel\u001b[0m \u001b[0mself\u001b[0m\u001b[0;34m.\u001b[0m\u001b[0margs\u001b[0m\u001b[0;34m,\u001b[0m \u001b[0mself\u001b[0m\u001b[0;34m.\u001b[0m\u001b[0mkwds\u001b[0m\u001b[0;34m,\u001b[0m \u001b[0mself\u001b[0m\u001b[0;34m.\u001b[0m\u001b[0mfunc\u001b[0m\u001b[0;34m\u001b[0m\u001b[0;34m\u001b[0m\u001b[0m\n\u001b[1;32m    111\u001b[0m         \u001b[0;32mtry\u001b[0m\u001b[0;34m:\u001b[0m\u001b[0;34m\u001b[0m\u001b[0;34m\u001b[0m\u001b[0m\n\u001b[0;32m--> 112\u001b[0;31m             \u001b[0;32mreturn\u001b[0m \u001b[0mnext\u001b[0m\u001b[0;34m(\u001b[0m\u001b[0mself\u001b[0m\u001b[0;34m.\u001b[0m\u001b[0mgen\u001b[0m\u001b[0;34m)\u001b[0m\u001b[0;34m\u001b[0m\u001b[0;34m\u001b[0m\u001b[0m\n\u001b[0m\u001b[1;32m    113\u001b[0m         \u001b[0;32mexcept\u001b[0m \u001b[0mStopIteration\u001b[0m\u001b[0;34m:\u001b[0m\u001b[0;34m\u001b[0m\u001b[0;34m\u001b[0m\u001b[0m\n\u001b[1;32m    114\u001b[0m             \u001b[0;32mraise\u001b[0m \u001b[0mRuntimeError\u001b[0m\u001b[0;34m(\u001b[0m\u001b[0;34m\"generator didn't yield\"\u001b[0m\u001b[0;34m)\u001b[0m \u001b[0;32mfrom\u001b[0m \u001b[0;32mNone\u001b[0m\u001b[0;34m\u001b[0m\u001b[0;34m\u001b[0m\u001b[0m\n",
      "\u001b[0;32m~/anaconda3/envs/balrog/lib/python3.7/site-packages/matplotlib/cbook/__init__.py\u001b[0m in \u001b[0;36mopen_file_cm\u001b[0;34m(path_or_file, mode, encoding)\u001b[0m\n\u001b[1;32m    445\u001b[0m \u001b[0;32mdef\u001b[0m \u001b[0mopen_file_cm\u001b[0m\u001b[0;34m(\u001b[0m\u001b[0mpath_or_file\u001b[0m\u001b[0;34m,\u001b[0m \u001b[0mmode\u001b[0m\u001b[0;34m=\u001b[0m\u001b[0;34m\"r\"\u001b[0m\u001b[0;34m,\u001b[0m \u001b[0mencoding\u001b[0m\u001b[0;34m=\u001b[0m\u001b[0;32mNone\u001b[0m\u001b[0;34m)\u001b[0m\u001b[0;34m:\u001b[0m\u001b[0;34m\u001b[0m\u001b[0;34m\u001b[0m\u001b[0m\n\u001b[1;32m    446\u001b[0m     \u001b[0;34mr\"\"\"Pass through file objects and context-manage `.PathLike`\\s.\"\"\"\u001b[0m\u001b[0;34m\u001b[0m\u001b[0;34m\u001b[0m\u001b[0m\n\u001b[0;32m--> 447\u001b[0;31m     \u001b[0mfh\u001b[0m\u001b[0;34m,\u001b[0m \u001b[0mopened\u001b[0m \u001b[0;34m=\u001b[0m \u001b[0mto_filehandle\u001b[0m\u001b[0;34m(\u001b[0m\u001b[0mpath_or_file\u001b[0m\u001b[0;34m,\u001b[0m \u001b[0mmode\u001b[0m\u001b[0;34m,\u001b[0m \u001b[0;32mTrue\u001b[0m\u001b[0;34m,\u001b[0m \u001b[0mencoding\u001b[0m\u001b[0;34m)\u001b[0m\u001b[0;34m\u001b[0m\u001b[0;34m\u001b[0m\u001b[0m\n\u001b[0m\u001b[1;32m    448\u001b[0m     \u001b[0;32mif\u001b[0m \u001b[0mopened\u001b[0m\u001b[0;34m:\u001b[0m\u001b[0;34m\u001b[0m\u001b[0;34m\u001b[0m\u001b[0m\n\u001b[1;32m    449\u001b[0m         \u001b[0;32mwith\u001b[0m \u001b[0mfh\u001b[0m\u001b[0;34m:\u001b[0m\u001b[0;34m\u001b[0m\u001b[0;34m\u001b[0m\u001b[0m\n",
      "\u001b[0;32m~/anaconda3/envs/balrog/lib/python3.7/site-packages/matplotlib/cbook/__init__.py\u001b[0m in \u001b[0;36mto_filehandle\u001b[0;34m(fname, flag, return_opened, encoding)\u001b[0m\n\u001b[1;32m    430\u001b[0m             \u001b[0mfh\u001b[0m \u001b[0;34m=\u001b[0m \u001b[0mbz2\u001b[0m\u001b[0;34m.\u001b[0m\u001b[0mBZ2File\u001b[0m\u001b[0;34m(\u001b[0m\u001b[0mfname\u001b[0m\u001b[0;34m,\u001b[0m \u001b[0mflag\u001b[0m\u001b[0;34m)\u001b[0m\u001b[0;34m\u001b[0m\u001b[0;34m\u001b[0m\u001b[0m\n\u001b[1;32m    431\u001b[0m         \u001b[0;32melse\u001b[0m\u001b[0;34m:\u001b[0m\u001b[0;34m\u001b[0m\u001b[0;34m\u001b[0m\u001b[0m\n\u001b[0;32m--> 432\u001b[0;31m             \u001b[0mfh\u001b[0m \u001b[0;34m=\u001b[0m \u001b[0mopen\u001b[0m\u001b[0;34m(\u001b[0m\u001b[0mfname\u001b[0m\u001b[0;34m,\u001b[0m \u001b[0mflag\u001b[0m\u001b[0;34m,\u001b[0m \u001b[0mencoding\u001b[0m\u001b[0;34m=\u001b[0m\u001b[0mencoding\u001b[0m\u001b[0;34m)\u001b[0m\u001b[0;34m\u001b[0m\u001b[0;34m\u001b[0m\u001b[0m\n\u001b[0m\u001b[1;32m    433\u001b[0m         \u001b[0mopened\u001b[0m \u001b[0;34m=\u001b[0m \u001b[0;32mTrue\u001b[0m\u001b[0;34m\u001b[0m\u001b[0;34m\u001b[0m\u001b[0m\n\u001b[1;32m    434\u001b[0m     \u001b[0;32melif\u001b[0m \u001b[0mhasattr\u001b[0m\u001b[0;34m(\u001b[0m\u001b[0mfname\u001b[0m\u001b[0;34m,\u001b[0m \u001b[0;34m'seek'\u001b[0m\u001b[0;34m)\u001b[0m\u001b[0;34m:\u001b[0m\u001b[0;34m\u001b[0m\u001b[0;34m\u001b[0m\u001b[0m\n",
      "\u001b[0;31mFileNotFoundError\u001b[0m: [Errno 2] No such file or directory: 'scatter/mcal2g1e1.png'"
     ],
     "ename": "FileNotFoundError",
     "evalue": "[Errno 2] No such file or directory: 'scatter/mcal2g1e1.png'",
     "output_type": "error"
    },
    {
     "data": {
      "text/plain": "<Figure size 432x288 with 1 Axes>",
      "image/png": "[encoded data removed]"
     },
     "metadata": {
      "needs_background": "light"
     },
     "output_type": "display_data"
    }
   ],
   "source": [
    "for i in range(4):\n",
    "    plt.figure()\n",
    "    plot_scatter(x1_array[i],y1_array[i],cm_array[i][0])\n",
    "    plt.title(\"mcal{} g_1 e_1\".format(i+2))\n",
    "    plt.savefig(\"scatter/mcal{}g1e1\".format(i+2),dpi=300)\n",
    "    plt.close()\n",
    "    plt.figure()\n",
    "    plot_scatter(x2_array[i],y2_array[i],cm_array[i][1])\n",
    "    plt.title(\"mcal{} g_2 e_2\".format(i+2))\n",
    "    plt.savefig(\"scatter/mcal{}g2e2\".format(i+2),dpi=300)\n",
    "    plt.close()"
   ]
  },
  {
   "cell_type": "code",
   "execution_count": null,
   "metadata": {
    "pycharm": {
     "is_executing": true
    }
   },
   "outputs": [],
   "source": [
    "for i in range(4):\n",
    "    plt.figure()\n",
    "    plot_scatter(x3_array[i],y3_array[i],cm_array_positive[i][0])\n",
    "    plt.title(\"mcal{} g_1 e_1_positive\".format(i+2))\n",
    "    plt.savefig(\"scatter/mcal{}g1e1_positive\".format(i+2),dpi=300)\n",
    "    plt.close()\n",
    "    plt.figure()\n",
    "    plot_scatter(x4_array[i],y4_array[i],cm_array[i][1])\n",
    "    plt.title(\"mcal{} g_2 e_2_positive\".format(i+2))\n",
    "    plt.savefig(\"scatter/mcal{}g2e2_positive\".format(i+2),dpi=300)\n",
    "    plt.close()"
   ]
  },
  {
   "cell_type": "code",
   "execution_count": null,
   "metadata": {
    "pycharm": {
     "is_executing": true
    }
   },
   "outputs": [],
   "source": [
    "for i in range(4):\n",
    "    plt.figure()\n",
    "    plot_scatter(x3_array[i],y3_array[i],cm_array_positive[i][0])\n",
    "    plt.title(\"mcal{} g_1 e_1_negative\".format(i+2))\n",
    "    plt.savefig(\"scatter/mcal{}g1e1_negative\".format(i+2),dpi=300)\n",
    "    plt.close()\n",
    "    plt.figure()\n",
    "    plot_scatter(x4_array[i],y4_array[i],cm_array[i][1])\n",
    "    plt.title(\"mcal{} g_2 e_2_negative\".format(i+2))\n",
    "    plt.savefig(\"scatter/mcal{}g2e2_negative\".format(i+2),dpi=300)\n",
    "    plt.close()"
   ]
  },
  {
   "cell_type": "code",
   "execution_count": null,
   "metadata": {
    "pycharm": {
     "is_executing": true
    }
   },
   "outputs": [],
   "source": [
    "for i in [0,2]:\n",
    "    print(i)"
   ]
  },
  {
   "cell_type": "markdown",
   "metadata": {},
   "source": [
    "# healpix"
   ]
  },
  {
   "cell_type": "code",
   "execution_count": null,
   "metadata": {
    "pycharm": {
     "is_executing": true,
     "name": "#%%\n"
    }
   },
   "outputs": [],
   "source": [
    "from astropy_healpix import HEALpix\n",
    "from astropy.coordinate import icrs\n",
    "\n"
   ]
  }
 ],
 "metadata": {
  "kernelspec": {
   "name": "python3",
   "language": "python",
   "display_name": "Python 3"
  },
  "language_info": {
   "codemirror_mode": {
    "name": "ipython",
    "version": 3
   },
   "file_extension": ".py",
   "mimetype": "text/x-python",
   "name": "python",
   "nbconvert_exporter": "python",
   "pygments_lexer": "ipython3",
   "version": "3.6.6"
  },
  "pycharm": {
   "stem_cell": {
    "cell_type": "raw",
    "source": [],
    "metadata": {
     "collapsed": false
    }
   }
  }
 },
 "nbformat": 4,
 "nbformat_minor": 2
}