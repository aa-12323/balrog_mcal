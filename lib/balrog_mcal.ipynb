{
 "cells": [
  {
   "cell_type": "markdown",
   "metadata": {},
   "source": [
    "# Import and Load Data"
   ]
  },
  {
   "cell_type": "code",
   "execution_count": 1,
   "metadata": {},
   "outputs": [],
   "source": [
    "import numpy as np\n",
    "import pandas as pd\n",
    "from pandas import Series,DataFrame\n",
    "from astropy.table import Table\n",
    "from astropy.io import fits\n",
    "import matplotlib.pyplot as plt\n",
    "import h5py\n",
    "from tqdm import tqdm\n",
    "\n",
    "## modules I am still trying to learn how to use\n",
    "import numexpr\n",
    "import bottleneck"
   ]
  },
  {
   "cell_type": "markdown",
   "metadata": {},
   "source": [
    "## Functions"
   ]
  },
  {
   "cell_type": "code",
   "execution_count": 2,
   "metadata": {},
   "outputs": [],
   "source": [
    "## function to extract fits and hdf data\n",
    "def load_true():\n",
    "    \"\"\"This is a function that takes fits and hdf data and return them to pandas dataframe\"\"\"\n",
    "\n",
    "    # detect = fits.open('/lsst/troxel/balrog/balrog_detection_catalog-v1.2.fits')[-1]\n",
    "    phot   = fits.open('/lsst/troxel/balrog/balrog_matched_catalog_flatten.fits')[1]\n",
    "    id_balrog = fits.open('/lsst/troxel/balrog/balrog_mcal_bal_ids_v1.2.fits')\n",
    "\n",
    "    #load true catalogs in pandas\n",
    "    # detectp_table=Table.read('/lsst/troxel/balrog/balrog_detection_catalog-v1.2.fits').to_pandas()\n",
    "    photdf=Table.read('/lsst/troxel/balrog/balrog_matched_catalog_flatten.fits').to_pandas()\n",
    "    id_balrogdf = Table.read('/lsst/troxel/balrog/balrog_mcal_bal_ids_v1.2.fits').to_pandas()\n",
    "    \n",
    "    photdf.drop_duplicates(['bal_id'],inplace=True)\n",
    "    \n",
    "    photdf.set_index('bal_id',inplace=True,verify_integrity=True)\n",
    "\n",
    "    return(photdf)\n",
    "\n",
    "\n",
    "def load_mcal():\n",
    "    #all objects riz\n",
    "#     mcal0= h5py.File('/lsst/troxel/balrog/balrog_mcal_stack-y3v02-0-riz-mcal-v1.2.h5','r')['catalog']['unsheared'] #with neighbor\n",
    "#     mcal1= h5py.File('/lsst/troxel/balrog/balrog_mcal_stack-y3v02-0-riz-noNB-mcal-v1.2.h5','r')['catalog']['unsheared'] #no neighbor\n",
    "    ##only matched balrog object riz\n",
    "    mcal2=h5py.File('/lsst/troxel/balrog/balrog_mcal_stack-y3v02-0-riz-mcal-1.3.h5','r')['catalog']['unsheared'] #with neighbor\n",
    "    mcal3=h5py.File('/lsst/troxel/balrog/balrog_mcal_stack-y3v02-0-riz-noNB-mcal-1.3.h5','r')['catalog']['unsheared'] #no neighbor\n",
    "    #only matched balrog object griz\n",
    "    mcal4=h5py.File('/lsst/troxel/balrog/balrog_mcal_stack-y3v02-0-griz-mcal-1.3.h5','r')['catalog']['unsheared'] #with neighbor\n",
    "    mcal5=h5py.File('/lsst/troxel/balrog/balrog_mcal_stack-y3v02-0-griz-noNB-mcal-1.3.h5','r')['catalog']['unsheared'] #no neighbor\n",
    "    \n",
    "    mcal_list=[mcal2,mcal3,mcal4,mcal5]\n",
    "    return (mcal_list)"
   ]
  },
  {
   "cell_type": "code",
   "execution_count": 3,
   "metadata": {},
   "outputs": [],
   "source": [
    "## function to convert \n",
    "def get_df_list(mcal_list):\n",
    "    mcal_df_list =[]\n",
    "    for catalog in mcal_list:\n",
    "        local_df=pd.DataFrame()\n",
    "        for key in catalog.keys():\n",
    "            local_df[key]=np.array(catalog[key][:]).byteswap().newbyteorder()\n",
    "        if 'bal_id' in local_df.keys():\n",
    "            local_df.set_index('bal_id',inplace=True,verify_integrity=True)\n",
    "        mcal_df_list.append(local_df)\n",
    "    return(mcal_df_list)"
   ]
  },
  {
   "cell_type": "code",
   "execution_count": 4,
   "metadata": {},
   "outputs": [],
   "source": [
    "photdf=load_true()"
   ]
  },
  {
   "cell_type": "code",
   "execution_count": 5,
   "metadata": {},
   "outputs": [],
   "source": [
    "mcal_df_list=get_df_list(load_mcal())"
   ]
  },
  {
   "cell_type": "markdown",
   "metadata": {},
   "source": [
    "## List of dtypes in mcal"
   ]
  },
  {
   "cell_type": "code",
   "execution_count": 6,
   "metadata": {},
   "outputs": [
    {
     "data": {
      "text/plain": [
       "R11                    >f8\n",
       "R12                    >f8\n",
       "R21                    >f8\n",
       "R22                    >f8\n",
       "T                  float64\n",
       "T_err              float64\n",
       "coadd_object_id      int64\n",
       "covmat_0_1         float64\n",
       "covmat_1_1         float64\n",
       "covmat_2_2         float64\n",
       "dec                float64\n",
       "e_1                float64\n",
       "e_2                float64\n",
       "flags                int32\n",
       "flux_err_g         float64\n",
       "flux_err_i         float64\n",
       "flux_err_r         float64\n",
       "flux_err_z         float64\n",
       "flux_g             float64\n",
       "flux_i             float64\n",
       "flux_r             float64\n",
       "flux_z             float64\n",
       "mask_frac          float64\n",
       "mcal_psf_T         float64\n",
       "mcal_psf_e1        float64\n",
       "mcal_psf_e2        float64\n",
       "nimage_tot_g         int32\n",
       "nimage_tot_i         int32\n",
       "nimage_tot_r         int32\n",
       "nimage_tot_z         int32\n",
       "nimage_use_g         int32\n",
       "nimage_use_i         int32\n",
       "nimage_use_r         int32\n",
       "nimage_use_z         int32\n",
       "psf_T              float64\n",
       "psf_e1             float64\n",
       "psf_e2             float64\n",
       "ra                 float64\n",
       "size_ratio         float64\n",
       "snr                float64\n",
       "dtype: object"
      ]
     },
     "execution_count": 6,
     "metadata": {},
     "output_type": "execute_result"
    }
   ],
   "source": [
    "mcal_df_list[2].dtypes"
   ]
  },
  {
   "cell_type": "markdown",
   "metadata": {},
   "source": [
    "## List of dtypes in phot"
   ]
  },
  {
   "cell_type": "code",
   "execution_count": 7,
   "metadata": {},
   "outputs": [
    {
     "data": {
      "text/plain": [
       "true_id                    int32\n",
       "true_number                int32\n",
       "true_flags                 int32\n",
       "true_obj_flags             int32\n",
       "true_cm_mof_flags          int32\n",
       "true_ra                  float64\n",
       "true_dec                 float64\n",
       "true_cm_T                float64\n",
       "true_cm_T_err            float64\n",
       "true_cm_s2n_r            float64\n",
       "true_cm_flags              int32\n",
       "true_cm_fracdev          float64\n",
       "true_cm_TdByTe           float32\n",
       "true_in_VHS_footprint      int32\n",
       "true_mag_auto_det        float32\n",
       "true_det_number            int32\n",
       "true_tilename             object\n",
       "meas_id                    int64\n",
       "meas_number                int32\n",
       "meas_ra                  float64\n",
       "meas_dec                 float64\n",
       "meas_fofid                 int64\n",
       "meas_flags                 int32\n",
       "meas_time_last_fit       float64\n",
       "meas_box_size              int16\n",
       "meas_obj_flags             int32\n",
       "meas_mask_frac           float64\n",
       "meas_psfrec_T            float64\n",
       "meas_cm_flags              int32\n",
       "meas_cm_T                float64\n",
       "                          ...   \n",
       "meas_nimage_use_i          int32\n",
       "meas_nimage_use_z          int32\n",
       "meas_psfrec_g_1          float64\n",
       "meas_psfrec_g_2          float64\n",
       "meas_cm_flux_cov_gg      float64\n",
       "meas_cm_flux_cov_rr      float64\n",
       "meas_cm_flux_cov_ii      float64\n",
       "meas_cm_flux_cov_zz      float64\n",
       "meas_cm_flux_g           float64\n",
       "meas_cm_flux_r           float64\n",
       "meas_cm_flux_i           float64\n",
       "meas_cm_flux_z           float64\n",
       "meas_cm_flux_s2n_g       float64\n",
       "meas_cm_flux_s2n_r       float64\n",
       "meas_cm_flux_s2n_i       float64\n",
       "meas_cm_flux_s2n_z       float64\n",
       "meas_cm_mag_g            float64\n",
       "meas_cm_mag_r            float64\n",
       "meas_cm_mag_i            float64\n",
       "meas_cm_mag_z            float64\n",
       "meas_cm_logsb_g          float64\n",
       "meas_cm_logsb_r          float64\n",
       "meas_cm_logsb_i          float64\n",
       "meas_cm_logsb_z          float64\n",
       "meas_cm_g_1              float64\n",
       "meas_cm_g_2              float64\n",
       "meas_cm_g_cov_1_1        float64\n",
       "meas_cm_g_cov_1_2        float64\n",
       "meas_cm_g_cov_2_1        float64\n",
       "meas_cm_g_cov_2_2        float64\n",
       "Length: 116, dtype: object"
      ]
     },
     "execution_count": 7,
     "metadata": {},
     "output_type": "execute_result"
    }
   ],
   "source": [
    "photdf.dtypes"
   ]
  },
  {
   "cell_type": "markdown",
   "metadata": {},
   "source": [
    "## sample of mcal data"
   ]
  },
  {
   "cell_type": "code",
   "execution_count": 8,
   "metadata": {},
   "outputs": [
    {
     "data": {
      "text/html": [
       "<div>\n",
       "<style scoped>\n",
       "    .dataframe tbody tr th:only-of-type {\n",
       "        vertical-align: middle;\n",
       "    }\n",
       "\n",
       "    .dataframe tbody tr th {\n",
       "        vertical-align: top;\n",
       "    }\n",
       "\n",
       "    .dataframe thead th {\n",
       "        text-align: right;\n",
       "    }\n",
       "</style>\n",
       "<table border=\"1\" class=\"dataframe\">\n",
       "  <thead>\n",
       "    <tr style=\"text-align: right;\">\n",
       "      <th></th>\n",
       "      <th>R11</th>\n",
       "      <th>R12</th>\n",
       "      <th>R21</th>\n",
       "      <th>R22</th>\n",
       "      <th>T</th>\n",
       "      <th>T_err</th>\n",
       "      <th>coadd_object_id</th>\n",
       "      <th>covmat_0_1</th>\n",
       "      <th>covmat_1_1</th>\n",
       "      <th>covmat_2_2</th>\n",
       "      <th>...</th>\n",
       "      <th>nimage_use_g</th>\n",
       "      <th>nimage_use_i</th>\n",
       "      <th>nimage_use_r</th>\n",
       "      <th>nimage_use_z</th>\n",
       "      <th>psf_T</th>\n",
       "      <th>psf_e1</th>\n",
       "      <th>psf_e2</th>\n",
       "      <th>ra</th>\n",
       "      <th>size_ratio</th>\n",
       "      <th>snr</th>\n",
       "    </tr>\n",
       "    <tr>\n",
       "      <th>bal_id</th>\n",
       "      <th></th>\n",
       "      <th></th>\n",
       "      <th></th>\n",
       "      <th></th>\n",
       "      <th></th>\n",
       "      <th></th>\n",
       "      <th></th>\n",
       "      <th></th>\n",
       "      <th></th>\n",
       "      <th></th>\n",
       "      <th></th>\n",
       "      <th></th>\n",
       "      <th></th>\n",
       "      <th></th>\n",
       "      <th></th>\n",
       "      <th></th>\n",
       "      <th></th>\n",
       "      <th></th>\n",
       "      <th></th>\n",
       "      <th></th>\n",
       "      <th></th>\n",
       "    </tr>\n",
       "  </thead>\n",
       "  <tbody>\n",
       "    <tr>\n",
       "      <th>100304018326232</th>\n",
       "      <td>1.416846</td>\n",
       "      <td>0.872972</td>\n",
       "      <td>0.426857</td>\n",
       "      <td>0.995899</td>\n",
       "      <td>0.554205</td>\n",
       "      <td>0.051718</td>\n",
       "      <td>337</td>\n",
       "      <td>-0.000059</td>\n",
       "      <td>0.000793</td>\n",
       "      <td>0.001003</td>\n",
       "      <td>...</td>\n",
       "      <td>3</td>\n",
       "      <td>4</td>\n",
       "      <td>4</td>\n",
       "      <td>4</td>\n",
       "      <td>0.459272</td>\n",
       "      <td>0.005778</td>\n",
       "      <td>0.008893</td>\n",
       "      <td>45.745366</td>\n",
       "      <td>1.206704</td>\n",
       "      <td>29.133429</td>\n",
       "    </tr>\n",
       "    <tr>\n",
       "      <th>100304018321548</th>\n",
       "      <td>0.823930</td>\n",
       "      <td>-1.786024</td>\n",
       "      <td>0.167303</td>\n",
       "      <td>0.362565</td>\n",
       "      <td>0.059780</td>\n",
       "      <td>0.018368</td>\n",
       "      <td>345</td>\n",
       "      <td>0.001073</td>\n",
       "      <td>0.011678</td>\n",
       "      <td>0.012190</td>\n",
       "      <td>...</td>\n",
       "      <td>2</td>\n",
       "      <td>3</td>\n",
       "      <td>2</td>\n",
       "      <td>4</td>\n",
       "      <td>0.522193</td>\n",
       "      <td>0.002164</td>\n",
       "      <td>0.010059</td>\n",
       "      <td>46.178671</td>\n",
       "      <td>0.114479</td>\n",
       "      <td>27.278783</td>\n",
       "    </tr>\n",
       "    <tr>\n",
       "      <th>10030401832834</th>\n",
       "      <td>0.387232</td>\n",
       "      <td>-0.162681</td>\n",
       "      <td>-0.212697</td>\n",
       "      <td>0.681578</td>\n",
       "      <td>0.180421</td>\n",
       "      <td>0.019096</td>\n",
       "      <td>355</td>\n",
       "      <td>0.000255</td>\n",
       "      <td>0.002476</td>\n",
       "      <td>0.002242</td>\n",
       "      <td>...</td>\n",
       "      <td>2</td>\n",
       "      <td>4</td>\n",
       "      <td>3</td>\n",
       "      <td>4</td>\n",
       "      <td>0.518533</td>\n",
       "      <td>-0.004169</td>\n",
       "      <td>0.023148</td>\n",
       "      <td>46.317107</td>\n",
       "      <td>0.347944</td>\n",
       "      <td>41.197880</td>\n",
       "    </tr>\n",
       "    <tr>\n",
       "      <th>100304018328103</th>\n",
       "      <td>1.126121</td>\n",
       "      <td>-0.155307</td>\n",
       "      <td>0.074416</td>\n",
       "      <td>0.661508</td>\n",
       "      <td>1.599951</td>\n",
       "      <td>0.065488</td>\n",
       "      <td>393</td>\n",
       "      <td>0.000001</td>\n",
       "      <td>0.000288</td>\n",
       "      <td>0.000287</td>\n",
       "      <td>...</td>\n",
       "      <td>2</td>\n",
       "      <td>4</td>\n",
       "      <td>3</td>\n",
       "      <td>4</td>\n",
       "      <td>0.520347</td>\n",
       "      <td>-0.004125</td>\n",
       "      <td>0.024472</td>\n",
       "      <td>46.299203</td>\n",
       "      <td>3.074778</td>\n",
       "      <td>34.434555</td>\n",
       "    </tr>\n",
       "    <tr>\n",
       "      <th>100304018322349</th>\n",
       "      <td>1.469382</td>\n",
       "      <td>-2.897695</td>\n",
       "      <td>-1.852615</td>\n",
       "      <td>-4.158914</td>\n",
       "      <td>-0.004546</td>\n",
       "      <td>0.001035</td>\n",
       "      <td>399</td>\n",
       "      <td>0.003697</td>\n",
       "      <td>0.015358</td>\n",
       "      <td>0.015758</td>\n",
       "      <td>...</td>\n",
       "      <td>4</td>\n",
       "      <td>5</td>\n",
       "      <td>5</td>\n",
       "      <td>5</td>\n",
       "      <td>0.497255</td>\n",
       "      <td>0.017866</td>\n",
       "      <td>0.009877</td>\n",
       "      <td>45.865877</td>\n",
       "      <td>-0.009142</td>\n",
       "      <td>376.417275</td>\n",
       "    </tr>\n",
       "  </tbody>\n",
       "</table>\n",
       "<p>5 rows × 40 columns</p>\n",
       "</div>"
      ],
      "text/plain": [
       "                      R11       R12       R21       R22         T     T_err  \\\n",
       "bal_id                                                                        \n",
       "100304018326232  1.416846  0.872972  0.426857  0.995899  0.554205  0.051718   \n",
       "100304018321548  0.823930 -1.786024  0.167303  0.362565  0.059780  0.018368   \n",
       "10030401832834   0.387232 -0.162681 -0.212697  0.681578  0.180421  0.019096   \n",
       "100304018328103  1.126121 -0.155307  0.074416  0.661508  1.599951  0.065488   \n",
       "100304018322349  1.469382 -2.897695 -1.852615 -4.158914 -0.004546  0.001035   \n",
       "\n",
       "                 coadd_object_id  covmat_0_1  covmat_1_1  covmat_2_2  ...  \\\n",
       "bal_id                                                                ...   \n",
       "100304018326232              337   -0.000059    0.000793    0.001003  ...   \n",
       "100304018321548              345    0.001073    0.011678    0.012190  ...   \n",
       "10030401832834               355    0.000255    0.002476    0.002242  ...   \n",
       "100304018328103              393    0.000001    0.000288    0.000287  ...   \n",
       "100304018322349              399    0.003697    0.015358    0.015758  ...   \n",
       "\n",
       "                 nimage_use_g  nimage_use_i  nimage_use_r  nimage_use_z  \\\n",
       "bal_id                                                                    \n",
       "100304018326232             3             4             4             4   \n",
       "100304018321548             2             3             2             4   \n",
       "10030401832834              2             4             3             4   \n",
       "100304018328103             2             4             3             4   \n",
       "100304018322349             4             5             5             5   \n",
       "\n",
       "                    psf_T    psf_e1    psf_e2         ra  size_ratio  \\\n",
       "bal_id                                                                 \n",
       "100304018326232  0.459272  0.005778  0.008893  45.745366    1.206704   \n",
       "100304018321548  0.522193  0.002164  0.010059  46.178671    0.114479   \n",
       "10030401832834   0.518533 -0.004169  0.023148  46.317107    0.347944   \n",
       "100304018328103  0.520347 -0.004125  0.024472  46.299203    3.074778   \n",
       "100304018322349  0.497255  0.017866  0.009877  45.865877   -0.009142   \n",
       "\n",
       "                        snr  \n",
       "bal_id                       \n",
       "100304018326232   29.133429  \n",
       "100304018321548   27.278783  \n",
       "10030401832834    41.197880  \n",
       "100304018328103   34.434555  \n",
       "100304018322349  376.417275  \n",
       "\n",
       "[5 rows x 40 columns]"
      ]
     },
     "execution_count": 8,
     "metadata": {},
     "output_type": "execute_result"
    }
   ],
   "source": [
    "mcal_df_list[3].head()"
   ]
  },
  {
   "cell_type": "markdown",
   "metadata": {},
   "source": [
    "# Data manipulation"
   ]
  },
  {
   "cell_type": "markdown",
   "metadata": {},
   "source": [
    "## Constants"
   ]
  },
  {
   "cell_type": "code",
   "execution_count": 9,
   "metadata": {
    "pycharm": {
     "is_executing": false
    }
   },
   "outputs": [],
   "source": [
    "SNR_CUT = 10\n",
    "SIZE_RATIO_CUT = 0.5\n",
    "T_CUT = 1000"
   ]
  },
  {
   "cell_type": "markdown",
   "metadata": {},
   "source": [
    "## Filter by SNR T and size_ratio"
   ]
  },
  {
   "cell_type": "code",
   "execution_count": 10,
   "metadata": {},
   "outputs": [],
   "source": [
    "def filter_by_snr():\n",
    "    for i,catalog in enumerate(mcal_df_list):\n",
    "        mcal_df_list[i]=catalog[(catalog['snr']>SNR_CUT) & (catalog['T']<T_CUT) & (catalog['size_ratio']>SIZE_RATIO_CUT)]"
   ]
  },
  {
   "cell_type": "code",
   "execution_count": 11,
   "metadata": {},
   "outputs": [],
   "source": [
    "filter_by_snr()"
   ]
  },
  {
   "cell_type": "markdown",
   "metadata": {},
   "source": [
    "## Intersects paris of catalogs by bal_id. We only want objects existing in true catalog, MOF and woMOF  "
   ]
  },
  {
   "cell_type": "code",
   "execution_count": 12,
   "metadata": {},
   "outputs": [],
   "source": [
    "index_2_3=mcal_df_list[0].index.intersection(mcal_df_list[1].index)\n",
    "index_4_5=mcal_df_list[2].index.intersection(mcal_df_list[3].index)\n",
    "\n",
    "index_2_3_true=index_2_3.intersection(photdf.index).sort_values()\n",
    "index_4_5_true=index_4_5.intersection(photdf.index).sort_values()"
   ]
  },
  {
   "cell_type": "code",
   "execution_count": 13,
   "metadata": {},
   "outputs": [],
   "source": [
    "mcal_df_list[0]=mcal_df_list[0].reindex(index_2_3_true);\n",
    "mcal_df_list[1]=mcal_df_list[1].reindex(index_2_3_true);\n",
    "mcal_df_list[2]=mcal_df_list[2].reindex(index_4_5_true);\n",
    "mcal_df_list[3]=mcal_df_list[3].reindex(index_4_5_true);"
   ]
  },
  {
   "cell_type": "code",
   "execution_count": 14,
   "metadata": {},
   "outputs": [
    {
     "name": "stdout",
     "output_type": "stream",
     "text": [
      "1098637\n",
      "1098637\n",
      "867808\n",
      "867808\n"
     ]
    }
   ],
   "source": [
    "for catalog in mcal_df_list[0:4]:\n",
    "    print(len(catalog.index))\n",
    "#     print(catalog.T.isnull().any())"
   ]
  },
  {
   "cell_type": "markdown",
   "metadata": {},
   "source": [
    "# Getting dictionary arrays"
   ]
  },
  {
   "cell_type": "code",
   "execution_count": 20,
   "metadata": {
    "pycharm": {
     "is_executing": false
    }
   },
   "outputs": [
    {
     "ename": "NameError",
     "evalue": "name 'phot' is not defined",
     "output_type": "error",
     "traceback": [
      "\u001b[0;31m---------------------------------------------------------------------------\u001b[0m",
      "\u001b[0;31mNameError\u001b[0m                                 Traceback (most recent call last)",
      "\u001b[0;32m<ipython-input-20-dc22d5d930ad>\u001b[0m in \u001b[0;36m<module>\u001b[0;34m\u001b[0m\n\u001b[0;32m----> 1\u001b[0;31m \u001b[0mcols\u001b[0m\u001b[0;34m=\u001b[0m\u001b[0mphot\u001b[0m\u001b[0;34m[\u001b[0m\u001b[0;36m1\u001b[0m\u001b[0;34m]\u001b[0m\u001b[0;34m.\u001b[0m\u001b[0mcolumns\u001b[0m\u001b[0;34m\u001b[0m\u001b[0;34m\u001b[0m\u001b[0m\n\u001b[0m\u001b[1;32m      2\u001b[0m \u001b[0mtrue_data\u001b[0m \u001b[0;34m=\u001b[0m \u001b[0mphot\u001b[0m\u001b[0;34m[\u001b[0m\u001b[0;36m1\u001b[0m\u001b[0;34m]\u001b[0m\u001b[0;34m.\u001b[0m\u001b[0mdata\u001b[0m\u001b[0;34m\u001b[0m\u001b[0;34m\u001b[0m\u001b[0m\n\u001b[1;32m      3\u001b[0m \u001b[0;34m\u001b[0m\u001b[0m\n\u001b[1;32m      4\u001b[0m \u001b[0mtrue_dict\u001b[0m \u001b[0;34m=\u001b[0m \u001b[0mget_true_dict\u001b[0m\u001b[0;34m(\u001b[0m\u001b[0mtrue_data\u001b[0m\u001b[0;34m)\u001b[0m\u001b[0;34m\u001b[0m\u001b[0;34m\u001b[0m\u001b[0m\n",
      "\u001b[0;31mNameError\u001b[0m: name 'phot' is not defined"
     ]
    }
   ],
   "source": [
    "cols=phot[1].columns\n",
    "true_data = phot[1].data\n",
    "\n",
    "true_dict = get_true_dict(true_data)"
   ]
  },
  {
   "cell_type": "code",
   "execution_count": null,
   "metadata": {
    "pycharm": {
     "is_executing": false
    }
   },
   "outputs": [],
   "source": [
    "true_dict_unique=get_unique_dict(true_dict);"
   ]
  },
  {
   "cell_type": "code",
   "execution_count": null,
   "metadata": {
    "pycharm": {
     "is_executing": false
    }
   },
   "outputs": [],
   "source": [
    "true_dict_unique_sorted=sort_dict_by_bal(true_dict_unique)"
   ]
  },
  {
   "cell_type": "code",
   "execution_count": null,
   "metadata": {
    "pycharm": {
     "is_executing": false
    }
   },
   "outputs": [],
   "source": [
    "def get_positive_g_mask(true_dict):\n",
    "    g1_mask = np.ma.masked_greater(true_dict['true_cm_g_1'],0)\n",
    "    g2_mask = np.ma.masked_greater(true_dict['true_cm_g_2'],0)\n",
    "    g_mask = np.logical_and(g1_mask.mask, g2_mask.mask)\n",
    "    return(g_mask)"
   ]
  },
  {
   "cell_type": "code",
   "execution_count": null,
   "metadata": {
    "pycharm": {
     "is_executing": false
    }
   },
   "outputs": [],
   "source": [
    "def get_negative_g_mask(true_dict):\n",
    "    g1_mask = np.ma.masked_less(true_dict['true_cm_g_1'],0)\n",
    "    g2_mask = np.ma.masked_less(true_dict['true_cm_g_2'],0)\n",
    "    g_mask = np.logical_and(g1_mask.mask, g2_mask.mask)\n",
    "    return(g_mask)"
   ]
  },
  {
   "cell_type": "code",
   "execution_count": null,
   "metadata": {
    "pycharm": {
     "is_executing": false
    }
   },
   "outputs": [],
   "source": [
    "positive_g_mask=get_positive_g_mask(true_dict_unique_sorted)\n",
    "negative_g_mask=get_negative_g_mask(true_dict_unique_sorted)"
   ]
  },
  {
   "cell_type": "code",
   "execution_count": null,
   "metadata": {
    "pycharm": {
     "is_executing": false
    }
   },
   "outputs": [],
   "source": [
    "true_positive_g=mask_catalog_arrays([true_dict_unique_sorted],[positive_g_mask])[0]\n",
    "true_negative_g=mask_catalog_arrays([true_dict_unique_sorted],[negative_g_mask])[0]"
   ]
  },
  {
   "cell_type": "code",
   "execution_count": null,
   "metadata": {
    "pycharm": {
     "is_executing": false
    }
   },
   "outputs": [],
   "source": [
    "positive_filtered=[]\n",
    "positive_true=[]\n",
    "for i,catalog in enumerate(relavant_catalogs):\n",
    "    positive_mask_true,positive_mask_mcal = get_intersected_mask(true_positive_g,catalog)\n",
    "    positive_filtered.append(mask_catalog_arrays([catalog],[positive_mask_mcal])[0])\n",
    "    positive_true.append(mask_catalog_arrays([true_positive_g],[positive_mask_true])[0])"
   ]
  },
  {
   "cell_type": "code",
   "execution_count": null,
   "metadata": {
    "pycharm": {
     "is_executing": false
    }
   },
   "outputs": [],
   "source": [
    "negative_filtered=[]\n",
    "negative_true=[]\n",
    "for i,catalog in enumerate(relavant_catalogs):\n",
    "    negative_mask_true,negative_mask_mcal = get_intersected_mask(true_negative_g,catalog)\n",
    "    negative_filtered.append(mask_catalog_arrays([catalog],[negative_mask_mcal])[0])\n",
    "    negative_true.append(mask_catalog_arrays([true_negative_g],[negative_mask_true])[0])"
   ]
  },
  {
   "cell_type": "code",
   "execution_count": null,
   "metadata": {
    "pycharm": {
     "is_executing": false
    }
   },
   "outputs": [],
   "source": [
    "print (len(negative_filtered))"
   ]
  },
  {
   "cell_type": "markdown",
   "metadata": {},
   "source": [
    "# Intersect mcal2/3 mcal4/5"
   ]
  },
  {
   "cell_type": "code",
   "execution_count": null,
   "metadata": {
    "pycharm": {
     "is_executing": false
    }
   },
   "outputs": [],
   "source": [
    "def intersect_the_same_catalog():\n",
    "    duo_intersected_array_positive=[]\n",
    "    duo_intersected_array_negative=[]\n",
    "    for i in [0,2]:\n",
    "        (mask1,mask2)=get_intersected_mask(positive_filtered[i],positive_filtered[i+1])\n",
    "        (mask3,mask4)=get_intersected_mask(negative_filtered[i],negative_filtered[i+1])\n",
    "        mask_array=[mask1,mask2,mask3,mask4]\n",
    "        duo_intersected_array_positive.append(mask_catalog_arrays([positive_filtered[i]],[mask_array[0]])[0])\n",
    "        duo_intersected_array_positive.append(mask_catalog_arrays([positive_filtered[i+1]],[mask_array[1]])[0])\n",
    "        duo_intersected_array_negative.append(mask_catalog_arrays([negative_filtered[i]],[mask_array[2]])[0])\n",
    "        duo_intersected_array_negative.append(mask_catalog_arrays([negative_filtered[i+1]],[mask_array[3]])[0])\n",
    "    return(duo_intersected_array_positive,duo_intersected_array_negative)"
   ]
  },
  {
   "cell_type": "code",
   "execution_count": null,
   "metadata": {
    "pycharm": {
     "is_executing": false
    }
   },
   "outputs": [],
   "source": [
    "(nor_positive,nor_negative) = intersect_the_same_catalog()"
   ]
  },
  {
   "cell_type": "code",
   "execution_count": null,
   "metadata": {
    "pycharm": {
     "is_executing": false
    }
   },
   "outputs": [],
   "source": [
    "positive_filtered=[]\n",
    "positive_true=[]\n",
    "for i,catalog in enumerate(nor_positive):\n",
    "    positive_mask_true,positive_mask_mcal = get_intersected_mask(true_positive_g,catalog)\n",
    "    positive_filtered.append(mask_catalog_arrays([catalog],[positive_mask_mcal])[0])\n",
    "    positive_true.append(mask_catalog_arrays([true_positive_g],[positive_mask_true])[0])"
   ]
  },
  {
   "cell_type": "code",
   "execution_count": null,
   "metadata": {
    "pycharm": {
     "is_executing": false
    }
   },
   "outputs": [],
   "source": [
    "negative_filtered=[]\n",
    "negative_true=[]\n",
    "for i,catalog in enumerate(nor_negative):\n",
    "    negative_mask_true,negative_mask_mcal = get_intersected_mask(true_negative_g,catalog)\n",
    "    negative_filtered.append(mask_catalog_arrays([catalog],[negative_mask_mcal])[0])\n",
    "    negative_true.append(mask_catalog_arrays([true_negative_g],[negative_mask_true])[0])"
   ]
  },
  {
   "cell_type": "code",
   "execution_count": null,
   "metadata": {
    "pycharm": {
     "is_executing": false
    }
   },
   "outputs": [],
   "source": [
    "for catalog in nor_negative:\n",
    "    print (len(catalog['bal_id']))\n",
    "print (len(negative_true[0]['bal_id']))"
   ]
  },
  {
   "cell_type": "code",
   "execution_count": null,
   "metadata": {
    "pycharm": {
     "is_executing": false
    }
   },
   "outputs": [],
   "source": [
    "print (np.equal(nor_positive[2]['e_1'],nor_positive[3]['e_1']))"
   ]
  },
  {
   "cell_type": "code",
   "execution_count": null,
   "metadata": {
    "pycharm": {
     "is_executing": false
    }
   },
   "outputs": [],
   "source": [
    "print (np.equal(negative_true[0]['true_cm_g_1'],negative_true[1]['true_cm_g_1']).all())"
   ]
  },
  {
   "cell_type": "code",
   "execution_count": null,
   "metadata": {
    "pycharm": {
     "is_executing": false
    }
   },
   "outputs": [],
   "source": [
    "positive_filtered=nor_positive\n",
    "negative_filtered=nor_negative"
   ]
  },
  {
   "cell_type": "code",
   "execution_count": null,
   "metadata": {
    "pycharm": {
     "is_executing": false
    }
   },
   "outputs": [],
   "source": [
    "def get_R(mcal,true):\n",
    "    e1=np.mean(mcal['e_1'])\n",
    "    e2=np.mean(mcal['e_2'])\n",
    "    g1=np.mean(true['true_cm_g_1'])\n",
    "    g2=np.mean(true['true_cm_g_2'])\n",
    "    r11=e1/g1\n",
    "    r12=e1/g2\n",
    "    r21=e2/g1\n",
    "    r22=e2/g2\n",
    "    return([[r11,r12],[r21,r22]],[[e1,e2],[g1,g2]])"
   ]
  },
  {
   "cell_type": "code",
   "execution_count": null,
   "metadata": {
    "pycharm": {
     "is_executing": false
    }
   },
   "outputs": [],
   "source": [
    "R_array_positive=[]\n",
    "eg_array_positive=[]\n",
    "for i in range(4):\n",
    "    R_array_positive.append(get_R(positive_filtered[i],positive_true[i])[0])\n",
    "    eg_array_positive.append(get_R(positive_filtered[i],positive_true[i])[1])"
   ]
  },
  {
   "cell_type": "code",
   "execution_count": null,
   "metadata": {
    "pycharm": {
     "is_executing": false
    }
   },
   "outputs": [],
   "source": [
    "R_array_negative=[]\n",
    "eg_array_negative=[]\n",
    "for i in range(4):\n",
    "    R_array_negative.append(get_R(negative_filtered[i],negative_true[i])[0])\n",
    "    eg_array_negative.append(get_R(negative_filtered[i],negative_true[i])[1])"
   ]
  },
  {
   "cell_type": "code",
   "execution_count": null,
   "metadata": {
    "pycharm": {
     "is_executing": false
    }
   },
   "outputs": [],
   "source": [
    "real_R_array_positive=[]\n",
    "for i in range(4):\n",
    "    r11=np.mean(positive_filtered[i]['R11'])\n",
    "    r12=np.mean(positive_filtered[i]['R12'])\n",
    "    r21=np.mean(positive_filtered[i]['R21'])\n",
    "    r22=np.mean(positive_filtered[i]['R22'])\n",
    "    real_R_array_positive.append([[r11,r12],[r21,r22]])"
   ]
  },
  {
   "cell_type": "code",
   "execution_count": null,
   "metadata": {
    "pycharm": {
     "is_executing": false
    }
   },
   "outputs": [],
   "source": [
    "real_R_array_negative=[]\n",
    "for i in range(4):\n",
    "    r11=np.mean(negative_filtered[i]['R11'])\n",
    "    r12=np.mean(negative_filtered[i]['R12'])\n",
    "    r21=np.mean(negative_filtered[i]['R21'])\n",
    "    r22=np.mean(negative_filtered[i]['R22'])\n",
    "    real_R_array_negative.append([[r11,r12],[r21,r22]])"
   ]
  },
  {
   "cell_type": "code",
   "execution_count": null,
   "metadata": {
    "pycharm": {
     "is_executing": false
    }
   },
   "outputs": [],
   "source": [
    "for i,R_array in enumerate(R_array_negative):\n",
    "    e1_error=np.std(negative_filtered[i]['e_1'])/np.sqrt(float(len(negative_filtered[i]['e_1'])))\n",
    "    e2_error=np.std(negative_filtered[i]['e_2'])/np.sqrt(float(len(negative_filtered[i]['e_2'])))\n",
    "    \n",
    "    g1_error=np.std(negative_true[i]['true_cm_g_1'])/np.sqrt(float(len(negative_true[i]['true_cm_g_1'])))\n",
    "    g2_error=np.std(negative_true[i]['true_cm_g_2'])/np.sqrt(float(len(negative_true[i]['true_cm_g_2'])))\n",
    "    \n",
    "    e1_mean=np.mean(negative_filtered[i]['e_1'])\n",
    "    e2_mean=np.mean(negative_filtered[i]['e_2'])\n",
    "    \n",
    "    g1_mean=np.mean(negative_true[i]['true_cm_g_1'])\n",
    "    g2_mean=np.mean(negative_true[i]['true_cm_g_2'])\n",
    "    \n",
    "    R11_error=np.sqrt((1/g1_mean)**2 * e1_error**2 + (e1_mean/(g1_mean**2))**2*g1_error**2)\n",
    "    R22_error=np.sqrt((1/g2_mean)**2 * e2_error**2 + (e2_mean/(g2_mean**2))**2*g2_error**2)\n",
    "    \n",
    "    R_11_mean=np.mean(negative_filtered[i]['R11'])\n",
    "    R_22_mean=np.mean(negative_filtered[i]['R22'])\n",
    "    R_11_std=np.std(negative_filtered[i]['R11'])\n",
    "    R_22_std=np.std(negative_filtered[i]['R22'])\n",
    "\n",
    "    \n",
    "    R_11_read_error=R_11_std/np.sqrt(float(len(negative_filtered[i]['R11'])))\n",
    "    R_22_read_error=R_11_std/np.sqrt(float(len(negative_filtered[i]['R22'])))\n",
    "\n",
    "    \n",
    "    \n",
    "    g_prime_1=np.mean(negative_filtered[i]['e_1'])/R_11_mean\n",
    "    g_prime_2=np.mean(negative_filtered[i]['e_2'])/R_22_mean\n",
    "    \n",
    "    g_prime_1_error=np.sqrt((1/R_11_mean)**2 * e1_error**2 + (e1_mean/R_11_mean**2)**2*R_11_read_error**2)\n",
    "    g_prime_2_error=np.sqrt((1/R_22_mean)**2 * e2_error**2 + (e2_mean/R_22_mean**2)**2*R_22_read_error**2)\n",
    "    print(\"For mcal{} with negative g, measured R is\".format(i+2))\n",
    "    for j,row1 in enumerate(R_array):\n",
    "        print(\"|{:5.3e} {:5.3e}|\".format(*row1))\n",
    "    print(\"<e1>={:5.3e}, <e2>={:5.3e}, <g1>={:5.3e}, <g2>={:5.3e}, R11={:5.3e}, R22={:5.3e}\".format(*eg_array_negative[i][0],*eg_array_negative[i][1],real_R_array_negative[i][0][0],real_R_array_negative[i][1][1]))\n",
    "    print(\"d_e1={:5.3e}, d_e2={:5.3e}\".format(e1_error,e2_error))\n",
    "    print(\"R11'_error={:5.3e} R22'_error={:5.3e}\".format(R11_error,R22_error))\n",
    "    print(\"\\n\")\n",
    "    print (\"g1'={:5.3e}, g2'={:5.3e},\".format(g_prime_1,g_prime_2)+\" g1'_error={:5.3e}, g2'_error={:5.3e}\".format(g_prime_1_error,g_prime_2_error))\n",
    "    print(\"\\n\")\n",
    "    print(\"Theoretical R is\".format(i+2))\n",
    "    for j,row1 in enumerate(R_array):\n",
    "        print(\"|{:5.3e} {:5.3e}|\".format(*real_R_array_negative[i][j]))\n",
    "    print (\"R11'={:5.3e}, R22'={:5.3e}, R11={:5.3e}, R22={:5.3e}\".format(R_array_negative[i][0][0],R_array_negative[i][1][1],real_R_array_negative[i][0][0],real_R_array_negative[i][1][1]))\n",
    "    print(\"-----------------------------------------------------------------\")\n",
    "    print(\"\\n\")\n"
   ]
  },
  {
   "cell_type": "code",
   "execution_count": null,
   "metadata": {
    "pycharm": {
     "is_executing": false
    }
   },
   "outputs": [],
   "source": [
    "for i,R_array in enumerate(R_array_positive):\n",
    "    e1_error=np.std(positive_filtered[i]['e_1'])/np.sqrt(float(len(positive_filtered[i]['e_1'])))\n",
    "    e2_error=np.std(positive_filtered[i]['e_2'])/np.sqrt(float(len(positive_filtered[i]['e_2'])))\n",
    "    g1_error=np.std(positive_true[i]['true_cm_g_1'])/np.sqrt(float(len(positive_true[i]['true_cm_g_1'])))\n",
    "    g2_error=np.std(positive_true[i]['true_cm_g_2'])/np.sqrt(float(len(positive_true[i]['true_cm_g_2'])))\n",
    "    e1_mean=np.mean(positive_filtered[i]['e_1'])\n",
    "    e2_mean=np.mean(positive_filtered[i]['e_2'])\n",
    "    g1_mean=np.mean(positive_true[i]['true_cm_g_1'])\n",
    "    g2_mean=np.mean(positive_true[i]['true_cm_g_2'])\n",
    "    R11_error=np.sqrt((1/g1_mean)**2 * e1_error**2 + (e1_mean/(g1_mean**2))**2*g1_error**2)\n",
    "    R22_error=np.sqrt((1/g2_mean)**2 * e2_error**2 + (e2_mean/(g2_mean**2))**2*g2_error**2)\n",
    "    \n",
    "    R_11_mean=np.mean(positive_filtered[i]['R11'])\n",
    "    R_22_mean=np.mean(positive_filtered[i]['R22'])\n",
    "    R_11_std=np.std(negative_filtered[i]['R11'])\n",
    "    R_22_std=np.std(negative_filtered[i]['R22'])\n",
    "    \n",
    "    R_11_read_error=R_11_std/np.sqrt(float(len(positive_filtered[i]['R11'])))\n",
    "    R_22_read_error=R_22_std/np.sqrt(float(len(positive_filtered[i]['R22'])))\n",
    "    \n",
    "    g_prime_1=np.mean(positive_filtered[i]['e_1'])/R_11_mean\n",
    "    g_prime_2=np.mean(positive_filtered[i]['e_2'])/R_22_mean\n",
    "    \n",
    "    g_prime_1_error=np.sqrt((1/R_11_mean)**2 * e1_error**2 + (e1_mean/(R_11_mean**2))**2*R_11_read_error**2)\n",
    "    g_prime_2_error=np.sqrt((1/R_22_mean)**2 * e2_error**2 + (e2_mean/(R_22_mean**2))**2*R_22_read_error**2)\n",
    "\n",
    "    \n",
    "\n",
    "    print(\"For mcal{} with positive g, measured R is\".format(i+2))\n",
    "    for j,row1 in enumerate(R_array):\n",
    "        print(\"|{:5.3e} {:5.3e}|\".format(*row1))\n",
    "    print(\"<e1>={:5.3e}, <e2>={:5.3e}, <g1>={:5.3e}, <g2>={:5.3e}, R11={:5.3e}, R22={:5.3e}\".format(*eg_array_positive[i][0],*eg_array_positive[i][1],real_R_array_positive[i][0][0],real_R_array_positive[i][1][1]))\n",
    "    print(\"d_e1={:5.3e}, d_e2={:5.3e}\".format(e1_error,e2_error))\n",
    "    print(\"R11'_error={:5.3e} R22'_error={:5.3e}\".format(R11_error,R22_error))\n",
    "    print(\"\\n\")\n",
    "    print (\"g1'={:5.3e}, g2'={:5.3e},\".format(g_prime_1,g_prime_2)+\" g1'_error={:5.3e}, g2'_error={:5.3e}\".format(g_prime_1_error,g_prime_2_error))\n",
    "    \n",
    "    print(\"Theoretical R is\".format(i+2))\n",
    "    for j,row1 in enumerate(R_array):\n",
    "        print(\"|{:5.3e} {:5.3e}|\".format(*real_R_array_positive[i][j]))\n",
    "    print (\"R11'={:5.3e}, R22'={:5.3e}, R11={:5.3e}, R22={:5.3e}\".format(R_array_positive[i][0][0],R_array_positive[i][1][1],real_R_array_positive[i][0][0],real_R_array_positive[i][1][1]))\n",
    "    print(\"-----------------------------------------------------------------\")"
   ]
  },
  {
   "cell_type": "code",
   "execution_count": null,
   "metadata": {
    "pycharm": {
     "is_executing": false
    }
   },
   "outputs": [],
   "source": [
    "print (\"For positive_g\")\n",
    "for i in [0,2]:\n",
    "    print (\"The difference beween R matrice in mcal{:5.3e} and mcal{:5.3e} is:\".format(i+2,i+3))\n",
    "    for j in range(2):\n",
    "        print (\"|{:5.3e} {:5.3e}|\".format(*(np.array(R_array_positive[i][j])-np.array(R_array_positive[i+1][j]))))"
   ]
  },
  {
   "cell_type": "code",
   "execution_count": null,
   "metadata": {
    "pycharm": {
     "is_executing": false
    }
   },
   "outputs": [],
   "source": [
    "print (\"For negative g\")\n",
    "for i in [0,2]:\n",
    "    print (\"The difference beween R matrice in mcal{} and mcal{} is:\".format(i+2,i+3))\n",
    "    for j in range(2):\n",
    "        print (\"|{:5.3e} {:5.3e}|\".format(*(np.array(R_array_negative[i][j])-np.array(R_array_negative[i+1][j]))))"
   ]
  },
  {
   "cell_type": "code",
   "execution_count": null,
   "metadata": {
    "pycharm": {
     "is_executing": false
    }
   },
   "outputs": [],
   "source": [
    "print (\"For positive g\")\n",
    "for i in range(4):\n",
    "    print(\"For mcal{}, the diffrence between measured and theoretical R is\".format(i+2))\n",
    "    for j in range(2):\n",
    "        print (\"|{:5.3e} {:5.3e}|\".format(*(np.array(R_array_positive[i][j])-np.array(real_R_array_positive[i][j])))) "
   ]
  },
  {
   "cell_type": "code",
   "execution_count": null,
   "metadata": {
    "pycharm": {
     "is_executing": false
    }
   },
   "outputs": [],
   "source": [
    "print (\"For negative g\")\n",
    "for i in range(4):\n",
    "    print(\"For mcal{}, the diffrence between measured and theoretical R is\".format(i+2))\n",
    "    for j in range(2):\n",
    "        print (\"|{:5.3e} {:5.3e}|\".format(*(np.array(R_array_negative[i][j])-np.array(real_R_array_negative[i][j])))) "
   ]
  },
  {
   "cell_type": "markdown",
   "metadata": {},
   "source": [
    "# Fitting e_i = m_i * g + c"
   ]
  },
  {
   "cell_type": "code",
   "execution_count": null,
   "metadata": {
    "pycharm": {
     "is_executing": false
    }
   },
   "outputs": [],
   "source": [
    "intersected_masks=[get_intersected_mask(true_dict_unique_sorted,catalog) for catalog in relavant_catalogs]"
   ]
  },
  {
   "cell_type": "code",
   "execution_count": null,
   "metadata": {
    "pycharm": {
     "is_executing": false
    }
   },
   "outputs": [],
   "source": [
    "intersected_masks_for_mcal=[mask[1] for mask in intersected_masks]\n",
    "intersected_masks_for_true=[mask[0] for mask in intersected_masks]"
   ]
  },
  {
   "cell_type": "code",
   "execution_count": null,
   "metadata": {
    "pycharm": {
     "is_executing": false
    }
   },
   "outputs": [],
   "source": [
    "intersected_clipped_array=mask_catalog_arrays(relavant_catalogs,intersected_masks_for_mcal)"
   ]
  },
  {
   "cell_type": "code",
   "execution_count": null,
   "metadata": {
    "pycharm": {
     "is_executing": false
    }
   },
   "outputs": [],
   "source": [
    "four_true_dicts=[true_dict_unique_sorted for i in range(4)]"
   ]
  },
  {
   "cell_type": "code",
   "execution_count": null,
   "metadata": {
    "pycharm": {
     "is_executing": false
    }
   },
   "outputs": [],
   "source": [
    "intersected_clipped_true=mask_catalog_arrays(four_true_dicts,intersected_masks_for_true)"
   ]
  },
  {
   "cell_type": "code",
   "execution_count": null,
   "metadata": {
    "pycharm": {
     "is_executing": false
    }
   },
   "outputs": [],
   "source": [
    "def get_cm(true_dict,mcal_dict):\n",
    "        y1=mcal_dict['e_1']\n",
    "        x1=true_dict['true_cm_g_1']\n",
    "        y2=mcal_dict['e_2']\n",
    "        x2=true_dict['true_cm_g_2']\n",
    "        m1,c1=np.polyfit(x1,y1,1)\n",
    "        m2,c2=np.polyfit(x2,y2,1)\n",
    "        return([[m1,c1],[m2,c2]])"
   ]
  },
  {
   "cell_type": "code",
   "execution_count": null,
   "metadata": {
    "pycharm": {
     "is_executing": false
    }
   },
   "outputs": [],
   "source": [
    "cm_array=[get_cm(intersected_clipped_true[i],intersected_clipped_array[i]) for i in range(4)]"
   ]
  },
  {
   "cell_type": "code",
   "execution_count": null,
   "metadata": {
    "pycharm": {
     "is_executing": false
    }
   },
   "outputs": [],
   "source": [
    "cm_array_positive=[get_cm(positive_true[i],positive_filtered[i]) for i in range(4)]"
   ]
  },
  {
   "cell_type": "code",
   "execution_count": null,
   "metadata": {
    "pycharm": {
     "is_executing": false
    }
   },
   "outputs": [],
   "source": [
    "cm_array_negative=[get_cm(negative_true[i],negative_filtered[i]) for i in range(4)]"
   ]
  },
  {
   "cell_type": "code",
   "execution_count": null,
   "metadata": {
    "pycharm": {
     "is_executing": false
    }
   },
   "outputs": [],
   "source": [
    "def print_cm(cm_array):\n",
    "    for i,matrix in enumerate(cm_array):\n",
    "        print(\"For mcal{}, m1={:10.3e},c1={:10.3e},m2={:10.3e},c2={:10.3e}\".format((i+2),*matrix[0],*matrix[1]))"
   ]
  },
  {
   "cell_type": "code",
   "execution_count": null,
   "metadata": {
    "pycharm": {
     "is_executing": false
    }
   },
   "outputs": [],
   "source": [
    "print_cm(cm_array)"
   ]
  },
  {
   "cell_type": "code",
   "execution_count": null,
   "metadata": {
    "pycharm": {
     "is_executing": false
    }
   },
   "outputs": [],
   "source": [
    "print_cm(cm_array_positive)"
   ]
  },
  {
   "cell_type": "code",
   "execution_count": null,
   "metadata": {
    "pycharm": {
     "is_executing": false
    }
   },
   "outputs": [],
   "source": [
    "print_cm(cm_array_negative)"
   ]
  },
  {
   "cell_type": "code",
   "execution_count": null,
   "metadata": {
    "pycharm": {
     "is_executing": false
    }
   },
   "outputs": [],
   "source": [
    "x1_array=[true_dict['true_cm_g_1'] for true_dict in intersected_clipped_true]\n",
    "x2_array=[true_dict['true_cm_g_2'] for true_dict in intersected_clipped_true]\n",
    "y1_array=[mcal_dict['e_1'] for mcal_dict in intersected_clipped_array]\n",
    "y2_array=[mcal_dict['e_2'] for mcal_dict in intersected_clipped_array]"
   ]
  },
  {
   "cell_type": "code",
   "execution_count": null,
   "metadata": {
    "pycharm": {
     "is_executing": false
    }
   },
   "outputs": [],
   "source": [
    "x3_array=[true_dict['true_cm_g_1'] for true_dict in positive_true]\n",
    "x4_array=[true_dict['true_cm_g_2'] for true_dict in positive_true]\n",
    "y3_array=[mcal_dict['e_1'] for mcal_dict in positive_filtered]\n",
    "y4_array=[mcal_dict['e_2'] for mcal_dict in positive_filtered]"
   ]
  },
  {
   "cell_type": "code",
   "execution_count": null,
   "metadata": {
    "pycharm": {
     "is_executing": false
    }
   },
   "outputs": [],
   "source": [
    "x5_array=[true_dict['true_cm_g_1'] for true_dict in negative_true]\n",
    "x6_array=[true_dict['true_cm_g_2'] for true_dict in negative_true]\n",
    "y5_array=[mcal_dict['e_1'] for mcal_dict in negative_filtered]\n",
    "y6_array=[mcal_dict['e_2'] for mcal_dict in negative_filtered]"
   ]
  },
  {
   "cell_type": "code",
   "execution_count": null,
   "metadata": {
    "pycharm": {
     "is_executing": false
    }
   },
   "outputs": [],
   "source": [
    "colors=(0,0,0)\n",
    "area=0.01\n",
    "def plot_scatter(x,y,cm):\n",
    "    plt.scatter(x,y,s=area,c=colors,alpha=0.5)\n",
    "    x_range=np.linspace(0,1)\n",
    "    plt.plot(x_range,cm[0]*x_range+cm[1])"
   ]
  },
  {
   "cell_type": "code",
   "execution_count": null,
   "metadata": {
    "pycharm": {
     "is_executing": false
    }
   },
   "outputs": [],
   "source": [
    "for i in range(4):\n",
    "    plt.figure()\n",
    "    plot_scatter(x1_array[i],y1_array[i],cm_array[i][0])\n",
    "    plt.title(\"mcal{} g_1 e_1\".format(i+2))\n",
    "    plt.savefig(\"scatter/mcal{}g1e1\".format(i+2),dpi=300)\n",
    "    plt.close()\n",
    "    plt.figure()\n",
    "    plot_scatter(x2_array[i],y2_array[i],cm_array[i][1])\n",
    "    plt.title(\"mcal{} g_2 e_2\".format(i+2))\n",
    "    plt.savefig(\"scatter/mcal{}g2e2\".format(i+2),dpi=300)\n",
    "    plt.close()"
   ]
  },
  {
   "cell_type": "code",
   "execution_count": null,
   "metadata": {
    "pycharm": {
     "is_executing": true
    }
   },
   "outputs": [],
   "source": [
    "for i in range(4):\n",
    "    plt.figure()\n",
    "    plot_scatter(x3_array[i],y3_array[i],cm_array_positive[i][0])\n",
    "    plt.title(\"mcal{} g_1 e_1_positive\".format(i+2))\n",
    "    plt.savefig(\"scatter/mcal{}g1e1_positive\".format(i+2),dpi=300)\n",
    "    plt.close()\n",
    "    plt.figure()\n",
    "    plot_scatter(x4_array[i],y4_array[i],cm_array[i][1])\n",
    "    plt.title(\"mcal{} g_2 e_2_positive\".format(i+2))\n",
    "    plt.savefig(\"scatter/mcal{}g2e2_positive\".format(i+2),dpi=300)\n",
    "    plt.close()"
   ]
  },
  {
   "cell_type": "code",
   "execution_count": null,
   "metadata": {
    "pycharm": {
     "is_executing": true
    }
   },
   "outputs": [],
   "source": [
    "for i in range(4):\n",
    "    plt.figure()\n",
    "    plot_scatter(x3_array[i],y3_array[i],cm_array_positive[i][0])\n",
    "    plt.title(\"mcal{} g_1 e_1_negative\".format(i+2))\n",
    "    plt.savefig(\"scatter/mcal{}g1e1_negative\".format(i+2),dpi=300)\n",
    "    plt.close()\n",
    "    plt.figure()\n",
    "    plot_scatter(x4_array[i],y4_array[i],cm_array[i][1])\n",
    "    plt.title(\"mcal{} g_2 e_2_negative\".format(i+2))\n",
    "    plt.savefig(\"scatter/mcal{}g2e2_negative\".format(i+2),dpi=300)\n",
    "    plt.close()"
   ]
  },
  {
   "cell_type": "code",
   "execution_count": null,
   "metadata": {
    "pycharm": {
     "is_executing": true
    }
   },
   "outputs": [],
   "source": [
    "for i in [0,2]:\n",
    "    print(i)"
   ]
  },
  {
   "cell_type": "markdown",
   "metadata": {
    "toc-hr-collapsed": false
   },
   "source": [
    "# healpix"
   ]
  },
  {
   "cell_type": "code",
   "execution_count": null,
   "metadata": {
    "pycharm": {
     "is_executing": true,
     "name": "#%%\n"
    }
   },
   "outputs": [],
   "source": [
    "from astropy_healpix import HEALpix\n",
    "from astropy.coordinate import icrs\n",
    "\n"
   ]
  }
 ],
 "metadata": {
  "kernelspec": {
   "display_name": "Python 3",
   "language": "python",
   "name": "python3"
  },
  "language_info": {
   "codemirror_mode": {
    "name": "ipython",
    "version": 3
   },
   "file_extension": ".py",
   "mimetype": "text/x-python",
   "name": "python",
   "nbconvert_exporter": "python",
   "pygments_lexer": "ipython3",
   "version": "3.7.3"
  },
  "pycharm": {
   "stem_cell": {
    "cell_type": "raw",
    "metadata": {
     "collapsed": false
    },
    "source": []
   }
  }
 },
 "nbformat": 4,
 "nbformat_minor": 2
}
