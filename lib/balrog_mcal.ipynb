{
 "cells": [
  {
   "cell_type": "markdown",
   "metadata": {},
   "source": [
    "# Import and Load Data"
   ]
  },
  {
   "cell_type": "code",
   "execution_count": 1,
   "metadata": {},
   "outputs": [],
   "source": [
    "import numpy as np\n",
    "import pandas as pd\n",
    "from pandas import Series,DataFrame\n",
    "from astropy.table import Table\n",
    "from astropy.io import fits\n",
    "import matplotlib.pyplot as plt\n",
    "import h5py\n",
    "from tqdm import tqdm\n",
    "from IPython.display import display, Math\n",
    "\n",
    "## modules I am still trying to learn how to use\n",
    "import numexpr\n",
    "import bottleneck\n",
    "\n",
    "##\n",
    "pd.set_option('display.float_format', lambda x: '%.3e' % x)\n",
    "np.set_printoptions(formatter={'all':lambda x: '%.3e'% x})"
   ]
  },
  {
   "cell_type": "markdown",
   "metadata": {},
   "source": [
    "## Functions"
   ]
  },
  {
   "cell_type": "code",
   "execution_count": 2,
   "metadata": {},
   "outputs": [],
   "source": [
    "## function to extract fits and hdf data\n",
    "def load_true():\n",
    "    \"\"\"This is a function that takes fits and hdf data and return them to pandas dataframe\"\"\"\n",
    "\n",
    "    # detect = fits.open('/lsst/troxel/balrog/balrog_detection_catalog-v1.2.fits')[-1]\n",
    "    phot   = fits.open('/lsst/troxel/balrog/balrog_matched_catalog_flatten.fits')[1]\n",
    "    id_balrog = fits.open('/lsst/troxel/balrog/balrog_mcal_bal_ids_v1.2.fits')\n",
    "\n",
    "    #load true catalogs in pandas\n",
    "    # detectp_table=Table.read('/lsst/troxel/balrog/balrog_detection_catalog-v1.2.fits').to_pandas()\n",
    "    photdf=Table.read('/lsst/troxel/balrog/balrog_matched_catalog_flatten.fits').to_pandas()\n",
    "    id_balrogdf = Table.read('/lsst/troxel/balrog/balrog_mcal_bal_ids_v1.2.fits').to_pandas()\n",
    "    \n",
    "    photdf.drop_duplicates(['bal_id'],inplace=True)\n",
    "    \n",
    "    photdf.set_index('bal_id',inplace=True,verify_integrity=True)\n",
    "\n",
    "    return(photdf)\n",
    "\n",
    "\n",
    "def load_mcal():\n",
    "    #all objects riz\n",
    "#     mcal0= h5py.File('/lsst/troxel/balrog/balrog_mcal_stack-y3v02-0-riz-mcal-v1.2.h5','r')['catalog']['unsheared'] #with neighbor\n",
    "#     mcal1= h5py.File('/lsst/troxel/balrog/balrog_mcal_stack-y3v02-0-riz-noNB-mcal-v1.2.h5','r')['catalog']['unsheared'] #no neighbor\n",
    "    ##only matched balrog object riz\n",
    "    mcal2=h5py.File('/lsst/troxel/balrog/balrog_mcal_stack-y3v02-0-riz-mcal-1.3.h5','r')['catalog']['unsheared'] #with neighbor\n",
    "    mcal3=h5py.File('/lsst/troxel/balrog/balrog_mcal_stack-y3v02-0-riz-noNB-mcal-1.3.h5','r')['catalog']['unsheared'] #no neighbor\n",
    "    #only matched balrog object griz\n",
    "    mcal4=h5py.File('/lsst/troxel/balrog/balrog_mcal_stack-y3v02-0-griz-mcal-1.3.h5','r')['catalog']['unsheared'] #with neighbor\n",
    "    mcal5=h5py.File('/lsst/troxel/balrog/balrog_mcal_stack-y3v02-0-griz-noNB-mcal-1.3.h5','r')['catalog']['unsheared'] #no neighbor\n",
    "    \n",
    "    mcal_list=[mcal2,mcal3,mcal4,mcal5]\n",
    "    return (mcal_list)"
   ]
  },
  {
   "cell_type": "code",
   "execution_count": 3,
   "metadata": {},
   "outputs": [],
   "source": [
    "## function to convert \n",
    "def get_df_list(mcal_list):\n",
    "    mcal_df_list =[]\n",
    "    for catalog in mcal_list:\n",
    "        local_df=pd.DataFrame()\n",
    "        for key in catalog.keys():\n",
    "            local_df[key]=np.array(catalog[key][:]).byteswap().newbyteorder()\n",
    "        if 'bal_id' in local_df.keys():\n",
    "            local_df.set_index('bal_id',inplace=True,verify_integrity=True)\n",
    "        mcal_df_list.append(local_df)\n",
    "    return(mcal_df_list)"
   ]
  },
  {
   "cell_type": "code",
   "execution_count": 4,
   "metadata": {},
   "outputs": [],
   "source": [
    "photdf=load_true()"
   ]
  },
  {
   "cell_type": "code",
   "execution_count": 5,
   "metadata": {},
   "outputs": [],
   "source": [
    "mcal_df_list=get_df_list(load_mcal())"
   ]
  },
  {
   "cell_type": "markdown",
   "metadata": {},
   "source": [
    "## List of dtypes in mcal"
   ]
  },
  {
   "cell_type": "code",
   "execution_count": 6,
   "metadata": {},
   "outputs": [
    {
     "data": {
      "text/plain": [
       "R11                    >f8\n",
       "R12                    >f8\n",
       "R21                    >f8\n",
       "R22                    >f8\n",
       "T                  float64\n",
       "T_err              float64\n",
       "coadd_object_id      int64\n",
       "covmat_0_1         float64\n",
       "covmat_1_1         float64\n",
       "covmat_2_2         float64\n",
       "dec                float64\n",
       "e_1                float64\n",
       "e_2                float64\n",
       "flags                int32\n",
       "flux_err_g         float64\n",
       "flux_err_i         float64\n",
       "flux_err_r         float64\n",
       "flux_err_z         float64\n",
       "flux_g             float64\n",
       "flux_i             float64\n",
       "flux_r             float64\n",
       "flux_z             float64\n",
       "mask_frac          float64\n",
       "mcal_psf_T         float64\n",
       "mcal_psf_e1        float64\n",
       "mcal_psf_e2        float64\n",
       "nimage_tot_g         int32\n",
       "nimage_tot_i         int32\n",
       "nimage_tot_r         int32\n",
       "nimage_tot_z         int32\n",
       "nimage_use_g         int32\n",
       "nimage_use_i         int32\n",
       "nimage_use_r         int32\n",
       "nimage_use_z         int32\n",
       "psf_T              float64\n",
       "psf_e1             float64\n",
       "psf_e2             float64\n",
       "ra                 float64\n",
       "size_ratio         float64\n",
       "snr                float64\n",
       "dtype: object"
      ]
     },
     "execution_count": 6,
     "metadata": {},
     "output_type": "execute_result"
    }
   ],
   "source": [
    "mcal_df_list[2].dtypes"
   ]
  },
  {
   "cell_type": "markdown",
   "metadata": {},
   "source": [
    "## List of dtypes in phot"
   ]
  },
  {
   "cell_type": "code",
   "execution_count": 7,
   "metadata": {},
   "outputs": [
    {
     "data": {
      "text/plain": [
       "true_id                    int32\n",
       "true_number                int32\n",
       "true_flags                 int32\n",
       "true_obj_flags             int32\n",
       "true_cm_mof_flags          int32\n",
       "true_ra                  float64\n",
       "true_dec                 float64\n",
       "true_cm_T                float64\n",
       "true_cm_T_err            float64\n",
       "true_cm_s2n_r            float64\n",
       "true_cm_flags              int32\n",
       "true_cm_fracdev          float64\n",
       "true_cm_TdByTe           float32\n",
       "true_in_VHS_footprint      int32\n",
       "true_mag_auto_det        float32\n",
       "true_det_number            int32\n",
       "true_tilename             object\n",
       "meas_id                    int64\n",
       "meas_number                int32\n",
       "meas_ra                  float64\n",
       "meas_dec                 float64\n",
       "meas_fofid                 int64\n",
       "meas_flags                 int32\n",
       "meas_time_last_fit       float64\n",
       "meas_box_size              int16\n",
       "meas_obj_flags             int32\n",
       "meas_mask_frac           float64\n",
       "meas_psfrec_T            float64\n",
       "meas_cm_flags              int32\n",
       "meas_cm_T                float64\n",
       "                          ...   \n",
       "meas_nimage_use_i          int32\n",
       "meas_nimage_use_z          int32\n",
       "meas_psfrec_g_1          float64\n",
       "meas_psfrec_g_2          float64\n",
       "meas_cm_flux_cov_gg      float64\n",
       "meas_cm_flux_cov_rr      float64\n",
       "meas_cm_flux_cov_ii      float64\n",
       "meas_cm_flux_cov_zz      float64\n",
       "meas_cm_flux_g           float64\n",
       "meas_cm_flux_r           float64\n",
       "meas_cm_flux_i           float64\n",
       "meas_cm_flux_z           float64\n",
       "meas_cm_flux_s2n_g       float64\n",
       "meas_cm_flux_s2n_r       float64\n",
       "meas_cm_flux_s2n_i       float64\n",
       "meas_cm_flux_s2n_z       float64\n",
       "meas_cm_mag_g            float64\n",
       "meas_cm_mag_r            float64\n",
       "meas_cm_mag_i            float64\n",
       "meas_cm_mag_z            float64\n",
       "meas_cm_logsb_g          float64\n",
       "meas_cm_logsb_r          float64\n",
       "meas_cm_logsb_i          float64\n",
       "meas_cm_logsb_z          float64\n",
       "meas_cm_g_1              float64\n",
       "meas_cm_g_2              float64\n",
       "meas_cm_g_cov_1_1        float64\n",
       "meas_cm_g_cov_1_2        float64\n",
       "meas_cm_g_cov_2_1        float64\n",
       "meas_cm_g_cov_2_2        float64\n",
       "Length: 116, dtype: object"
      ]
     },
     "execution_count": 7,
     "metadata": {},
     "output_type": "execute_result"
    }
   ],
   "source": [
    "photdf.dtypes"
   ]
  },
  {
   "cell_type": "markdown",
   "metadata": {},
   "source": [
    "## sample of mcal data"
   ]
  },
  {
   "cell_type": "code",
   "execution_count": 8,
   "metadata": {},
   "outputs": [
    {
     "data": {
      "text/html": [
       "<div>\n",
       "<style scoped>\n",
       "    .dataframe tbody tr th:only-of-type {\n",
       "        vertical-align: middle;\n",
       "    }\n",
       "\n",
       "    .dataframe tbody tr th {\n",
       "        vertical-align: top;\n",
       "    }\n",
       "\n",
       "    .dataframe thead th {\n",
       "        text-align: right;\n",
       "    }\n",
       "</style>\n",
       "<table border=\"1\" class=\"dataframe\">\n",
       "  <thead>\n",
       "    <tr style=\"text-align: right;\">\n",
       "      <th></th>\n",
       "      <th>R11</th>\n",
       "      <th>R12</th>\n",
       "      <th>R21</th>\n",
       "      <th>R22</th>\n",
       "      <th>T</th>\n",
       "      <th>T_err</th>\n",
       "      <th>coadd_object_id</th>\n",
       "      <th>covmat_0_1</th>\n",
       "      <th>covmat_1_1</th>\n",
       "      <th>covmat_2_2</th>\n",
       "      <th>...</th>\n",
       "      <th>nimage_use_g</th>\n",
       "      <th>nimage_use_i</th>\n",
       "      <th>nimage_use_r</th>\n",
       "      <th>nimage_use_z</th>\n",
       "      <th>psf_T</th>\n",
       "      <th>psf_e1</th>\n",
       "      <th>psf_e2</th>\n",
       "      <th>ra</th>\n",
       "      <th>size_ratio</th>\n",
       "      <th>snr</th>\n",
       "    </tr>\n",
       "    <tr>\n",
       "      <th>bal_id</th>\n",
       "      <th></th>\n",
       "      <th></th>\n",
       "      <th></th>\n",
       "      <th></th>\n",
       "      <th></th>\n",
       "      <th></th>\n",
       "      <th></th>\n",
       "      <th></th>\n",
       "      <th></th>\n",
       "      <th></th>\n",
       "      <th></th>\n",
       "      <th></th>\n",
       "      <th></th>\n",
       "      <th></th>\n",
       "      <th></th>\n",
       "      <th></th>\n",
       "      <th></th>\n",
       "      <th></th>\n",
       "      <th></th>\n",
       "      <th></th>\n",
       "      <th></th>\n",
       "    </tr>\n",
       "  </thead>\n",
       "  <tbody>\n",
       "    <tr>\n",
       "      <th>100304018326232</th>\n",
       "      <td>1.417e+00</td>\n",
       "      <td>8.730e-01</td>\n",
       "      <td>4.269e-01</td>\n",
       "      <td>9.959e-01</td>\n",
       "      <td>5.542e-01</td>\n",
       "      <td>5.172e-02</td>\n",
       "      <td>337</td>\n",
       "      <td>-5.923e-05</td>\n",
       "      <td>7.927e-04</td>\n",
       "      <td>1.003e-03</td>\n",
       "      <td>...</td>\n",
       "      <td>3</td>\n",
       "      <td>4</td>\n",
       "      <td>4</td>\n",
       "      <td>4</td>\n",
       "      <td>4.593e-01</td>\n",
       "      <td>5.778e-03</td>\n",
       "      <td>8.893e-03</td>\n",
       "      <td>4.575e+01</td>\n",
       "      <td>1.207e+00</td>\n",
       "      <td>2.913e+01</td>\n",
       "    </tr>\n",
       "    <tr>\n",
       "      <th>100304018321548</th>\n",
       "      <td>8.239e-01</td>\n",
       "      <td>-1.786e+00</td>\n",
       "      <td>1.673e-01</td>\n",
       "      <td>3.626e-01</td>\n",
       "      <td>5.978e-02</td>\n",
       "      <td>1.837e-02</td>\n",
       "      <td>345</td>\n",
       "      <td>1.073e-03</td>\n",
       "      <td>1.168e-02</td>\n",
       "      <td>1.219e-02</td>\n",
       "      <td>...</td>\n",
       "      <td>2</td>\n",
       "      <td>3</td>\n",
       "      <td>2</td>\n",
       "      <td>4</td>\n",
       "      <td>5.222e-01</td>\n",
       "      <td>2.164e-03</td>\n",
       "      <td>1.006e-02</td>\n",
       "      <td>4.618e+01</td>\n",
       "      <td>1.145e-01</td>\n",
       "      <td>2.728e+01</td>\n",
       "    </tr>\n",
       "    <tr>\n",
       "      <th>10030401832834</th>\n",
       "      <td>3.872e-01</td>\n",
       "      <td>-1.627e-01</td>\n",
       "      <td>-2.127e-01</td>\n",
       "      <td>6.816e-01</td>\n",
       "      <td>1.804e-01</td>\n",
       "      <td>1.910e-02</td>\n",
       "      <td>355</td>\n",
       "      <td>2.547e-04</td>\n",
       "      <td>2.476e-03</td>\n",
       "      <td>2.242e-03</td>\n",
       "      <td>...</td>\n",
       "      <td>2</td>\n",
       "      <td>4</td>\n",
       "      <td>3</td>\n",
       "      <td>4</td>\n",
       "      <td>5.185e-01</td>\n",
       "      <td>-4.169e-03</td>\n",
       "      <td>2.315e-02</td>\n",
       "      <td>4.632e+01</td>\n",
       "      <td>3.479e-01</td>\n",
       "      <td>4.120e+01</td>\n",
       "    </tr>\n",
       "    <tr>\n",
       "      <th>100304018328103</th>\n",
       "      <td>1.126e+00</td>\n",
       "      <td>-1.553e-01</td>\n",
       "      <td>7.442e-02</td>\n",
       "      <td>6.615e-01</td>\n",
       "      <td>1.600e+00</td>\n",
       "      <td>6.549e-02</td>\n",
       "      <td>393</td>\n",
       "      <td>1.477e-06</td>\n",
       "      <td>2.879e-04</td>\n",
       "      <td>2.866e-04</td>\n",
       "      <td>...</td>\n",
       "      <td>2</td>\n",
       "      <td>4</td>\n",
       "      <td>3</td>\n",
       "      <td>4</td>\n",
       "      <td>5.203e-01</td>\n",
       "      <td>-4.125e-03</td>\n",
       "      <td>2.447e-02</td>\n",
       "      <td>4.630e+01</td>\n",
       "      <td>3.075e+00</td>\n",
       "      <td>3.443e+01</td>\n",
       "    </tr>\n",
       "    <tr>\n",
       "      <th>100304018322349</th>\n",
       "      <td>1.469e+00</td>\n",
       "      <td>-2.898e+00</td>\n",
       "      <td>-1.853e+00</td>\n",
       "      <td>-4.159e+00</td>\n",
       "      <td>-4.546e-03</td>\n",
       "      <td>1.035e-03</td>\n",
       "      <td>399</td>\n",
       "      <td>3.697e-03</td>\n",
       "      <td>1.536e-02</td>\n",
       "      <td>1.576e-02</td>\n",
       "      <td>...</td>\n",
       "      <td>4</td>\n",
       "      <td>5</td>\n",
       "      <td>5</td>\n",
       "      <td>5</td>\n",
       "      <td>4.973e-01</td>\n",
       "      <td>1.787e-02</td>\n",
       "      <td>9.877e-03</td>\n",
       "      <td>4.587e+01</td>\n",
       "      <td>-9.142e-03</td>\n",
       "      <td>3.764e+02</td>\n",
       "    </tr>\n",
       "  </tbody>\n",
       "</table>\n",
       "<p>5 rows × 40 columns</p>\n",
       "</div>"
      ],
      "text/plain": [
       "                      R11        R12        R21        R22          T  \\\n",
       "bal_id                                                                  \n",
       "100304018326232 1.417e+00  8.730e-01  4.269e-01  9.959e-01  5.542e-01   \n",
       "100304018321548 8.239e-01 -1.786e+00  1.673e-01  3.626e-01  5.978e-02   \n",
       "10030401832834  3.872e-01 -1.627e-01 -2.127e-01  6.816e-01  1.804e-01   \n",
       "100304018328103 1.126e+00 -1.553e-01  7.442e-02  6.615e-01  1.600e+00   \n",
       "100304018322349 1.469e+00 -2.898e+00 -1.853e+00 -4.159e+00 -4.546e-03   \n",
       "\n",
       "                    T_err  coadd_object_id  covmat_0_1  covmat_1_1  \\\n",
       "bal_id                                                               \n",
       "100304018326232 5.172e-02              337  -5.923e-05   7.927e-04   \n",
       "100304018321548 1.837e-02              345   1.073e-03   1.168e-02   \n",
       "10030401832834  1.910e-02              355   2.547e-04   2.476e-03   \n",
       "100304018328103 6.549e-02              393   1.477e-06   2.879e-04   \n",
       "100304018322349 1.035e-03              399   3.697e-03   1.536e-02   \n",
       "\n",
       "                 covmat_2_2  ...  nimage_use_g  nimage_use_i  nimage_use_r  \\\n",
       "bal_id                       ...                                             \n",
       "100304018326232   1.003e-03  ...             3             4             4   \n",
       "100304018321548   1.219e-02  ...             2             3             2   \n",
       "10030401832834    2.242e-03  ...             2             4             3   \n",
       "100304018328103   2.866e-04  ...             2             4             3   \n",
       "100304018322349   1.576e-02  ...             4             5             5   \n",
       "\n",
       "                 nimage_use_z     psf_T     psf_e1    psf_e2        ra  \\\n",
       "bal_id                                                                   \n",
       "100304018326232             4 4.593e-01  5.778e-03 8.893e-03 4.575e+01   \n",
       "100304018321548             4 5.222e-01  2.164e-03 1.006e-02 4.618e+01   \n",
       "10030401832834              4 5.185e-01 -4.169e-03 2.315e-02 4.632e+01   \n",
       "100304018328103             4 5.203e-01 -4.125e-03 2.447e-02 4.630e+01   \n",
       "100304018322349             5 4.973e-01  1.787e-02 9.877e-03 4.587e+01   \n",
       "\n",
       "                 size_ratio       snr  \n",
       "bal_id                                 \n",
       "100304018326232   1.207e+00 2.913e+01  \n",
       "100304018321548   1.145e-01 2.728e+01  \n",
       "10030401832834    3.479e-01 4.120e+01  \n",
       "100304018328103   3.075e+00 3.443e+01  \n",
       "100304018322349  -9.142e-03 3.764e+02  \n",
       "\n",
       "[5 rows x 40 columns]"
      ]
     },
     "execution_count": 8,
     "metadata": {},
     "output_type": "execute_result"
    }
   ],
   "source": [
    "mcal_df_list[3].head()"
   ]
  },
  {
   "cell_type": "markdown",
   "metadata": {},
   "source": [
    "# Data manipulation"
   ]
  },
  {
   "cell_type": "markdown",
   "metadata": {},
   "source": [
    "## Constants"
   ]
  },
  {
   "cell_type": "code",
   "execution_count": 9,
   "metadata": {
    "pycharm": {
     "is_executing": false
    }
   },
   "outputs": [],
   "source": [
    "SNR_CUT = 10\n",
    "SIZE_RATIO_CUT = 0.5\n",
    "T_CUT = 1000"
   ]
  },
  {
   "cell_type": "markdown",
   "metadata": {},
   "source": [
    "## Filter by SNR T and size_ratio"
   ]
  },
  {
   "cell_type": "code",
   "execution_count": 10,
   "metadata": {},
   "outputs": [],
   "source": [
    "def filter_by_snr():\n",
    "    for i,catalog in enumerate(mcal_df_list):\n",
    "        mcal_df_list[i]=catalog[(catalog['snr']>SNR_CUT) & (catalog['T']<T_CUT) & (catalog['size_ratio']>SIZE_RATIO_CUT)]"
   ]
  },
  {
   "cell_type": "code",
   "execution_count": 11,
   "metadata": {},
   "outputs": [],
   "source": [
    "filter_by_snr()"
   ]
  },
  {
   "cell_type": "code",
   "execution_count": 12,
   "metadata": {},
   "outputs": [
    {
     "name": "stdout",
     "output_type": "stream",
     "text": [
      "1287674\n",
      "1816611\n",
      "1008988\n",
      "1554429\n"
     ]
    }
   ],
   "source": [
    "## we are getting the same number of objects here as we got previously\n",
    "for mcal in mcal_df_list:\n",
    "    print(len(mcal))"
   ]
  },
  {
   "cell_type": "markdown",
   "metadata": {},
   "source": [
    "## Intersects paris of catalogs by bal_id. We only want objects existing in true catalog, MOF and woMOF  "
   ]
  },
  {
   "cell_type": "code",
   "execution_count": 13,
   "metadata": {},
   "outputs": [],
   "source": [
    "index_2_3=mcal_df_list[0].index.intersection(mcal_df_list[1].index)\n",
    "index_4_5=mcal_df_list[2].index.intersection(mcal_df_list[3].index)\n",
    "\n",
    "index_2_3_true=index_2_3.intersection(photdf.index).sort_values()\n",
    "index_4_5_true=index_4_5.intersection(photdf.index).sort_values()"
   ]
  },
  {
   "cell_type": "code",
   "execution_count": 14,
   "metadata": {},
   "outputs": [],
   "source": [
    "mcal_df_list[0]=mcal_df_list[0].reindex(index_2_3_true);\n",
    "mcal_df_list[1]=mcal_df_list[1].reindex(index_2_3_true);\n",
    "mcal_df_list[2]=mcal_df_list[2].reindex(index_4_5_true);\n",
    "mcal_df_list[3]=mcal_df_list[3].reindex(index_4_5_true);"
   ]
  },
  {
   "cell_type": "code",
   "execution_count": 15,
   "metadata": {},
   "outputs": [],
   "source": [
    "true_df_list=[None]*4\n",
    "for i in range(2):\n",
    "    true_df_list[i]=photdf.reindex(index_2_3_true)\n",
    "    true_df_list[i+2]=photdf.reindex(index_4_5_true)"
   ]
  },
  {
   "cell_type": "code",
   "execution_count": 16,
   "metadata": {},
   "outputs": [
    {
     "name": "stdout",
     "output_type": "stream",
     "text": [
      "The lenth of mcal2 is 1098637.\n",
      "The lenth of mcal3 is 1098637.\n",
      "The lenth of mcal4 is 867808.\n",
      "The lenth of mcal5 is 867808.\n"
     ]
    }
   ],
   "source": [
    "for i,catalog in enumerate(mcal_df_list[0:4]):\n",
    "    print(\"The lenth of mcal{} is {}.\".format(i+2,len(catalog.index)))\n",
    "#     print(catalog.T.isnull().any())"
   ]
  },
  {
   "cell_type": "code",
   "execution_count": 17,
   "metadata": {},
   "outputs": [
    {
     "name": "stdout",
     "output_type": "stream",
     "text": [
      "The length of corresponding true catalog is 1098637.\n",
      "The length of corresponding true catalog is 1098637.\n",
      "The length of corresponding true catalog is 867808.\n",
      "The length of corresponding true catalog is 867808.\n"
     ]
    }
   ],
   "source": [
    "for i, catalog in enumerate(true_df_list):\n",
    "    print (\"The length of corresponding true catalog is {}.\".format(len(catalog.index)))"
   ]
  },
  {
   "cell_type": "markdown",
   "metadata": {},
   "source": [
    "## Divings catalogs into smaller catalogs only with positive g and only with negative g"
   ]
  },
  {
   "cell_type": "code",
   "execution_count": 33,
   "metadata": {},
   "outputs": [],
   "source": [
    "mcal_df_list_positive=[None]*4\n",
    "mcal_df_list_negative=[None]*4\n",
    "\n",
    "index_2_3_true_positive=index_2_3_true.intersection(photdf[photdf['true_cm_g_1']>0].index.intersection(photdf[photdf['true_cm_g_2']>0].index))\n",
    "index_2_3_true_negative=index_2_3_true.intersection(photdf[photdf['true_cm_g_1']<0].index.intersection(photdf[photdf['true_cm_g_2']<0].index))\n",
    "\n",
    "index_4_5_true_positive=index_4_5_true.intersection(photdf[photdf['true_cm_g_1']>0].index.intersection(photdf[photdf['true_cm_g_2']>0].index))\n",
    "index_4_5_true_negative=index_4_5_true.intersection(photdf[photdf['true_cm_g_1']<0].index.intersection(photdf[photdf['true_cm_g_2']<0].index))\n",
    "\n",
    "for i in range(2):\n",
    "    mcal_df_list_positive[i]=mcal_df_list[i].reindex(index_2_3_true_positive)\n",
    "    mcal_df_list_positive[i+2]=mcal_df_list[1+2].reindex(index_4_5_true_positive)\n",
    "    mcal_df_list_negative[i]=mcal_df_list[i].reindex(index_2_3_true_negative)\n",
    "    mcal_df_list_negative[i+2]=mcal_df_list[1+2].reindex(index_4_5_true_negative)"
   ]
  },
  {
   "cell_type": "markdown",
   "metadata": {},
   "source": [
    "# Catagory statistics"
   ]
  },
  {
   "cell_type": "markdown",
   "metadata": {},
   "source": [
    "### Numbers of Objects in each catagory"
   ]
  },
  {
   "cell_type": "code",
   "execution_count": 69,
   "metadata": {},
   "outputs": [
    {
     "name": "stdout",
     "output_type": "stream",
     "text": [
      "272818\n",
      "272818\n",
      "215145\n",
      "215145\n"
     ]
    }
   ],
   "source": [
    "# positive g\n",
    "for catalog in mcal_df_list_positive:\n",
    "    print (len(catalog))"
   ]
  },
  {
   "cell_type": "code",
   "execution_count": 68,
   "metadata": {},
   "outputs": [
    {
     "name": "stdout",
     "output_type": "stream",
     "text": [
      "270876\n",
      "270876\n",
      "213617\n",
      "213617\n"
     ]
    }
   ],
   "source": [
    "# negative g\n",
    "for catalog in mcal_df_list_negative:\n",
    "    print (len(catalog))"
   ]
  },
  {
   "cell_type": "markdown",
   "metadata": {},
   "source": [
    "# Get R'"
   ]
  },
  {
   "cell_type": "markdown",
   "metadata": {},
   "source": [
    "We read $R$ matrix from the measured catalog. And we calculate $R'$ matrix with $$R_{ij}=\\frac{<e_i>}{<g_j>}$$"
   ]
  },
  {
   "cell_type": "code",
   "execution_count": 34,
   "metadata": {},
   "outputs": [],
   "source": [
    "def get_R(mcal_df_list):\n",
    "\n",
    "    R_list=[None]*4\n",
    "    R_prime_list=[None]*4\n",
    "    \n",
    "    for i,catalog in enumerate(mcal_df_list):\n",
    "        true_catalog=photdf.reindex(catalog.index)\n",
    "\n",
    "        e1=catalog['e_1'].mean()\n",
    "        e2=catalog['e_2'].mean()\n",
    "        g1=true_catalog['true_cm_g_1'].mean()\n",
    "        g2=true_catalog['true_cm_g_2'].mean()\n",
    "\n",
    "        R_list[i]=[[catalog['R11'].mean(),catalog['R12'].mean()],[catalog['R21'].mean(),catalog['R22'].mean()]]\n",
    "        R_prime_list[i]=[[e1/g1,e1/g2],[e2/g1,e2/g2]]\n",
    "                                        \n",
    "    return(R_list,R_prime_list)"
   ]
  },
  {
   "cell_type": "code",
   "execution_count": 42,
   "metadata": {},
   "outputs": [],
   "source": [
    "def print_R(R_list,R_prime_list):\n",
    "    for i,R in enumerate(R_list):\n",
    "        print (\"For mcal {}\".format(i+2))\n",
    "        display(Math('R='))\n",
    "        print(np.matrix(R))\n",
    "        display(Math('R\\'='))\n",
    "        print(np.matrix(R_prime_list[i]))\n",
    "        print(\"\\n\")"
   ]
  },
  {
   "cell_type": "markdown",
   "metadata": {},
   "source": [
    "### R' for catagories without g-filtering"
   ]
  },
  {
   "cell_type": "code",
   "execution_count": 43,
   "metadata": {},
   "outputs": [
    {
     "name": "stdout",
     "output_type": "stream",
     "text": [
      "For mcal 2\n"
     ]
    },
    {
     "data": {
      "text/latex": [
       "$\\displaystyle R=$"
      ],
      "text/plain": [
       "<IPython.core.display.Math object>"
      ]
     },
     "metadata": {},
     "output_type": "display_data"
    },
    {
     "name": "stdout",
     "output_type": "stream",
     "text": [
      "[[7.769e-01 -1.044e-05]\n",
      " [-1.955e-04 7.828e-01]]\n"
     ]
    },
    {
     "data": {
      "text/latex": [
       "$\\displaystyle R'=$"
      ],
      "text/plain": [
       "<IPython.core.display.Math object>"
      ]
     },
     "metadata": {},
     "output_type": "display_data"
    },
    {
     "name": "stdout",
     "output_type": "stream",
     "text": [
      "[[8.732e-01 2.079e+01]\n",
      " [1.138e-01 2.710e+00]]\n",
      "\n",
      "\n",
      "For mcal 3\n"
     ]
    },
    {
     "data": {
      "text/latex": [
       "$\\displaystyle R=$"
      ],
      "text/plain": [
       "<IPython.core.display.Math object>"
      ]
     },
     "metadata": {},
     "output_type": "display_data"
    },
    {
     "name": "stdout",
     "output_type": "stream",
     "text": [
      "[[7.706e-01 1.002e-03]\n",
      " [5.519e-04 7.770e-01]]\n"
     ]
    },
    {
     "data": {
      "text/latex": [
       "$\\displaystyle R'=$"
      ],
      "text/plain": [
       "<IPython.core.display.Math object>"
      ]
     },
     "metadata": {},
     "output_type": "display_data"
    },
    {
     "name": "stdout",
     "output_type": "stream",
     "text": [
      "[[8.476e-01 2.018e+01]\n",
      " [9.342e-02 2.224e+00]]\n",
      "\n",
      "\n",
      "For mcal 4\n"
     ]
    },
    {
     "data": {
      "text/latex": [
       "$\\displaystyle R=$"
      ],
      "text/plain": [
       "<IPython.core.display.Math object>"
      ]
     },
     "metadata": {},
     "output_type": "display_data"
    },
    {
     "name": "stdout",
     "output_type": "stream",
     "text": [
      "[[7.985e-01 -1.518e-03]\n",
      " [9.956e-04 8.004e-01]]\n"
     ]
    },
    {
     "data": {
      "text/latex": [
       "$\\displaystyle R'=$"
      ],
      "text/plain": [
       "<IPython.core.display.Math object>"
      ]
     },
     "metadata": {},
     "output_type": "display_data"
    },
    {
     "name": "stdout",
     "output_type": "stream",
     "text": [
      "[[9.397e-01 5.954e+00]\n",
      " [2.031e-01 1.287e+00]]\n",
      "\n",
      "\n",
      "For mcal 5\n"
     ]
    },
    {
     "data": {
      "text/latex": [
       "$\\displaystyle R=$"
      ],
      "text/plain": [
       "<IPython.core.display.Math object>"
      ]
     },
     "metadata": {},
     "output_type": "display_data"
    },
    {
     "name": "stdout",
     "output_type": "stream",
     "text": [
      "[[7.916e-01 1.613e-03]\n",
      " [2.058e-03 7.959e-01]]\n"
     ]
    },
    {
     "data": {
      "text/latex": [
       "$\\displaystyle R'=$"
      ],
      "text/plain": [
       "<IPython.core.display.Math object>"
      ]
     },
     "metadata": {},
     "output_type": "display_data"
    },
    {
     "name": "stdout",
     "output_type": "stream",
     "text": [
      "[[8.985e-01 5.693e+00]\n",
      " [1.886e-01 1.195e+00]]\n",
      "\n",
      "\n"
     ]
    }
   ],
   "source": [
    "print_R(*get_R(mcal_df_list))"
   ]
  },
  {
   "cell_type": "markdown",
   "metadata": {},
   "source": [
    "### R' for positive g catagories"
   ]
  },
  {
   "cell_type": "code",
   "execution_count": 44,
   "metadata": {},
   "outputs": [
    {
     "name": "stdout",
     "output_type": "stream",
     "text": [
      "For mcal 2\n"
     ]
    },
    {
     "data": {
      "text/latex": [
       "$\\displaystyle R=$"
      ],
      "text/plain": [
       "<IPython.core.display.Math object>"
      ]
     },
     "metadata": {},
     "output_type": "display_data"
    },
    {
     "name": "stdout",
     "output_type": "stream",
     "text": [
      "[[7.738e-01 -6.377e-02]\n",
      " [-6.216e-02 7.828e-01]]\n"
     ]
    },
    {
     "data": {
      "text/latex": [
       "$\\displaystyle R'=$"
      ],
      "text/plain": [
       "<IPython.core.display.Math object>"
      ]
     },
     "metadata": {},
     "output_type": "display_data"
    },
    {
     "name": "stdout",
     "output_type": "stream",
     "text": [
      "[[7.177e-01 7.467e-01]\n",
      " [6.844e-01 7.120e-01]]\n",
      "\n",
      "\n",
      "For mcal 3\n"
     ]
    },
    {
     "data": {
      "text/latex": [
       "$\\displaystyle R=$"
      ],
      "text/plain": [
       "<IPython.core.display.Math object>"
      ]
     },
     "metadata": {},
     "output_type": "display_data"
    },
    {
     "name": "stdout",
     "output_type": "stream",
     "text": [
      "[[7.675e-01 -6.231e-02]\n",
      " [-6.083e-02 7.772e-01]]\n"
     ]
    },
    {
     "data": {
      "text/latex": [
       "$\\displaystyle R'=$"
      ],
      "text/plain": [
       "<IPython.core.display.Math object>"
      ]
     },
     "metadata": {},
     "output_type": "display_data"
    },
    {
     "name": "stdout",
     "output_type": "stream",
     "text": [
      "[[7.167e-01 7.457e-01]\n",
      " [6.822e-01 7.097e-01]]\n",
      "\n",
      "\n",
      "For mcal 4\n"
     ]
    },
    {
     "data": {
      "text/latex": [
       "$\\displaystyle R=$"
      ],
      "text/plain": [
       "<IPython.core.display.Math object>"
      ]
     },
     "metadata": {},
     "output_type": "display_data"
    },
    {
     "name": "stdout",
     "output_type": "stream",
     "text": [
      "[[7.873e-01 -5.769e-02]\n",
      " [-5.774e-02 7.958e-01]]\n"
     ]
    },
    {
     "data": {
      "text/latex": [
       "$\\displaystyle R'=$"
      ],
      "text/plain": [
       "<IPython.core.display.Math object>"
      ]
     },
     "metadata": {},
     "output_type": "display_data"
    },
    {
     "name": "stdout",
     "output_type": "stream",
     "text": [
      "[[7.256e-01 7.599e-01]\n",
      " [6.865e-01 7.190e-01]]\n",
      "\n",
      "\n",
      "For mcal 5\n"
     ]
    },
    {
     "data": {
      "text/latex": [
       "$\\displaystyle R=$"
      ],
      "text/plain": [
       "<IPython.core.display.Math object>"
      ]
     },
     "metadata": {},
     "output_type": "display_data"
    },
    {
     "name": "stdout",
     "output_type": "stream",
     "text": [
      "[[7.873e-01 -5.769e-02]\n",
      " [-5.774e-02 7.958e-01]]\n"
     ]
    },
    {
     "data": {
      "text/latex": [
       "$\\displaystyle R'=$"
      ],
      "text/plain": [
       "<IPython.core.display.Math object>"
      ]
     },
     "metadata": {},
     "output_type": "display_data"
    },
    {
     "name": "stdout",
     "output_type": "stream",
     "text": [
      "[[7.256e-01 7.599e-01]\n",
      " [6.865e-01 7.190e-01]]\n",
      "\n",
      "\n"
     ]
    }
   ],
   "source": [
    "print_R(*get_R(mcal_df_list_positive))"
   ]
  },
  {
   "cell_type": "markdown",
   "metadata": {},
   "source": [
    "### R' for negative g catagories"
   ]
  },
  {
   "cell_type": "code",
   "execution_count": 45,
   "metadata": {},
   "outputs": [
    {
     "name": "stdout",
     "output_type": "stream",
     "text": [
      "For mcal 2\n"
     ]
    },
    {
     "data": {
      "text/latex": [
       "$\\displaystyle R=$"
      ],
      "text/plain": [
       "<IPython.core.display.Math object>"
      ]
     },
     "metadata": {},
     "output_type": "display_data"
    },
    {
     "name": "stdout",
     "output_type": "stream",
     "text": [
      "[[7.748e-01 -5.918e-02]\n",
      " [-5.926e-02 7.802e-01]]\n"
     ]
    },
    {
     "data": {
      "text/latex": [
       "$\\displaystyle R'=$"
      ],
      "text/plain": [
       "<IPython.core.display.Math object>"
      ]
     },
     "metadata": {},
     "output_type": "display_data"
    },
    {
     "name": "stdout",
     "output_type": "stream",
     "text": [
      "[[7.100e-01 7.247e-01]\n",
      " [6.932e-01 7.076e-01]]\n",
      "\n",
      "\n",
      "For mcal 3\n"
     ]
    },
    {
     "data": {
      "text/latex": [
       "$\\displaystyle R=$"
      ],
      "text/plain": [
       "<IPython.core.display.Math object>"
      ]
     },
     "metadata": {},
     "output_type": "display_data"
    },
    {
     "name": "stdout",
     "output_type": "stream",
     "text": [
      "[[7.699e-01 -5.719e-02]\n",
      " [-5.868e-02 7.745e-01]]\n"
     ]
    },
    {
     "data": {
      "text/latex": [
       "$\\displaystyle R'=$"
      ],
      "text/plain": [
       "<IPython.core.display.Math object>"
      ]
     },
     "metadata": {},
     "output_type": "display_data"
    },
    {
     "name": "stdout",
     "output_type": "stream",
     "text": [
      "[[7.074e-01 7.221e-01]\n",
      " [6.918e-01 7.062e-01]]\n",
      "\n",
      "\n",
      "For mcal 4\n"
     ]
    },
    {
     "data": {
      "text/latex": [
       "$\\displaystyle R=$"
      ],
      "text/plain": [
       "<IPython.core.display.Math object>"
      ]
     },
     "metadata": {},
     "output_type": "display_data"
    },
    {
     "name": "stdout",
     "output_type": "stream",
     "text": [
      "[[7.893e-01 -5.676e-02]\n",
      " [-5.743e-02 7.949e-01]]\n"
     ]
    },
    {
     "data": {
      "text/latex": [
       "$\\displaystyle R'=$"
      ],
      "text/plain": [
       "<IPython.core.display.Math object>"
      ]
     },
     "metadata": {},
     "output_type": "display_data"
    },
    {
     "name": "stdout",
     "output_type": "stream",
     "text": [
      "[[7.168e-01 7.344e-01]\n",
      " [6.980e-01 7.152e-01]]\n",
      "\n",
      "\n",
      "For mcal 5\n"
     ]
    },
    {
     "data": {
      "text/latex": [
       "$\\displaystyle R=$"
      ],
      "text/plain": [
       "<IPython.core.display.Math object>"
      ]
     },
     "metadata": {},
     "output_type": "display_data"
    },
    {
     "name": "stdout",
     "output_type": "stream",
     "text": [
      "[[7.893e-01 -5.676e-02]\n",
      " [-5.743e-02 7.949e-01]]\n"
     ]
    },
    {
     "data": {
      "text/latex": [
       "$\\displaystyle R'=$"
      ],
      "text/plain": [
       "<IPython.core.display.Math object>"
      ]
     },
     "metadata": {},
     "output_type": "display_data"
    },
    {
     "name": "stdout",
     "output_type": "stream",
     "text": [
      "[[7.168e-01 7.344e-01]\n",
      " [6.980e-01 7.152e-01]]\n",
      "\n",
      "\n"
     ]
    }
   ],
   "source": [
    "print_R(*get_R(mcal_df_list_negative))"
   ]
  },
  {
   "cell_type": "markdown",
   "metadata": {},
   "source": [
    "# Calculate g' with R matrix given in the mcal catalogs"
   ]
  },
  {
   "cell_type": "markdown",
   "metadata": {},
   "source": [
    "We calculate g' (the shear after mcal correction) with the equation $$g'_{i}=\\frac{<e_i>}{R_{ii}}$$"
   ]
  },
  {
   "cell_type": "code",
   "execution_count": 46,
   "metadata": {},
   "outputs": [],
   "source": [
    "def get_g_prime(mcal_df_list):\n",
    "\n",
    "    g_prime_list=[None]*4\n",
    "    \n",
    "    for i,catalog in enumerate(mcal_df_list):\n",
    "        true_catalog=photdf.reindex(catalog.index)\n",
    "\n",
    "        e1=catalog['e_1'].mean()\n",
    "        e2=catalog['e_2'].mean()\n",
    "        R11=catalog['R11'].mean()\n",
    "        R22=catalog['R22'].mean()\n",
    "\n",
    "        g_prime_list[i]=[e1/R11,e2/R22]\n",
    "    return(g_prime_list)"
   ]
  },
  {
   "cell_type": "code",
   "execution_count": 57,
   "metadata": {},
   "outputs": [],
   "source": [
    "def print_g_prime(g_prime_list):\n",
    "    for i,g_prime in enumerate(g_prime_list):\n",
    "        print (\"For mcal {}\".format(i+2))\n",
    "        display(Math('g\\'='))\n",
    "        print(np.matrix(g_prime))\n",
    "        print('\\n')"
   ]
  },
  {
   "cell_type": "markdown",
   "metadata": {},
   "source": [
    "### g' for positive g catagories"
   ]
  },
  {
   "cell_type": "code",
   "execution_count": 58,
   "metadata": {},
   "outputs": [
    {
     "name": "stdout",
     "output_type": "stream",
     "text": [
      "For mcal 2\n"
     ]
    },
    {
     "data": {
      "text/latex": [
       "$\\displaystyle g'=$"
      ],
      "text/plain": [
       "<IPython.core.display.Math object>"
      ]
     },
     "metadata": {},
     "output_type": "display_data"
    },
    {
     "name": "stdout",
     "output_type": "stream",
     "text": [
      "[[1.904e-01 1.795e-01]]\n",
      "\n",
      "\n",
      "For mcal 3\n"
     ]
    },
    {
     "data": {
      "text/latex": [
       "$\\displaystyle g'=$"
      ],
      "text/plain": [
       "<IPython.core.display.Math object>"
      ]
     },
     "metadata": {},
     "output_type": "display_data"
    },
    {
     "name": "stdout",
     "output_type": "stream",
     "text": [
      "[[1.917e-01 1.802e-01]]\n",
      "\n",
      "\n",
      "For mcal 4\n"
     ]
    },
    {
     "data": {
      "text/latex": [
       "$\\displaystyle g'=$"
      ],
      "text/plain": [
       "<IPython.core.display.Math object>"
      ]
     },
     "metadata": {},
     "output_type": "display_data"
    },
    {
     "name": "stdout",
     "output_type": "stream",
     "text": [
      "[[1.878e-01 1.758e-01]]\n",
      "\n",
      "\n",
      "For mcal 5\n"
     ]
    },
    {
     "data": {
      "text/latex": [
       "$\\displaystyle g'=$"
      ],
      "text/plain": [
       "<IPython.core.display.Math object>"
      ]
     },
     "metadata": {},
     "output_type": "display_data"
    },
    {
     "name": "stdout",
     "output_type": "stream",
     "text": [
      "[[1.878e-01 1.758e-01]]\n",
      "\n",
      "\n"
     ]
    }
   ],
   "source": [
    "print_g_prime(get_g_prime(mcal_df_list_positive))"
   ]
  },
  {
   "cell_type": "markdown",
   "metadata": {},
   "source": [
    "### g' for negative g catagories"
   ]
  },
  {
   "cell_type": "code",
   "execution_count": 59,
   "metadata": {},
   "outputs": [
    {
     "name": "stdout",
     "output_type": "stream",
     "text": [
      "For mcal 2\n"
     ]
    },
    {
     "data": {
      "text/latex": [
       "$\\displaystyle g'=$"
      ],
      "text/plain": [
       "<IPython.core.display.Math object>"
      ]
     },
     "metadata": {},
     "output_type": "display_data"
    },
    {
     "name": "stdout",
     "output_type": "stream",
     "text": [
      "[[1.904e-01 1.795e-01]]\n",
      "\n",
      "\n",
      "For mcal 3\n"
     ]
    },
    {
     "data": {
      "text/latex": [
       "$\\displaystyle g'=$"
      ],
      "text/plain": [
       "<IPython.core.display.Math object>"
      ]
     },
     "metadata": {},
     "output_type": "display_data"
    },
    {
     "name": "stdout",
     "output_type": "stream",
     "text": [
      "[[1.917e-01 1.802e-01]]\n",
      "\n",
      "\n",
      "For mcal 4\n"
     ]
    },
    {
     "data": {
      "text/latex": [
       "$\\displaystyle g'=$"
      ],
      "text/plain": [
       "<IPython.core.display.Math object>"
      ]
     },
     "metadata": {},
     "output_type": "display_data"
    },
    {
     "name": "stdout",
     "output_type": "stream",
     "text": [
      "[[1.878e-01 1.758e-01]]\n",
      "\n",
      "\n",
      "For mcal 5\n"
     ]
    },
    {
     "data": {
      "text/latex": [
       "$\\displaystyle g'=$"
      ],
      "text/plain": [
       "<IPython.core.display.Math object>"
      ]
     },
     "metadata": {},
     "output_type": "display_data"
    },
    {
     "name": "stdout",
     "output_type": "stream",
     "text": [
      "[[1.878e-01 1.758e-01]]\n",
      "\n",
      "\n"
     ]
    }
   ],
   "source": [
    "print_g_prime(get_g_prime(mcal_df_list_positive))"
   ]
  },
  {
   "cell_type": "markdown",
   "metadata": {},
   "source": [
    "#TODO\n",
    "calculate error"
   ]
  }
 ],
 "metadata": {
  "kernelspec": {
   "display_name": "Python 3",
   "language": "python",
   "name": "python3"
  },
  "language_info": {
   "codemirror_mode": {
    "name": "ipython",
    "version": 3
   },
   "file_extension": ".py",
   "mimetype": "text/x-python",
   "name": "python",
   "nbconvert_exporter": "python",
   "pygments_lexer": "ipython3",
   "version": "3.7.3"
  },
  "pycharm": {
   "stem_cell": {
    "cell_type": "raw",
    "metadata": {
     "collapsed": false
    },
    "source": []
   }
  }
 },
 "nbformat": 4,
 "nbformat_minor": 2
}
