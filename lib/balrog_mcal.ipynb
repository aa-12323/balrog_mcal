{
 "cells": [
  {
   "cell_type": "markdown",
   "metadata": {},
   "source": [
    "# Import and Load Data"
   ]
  },
  {
   "cell_type": "code",
   "execution_count": 70,
   "metadata": {},
   "outputs": [],
   "source": [
    "import numpy as np\n",
    "import pandas as pd\n",
    "from pandas import Series,DataFrame\n",
    "from astropy.table import Table\n",
    "from astropy.io import fits\n",
    "import matplotlib.pyplot as plt\n",
    "import h5py\n",
    "from tqdm import tqdm\n",
    "from IPython.display import display, Math\n",
    "\n",
    "## modules I am still trying to learn how to use\n",
    "import numexpr\n",
    "import bottleneck\n",
    "\n",
    "##\n",
    "pd.set_option('display.float_format', lambda x: '%.3e' % x)\n",
    "np.set_printoptions(formatter={'all':lambda x: '%.3e'% x})"
   ]
  },
  {
   "cell_type": "markdown",
   "metadata": {},
   "source": [
    "## Functions"
   ]
  },
  {
   "cell_type": "code",
   "execution_count": 2,
   "metadata": {},
   "outputs": [],
   "source": [
    "## function to extract fits and hdf data\n",
    "def load_true():\n",
    "    \"\"\"This is a function that takes fits and hdf data and return them to pandas dataframe\"\"\"\n",
    "\n",
    "    # detect = fits.open('/lsst/troxel/balrog/balrog_detection_catalog-v1.2.fits')[-1]\n",
    "    phot   = fits.open('/lsst/troxel/balrog/balrog_matched_catalog_flatten.fits')[1]\n",
    "    id_balrog = fits.open('/lsst/troxel/balrog/balrog_mcal_bal_ids_v1.2.fits')\n",
    "\n",
    "    #load true catalogs in pandas\n",
    "    # detectp_table=Table.read('/lsst/troxel/balrog/balrog_detection_catalog-v1.2.fits').to_pandas()\n",
    "    photdf=Table.read('/lsst/troxel/balrog/balrog_matched_catalog_flatten.fits').to_pandas()\n",
    "    id_balrogdf = Table.read('/lsst/troxel/balrog/balrog_mcal_bal_ids_v1.2.fits').to_pandas()\n",
    "    \n",
    "    photdf.drop_duplicates(['bal_id'],inplace=True)\n",
    "    \n",
    "    photdf.set_index('bal_id',inplace=True,verify_integrity=True)\n",
    "\n",
    "    return(photdf)\n",
    "\n",
    "\n",
    "def load_mcal():\n",
    "    #all objects riz\n",
    "#     mcal0= h5py.File('/lsst/troxel/balrog/balrog_mcal_stack-y3v02-0-riz-mcal-v1.2.h5','r')['catalog']['unsheared'] #with neighbor\n",
    "#     mcal1= h5py.File('/lsst/troxel/balrog/balrog_mcal_stack-y3v02-0-riz-noNB-mcal-v1.2.h5','r')['catalog']['unsheared'] #no neighbor\n",
    "    ##only matched balrog object riz\n",
    "    mcal2=h5py.File('/lsst/troxel/balrog/balrog_mcal_stack-y3v02-0-riz-mcal-1.3.h5','r')['catalog']['unsheared'] #with neighbor\n",
    "    mcal3=h5py.File('/lsst/troxel/balrog/balrog_mcal_stack-y3v02-0-riz-noNB-mcal-1.3.h5','r')['catalog']['unsheared'] #no neighbor\n",
    "    #only matched balrog object griz\n",
    "    mcal4=h5py.File('/lsst/troxel/balrog/balrog_mcal_stack-y3v02-0-griz-mcal-1.3.h5','r')['catalog']['unsheared'] #with neighbor\n",
    "    mcal5=h5py.File('/lsst/troxel/balrog/balrog_mcal_stack-y3v02-0-griz-noNB-mcal-1.3.h5','r')['catalog']['unsheared'] #no neighbor\n",
    "    \n",
    "    mcal_list=[mcal2,mcal3,mcal4,mcal5]\n",
    "    return (mcal_list)"
   ]
  },
  {
   "cell_type": "code",
   "execution_count": 3,
   "metadata": {},
   "outputs": [],
   "source": [
    "## function to convert \n",
    "def get_df_list(mcal_list):\n",
    "    mcal_df_list =[]\n",
    "    for catalog in mcal_list:\n",
    "        local_df=pd.DataFrame()\n",
    "        for key in catalog.keys():\n",
    "            local_df[key]=np.array(catalog[key][:]).byteswap().newbyteorder()\n",
    "        if 'bal_id' in local_df.keys():\n",
    "            local_df.set_index('bal_id',inplace=True,verify_integrity=True)\n",
    "        mcal_df_list.append(local_df)\n",
    "    return(mcal_df_list)"
   ]
  },
  {
   "cell_type": "code",
   "execution_count": 4,
   "metadata": {},
   "outputs": [],
   "source": [
    "photdf=load_true()"
   ]
  },
  {
   "cell_type": "code",
   "execution_count": 5,
   "metadata": {},
   "outputs": [],
   "source": [
    "mcal_df_list=get_df_list(load_mcal())"
   ]
  },
  {
   "cell_type": "markdown",
   "metadata": {},
   "source": [
    "## List of dtypes in mcal"
   ]
  },
  {
   "cell_type": "code",
   "execution_count": 6,
   "metadata": {},
   "outputs": [
    {
     "data": {
      "text/plain": [
       "R11                    >f8\n",
       "R12                    >f8\n",
       "R21                    >f8\n",
       "R22                    >f8\n",
       "T                  float64\n",
       "T_err              float64\n",
       "coadd_object_id      int64\n",
       "covmat_0_1         float64\n",
       "covmat_1_1         float64\n",
       "covmat_2_2         float64\n",
       "dec                float64\n",
       "e_1                float64\n",
       "e_2                float64\n",
       "flags                int32\n",
       "flux_err_g         float64\n",
       "flux_err_i         float64\n",
       "flux_err_r         float64\n",
       "flux_err_z         float64\n",
       "flux_g             float64\n",
       "flux_i             float64\n",
       "flux_r             float64\n",
       "flux_z             float64\n",
       "mask_frac          float64\n",
       "mcal_psf_T         float64\n",
       "mcal_psf_e1        float64\n",
       "mcal_psf_e2        float64\n",
       "nimage_tot_g         int32\n",
       "nimage_tot_i         int32\n",
       "nimage_tot_r         int32\n",
       "nimage_tot_z         int32\n",
       "nimage_use_g         int32\n",
       "nimage_use_i         int32\n",
       "nimage_use_r         int32\n",
       "nimage_use_z         int32\n",
       "psf_T              float64\n",
       "psf_e1             float64\n",
       "psf_e2             float64\n",
       "ra                 float64\n",
       "size_ratio         float64\n",
       "snr                float64\n",
       "dtype: object"
      ]
     },
     "execution_count": 6,
     "metadata": {},
     "output_type": "execute_result"
    }
   ],
   "source": [
    "mcal_df_list[2].dtypes"
   ]
  },
  {
   "cell_type": "markdown",
   "metadata": {},
   "source": [
    "## List of dtypes in phot"
   ]
  },
  {
   "cell_type": "code",
   "execution_count": 7,
   "metadata": {},
   "outputs": [
    {
     "data": {
      "text/plain": [
       "true_id                    int32\n",
       "true_number                int32\n",
       "true_flags                 int32\n",
       "true_obj_flags             int32\n",
       "true_cm_mof_flags          int32\n",
       "true_ra                  float64\n",
       "true_dec                 float64\n",
       "true_cm_T                float64\n",
       "true_cm_T_err            float64\n",
       "true_cm_s2n_r            float64\n",
       "true_cm_flags              int32\n",
       "true_cm_fracdev          float64\n",
       "true_cm_TdByTe           float32\n",
       "true_in_VHS_footprint      int32\n",
       "true_mag_auto_det        float32\n",
       "true_det_number            int32\n",
       "true_tilename             object\n",
       "meas_id                    int64\n",
       "meas_number                int32\n",
       "meas_ra                  float64\n",
       "meas_dec                 float64\n",
       "meas_fofid                 int64\n",
       "meas_flags                 int32\n",
       "meas_time_last_fit       float64\n",
       "meas_box_size              int16\n",
       "meas_obj_flags             int32\n",
       "meas_mask_frac           float64\n",
       "meas_psfrec_T            float64\n",
       "meas_cm_flags              int32\n",
       "meas_cm_T                float64\n",
       "                          ...   \n",
       "meas_nimage_use_i          int32\n",
       "meas_nimage_use_z          int32\n",
       "meas_psfrec_g_1          float64\n",
       "meas_psfrec_g_2          float64\n",
       "meas_cm_flux_cov_gg      float64\n",
       "meas_cm_flux_cov_rr      float64\n",
       "meas_cm_flux_cov_ii      float64\n",
       "meas_cm_flux_cov_zz      float64\n",
       "meas_cm_flux_g           float64\n",
       "meas_cm_flux_r           float64\n",
       "meas_cm_flux_i           float64\n",
       "meas_cm_flux_z           float64\n",
       "meas_cm_flux_s2n_g       float64\n",
       "meas_cm_flux_s2n_r       float64\n",
       "meas_cm_flux_s2n_i       float64\n",
       "meas_cm_flux_s2n_z       float64\n",
       "meas_cm_mag_g            float64\n",
       "meas_cm_mag_r            float64\n",
       "meas_cm_mag_i            float64\n",
       "meas_cm_mag_z            float64\n",
       "meas_cm_logsb_g          float64\n",
       "meas_cm_logsb_r          float64\n",
       "meas_cm_logsb_i          float64\n",
       "meas_cm_logsb_z          float64\n",
       "meas_cm_g_1              float64\n",
       "meas_cm_g_2              float64\n",
       "meas_cm_g_cov_1_1        float64\n",
       "meas_cm_g_cov_1_2        float64\n",
       "meas_cm_g_cov_2_1        float64\n",
       "meas_cm_g_cov_2_2        float64\n",
       "Length: 116, dtype: object"
      ]
     },
     "execution_count": 7,
     "metadata": {},
     "output_type": "execute_result"
    }
   ],
   "source": [
    "photdf.dtypes"
   ]
  },
  {
   "cell_type": "markdown",
   "metadata": {},
   "source": [
    "## sample of mcal data"
   ]
  },
  {
   "cell_type": "code",
   "execution_count": 52,
   "metadata": {},
   "outputs": [
    {
     "data": {
      "text/html": [
       "<div>\n",
       "<style scoped>\n",
       "    .dataframe tbody tr th:only-of-type {\n",
       "        vertical-align: middle;\n",
       "    }\n",
       "\n",
       "    .dataframe tbody tr th {\n",
       "        vertical-align: top;\n",
       "    }\n",
       "\n",
       "    .dataframe thead th {\n",
       "        text-align: right;\n",
       "    }\n",
       "</style>\n",
       "<table border=\"1\" class=\"dataframe\">\n",
       "  <thead>\n",
       "    <tr style=\"text-align: right;\">\n",
       "      <th></th>\n",
       "      <th>R11</th>\n",
       "      <th>R12</th>\n",
       "      <th>R21</th>\n",
       "      <th>R22</th>\n",
       "      <th>T</th>\n",
       "      <th>T_err</th>\n",
       "      <th>coadd_object_id</th>\n",
       "      <th>covmat_0_1</th>\n",
       "      <th>covmat_1_1</th>\n",
       "      <th>covmat_2_2</th>\n",
       "      <th>...</th>\n",
       "      <th>nimage_use_g</th>\n",
       "      <th>nimage_use_i</th>\n",
       "      <th>nimage_use_r</th>\n",
       "      <th>nimage_use_z</th>\n",
       "      <th>psf_T</th>\n",
       "      <th>psf_e1</th>\n",
       "      <th>psf_e2</th>\n",
       "      <th>ra</th>\n",
       "      <th>size_ratio</th>\n",
       "      <th>snr</th>\n",
       "    </tr>\n",
       "    <tr>\n",
       "      <th>bal_id</th>\n",
       "      <th></th>\n",
       "      <th></th>\n",
       "      <th></th>\n",
       "      <th></th>\n",
       "      <th></th>\n",
       "      <th></th>\n",
       "      <th></th>\n",
       "      <th></th>\n",
       "      <th></th>\n",
       "      <th></th>\n",
       "      <th></th>\n",
       "      <th></th>\n",
       "      <th></th>\n",
       "      <th></th>\n",
       "      <th></th>\n",
       "      <th></th>\n",
       "      <th></th>\n",
       "      <th></th>\n",
       "      <th></th>\n",
       "      <th></th>\n",
       "      <th></th>\n",
       "    </tr>\n",
       "  </thead>\n",
       "  <tbody>\n",
       "    <tr>\n",
       "      <th>100002002078</th>\n",
       "      <td>7.292e-01</td>\n",
       "      <td>-9.135e-02</td>\n",
       "      <td>-1.480e-01</td>\n",
       "      <td>8.401e-01</td>\n",
       "      <td>6.269e-01</td>\n",
       "      <td>2.868e-02</td>\n",
       "      <td>1240</td>\n",
       "      <td>-2.624e-06</td>\n",
       "      <td>5.007e-04</td>\n",
       "      <td>4.912e-04</td>\n",
       "      <td>...</td>\n",
       "      <td>2</td>\n",
       "      <td>3</td>\n",
       "      <td>3</td>\n",
       "      <td>2</td>\n",
       "      <td>6.476e-01</td>\n",
       "      <td>4.030e-03</td>\n",
       "      <td>1.082e-02</td>\n",
       "      <td>7.408e-01</td>\n",
       "      <td>9.681e-01</td>\n",
       "      <td>3.844e+01</td>\n",
       "    </tr>\n",
       "    <tr>\n",
       "      <th>100002041238</th>\n",
       "      <td>8.345e-01</td>\n",
       "      <td>1.588e-06</td>\n",
       "      <td>2.283e-03</td>\n",
       "      <td>8.298e-01</td>\n",
       "      <td>1.169e+00</td>\n",
       "      <td>1.456e-03</td>\n",
       "      <td>29227</td>\n",
       "      <td>-1.264e-10</td>\n",
       "      <td>3.840e-07</td>\n",
       "      <td>3.837e-07</td>\n",
       "      <td>...</td>\n",
       "      <td>5</td>\n",
       "      <td>3</td>\n",
       "      <td>4</td>\n",
       "      <td>6</td>\n",
       "      <td>5.310e-01</td>\n",
       "      <td>-9.231e-03</td>\n",
       "      <td>2.081e-02</td>\n",
       "      <td>3.970e-01</td>\n",
       "      <td>2.202e+00</td>\n",
       "      <td>2.464e+03</td>\n",
       "    </tr>\n",
       "    <tr>\n",
       "      <th>100002042490</th>\n",
       "      <td>1.808e-01</td>\n",
       "      <td>-5.235e-01</td>\n",
       "      <td>6.396e-03</td>\n",
       "      <td>8.761e-01</td>\n",
       "      <td>5.687e-01</td>\n",
       "      <td>6.062e-02</td>\n",
       "      <td>23493</td>\n",
       "      <td>3.710e-05</td>\n",
       "      <td>1.247e-03</td>\n",
       "      <td>1.079e-03</td>\n",
       "      <td>...</td>\n",
       "      <td>2</td>\n",
       "      <td>4</td>\n",
       "      <td>2</td>\n",
       "      <td>4</td>\n",
       "      <td>4.382e-01</td>\n",
       "      <td>-7.386e-03</td>\n",
       "      <td>2.014e-02</td>\n",
       "      <td>6.565e-01</td>\n",
       "      <td>1.298e+00</td>\n",
       "      <td>2.096e+01</td>\n",
       "    </tr>\n",
       "    <tr>\n",
       "      <th>100002042496</th>\n",
       "      <td>8.733e-01</td>\n",
       "      <td>-4.114e-02</td>\n",
       "      <td>-3.950e-02</td>\n",
       "      <td>1.066e+00</td>\n",
       "      <td>5.280e+00</td>\n",
       "      <td>7.866e-03</td>\n",
       "      <td>11311</td>\n",
       "      <td>4.360e-10</td>\n",
       "      <td>2.613e-07</td>\n",
       "      <td>2.597e-07</td>\n",
       "      <td>...</td>\n",
       "      <td>2</td>\n",
       "      <td>3</td>\n",
       "      <td>3</td>\n",
       "      <td>3</td>\n",
       "      <td>5.333e-01</td>\n",
       "      <td>-2.135e-02</td>\n",
       "      <td>2.057e-02</td>\n",
       "      <td>6.602e-01</td>\n",
       "      <td>9.901e+00</td>\n",
       "      <td>8.942e+02</td>\n",
       "    </tr>\n",
       "    <tr>\n",
       "      <th>100003037062</th>\n",
       "      <td>2.542e-01</td>\n",
       "      <td>1.004e+00</td>\n",
       "      <td>3.476e-01</td>\n",
       "      <td>1.686e+00</td>\n",
       "      <td>4.365e-01</td>\n",
       "      <td>6.705e-02</td>\n",
       "      <td>33370</td>\n",
       "      <td>-2.213e-04</td>\n",
       "      <td>3.516e-03</td>\n",
       "      <td>3.329e-03</td>\n",
       "      <td>...</td>\n",
       "      <td>3</td>\n",
       "      <td>3</td>\n",
       "      <td>4</td>\n",
       "      <td>5</td>\n",
       "      <td>5.003e-01</td>\n",
       "      <td>-6.316e-03</td>\n",
       "      <td>-1.852e-02</td>\n",
       "      <td>8.960e-01</td>\n",
       "      <td>8.724e-01</td>\n",
       "      <td>1.237e+01</td>\n",
       "    </tr>\n",
       "  </tbody>\n",
       "</table>\n",
       "<p>5 rows × 40 columns</p>\n",
       "</div>"
      ],
      "text/plain": [
       "                   R11        R12        R21       R22         T     T_err  \\\n",
       "bal_id                                                                       \n",
       "100002002078 7.292e-01 -9.135e-02 -1.480e-01 8.401e-01 6.269e-01 2.868e-02   \n",
       "100002041238 8.345e-01  1.588e-06  2.283e-03 8.298e-01 1.169e+00 1.456e-03   \n",
       "100002042490 1.808e-01 -5.235e-01  6.396e-03 8.761e-01 5.687e-01 6.062e-02   \n",
       "100002042496 8.733e-01 -4.114e-02 -3.950e-02 1.066e+00 5.280e+00 7.866e-03   \n",
       "100003037062 2.542e-01  1.004e+00  3.476e-01 1.686e+00 4.365e-01 6.705e-02   \n",
       "\n",
       "              coadd_object_id  covmat_0_1  covmat_1_1  covmat_2_2  ...  \\\n",
       "bal_id                                                             ...   \n",
       "100002002078             1240  -2.624e-06   5.007e-04   4.912e-04  ...   \n",
       "100002041238            29227  -1.264e-10   3.840e-07   3.837e-07  ...   \n",
       "100002042490            23493   3.710e-05   1.247e-03   1.079e-03  ...   \n",
       "100002042496            11311   4.360e-10   2.613e-07   2.597e-07  ...   \n",
       "100003037062            33370  -2.213e-04   3.516e-03   3.329e-03  ...   \n",
       "\n",
       "              nimage_use_g  nimage_use_i  nimage_use_r  nimage_use_z  \\\n",
       "bal_id                                                                 \n",
       "100002002078             2             3             3             2   \n",
       "100002041238             5             3             4             6   \n",
       "100002042490             2             4             2             4   \n",
       "100002042496             2             3             3             3   \n",
       "100003037062             3             3             4             5   \n",
       "\n",
       "                 psf_T     psf_e1     psf_e2        ra  size_ratio       snr  \n",
       "bal_id                                                                        \n",
       "100002002078 6.476e-01  4.030e-03  1.082e-02 7.408e-01   9.681e-01 3.844e+01  \n",
       "100002041238 5.310e-01 -9.231e-03  2.081e-02 3.970e-01   2.202e+00 2.464e+03  \n",
       "100002042490 4.382e-01 -7.386e-03  2.014e-02 6.565e-01   1.298e+00 2.096e+01  \n",
       "100002042496 5.333e-01 -2.135e-02  2.057e-02 6.602e-01   9.901e+00 8.942e+02  \n",
       "100003037062 5.003e-01 -6.316e-03 -1.852e-02 8.960e-01   8.724e-01 1.237e+01  \n",
       "\n",
       "[5 rows x 40 columns]"
      ]
     },
     "execution_count": 52,
     "metadata": {},
     "output_type": "execute_result"
    }
   ],
   "source": [
    "mcal_df_list[3].head()"
   ]
  },
  {
   "cell_type": "markdown",
   "metadata": {},
   "source": [
    "# Data manipulation"
   ]
  },
  {
   "cell_type": "markdown",
   "metadata": {},
   "source": [
    "## Constants"
   ]
  },
  {
   "cell_type": "code",
   "execution_count": 9,
   "metadata": {
    "pycharm": {
     "is_executing": false
    }
   },
   "outputs": [],
   "source": [
    "SNR_CUT = 10\n",
    "SIZE_RATIO_CUT = 0.5\n",
    "T_CUT = 1000"
   ]
  },
  {
   "cell_type": "markdown",
   "metadata": {},
   "source": [
    "## Filter by SNR T and size_ratio"
   ]
  },
  {
   "cell_type": "code",
   "execution_count": 10,
   "metadata": {},
   "outputs": [],
   "source": [
    "def filter_by_snr():\n",
    "    for i,catalog in enumerate(mcal_df_list):\n",
    "        mcal_df_list[i]=catalog[(catalog['snr']>SNR_CUT) & (catalog['T']<T_CUT) & (catalog['size_ratio']>SIZE_RATIO_CUT)]"
   ]
  },
  {
   "cell_type": "code",
   "execution_count": 11,
   "metadata": {},
   "outputs": [],
   "source": [
    "filter_by_snr()"
   ]
  },
  {
   "cell_type": "code",
   "execution_count": 16,
   "metadata": {},
   "outputs": [
    {
     "name": "stdout",
     "output_type": "stream",
     "text": [
      "4365353\n",
      "4338058\n",
      "4382905\n",
      "4382602\n"
     ]
    }
   ],
   "source": [
    "for mcal in mcal_df_list:\n",
    "    print(len(mcal))"
   ]
  },
  {
   "cell_type": "markdown",
   "metadata": {},
   "source": [
    "## Intersects paris of catalogs by bal_id. We only want objects existing in true catalog, MOF and woMOF  "
   ]
  },
  {
   "cell_type": "code",
   "execution_count": 12,
   "metadata": {},
   "outputs": [],
   "source": [
    "index_2_3=mcal_df_list[0].index.intersection(mcal_df_list[1].index)\n",
    "index_4_5=mcal_df_list[2].index.intersection(mcal_df_list[3].index)\n",
    "\n",
    "index_2_3_true=index_2_3.intersection(photdf.index).sort_values()\n",
    "index_4_5_true=index_4_5.intersection(photdf.index).sort_values()"
   ]
  },
  {
   "cell_type": "code",
   "execution_count": 13,
   "metadata": {},
   "outputs": [],
   "source": [
    "mcal_df_list[0]=mcal_df_list[0].reindex(index_2_3_true);\n",
    "mcal_df_list[1]=mcal_df_list[1].reindex(index_2_3_true);\n",
    "mcal_df_list[2]=mcal_df_list[2].reindex(index_4_5_true);\n",
    "mcal_df_list[3]=mcal_df_list[3].reindex(index_4_5_true);"
   ]
  },
  {
   "cell_type": "code",
   "execution_count": 28,
   "metadata": {},
   "outputs": [],
   "source": [
    "true_df_list=[None]*4\n",
    "for i in range(2):\n",
    "    true_df_list[i]=photdf.reindex(index_2_3_true)\n",
    "    true_df_list[i+2]=photdf.reindex(index_4_5_true)"
   ]
  },
  {
   "cell_type": "code",
   "execution_count": 33,
   "metadata": {},
   "outputs": [
    {
     "name": "stdout",
     "output_type": "stream",
     "text": [
      "The lenth of mcal2 is 1098637.\n",
      "The lenth of mcal3 is 1098637.\n",
      "The lenth of mcal4 is 867808.\n",
      "The lenth of mcal5 is 867808.\n"
     ]
    }
   ],
   "source": [
    "for i,catalog in enumerate(mcal_df_list[0:4]):\n",
    "    print(\"The lenth of mcal{} is {}.\".format(i+2,len(catalog.index)))\n",
    "#     print(catalog.T.isnull().any())"
   ]
  },
  {
   "cell_type": "code",
   "execution_count": 32,
   "metadata": {},
   "outputs": [
    {
     "name": "stdout",
     "output_type": "stream",
     "text": [
      "The length of corresponding true catalog is 1098637.\n",
      "The length of corresponding true catalog is 1098637.\n",
      "The length of corresponding true catalog is 867808.\n",
      "The length of corresponding true catalog is 867808.\n"
     ]
    }
   ],
   "source": [
    "for i, catalog in enumerate(true_df_list):\n",
    "    print (\"The length of corresponding true catalog is {}.\".format(len(catalog.index)))"
   ]
  },
  {
   "cell_type": "markdown",
   "metadata": {},
   "source": [
    "# Reorganize array for easy calculation and display"
   ]
  },
  {
   "cell_type": "markdown",
   "metadata": {},
   "source": [
    "## Get R'"
   ]
  },
  {
   "cell_type": "markdown",
   "metadata": {},
   "source": [
    "We read $R$ matrix from the measured catalog. And we calculate $R'$ matrix with $$R_{ij}=\\frac{<e_i>}{<g_j>}$$"
   ]
  },
  {
   "cell_type": "code",
   "execution_count": 44,
   "metadata": {},
   "outputs": [],
   "source": [
    "R_list=[None]*4\n",
    "R_prime_list=[None]*4\n",
    "for i,catalog in enumerate(mcal_df_list):\n",
    "    true_catalog=true_df_list[i]\n",
    "    \n",
    "    e1=catalog['e_1'].mean()\n",
    "    e2=catalog['e_2'].mean()\n",
    "    g1=true_catalog['true_cm_g_1'].mean()\n",
    "    g2=true_catalog['true_cm_g_2'].mean()\n",
    "    \n",
    "    R_list[i]=[[catalog['R11'].mean(),catalog['R12'].mean()],[catalog['R21'].mean(),catalog['R22'].mean()]]\n",
    "    R_prime_list[i]=[[e1/g1,e1/g2],[e2/g1,e2/g2]]"
   ]
  },
  {
   "cell_type": "code",
   "execution_count": 77,
   "metadata": {},
   "outputs": [
    {
     "name": "stdout",
     "output_type": "stream",
     "text": [
      "For mcal 2\n"
     ]
    },
    {
     "data": {
      "text/latex": [
       "$\\displaystyle R=$"
      ],
      "text/plain": [
       "<IPython.core.display.Math object>"
      ]
     },
     "metadata": {},
     "output_type": "display_data"
    },
    {
     "name": "stdout",
     "output_type": "stream",
     "text": [
      "[[7.769e-01 -1.044e-05]\n",
      " [-1.955e-04 7.828e-01]]\n"
     ]
    },
    {
     "data": {
      "text/latex": [
       "$\\displaystyle R\\prime=$"
      ],
      "text/plain": [
       "<IPython.core.display.Math object>"
      ]
     },
     "metadata": {},
     "output_type": "display_data"
    },
    {
     "name": "stdout",
     "output_type": "stream",
     "text": [
      "[[8.732e-01 2.079e+01]\n",
      " [1.138e-01 2.710e+00]]\n",
      "\n",
      "\n",
      "For mcal 3\n"
     ]
    },
    {
     "data": {
      "text/latex": [
       "$\\displaystyle R=$"
      ],
      "text/plain": [
       "<IPython.core.display.Math object>"
      ]
     },
     "metadata": {},
     "output_type": "display_data"
    },
    {
     "name": "stdout",
     "output_type": "stream",
     "text": [
      "[[7.706e-01 1.002e-03]\n",
      " [5.519e-04 7.770e-01]]\n"
     ]
    },
    {
     "data": {
      "text/latex": [
       "$\\displaystyle R\\prime=$"
      ],
      "text/plain": [
       "<IPython.core.display.Math object>"
      ]
     },
     "metadata": {},
     "output_type": "display_data"
    },
    {
     "name": "stdout",
     "output_type": "stream",
     "text": [
      "[[8.476e-01 2.018e+01]\n",
      " [9.342e-02 2.224e+00]]\n",
      "\n",
      "\n",
      "For mcal 4\n"
     ]
    },
    {
     "data": {
      "text/latex": [
       "$\\displaystyle R=$"
      ],
      "text/plain": [
       "<IPython.core.display.Math object>"
      ]
     },
     "metadata": {},
     "output_type": "display_data"
    },
    {
     "name": "stdout",
     "output_type": "stream",
     "text": [
      "[[7.985e-01 -1.518e-03]\n",
      " [9.956e-04 8.004e-01]]\n"
     ]
    },
    {
     "data": {
      "text/latex": [
       "$\\displaystyle R\\prime=$"
      ],
      "text/plain": [
       "<IPython.core.display.Math object>"
      ]
     },
     "metadata": {},
     "output_type": "display_data"
    },
    {
     "name": "stdout",
     "output_type": "stream",
     "text": [
      "[[9.397e-01 5.954e+00]\n",
      " [2.031e-01 1.287e+00]]\n",
      "\n",
      "\n",
      "For mcal 5\n"
     ]
    },
    {
     "data": {
      "text/latex": [
       "$\\displaystyle R=$"
      ],
      "text/plain": [
       "<IPython.core.display.Math object>"
      ]
     },
     "metadata": {},
     "output_type": "display_data"
    },
    {
     "name": "stdout",
     "output_type": "stream",
     "text": [
      "[[7.916e-01 1.613e-03]\n",
      " [2.058e-03 7.959e-01]]\n"
     ]
    },
    {
     "data": {
      "text/latex": [
       "$\\displaystyle R\\prime=$"
      ],
      "text/plain": [
       "<IPython.core.display.Math object>"
      ]
     },
     "metadata": {},
     "output_type": "display_data"
    },
    {
     "name": "stdout",
     "output_type": "stream",
     "text": [
      "[[8.985e-01 5.693e+00]\n",
      " [1.886e-01 1.195e+00]]\n",
      "\n",
      "\n"
     ]
    }
   ],
   "source": [
    "for i,R in enumerate(R_list):\n",
    "    print (\"For mcal {}\".format(i+2))\n",
    "    display(Math('R='))\n",
    "    print(np.matrix(R))\n",
    "    display(Math('R\\prime='))\n",
    "    print(np.matrix(R_prime_list[i]))\n",
    "    print(\"\\n\")"
   ]
  },
  {
   "cell_type": "markdown",
   "metadata": {},
   "source": [
    "# Getting dictionary arrays"
   ]
  },
  {
   "cell_type": "code",
   "execution_count": null,
   "metadata": {
    "pycharm": {
     "is_executing": false
    }
   },
   "outputs": [],
   "source": [
    "for i,R_array in enumerate(R_array_negative):\n",
    "    e1_error=np.std(negative_filtered[i]['e_1'])/np.sqrt(float(len(negative_filtered[i]['e_1'])))\n",
    "    e2_error=np.std(negative_filtered[i]['e_2'])/np.sqrt(float(len(negative_filtered[i]['e_2'])))\n",
    "    \n",
    "    g1_error=np.std(negative_true[i]['true_cm_g_1'])/np.sqrt(float(len(negative_true[i]['true_cm_g_1'])))\n",
    "    g2_error=np.std(negative_true[i]['true_cm_g_2'])/np.sqrt(float(len(negative_true[i]['true_cm_g_2'])))\n",
    "    \n",
    "    e1_mean=np.mean(negative_filtered[i]['e_1'])\n",
    "    e2_mean=np.mean(negative_filtered[i]['e_2'])\n",
    "    \n",
    "    g1_mean=np.mean(negative_true[i]['true_cm_g_1'])\n",
    "    g2_mean=np.mean(negative_true[i]['true_cm_g_2'])\n",
    "    \n",
    "    R11_error=np.sqrt((1/g1_mean)**2 * e1_error**2 + (e1_mean/(g1_mean**2))**2*g1_error**2)\n",
    "    R22_error=np.sqrt((1/g2_mean)**2 * e2_error**2 + (e2_mean/(g2_mean**2))**2*g2_error**2)\n",
    "    \n",
    "    R_11_mean=np.mean(negative_filtered[i]['R11'])\n",
    "    R_22_mean=np.mean(negative_filtered[i]['R22'])\n",
    "    R_11_std=np.std(negative_filtered[i]['R11'])\n",
    "    R_22_std=np.std(negative_filtered[i]['R22'])\n",
    "\n",
    "    \n",
    "    R_11_read_error=R_11_std/np.sqrt(float(len(negative_filtered[i]['R11'])))\n",
    "    R_22_read_error=R_11_std/np.sqrt(float(len(negative_filtered[i]['R22'])))\n",
    "\n",
    "    \n",
    "    \n",
    "    g_prime_1=np.mean(negative_filtered[i]['e_1'])/R_11_mean\n",
    "    g_prime_2=np.mean(negative_filtered[i]['e_2'])/R_22_mean\n",
    "    \n",
    "    g_prime_1_error=np.sqrt((1/R_11_mean)**2 * e1_error**2 + (e1_mean/R_11_mean**2)**2*R_11_read_error**2)\n",
    "    g_prime_2_error=np.sqrt((1/R_22_mean)**2 * e2_error**2 + (e2_mean/R_22_mean**2)**2*R_22_read_error**2)\n",
    "    print(\"For mcal{} with negative g, measured R is\".format(i+2))\n",
    "    for j,row1 in enumerate(R_array):\n",
    "        print(\"|{:5.3e} {:5.3e}|\".format(*row1))\n",
    "    print(\"<e1>={:5.3e}, <e2>={:5.3e}, <g1>={:5.3e}, <g2>={:5.3e}, R11={:5.3e}, R22={:5.3e}\".format(*eg_array_negative[i][0],*eg_array_negative[i][1],real_R_array_negative[i][0][0],real_R_array_negative[i][1][1]))\n",
    "    print(\"d_e1={:5.3e}, d_e2={:5.3e}\".format(e1_error,e2_error))\n",
    "    print(\"R11'_error={:5.3e} R22'_error={:5.3e}\".format(R11_error,R22_error))\n",
    "    print(\"\\n\")\n",
    "    print (\"g1'={:5.3e}, g2'={:5.3e},\".format(g_prime_1,g_prime_2)+\" g1'_error={:5.3e}, g2'_error={:5.3e}\".format(g_prime_1_error,g_prime_2_error))\n",
    "    print(\"\\n\")\n",
    "    print(\"Theoretical R is\".format(i+2))\n",
    "    for j,row1 in enumerate(R_array):\n",
    "        print(\"|{:5.3e} {:5.3e}|\".format(*real_R_array_negative[i][j]))\n",
    "    print (\"R11'={:5.3e}, R22'={:5.3e}, R11={:5.3e}, R22={:5.3e}\".format(R_array_negative[i][0][0],R_array_negative[i][1][1],real_R_array_negative[i][0][0],real_R_array_negative[i][1][1]))\n",
    "    print(\"-----------------------------------------------------------------\")\n",
    "    print(\"\\n\")\n"
   ]
  },
  {
   "cell_type": "code",
   "execution_count": null,
   "metadata": {
    "pycharm": {
     "is_executing": false
    }
   },
   "outputs": [],
   "source": [
    "for i,R_array in enumerate(R_array_positive):\n",
    "    e1_error=np.std(positive_filtered[i]['e_1'])/np.sqrt(float(len(positive_filtered[i]['e_1'])))\n",
    "    e2_error=np.std(positive_filtered[i]['e_2'])/np.sqrt(float(len(positive_filtered[i]['e_2'])))\n",
    "    g1_error=np.std(positive_true[i]['true_cm_g_1'])/np.sqrt(float(len(positive_true[i]['true_cm_g_1'])))\n",
    "    g2_error=np.std(positive_true[i]['true_cm_g_2'])/np.sqrt(float(len(positive_true[i]['true_cm_g_2'])))\n",
    "    e1_mean=np.mean(positive_filtered[i]['e_1'])\n",
    "    e2_mean=np.mean(positive_filtered[i]['e_2'])\n",
    "    g1_mean=np.mean(positive_true[i]['true_cm_g_1'])\n",
    "    g2_mean=np.mean(positive_true[i]['true_cm_g_2'])\n",
    "    R11_error=np.sqrt((1/g1_mean)**2 * e1_error**2 + (e1_mean/(g1_mean**2))**2*g1_error**2)\n",
    "    R22_error=np.sqrt((1/g2_mean)**2 * e2_error**2 + (e2_mean/(g2_mean**2))**2*g2_error**2)\n",
    "    \n",
    "    R_11_mean=np.mean(positive_filtered[i]['R11'])\n",
    "    R_22_mean=np.mean(positive_filtered[i]['R22'])\n",
    "    R_11_std=np.std(negative_filtered[i]['R11'])\n",
    "    R_22_std=np.std(negative_filtered[i]['R22'])\n",
    "    \n",
    "    R_11_read_error=R_11_std/np.sqrt(float(len(positive_filtered[i]['R11'])))\n",
    "    R_22_read_error=R_22_std/np.sqrt(float(len(positive_filtered[i]['R22'])))\n",
    "    \n",
    "    g_prime_1=np.mean(positive_filtered[i]['e_1'])/R_11_mean\n",
    "    g_prime_2=np.mean(positive_filtered[i]['e_2'])/R_22_mean\n",
    "    \n",
    "    g_prime_1_error=np.sqrt((1/R_11_mean)**2 * e1_error**2 + (e1_mean/(R_11_mean**2))**2*R_11_read_error**2)\n",
    "    g_prime_2_error=np.sqrt((1/R_22_mean)**2 * e2_error**2 + (e2_mean/(R_22_mean**2))**2*R_22_read_error**2)\n",
    "\n",
    "    \n",
    "\n",
    "    print(\"For mcal{} with positive g, measured R is\".format(i+2))\n",
    "    for j,row1 in enumerate(R_array):\n",
    "        print(\"|{:5.3e} {:5.3e}|\".format(*row1))\n",
    "    print(\"<e1>={:5.3e}, <e2>={:5.3e}, <g1>={:5.3e}, <g2>={:5.3e}, R11={:5.3e}, R22={:5.3e}\".format(*eg_array_positive[i][0],*eg_array_positive[i][1],real_R_array_positive[i][0][0],real_R_array_positive[i][1][1]))\n",
    "    print(\"d_e1={:5.3e}, d_e2={:5.3e}\".format(e1_error,e2_error))\n",
    "    print(\"R11'_error={:5.3e} R22'_error={:5.3e}\".format(R11_error,R22_error))\n",
    "    print(\"\\n\")\n",
    "    print (\"g1'={:5.3e}, g2'={:5.3e},\".format(g_prime_1,g_prime_2)+\" g1'_error={:5.3e}, g2'_error={:5.3e}\".format(g_prime_1_error,g_prime_2_error))\n",
    "    \n",
    "    print(\"Theoretical R is\".format(i+2))\n",
    "    for j,row1 in enumerate(R_array):\n",
    "        print(\"|{:5.3e} {:5.3e}|\".format(*real_R_array_positive[i][j]))\n",
    "    print (\"R11'={:5.3e}, R22'={:5.3e}, R11={:5.3e}, R22={:5.3e}\".format(R_array_positive[i][0][0],R_array_positive[i][1][1],real_R_array_positive[i][0][0],real_R_array_positive[i][1][1]))\n",
    "    print(\"-----------------------------------------------------------------\")"
   ]
  },
  {
   "cell_type": "code",
   "execution_count": null,
   "metadata": {
    "pycharm": {
     "is_executing": false
    }
   },
   "outputs": [],
   "source": [
    "print (\"For positive_g\")\n",
    "for i in [0,2]:\n",
    "    print (\"The difference beween R matrice in mcal{:5.3e} and mcal{:5.3e} is:\".format(i+2,i+3))\n",
    "    for j in range(2):\n",
    "        print (\"|{:5.3e} {:5.3e}|\".format(*(np.array(R_array_positive[i][j])-np.array(R_array_positive[i+1][j]))))"
   ]
  },
  {
   "cell_type": "code",
   "execution_count": null,
   "metadata": {
    "pycharm": {
     "is_executing": false
    }
   },
   "outputs": [],
   "source": [
    "print (\"For negative g\")\n",
    "for i in [0,2]:\n",
    "    print (\"The difference beween R matrice in mcal{} and mcal{} is:\".format(i+2,i+3))\n",
    "    for j in range(2):\n",
    "        print (\"|{:5.3e} {:5.3e}|\".format(*(np.array(R_array_negative[i][j])-np.array(R_array_negative[i+1][j]))))"
   ]
  },
  {
   "cell_type": "code",
   "execution_count": null,
   "metadata": {
    "pycharm": {
     "is_executing": false
    }
   },
   "outputs": [],
   "source": [
    "print (\"For positive g\")\n",
    "for i in range(4):\n",
    "    print(\"For mcal{}, the diffrence between measured and theoretical R is\".format(i+2))\n",
    "    for j in range(2):\n",
    "        print (\"|{:5.3e} {:5.3e}|\".format(*(np.array(R_array_positive[i][j])-np.array(real_R_array_positive[i][j])))) "
   ]
  },
  {
   "cell_type": "code",
   "execution_count": null,
   "metadata": {
    "pycharm": {
     "is_executing": false
    }
   },
   "outputs": [],
   "source": [
    "print (\"For negative g\")\n",
    "for i in range(4):\n",
    "    print(\"For mcal{}, the diffrence between measured and theoretical R is\".format(i+2))\n",
    "    for j in range(2):\n",
    "        print (\"|{:5.3e} {:5.3e}|\".format(*(np.array(R_array_negative[i][j])-np.array(real_R_array_negative[i][j])))) "
   ]
  },
  {
   "cell_type": "markdown",
   "metadata": {},
   "source": [
    "# Fitting e_i = m_i * g + c"
   ]
  },
  {
   "cell_type": "code",
   "execution_count": null,
   "metadata": {
    "pycharm": {
     "is_executing": false
    }
   },
   "outputs": [],
   "source": [
    "intersected_masks=[get_intersected_mask(true_dict_unique_sorted,catalog) for catalog in relavant_catalogs]"
   ]
  },
  {
   "cell_type": "code",
   "execution_count": null,
   "metadata": {
    "pycharm": {
     "is_executing": false
    }
   },
   "outputs": [],
   "source": [
    "intersected_masks_for_mcal=[mask[1] for mask in intersected_masks]\n",
    "intersected_masks_for_true=[mask[0] for mask in intersected_masks]"
   ]
  },
  {
   "cell_type": "code",
   "execution_count": null,
   "metadata": {
    "pycharm": {
     "is_executing": false
    }
   },
   "outputs": [],
   "source": [
    "intersected_clipped_array=mask_catalog_arrays(relavant_catalogs,intersected_masks_for_mcal)"
   ]
  },
  {
   "cell_type": "code",
   "execution_count": null,
   "metadata": {
    "pycharm": {
     "is_executing": false
    }
   },
   "outputs": [],
   "source": [
    "four_true_dicts=[true_dict_unique_sorted for i in range(4)]"
   ]
  },
  {
   "cell_type": "code",
   "execution_count": null,
   "metadata": {
    "pycharm": {
     "is_executing": false
    }
   },
   "outputs": [],
   "source": [
    "intersected_clipped_true=mask_catalog_arrays(four_true_dicts,intersected_masks_for_true)"
   ]
  },
  {
   "cell_type": "code",
   "execution_count": null,
   "metadata": {
    "pycharm": {
     "is_executing": false
    }
   },
   "outputs": [],
   "source": [
    "def get_cm(true_dict,mcal_dict):\n",
    "        y1=mcal_dict['e_1']\n",
    "        x1=true_dict['true_cm_g_1']\n",
    "        y2=mcal_dict['e_2']\n",
    "        x2=true_dict['true_cm_g_2']\n",
    "        m1,c1=np.polyfit(x1,y1,1)\n",
    "        m2,c2=np.polyfit(x2,y2,1)\n",
    "        return([[m1,c1],[m2,c2]])"
   ]
  },
  {
   "cell_type": "code",
   "execution_count": null,
   "metadata": {
    "pycharm": {
     "is_executing": false
    }
   },
   "outputs": [],
   "source": [
    "cm_array=[get_cm(intersected_clipped_true[i],intersected_clipped_array[i]) for i in range(4)]"
   ]
  },
  {
   "cell_type": "code",
   "execution_count": null,
   "metadata": {
    "pycharm": {
     "is_executing": false
    }
   },
   "outputs": [],
   "source": [
    "cm_array_positive=[get_cm(positive_true[i],positive_filtered[i]) for i in range(4)]"
   ]
  },
  {
   "cell_type": "code",
   "execution_count": null,
   "metadata": {
    "pycharm": {
     "is_executing": false
    }
   },
   "outputs": [],
   "source": [
    "cm_array_negative=[get_cm(negative_true[i],negative_filtered[i]) for i in range(4)]"
   ]
  },
  {
   "cell_type": "code",
   "execution_count": null,
   "metadata": {
    "pycharm": {
     "is_executing": false
    }
   },
   "outputs": [],
   "source": [
    "def print_cm(cm_array):\n",
    "    for i,matrix in enumerate(cm_array):\n",
    "        print(\"For mcal{}, m1={:10.3e},c1={:10.3e},m2={:10.3e},c2={:10.3e}\".format((i+2),*matrix[0],*matrix[1]))"
   ]
  },
  {
   "cell_type": "code",
   "execution_count": null,
   "metadata": {
    "pycharm": {
     "is_executing": false
    }
   },
   "outputs": [],
   "source": [
    "print_cm(cm_array)"
   ]
  },
  {
   "cell_type": "code",
   "execution_count": null,
   "metadata": {
    "pycharm": {
     "is_executing": false
    }
   },
   "outputs": [],
   "source": [
    "print_cm(cm_array_positive)"
   ]
  },
  {
   "cell_type": "code",
   "execution_count": null,
   "metadata": {
    "pycharm": {
     "is_executing": false
    }
   },
   "outputs": [],
   "source": [
    "print_cm(cm_array_negative)"
   ]
  },
  {
   "cell_type": "code",
   "execution_count": null,
   "metadata": {
    "pycharm": {
     "is_executing": false
    }
   },
   "outputs": [],
   "source": [
    "x1_array=[true_dict['true_cm_g_1'] for true_dict in intersected_clipped_true]\n",
    "x2_array=[true_dict['true_cm_g_2'] for true_dict in intersected_clipped_true]\n",
    "y1_array=[mcal_dict['e_1'] for mcal_dict in intersected_clipped_array]\n",
    "y2_array=[mcal_dict['e_2'] for mcal_dict in intersected_clipped_array]"
   ]
  },
  {
   "cell_type": "code",
   "execution_count": null,
   "metadata": {
    "pycharm": {
     "is_executing": false
    }
   },
   "outputs": [],
   "source": [
    "x3_array=[true_dict['true_cm_g_1'] for true_dict in positive_true]\n",
    "x4_array=[true_dict['true_cm_g_2'] for true_dict in positive_true]\n",
    "y3_array=[mcal_dict['e_1'] for mcal_dict in positive_filtered]\n",
    "y4_array=[mcal_dict['e_2'] for mcal_dict in positive_filtered]"
   ]
  },
  {
   "cell_type": "code",
   "execution_count": null,
   "metadata": {
    "pycharm": {
     "is_executing": false
    }
   },
   "outputs": [],
   "source": [
    "x5_array=[true_dict['true_cm_g_1'] for true_dict in negative_true]\n",
    "x6_array=[true_dict['true_cm_g_2'] for true_dict in negative_true]\n",
    "y5_array=[mcal_dict['e_1'] for mcal_dict in negative_filtered]\n",
    "y6_array=[mcal_dict['e_2'] for mcal_dict in negative_filtered]"
   ]
  },
  {
   "cell_type": "code",
   "execution_count": null,
   "metadata": {
    "pycharm": {
     "is_executing": false
    }
   },
   "outputs": [],
   "source": [
    "colors=(0,0,0)\n",
    "area=0.01\n",
    "def plot_scatter(x,y,cm):\n",
    "    plt.scatter(x,y,s=area,c=colors,alpha=0.5)\n",
    "    x_range=np.linspace(0,1)\n",
    "    plt.plot(x_range,cm[0]*x_range+cm[1])"
   ]
  },
  {
   "cell_type": "code",
   "execution_count": null,
   "metadata": {
    "pycharm": {
     "is_executing": false
    }
   },
   "outputs": [],
   "source": [
    "for i in range(4):\n",
    "    plt.figure()\n",
    "    plot_scatter(x1_array[i],y1_array[i],cm_array[i][0])\n",
    "    plt.title(\"mcal{} g_1 e_1\".format(i+2))\n",
    "    plt.savefig(\"scatter/mcal{}g1e1\".format(i+2),dpi=300)\n",
    "    plt.close()\n",
    "    plt.figure()\n",
    "    plot_scatter(x2_array[i],y2_array[i],cm_array[i][1])\n",
    "    plt.title(\"mcal{} g_2 e_2\".format(i+2))\n",
    "    plt.savefig(\"scatter/mcal{}g2e2\".format(i+2),dpi=300)\n",
    "    plt.close()"
   ]
  },
  {
   "cell_type": "code",
   "execution_count": null,
   "metadata": {
    "pycharm": {
     "is_executing": true
    }
   },
   "outputs": [],
   "source": [
    "for i in range(4):\n",
    "    plt.figure()\n",
    "    plot_scatter(x3_array[i],y3_array[i],cm_array_positive[i][0])\n",
    "    plt.title(\"mcal{} g_1 e_1_positive\".format(i+2))\n",
    "    plt.savefig(\"scatter/mcal{}g1e1_positive\".format(i+2),dpi=300)\n",
    "    plt.close()\n",
    "    plt.figure()\n",
    "    plot_scatter(x4_array[i],y4_array[i],cm_array[i][1])\n",
    "    plt.title(\"mcal{} g_2 e_2_positive\".format(i+2))\n",
    "    plt.savefig(\"scatter/mcal{}g2e2_positive\".format(i+2),dpi=300)\n",
    "    plt.close()"
   ]
  },
  {
   "cell_type": "code",
   "execution_count": null,
   "metadata": {
    "pycharm": {
     "is_executing": true
    }
   },
   "outputs": [],
   "source": [
    "for i in range(4):\n",
    "    plt.figure()\n",
    "    plot_scatter(x3_array[i],y3_array[i],cm_array_positive[i][0])\n",
    "    plt.title(\"mcal{} g_1 e_1_negative\".format(i+2))\n",
    "    plt.savefig(\"scatter/mcal{}g1e1_negative\".format(i+2),dpi=300)\n",
    "    plt.close()\n",
    "    plt.figure()\n",
    "    plot_scatter(x4_array[i],y4_array[i],cm_array[i][1])\n",
    "    plt.title(\"mcal{} g_2 e_2_negative\".format(i+2))\n",
    "    plt.savefig(\"scatter/mcal{}g2e2_negative\".format(i+2),dpi=300)\n",
    "    plt.close()"
   ]
  },
  {
   "cell_type": "code",
   "execution_count": null,
   "metadata": {
    "pycharm": {
     "is_executing": true
    }
   },
   "outputs": [],
   "source": [
    "for i in [0,2]:\n",
    "    print(i)"
   ]
  },
  {
   "cell_type": "markdown",
   "metadata": {
    "toc-hr-collapsed": false
   },
   "source": [
    "# healpix"
   ]
  },
  {
   "cell_type": "code",
   "execution_count": null,
   "metadata": {
    "pycharm": {
     "is_executing": true,
     "name": "#%%\n"
    }
   },
   "outputs": [],
   "source": [
    "from astropy_healpix import HEALpix\n",
    "from astropy.coordinate import icrs\n",
    "\n"
   ]
  }
 ],
 "metadata": {
  "kernelspec": {
   "display_name": "Python 3",
   "language": "python",
   "name": "python3"
  },
  "language_info": {
   "codemirror_mode": {
    "name": "ipython",
    "version": 3
   },
   "file_extension": ".py",
   "mimetype": "text/x-python",
   "name": "python",
   "nbconvert_exporter": "python",
   "pygments_lexer": "ipython3",
   "version": "3.7.3"
  },
  "pycharm": {
   "stem_cell": {
    "cell_type": "raw",
    "metadata": {
     "collapsed": false
    },
    "source": []
   }
  }
 },
 "nbformat": 4,
 "nbformat_minor": 2
}
