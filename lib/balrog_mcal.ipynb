{
 "cells": [
  {
   "cell_type": "markdown",
   "metadata": {},
   "source": [
    "# Import"
   ]
  },
  {
   "cell_type": "code",
   "execution_count": 13,
   "metadata": {},
   "outputs": [],
   "source": [
    "import numpy as np\n",
    "import pandas as pd\n",
    "from astropy.table import Table\n",
    "from astropy.io import fits\n",
    "import matplotlib.pyplot as plt\n",
    "import h5py\n",
    "from astropy.io import fits\n",
    "from tqdm import tqdm\n",
    "\n",
    "\n",
    "def load_true():\n",
    "    \"\"\"This is a function that takes fits and hdf data and return them to pandas dataframe\"\"\"\n",
    "\n",
    "    # detect = fits.open('/lsst/troxel/balrog/balrog_detection_catalog-v1.2.fits')[-1]\n",
    "    phot   = fits.open('/lsst/troxel/balrog/balrog_matched_catalog_flatten.fits')\n",
    "    id_balrog = fits.open('/lsst/troxel/balrog/balrog_mcal_bal_ids_v1.2.fits')\n",
    "\n",
    "    #load true catalogs in pandas\n",
    "    # detectp_table=Table.read('/lsst/troxel/balrog/balrog_detection_catalog-v1.2.fits').to_pandas()\n",
    "    photdf=Table.read('/lsst/troxel/balrog/balrog_matched_catalog_flatten.fits').to_pandas()\n",
    "    id_balrogdf = Table.read('/lsst/troxel/balrog/balrog_mcal_bal_ids_v1.2.fits').to_pandas()\n",
    "\n",
    "    return(photdf)\n",
    "\n",
    "\n",
    "def load_mcal():\n",
    "    #all objects riz\n",
    "    mcal0= h5py.File('/lsst/troxel/balrog/balrog_mcal_stack-y3v02-0-riz-mcal-v1.2.h5','r')['catalog']['unsheared'] #with neighbor\n",
    "    mcal1= h5py.File('/lsst/troxel/balrog/balrog_mcal_stack-y3v02-0-riz-noNB-mcal-v1.2.h5','r')['catalog']['unsheared'] #no neighbor\n",
    "    ##only matched balrog object riz\n",
    "    mcal2=h5py.File('/lsst/troxel/balrog/balrog_mcal_stack-y3v02-0-riz-mcal-1.3.h5','r')['catalog']['unsheared'] #with neighbor\n",
    "    mcal3=h5py.File('/lsst/troxel/balrog/balrog_mcal_stack-y3v02-0-riz-noNB-mcal-1.3.h5','r')['catalog']['unsheared'] #no neighbor\n",
    "    #only matched balrog object griz\n",
    "    mcal4=h5py.File('/lsst/troxel/balrog/balrog_mcal_stack-y3v02-0-griz-mcal-1.3.h5','r')['catalog']['unsheared'] #with neighbor\n",
    "    mcal5=h5py.File('/lsst/troxel/balrog/balrog_mcal_stack-y3v02-0-griz-noNB-mcal-1.3.h5','r')['catalog']['unsheared'] #no neighbor\n",
    "    \n",
    "    mcal_list=[mcal0,mcal1,mcal2,mcal3,mcal4,mcal5]\n",
    "    return (mcal_list)\n"
   ]
  },
  {
   "cell_type": "code",
   "execution_count": 15,
   "metadata": {},
   "outputs": [],
   "source": [
    "mcal_list=load_mcal()\n",
    "photdf=load_true()"
   ]
  },
  {
   "cell_type": "code",
   "execution_count": 20,
   "metadata": {},
   "outputs": [],
   "source": [
    "def get_df_list(mcal_list):\n",
    "    mcal_df_list =[]\n",
    "    for catalog in mcal_list:\n",
    "        local_df=pd.DataFrame()\n",
    "        for key in list(catalog.keys()):\n",
    "            local_df[key]=np.array(catalog[key][:]).byteswap().newbyteorder()\n",
    "        mcal_df_list.append(local_df)\n",
    "    return(mcal_df_list)\n",
    "\n",
    "mcal_df_list=get_df_list(mcal_list)"
   ]
  },
  {
   "cell_type": "code",
   "execution_count": null,
   "metadata": {
    "pycharm": {
     "is_executing": false
    }
   },
   "outputs": [],
   "source": [
    "# def get_np_unsheared_array(catalog_array):\n",
    "#     catalog_array_unsheared=[]\n",
    "#     for catalog in catalog_array:\n",
    "#         data_dict={}\n",
    "#         for key in list(catalog['unsheared'].keys()):\n",
    "#             data_dict[key]=catalog['unsheared'][key].value\n",
    "#         catalog_array_unsheared.append(data_dict)\n",
    "#     return (catalog_array_unsheared)"
   ]
  },
  {
   "cell_type": "code",
   "execution_count": null,
   "metadata": {
    "pycharm": {
     "is_executing": false
    }
   },
   "outputs": [],
   "source": [
    "# catalog_array_unsheared=get_np_unsheared_array(catalog_array)\n",
    "# keys_array = [list(mcal.keys()) for mcal in catalog_array_unsheared]"
   ]
  },
  {
   "cell_type": "code",
   "execution_count": 10,
   "metadata": {
    "pycharm": {
     "is_executing": false
    }
   },
   "outputs": [],
   "source": [
    "SNR_CUT = 10\n",
    "SIZE_RATIO_CUT = 0.5\n",
    "T_CUT = 1000"
   ]
  },
  {
   "cell_type": "markdown",
   "metadata": {},
   "source": [
    "# Functions"
   ]
  },
  {
   "cell_type": "code",
   "execution_count": null,
   "metadata": {
    "pycharm": {
     "is_executing": false
    }
   },
   "outputs": [],
   "source": [
    "# def sort_by_bal_id(catalog):\n",
    "#     catalog_sorted = {}\n",
    "#     order = catalog['bal_id'].argsort()\n",
    "#     for key in catalog.keys():\n",
    "#         catalog_sorted[key] = catalog[key][order]\n",
    "#     return (catalog_sorted)"
   ]
  },
  {
   "cell_type": "code",
   "execution_count": null,
   "metadata": {
    "pycharm": {
     "is_executing": false
    }
   },
   "outputs": [],
   "source": [
    "# def get_true_dict(true_data):\n",
    "#     true_data_dict = {}\n",
    "#     for key in true_data.columns:\n",
    "#         true_data_dict[key.name] = true_data[key.name]\n",
    "#     return (true_data_dict)"
   ]
  },
  {
   "cell_type": "code",
   "execution_count": null,
   "metadata": {
    "pycharm": {
     "is_executing": false
    }
   },
   "outputs": [],
   "source": [
    "# def masking(catalog,SNR_CUT,SIZE_RATIO_CUT,T_CUT):\n",
    "#     snr_mask = np.ma.masked_greater(catalog['snr'][:],SNR_CUT)\n",
    "#     size_ratio_mask = np.ma.masked_greater(catalog['size_ratio'][:],SIZE_RATIO_CUT)\n",
    "#     T_mask = np.ma.masked_less(catalog['T'],T_CUT)\n",
    "#     mask_temp = np.logical_and(snr_mask.mask, size_ratio_mask.mask)\n",
    "#     mask = np.logical_and(mask_temp, T_mask.mask)\n",
    "#     return ([snr_mask,size_ratio_mask,T_mask,mask]) #index 3 is the final mask"
   ]
  },
  {
   "cell_type": "code",
   "execution_count": null,
   "metadata": {
    "pycharm": {
     "is_executing": false
    }
   },
   "outputs": [],
   "source": [
    "# def get_mask(catalog_array_unsheared):\n",
    "#     mask_array = []\n",
    "#     for catalog in catalog_array_unsheared:\n",
    "#         mask_array.append(masking(catalog,SNR_CUT,SIZE_RATIO_CUT,T_CUT))\n",
    "#     return (mask_array)"
   ]
  },
  {
   "cell_type": "code",
   "execution_count": null,
   "metadata": {
    "pycharm": {
     "is_executing": false
    }
   },
   "outputs": [],
   "source": [
    "# def print_mask():\n",
    "#     for i,catalog in enumerate(catalog_array_unsheared):\n",
    "#         print (\"For {:5}, snr > {:3} mask cuts {:8} elements, size_ratio > {:4} mask cuts {:8} elements, T > {:5} mask cuts {:5} elements\".format\n",
    "#           (name_array[i],SNR_CUT,np.sum(~mask_array[i][0].mask),SIZE_RATIO_CUT,np.sum(~mask_array[i][1].mask),T_CUT,np.sum(~mask_array[i][2].mask)))"
   ]
  },
  {
   "cell_type": "code",
   "execution_count": null,
   "metadata": {
    "pycharm": {
     "is_executing": false
    }
   },
   "outputs": [],
   "source": [
    "# def mask_catalog_arrays(catalog_array,mask_array):\n",
    "#     masked_catalog = []\n",
    "#     for i,catalog in enumerate(catalog_array):\n",
    "#         data_dict = {}\n",
    "#         for key in list(catalog.keys()):\n",
    "#             data_dict[key] = catalog[key][mask_array[i]]\n",
    "#         masked_catalog.append(data_dict)\n",
    "#     return (masked_catalog)"
   ]
  },
  {
   "cell_type": "code",
   "execution_count": null,
   "metadata": {
    "pycharm": {
     "is_executing": false
    }
   },
   "outputs": [],
   "source": [
    "# def get_unique_dict(old_dict):\n",
    "#     new_dict={}\n",
    "#     temp_dict,order=np.unique(old_dict['bal_id'],return_index=True)\n",
    "#     for key in list(old_dict.keys()):\n",
    "#         new_dict[key]=old_dict[key][order]\n",
    "#     return(new_dict)"
   ]
  },
  {
   "cell_type": "code",
   "execution_count": null,
   "metadata": {
    "pycharm": {
     "is_executing": false
    }
   },
   "outputs": [],
   "source": [
    "# def sort_dict_by_bal(old_dict):\n",
    "#     new_dict={}\n",
    "#     order= old_dict['bal_id'].argsort()\n",
    "#     for key in list(old_dict.keys()):\n",
    "#         new_dict[key]=old_dict[key][order]\n",
    "#     return(new_dict)"
   ]
  },
  {
   "cell_type": "code",
   "execution_count": null,
   "metadata": {
    "pycharm": {
     "is_executing": false
    }
   },
   "outputs": [],
   "source": [
    "# def get_intersected_mask(catalog1,catalog2):\n",
    "    \n",
    "#     id_array_1 = catalog1['bal_id'][:]\n",
    "#     id_array_2 = catalog2['bal_id'][:]\n",
    "\n",
    "#     mask1 = np.in1d(id_array_1,id_array_2)\n",
    "#     mask2 = np.in1d(id_array_2,id_array_1)\n",
    "\n",
    "#     if np.sum(mask1)==np.sum(mask2):\n",
    "#         print(\"The number of elements after taking the intersection of two sets are {}\".format(np.sum(mask1)))\n",
    "#         print(\"The intersection operation takes {} elements from array1\".format(len(id_array_1)-np.sum(mask1)))\n",
    "#         print(\"The intersection operation takes {} elements from array2\".format(len(id_array_2)-np.sum(mask2)))\n",
    "\n",
    "#     if np.all((np.equal(id_array_1[mask1],id_array_2[mask2]))):\n",
    "#         print(\"The balrog ids are two identical arrays after masking.\")\n",
    "        \n",
    "#     return(mask1,mask2)"
   ]
  },
  {
   "cell_type": "code",
   "execution_count": null,
   "metadata": {
    "pycharm": {
     "is_executing": false
    }
   },
   "outputs": [],
   "source": [
    "# mask_array = get_mask(catalog_array_unsheared)"
   ]
  },
  {
   "cell_type": "code",
   "execution_count": null,
   "metadata": {
    "pycharm": {
     "is_executing": false
    }
   },
   "outputs": [],
   "source": [
    "# mask_array = [mask[3] for mask in mask_array]"
   ]
  },
  {
   "cell_type": "code",
   "execution_count": null,
   "metadata": {
    "pycharm": {
     "is_executing": false
    }
   },
   "outputs": [],
   "source": [
    "# masked_catalog = mask_catalog_arrays(catalog_array_unsheared,mask_array)"
   ]
  },
  {
   "cell_type": "code",
   "execution_count": null,
   "metadata": {
    "pycharm": {
     "is_executing": true
    }
   },
   "outputs": [],
   "source": [
    "# relavant_catalogs=masked_catalog[2:6]\n",
    "# # # new_relavant=[]\n",
    "# # for catalog in relavant_catalogs:\n",
    "# #     new_relavant.append()get_unique_dict(catalog):\n",
    "# #     new_dict={}\n",
    "# #     temp_dict,order=np.unique(old_dict['bal_id'],return_index=True)\n",
    "# #     for key in list(old_dict.keys()):\n",
    "# #         new_dict[key]=old_dict[key][order]\n",
    "# #     return(new_dict)"
   ]
  },
  {
   "cell_type": "markdown",
   "metadata": {},
   "source": [
    "# Getting dictionary arrays"
   ]
  },
  {
   "cell_type": "code",
   "execution_count": null,
   "metadata": {
    "pycharm": {
     "is_executing": false
    }
   },
   "outputs": [],
   "source": [
    "cols=phot[1].columns\n",
    "true_data = phot[1].data\n",
    "\n",
    "true_dict = get_true_dict(true_data)"
   ]
  },
  {
   "cell_type": "code",
   "execution_count": null,
   "metadata": {
    "pycharm": {
     "is_executing": false
    }
   },
   "outputs": [],
   "source": [
    "true_dict_unique=get_unique_dict(true_dict);"
   ]
  },
  {
   "cell_type": "code",
   "execution_count": null,
   "metadata": {
    "pycharm": {
     "is_executing": false
    }
   },
   "outputs": [],
   "source": [
    "true_dict_unique_sorted=sort_dict_by_bal(true_dict_unique)"
   ]
  },
  {
   "cell_type": "code",
   "execution_count": null,
   "metadata": {
    "pycharm": {
     "is_executing": false
    }
   },
   "outputs": [],
   "source": [
    "def get_positive_g_mask(true_dict):\n",
    "    g1_mask = np.ma.masked_greater(true_dict['true_cm_g_1'],0)\n",
    "    g2_mask = np.ma.masked_greater(true_dict['true_cm_g_2'],0)\n",
    "    g_mask = np.logical_and(g1_mask.mask, g2_mask.mask)\n",
    "    return(g_mask)"
   ]
  },
  {
   "cell_type": "code",
   "execution_count": null,
   "metadata": {
    "pycharm": {
     "is_executing": false
    }
   },
   "outputs": [],
   "source": [
    "def get_negative_g_mask(true_dict):\n",
    "    g1_mask = np.ma.masked_less(true_dict['true_cm_g_1'],0)\n",
    "    g2_mask = np.ma.masked_less(true_dict['true_cm_g_2'],0)\n",
    "    g_mask = np.logical_and(g1_mask.mask, g2_mask.mask)\n",
    "    return(g_mask)"
   ]
  },
  {
   "cell_type": "code",
   "execution_count": null,
   "metadata": {
    "pycharm": {
     "is_executing": false
    }
   },
   "outputs": [],
   "source": [
    "positive_g_mask=get_positive_g_mask(true_dict_unique_sorted)\n",
    "negative_g_mask=get_negative_g_mask(true_dict_unique_sorted)"
   ]
  },
  {
   "cell_type": "code",
   "execution_count": null,
   "metadata": {
    "pycharm": {
     "is_executing": false
    }
   },
   "outputs": [],
   "source": [
    "true_positive_g=mask_catalog_arrays([true_dict_unique_sorted],[positive_g_mask])[0]\n",
    "true_negative_g=mask_catalog_arrays([true_dict_unique_sorted],[negative_g_mask])[0]"
   ]
  },
  {
   "cell_type": "code",
   "execution_count": null,
   "metadata": {
    "pycharm": {
     "is_executing": false
    }
   },
   "outputs": [],
   "source": [
    "positive_filtered=[]\n",
    "positive_true=[]\n",
    "for i,catalog in enumerate(relavant_catalogs):\n",
    "    positive_mask_true,positive_mask_mcal = get_intersected_mask(true_positive_g,catalog)\n",
    "    positive_filtered.append(mask_catalog_arrays([catalog],[positive_mask_mcal])[0])\n",
    "    positive_true.append(mask_catalog_arrays([true_positive_g],[positive_mask_true])[0])"
   ]
  },
  {
   "cell_type": "code",
   "execution_count": null,
   "metadata": {
    "pycharm": {
     "is_executing": false
    }
   },
   "outputs": [],
   "source": [
    "negative_filtered=[]\n",
    "negative_true=[]\n",
    "for i,catalog in enumerate(relavant_catalogs):\n",
    "    negative_mask_true,negative_mask_mcal = get_intersected_mask(true_negative_g,catalog)\n",
    "    negative_filtered.append(mask_catalog_arrays([catalog],[negative_mask_mcal])[0])\n",
    "    negative_true.append(mask_catalog_arrays([true_negative_g],[negative_mask_true])[0])"
   ]
  },
  {
   "cell_type": "code",
   "execution_count": null,
   "metadata": {
    "pycharm": {
     "is_executing": false
    }
   },
   "outputs": [],
   "source": [
    "print (len(negative_filtered))"
   ]
  },
  {
   "cell_type": "markdown",
   "metadata": {},
   "source": [
    "# Intersect mcal2/3 mcal4/5"
   ]
  },
  {
   "cell_type": "code",
   "execution_count": null,
   "metadata": {
    "pycharm": {
     "is_executing": false
    }
   },
   "outputs": [],
   "source": [
    "def intersect_the_same_catalog():\n",
    "    duo_intersected_array_positive=[]\n",
    "    duo_intersected_array_negative=[]\n",
    "    for i in [0,2]:\n",
    "        (mask1,mask2)=get_intersected_mask(positive_filtered[i],positive_filtered[i+1])\n",
    "        (mask3,mask4)=get_intersected_mask(negative_filtered[i],negative_filtered[i+1])\n",
    "        mask_array=[mask1,mask2,mask3,mask4]\n",
    "        duo_intersected_array_positive.append(mask_catalog_arrays([positive_filtered[i]],[mask_array[0]])[0])\n",
    "        duo_intersected_array_positive.append(mask_catalog_arrays([positive_filtered[i+1]],[mask_array[1]])[0])\n",
    "        duo_intersected_array_negative.append(mask_catalog_arrays([negative_filtered[i]],[mask_array[2]])[0])\n",
    "        duo_intersected_array_negative.append(mask_catalog_arrays([negative_filtered[i+1]],[mask_array[3]])[0])\n",
    "    return(duo_intersected_array_positive,duo_intersected_array_negative)"
   ]
  },
  {
   "cell_type": "code",
   "execution_count": null,
   "metadata": {
    "pycharm": {
     "is_executing": false
    }
   },
   "outputs": [],
   "source": [
    "(nor_positive,nor_negative) = intersect_the_same_catalog()"
   ]
  },
  {
   "cell_type": "code",
   "execution_count": null,
   "metadata": {
    "pycharm": {
     "is_executing": false
    }
   },
   "outputs": [],
   "source": [
    "positive_filtered=[]\n",
    "positive_true=[]\n",
    "for i,catalog in enumerate(nor_positive):\n",
    "    positive_mask_true,positive_mask_mcal = get_intersected_mask(true_positive_g,catalog)\n",
    "    positive_filtered.append(mask_catalog_arrays([catalog],[positive_mask_mcal])[0])\n",
    "    positive_true.append(mask_catalog_arrays([true_positive_g],[positive_mask_true])[0])"
   ]
  },
  {
   "cell_type": "code",
   "execution_count": null,
   "metadata": {
    "pycharm": {
     "is_executing": false
    }
   },
   "outputs": [],
   "source": [
    "negative_filtered=[]\n",
    "negative_true=[]\n",
    "for i,catalog in enumerate(nor_negative):\n",
    "    negative_mask_true,negative_mask_mcal = get_intersected_mask(true_negative_g,catalog)\n",
    "    negative_filtered.append(mask_catalog_arrays([catalog],[negative_mask_mcal])[0])\n",
    "    negative_true.append(mask_catalog_arrays([true_negative_g],[negative_mask_true])[0])"
   ]
  },
  {
   "cell_type": "code",
   "execution_count": null,
   "metadata": {
    "pycharm": {
     "is_executing": false
    }
   },
   "outputs": [],
   "source": [
    "for catalog in nor_negative:\n",
    "    print (len(catalog['bal_id']))\n",
    "print (len(negative_true[0]['bal_id']))"
   ]
  },
  {
   "cell_type": "code",
   "execution_count": null,
   "metadata": {
    "pycharm": {
     "is_executing": false
    }
   },
   "outputs": [],
   "source": [
    "print (np.equal(nor_positive[2]['e_1'],nor_positive[3]['e_1']))"
   ]
  },
  {
   "cell_type": "code",
   "execution_count": null,
   "metadata": {
    "pycharm": {
     "is_executing": false
    }
   },
   "outputs": [],
   "source": [
    "print (np.equal(negative_true[0]['true_cm_g_1'],negative_true[1]['true_cm_g_1']).all())"
   ]
  },
  {
   "cell_type": "code",
   "execution_count": null,
   "metadata": {
    "pycharm": {
     "is_executing": false
    }
   },
   "outputs": [],
   "source": [
    "positive_filtered=nor_positive\n",
    "negative_filtered=nor_negative"
   ]
  },
  {
   "cell_type": "code",
   "execution_count": null,
   "metadata": {
    "pycharm": {
     "is_executing": false
    }
   },
   "outputs": [],
   "source": [
    "def get_R(mcal,true):\n",
    "    e1=np.mean(mcal['e_1'])\n",
    "    e2=np.mean(mcal['e_2'])\n",
    "    g1=np.mean(true['true_cm_g_1'])\n",
    "    g2=np.mean(true['true_cm_g_2'])\n",
    "    r11=e1/g1\n",
    "    r12=e1/g2\n",
    "    r21=e2/g1\n",
    "    r22=e2/g2\n",
    "    return([[r11,r12],[r21,r22]],[[e1,e2],[g1,g2]])"
   ]
  },
  {
   "cell_type": "code",
   "execution_count": null,
   "metadata": {
    "pycharm": {
     "is_executing": false
    }
   },
   "outputs": [],
   "source": [
    "R_array_positive=[]\n",
    "eg_array_positive=[]\n",
    "for i in range(4):\n",
    "    R_array_positive.append(get_R(positive_filtered[i],positive_true[i])[0])\n",
    "    eg_array_positive.append(get_R(positive_filtered[i],positive_true[i])[1])"
   ]
  },
  {
   "cell_type": "code",
   "execution_count": null,
   "metadata": {
    "pycharm": {
     "is_executing": false
    }
   },
   "outputs": [],
   "source": [
    "R_array_negative=[]\n",
    "eg_array_negative=[]\n",
    "for i in range(4):\n",
    "    R_array_negative.append(get_R(negative_filtered[i],negative_true[i])[0])\n",
    "    eg_array_negative.append(get_R(negative_filtered[i],negative_true[i])[1])"
   ]
  },
  {
   "cell_type": "code",
   "execution_count": null,
   "metadata": {
    "pycharm": {
     "is_executing": false
    }
   },
   "outputs": [],
   "source": [
    "real_R_array_positive=[]\n",
    "for i in range(4):\n",
    "    r11=np.mean(positive_filtered[i]['R11'])\n",
    "    r12=np.mean(positive_filtered[i]['R12'])\n",
    "    r21=np.mean(positive_filtered[i]['R21'])\n",
    "    r22=np.mean(positive_filtered[i]['R22'])\n",
    "    real_R_array_positive.append([[r11,r12],[r21,r22]])"
   ]
  },
  {
   "cell_type": "code",
   "execution_count": null,
   "metadata": {
    "pycharm": {
     "is_executing": false
    }
   },
   "outputs": [],
   "source": [
    "real_R_array_negative=[]\n",
    "for i in range(4):\n",
    "    r11=np.mean(negative_filtered[i]['R11'])\n",
    "    r12=np.mean(negative_filtered[i]['R12'])\n",
    "    r21=np.mean(negative_filtered[i]['R21'])\n",
    "    r22=np.mean(negative_filtered[i]['R22'])\n",
    "    real_R_array_negative.append([[r11,r12],[r21,r22]])"
   ]
  },
  {
   "cell_type": "code",
   "execution_count": null,
   "metadata": {
    "pycharm": {
     "is_executing": false
    }
   },
   "outputs": [],
   "source": [
    "for i,R_array in enumerate(R_array_negative):\n",
    "    e1_error=np.std(negative_filtered[i]['e_1'])/np.sqrt(float(len(negative_filtered[i]['e_1'])))\n",
    "    e2_error=np.std(negative_filtered[i]['e_2'])/np.sqrt(float(len(negative_filtered[i]['e_2'])))\n",
    "    \n",
    "    g1_error=np.std(negative_true[i]['true_cm_g_1'])/np.sqrt(float(len(negative_true[i]['true_cm_g_1'])))\n",
    "    g2_error=np.std(negative_true[i]['true_cm_g_2'])/np.sqrt(float(len(negative_true[i]['true_cm_g_2'])))\n",
    "    \n",
    "    e1_mean=np.mean(negative_filtered[i]['e_1'])\n",
    "    e2_mean=np.mean(negative_filtered[i]['e_2'])\n",
    "    \n",
    "    g1_mean=np.mean(negative_true[i]['true_cm_g_1'])\n",
    "    g2_mean=np.mean(negative_true[i]['true_cm_g_2'])\n",
    "    \n",
    "    R11_error=np.sqrt((1/g1_mean)**2 * e1_error**2 + (e1_mean/(g1_mean**2))**2*g1_error**2)\n",
    "    R22_error=np.sqrt((1/g2_mean)**2 * e2_error**2 + (e2_mean/(g2_mean**2))**2*g2_error**2)\n",
    "    \n",
    "    R_11_mean=np.mean(negative_filtered[i]['R11'])\n",
    "    R_22_mean=np.mean(negative_filtered[i]['R22'])\n",
    "    R_11_std=np.std(negative_filtered[i]['R11'])\n",
    "    R_22_std=np.std(negative_filtered[i]['R22'])\n",
    "\n",
    "    \n",
    "    R_11_read_error=R_11_std/np.sqrt(float(len(negative_filtered[i]['R11'])))\n",
    "    R_22_read_error=R_11_std/np.sqrt(float(len(negative_filtered[i]['R22'])))\n",
    "\n",
    "    \n",
    "    \n",
    "    g_prime_1=np.mean(negative_filtered[i]['e_1'])/R_11_mean\n",
    "    g_prime_2=np.mean(negative_filtered[i]['e_2'])/R_22_mean\n",
    "    \n",
    "    g_prime_1_error=np.sqrt((1/R_11_mean)**2 * e1_error**2 + (e1_mean/R_11_mean**2)**2*R_11_read_error**2)\n",
    "    g_prime_2_error=np.sqrt((1/R_22_mean)**2 * e2_error**2 + (e2_mean/R_22_mean**2)**2*R_22_read_error**2)\n",
    "    print(\"For mcal{} with negative g, measured R is\".format(i+2))\n",
    "    for j,row1 in enumerate(R_array):\n",
    "        print(\"|{:5.3e} {:5.3e}|\".format(*row1))\n",
    "    print(\"<e1>={:5.3e}, <e2>={:5.3e}, <g1>={:5.3e}, <g2>={:5.3e}, R11={:5.3e}, R22={:5.3e}\".format(*eg_array_negative[i][0],*eg_array_negative[i][1],real_R_array_negative[i][0][0],real_R_array_negative[i][1][1]))\n",
    "    print(\"d_e1={:5.3e}, d_e2={:5.3e}\".format(e1_error,e2_error))\n",
    "    print(\"R11'_error={:5.3e} R22'_error={:5.3e}\".format(R11_error,R22_error))\n",
    "    print(\"\\n\")\n",
    "    print (\"g1'={:5.3e}, g2'={:5.3e},\".format(g_prime_1,g_prime_2)+\" g1'_error={:5.3e}, g2'_error={:5.3e}\".format(g_prime_1_error,g_prime_2_error))\n",
    "    print(\"\\n\")\n",
    "    print(\"Theoretical R is\".format(i+2))\n",
    "    for j,row1 in enumerate(R_array):\n",
    "        print(\"|{:5.3e} {:5.3e}|\".format(*real_R_array_negative[i][j]))\n",
    "    print (\"R11'={:5.3e}, R22'={:5.3e}, R11={:5.3e}, R22={:5.3e}\".format(R_array_negative[i][0][0],R_array_negative[i][1][1],real_R_array_negative[i][0][0],real_R_array_negative[i][1][1]))\n",
    "    print(\"-----------------------------------------------------------------\")\n",
    "    print(\"\\n\")\n"
   ]
  },
  {
   "cell_type": "code",
   "execution_count": null,
   "metadata": {
    "pycharm": {
     "is_executing": false
    }
   },
   "outputs": [],
   "source": [
    "for i,R_array in enumerate(R_array_positive):\n",
    "    e1_error=np.std(positive_filtered[i]['e_1'])/np.sqrt(float(len(positive_filtered[i]['e_1'])))\n",
    "    e2_error=np.std(positive_filtered[i]['e_2'])/np.sqrt(float(len(positive_filtered[i]['e_2'])))\n",
    "    g1_error=np.std(positive_true[i]['true_cm_g_1'])/np.sqrt(float(len(positive_true[i]['true_cm_g_1'])))\n",
    "    g2_error=np.std(positive_true[i]['true_cm_g_2'])/np.sqrt(float(len(positive_true[i]['true_cm_g_2'])))\n",
    "    e1_mean=np.mean(positive_filtered[i]['e_1'])\n",
    "    e2_mean=np.mean(positive_filtered[i]['e_2'])\n",
    "    g1_mean=np.mean(positive_true[i]['true_cm_g_1'])\n",
    "    g2_mean=np.mean(positive_true[i]['true_cm_g_2'])\n",
    "    R11_error=np.sqrt((1/g1_mean)**2 * e1_error**2 + (e1_mean/(g1_mean**2))**2*g1_error**2)\n",
    "    R22_error=np.sqrt((1/g2_mean)**2 * e2_error**2 + (e2_mean/(g2_mean**2))**2*g2_error**2)\n",
    "    \n",
    "    R_11_mean=np.mean(positive_filtered[i]['R11'])\n",
    "    R_22_mean=np.mean(positive_filtered[i]['R22'])\n",
    "    R_11_std=np.std(negative_filtered[i]['R11'])\n",
    "    R_22_std=np.std(negative_filtered[i]['R22'])\n",
    "    \n",
    "    R_11_read_error=R_11_std/np.sqrt(float(len(positive_filtered[i]['R11'])))\n",
    "    R_22_read_error=R_22_std/np.sqrt(float(len(positive_filtered[i]['R22'])))\n",
    "    \n",
    "    g_prime_1=np.mean(positive_filtered[i]['e_1'])/R_11_mean\n",
    "    g_prime_2=np.mean(positive_filtered[i]['e_2'])/R_22_mean\n",
    "    \n",
    "    g_prime_1_error=np.sqrt((1/R_11_mean)**2 * e1_error**2 + (e1_mean/(R_11_mean**2))**2*R_11_read_error**2)\n",
    "    g_prime_2_error=np.sqrt((1/R_22_mean)**2 * e2_error**2 + (e2_mean/(R_22_mean**2))**2*R_22_read_error**2)\n",
    "\n",
    "    \n",
    "\n",
    "    print(\"For mcal{} with positive g, measured R is\".format(i+2))\n",
    "    for j,row1 in enumerate(R_array):\n",
    "        print(\"|{:5.3e} {:5.3e}|\".format(*row1))\n",
    "    print(\"<e1>={:5.3e}, <e2>={:5.3e}, <g1>={:5.3e}, <g2>={:5.3e}, R11={:5.3e}, R22={:5.3e}\".format(*eg_array_positive[i][0],*eg_array_positive[i][1],real_R_array_positive[i][0][0],real_R_array_positive[i][1][1]))\n",
    "    print(\"d_e1={:5.3e}, d_e2={:5.3e}\".format(e1_error,e2_error))\n",
    "    print(\"R11'_error={:5.3e} R22'_error={:5.3e}\".format(R11_error,R22_error))\n",
    "    print(\"\\n\")\n",
    "    print (\"g1'={:5.3e}, g2'={:5.3e},\".format(g_prime_1,g_prime_2)+\" g1'_error={:5.3e}, g2'_error={:5.3e}\".format(g_prime_1_error,g_prime_2_error))\n",
    "    \n",
    "    print(\"Theoretical R is\".format(i+2))\n",
    "    for j,row1 in enumerate(R_array):\n",
    "        print(\"|{:5.3e} {:5.3e}|\".format(*real_R_array_positive[i][j]))\n",
    "    print (\"R11'={:5.3e}, R22'={:5.3e}, R11={:5.3e}, R22={:5.3e}\".format(R_array_positive[i][0][0],R_array_positive[i][1][1],real_R_array_positive[i][0][0],real_R_array_positive[i][1][1]))\n",
    "    print(\"-----------------------------------------------------------------\")"
   ]
  },
  {
   "cell_type": "code",
   "execution_count": null,
   "metadata": {
    "pycharm": {
     "is_executing": false
    }
   },
   "outputs": [],
   "source": [
    "print (\"For positive_g\")\n",
    "for i in [0,2]:\n",
    "    print (\"The difference beween R matrice in mcal{:5.3e} and mcal{:5.3e} is:\".format(i+2,i+3))\n",
    "    for j in range(2):\n",
    "        print (\"|{:5.3e} {:5.3e}|\".format(*(np.array(R_array_positive[i][j])-np.array(R_array_positive[i+1][j]))))"
   ]
  },
  {
   "cell_type": "code",
   "execution_count": null,
   "metadata": {
    "pycharm": {
     "is_executing": false
    }
   },
   "outputs": [],
   "source": [
    "print (\"For negative g\")\n",
    "for i in [0,2]:\n",
    "    print (\"The difference beween R matrice in mcal{} and mcal{} is:\".format(i+2,i+3))\n",
    "    for j in range(2):\n",
    "        print (\"|{:5.3e} {:5.3e}|\".format(*(np.array(R_array_negative[i][j])-np.array(R_array_negative[i+1][j]))))"
   ]
  },
  {
   "cell_type": "code",
   "execution_count": null,
   "metadata": {
    "pycharm": {
     "is_executing": false
    }
   },
   "outputs": [],
   "source": [
    "print (\"For positive g\")\n",
    "for i in range(4):\n",
    "    print(\"For mcal{}, the diffrence between measured and theoretical R is\".format(i+2))\n",
    "    for j in range(2):\n",
    "        print (\"|{:5.3e} {:5.3e}|\".format(*(np.array(R_array_positive[i][j])-np.array(real_R_array_positive[i][j])))) "
   ]
  },
  {
   "cell_type": "code",
   "execution_count": null,
   "metadata": {
    "pycharm": {
     "is_executing": false
    }
   },
   "outputs": [],
   "source": [
    "print (\"For negative g\")\n",
    "for i in range(4):\n",
    "    print(\"For mcal{}, the diffrence between measured and theoretical R is\".format(i+2))\n",
    "    for j in range(2):\n",
    "        print (\"|{:5.3e} {:5.3e}|\".format(*(np.array(R_array_negative[i][j])-np.array(real_R_array_negative[i][j])))) "
   ]
  },
  {
   "cell_type": "markdown",
   "metadata": {},
   "source": [
    "# Fitting e_i = m_i * g + c"
   ]
  },
  {
   "cell_type": "code",
   "execution_count": null,
   "metadata": {
    "pycharm": {
     "is_executing": false
    }
   },
   "outputs": [],
   "source": [
    "intersected_masks=[get_intersected_mask(true_dict_unique_sorted,catalog) for catalog in relavant_catalogs]"
   ]
  },
  {
   "cell_type": "code",
   "execution_count": null,
   "metadata": {
    "pycharm": {
     "is_executing": false
    }
   },
   "outputs": [],
   "source": [
    "intersected_masks_for_mcal=[mask[1] for mask in intersected_masks]\n",
    "intersected_masks_for_true=[mask[0] for mask in intersected_masks]"
   ]
  },
  {
   "cell_type": "code",
   "execution_count": null,
   "metadata": {
    "pycharm": {
     "is_executing": false
    }
   },
   "outputs": [],
   "source": [
    "intersected_clipped_array=mask_catalog_arrays(relavant_catalogs,intersected_masks_for_mcal)"
   ]
  },
  {
   "cell_type": "code",
   "execution_count": null,
   "metadata": {
    "pycharm": {
     "is_executing": false
    }
   },
   "outputs": [],
   "source": [
    "four_true_dicts=[true_dict_unique_sorted for i in range(4)]"
   ]
  },
  {
   "cell_type": "code",
   "execution_count": null,
   "metadata": {
    "pycharm": {
     "is_executing": false
    }
   },
   "outputs": [],
   "source": [
    "intersected_clipped_true=mask_catalog_arrays(four_true_dicts,intersected_masks_for_true)"
   ]
  },
  {
   "cell_type": "code",
   "execution_count": null,
   "metadata": {
    "pycharm": {
     "is_executing": false
    }
   },
   "outputs": [],
   "source": [
    "def get_cm(true_dict,mcal_dict):\n",
    "        y1=mcal_dict['e_1']\n",
    "        x1=true_dict['true_cm_g_1']\n",
    "        y2=mcal_dict['e_2']\n",
    "        x2=true_dict['true_cm_g_2']\n",
    "        m1,c1=np.polyfit(x1,y1,1)\n",
    "        m2,c2=np.polyfit(x2,y2,1)\n",
    "        return([[m1,c1],[m2,c2]])"
   ]
  },
  {
   "cell_type": "code",
   "execution_count": null,
   "metadata": {
    "pycharm": {
     "is_executing": false
    }
   },
   "outputs": [],
   "source": [
    "cm_array=[get_cm(intersected_clipped_true[i],intersected_clipped_array[i]) for i in range(4)]"
   ]
  },
  {
   "cell_type": "code",
   "execution_count": null,
   "metadata": {
    "pycharm": {
     "is_executing": false
    }
   },
   "outputs": [],
   "source": [
    "cm_array_positive=[get_cm(positive_true[i],positive_filtered[i]) for i in range(4)]"
   ]
  },
  {
   "cell_type": "code",
   "execution_count": null,
   "metadata": {
    "pycharm": {
     "is_executing": false
    }
   },
   "outputs": [],
   "source": [
    "cm_array_negative=[get_cm(negative_true[i],negative_filtered[i]) for i in range(4)]"
   ]
  },
  {
   "cell_type": "code",
   "execution_count": null,
   "metadata": {
    "pycharm": {
     "is_executing": false
    }
   },
   "outputs": [],
   "source": [
    "def print_cm(cm_array):\n",
    "    for i,matrix in enumerate(cm_array):\n",
    "        print(\"For mcal{}, m1={:10.3e},c1={:10.3e},m2={:10.3e},c2={:10.3e}\".format((i+2),*matrix[0],*matrix[1]))"
   ]
  },
  {
   "cell_type": "code",
   "execution_count": null,
   "metadata": {
    "pycharm": {
     "is_executing": false
    }
   },
   "outputs": [],
   "source": [
    "print_cm(cm_array)"
   ]
  },
  {
   "cell_type": "code",
   "execution_count": null,
   "metadata": {
    "pycharm": {
     "is_executing": false
    }
   },
   "outputs": [],
   "source": [
    "print_cm(cm_array_positive)"
   ]
  },
  {
   "cell_type": "code",
   "execution_count": null,
   "metadata": {
    "pycharm": {
     "is_executing": false
    }
   },
   "outputs": [],
   "source": [
    "print_cm(cm_array_negative)"
   ]
  },
  {
   "cell_type": "code",
   "execution_count": null,
   "metadata": {
    "pycharm": {
     "is_executing": false
    }
   },
   "outputs": [],
   "source": [
    "x1_array=[true_dict['true_cm_g_1'] for true_dict in intersected_clipped_true]\n",
    "x2_array=[true_dict['true_cm_g_2'] for true_dict in intersected_clipped_true]\n",
    "y1_array=[mcal_dict['e_1'] for mcal_dict in intersected_clipped_array]\n",
    "y2_array=[mcal_dict['e_2'] for mcal_dict in intersected_clipped_array]"
   ]
  },
  {
   "cell_type": "code",
   "execution_count": null,
   "metadata": {
    "pycharm": {
     "is_executing": false
    }
   },
   "outputs": [],
   "source": [
    "x3_array=[true_dict['true_cm_g_1'] for true_dict in positive_true]\n",
    "x4_array=[true_dict['true_cm_g_2'] for true_dict in positive_true]\n",
    "y3_array=[mcal_dict['e_1'] for mcal_dict in positive_filtered]\n",
    "y4_array=[mcal_dict['e_2'] for mcal_dict in positive_filtered]"
   ]
  },
  {
   "cell_type": "code",
   "execution_count": null,
   "metadata": {
    "pycharm": {
     "is_executing": false
    }
   },
   "outputs": [],
   "source": [
    "x5_array=[true_dict['true_cm_g_1'] for true_dict in negative_true]\n",
    "x6_array=[true_dict['true_cm_g_2'] for true_dict in negative_true]\n",
    "y5_array=[mcal_dict['e_1'] for mcal_dict in negative_filtered]\n",
    "y6_array=[mcal_dict['e_2'] for mcal_dict in negative_filtered]"
   ]
  },
  {
   "cell_type": "code",
   "execution_count": null,
   "metadata": {
    "pycharm": {
     "is_executing": false
    }
   },
   "outputs": [],
   "source": [
    "colors=(0,0,0)\n",
    "area=0.01\n",
    "def plot_scatter(x,y,cm):\n",
    "    plt.scatter(x,y,s=area,c=colors,alpha=0.5)\n",
    "    x_range=np.linspace(0,1)\n",
    "    plt.plot(x_range,cm[0]*x_range+cm[1])"
   ]
  },
  {
   "cell_type": "code",
   "execution_count": null,
   "metadata": {
    "pycharm": {
     "is_executing": false
    }
   },
   "outputs": [],
   "source": [
    "for i in range(4):\n",
    "    plt.figure()\n",
    "    plot_scatter(x1_array[i],y1_array[i],cm_array[i][0])\n",
    "    plt.title(\"mcal{} g_1 e_1\".format(i+2))\n",
    "    plt.savefig(\"scatter/mcal{}g1e1\".format(i+2),dpi=300)\n",
    "    plt.close()\n",
    "    plt.figure()\n",
    "    plot_scatter(x2_array[i],y2_array[i],cm_array[i][1])\n",
    "    plt.title(\"mcal{} g_2 e_2\".format(i+2))\n",
    "    plt.savefig(\"scatter/mcal{}g2e2\".format(i+2),dpi=300)\n",
    "    plt.close()"
   ]
  },
  {
   "cell_type": "code",
   "execution_count": null,
   "metadata": {
    "pycharm": {
     "is_executing": true
    }
   },
   "outputs": [],
   "source": [
    "for i in range(4):\n",
    "    plt.figure()\n",
    "    plot_scatter(x3_array[i],y3_array[i],cm_array_positive[i][0])\n",
    "    plt.title(\"mcal{} g_1 e_1_positive\".format(i+2))\n",
    "    plt.savefig(\"scatter/mcal{}g1e1_positive\".format(i+2),dpi=300)\n",
    "    plt.close()\n",
    "    plt.figure()\n",
    "    plot_scatter(x4_array[i],y4_array[i],cm_array[i][1])\n",
    "    plt.title(\"mcal{} g_2 e_2_positive\".format(i+2))\n",
    "    plt.savefig(\"scatter/mcal{}g2e2_positive\".format(i+2),dpi=300)\n",
    "    plt.close()"
   ]
  },
  {
   "cell_type": "code",
   "execution_count": null,
   "metadata": {
    "pycharm": {
     "is_executing": true
    }
   },
   "outputs": [],
   "source": [
    "for i in range(4):\n",
    "    plt.figure()\n",
    "    plot_scatter(x3_array[i],y3_array[i],cm_array_positive[i][0])\n",
    "    plt.title(\"mcal{} g_1 e_1_negative\".format(i+2))\n",
    "    plt.savefig(\"scatter/mcal{}g1e1_negative\".format(i+2),dpi=300)\n",
    "    plt.close()\n",
    "    plt.figure()\n",
    "    plot_scatter(x4_array[i],y4_array[i],cm_array[i][1])\n",
    "    plt.title(\"mcal{} g_2 e_2_negative\".format(i+2))\n",
    "    plt.savefig(\"scatter/mcal{}g2e2_negative\".format(i+2),dpi=300)\n",
    "    plt.close()"
   ]
  },
  {
   "cell_type": "code",
   "execution_count": null,
   "metadata": {
    "pycharm": {
     "is_executing": true
    }
   },
   "outputs": [],
   "source": [
    "for i in [0,2]:\n",
    "    print(i)"
   ]
  },
  {
   "cell_type": "markdown",
   "metadata": {
    "toc-hr-collapsed": false
   },
   "source": [
    "# healpix"
   ]
  },
  {
   "cell_type": "code",
   "execution_count": null,
   "metadata": {
    "pycharm": {
     "is_executing": true,
     "name": "#%%\n"
    }
   },
   "outputs": [],
   "source": [
    "from astropy_healpix import HEALpix\n",
    "from astropy.coordinate import icrs\n",
    "\n"
   ]
  }
 ],
 "metadata": {
  "kernelspec": {
   "display_name": "Python 3",
   "language": "python",
   "name": "python3"
  },
  "language_info": {
   "codemirror_mode": {
    "name": "ipython",
    "version": 3
   },
   "file_extension": ".py",
   "mimetype": "text/x-python",
   "name": "python",
   "nbconvert_exporter": "python",
   "pygments_lexer": "ipython3",
   "version": "3.7.3"
  },
  "pycharm": {
   "stem_cell": {
    "cell_type": "raw",
    "metadata": {
     "collapsed": false
    },
    "source": []
   }
  }
 },
 "nbformat": 4,
 "nbformat_minor": 2
}
