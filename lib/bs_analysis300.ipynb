{
 "cells": [
  {
   "cell_type": "code",
   "execution_count": 3,
   "metadata": {},
   "outputs": [],
   "source": [
    "import pandas as pd\n",
    "import numpy as np\n",
    "import pickle\n",
    "import treecorr\n",
    "from tqdm import tqdm_notebook as tqdm\n",
    "import seaborn as sns\n",
    "import matplotlib.pyplot as plt\n",
    "from scipy import stats"
   ]
  },
  {
   "cell_type": "code",
   "execution_count": 4,
   "metadata": {},
   "outputs": [],
   "source": [
    "sns.set(color_codes=True)"
   ]
  },
  {
   "cell_type": "code",
   "execution_count": 5,
   "metadata": {},
   "outputs": [],
   "source": [
    "df_riz = pd.read_pickle('/home/cz136/project/balrog/data/mcal{}_df_all.pkl'.format(3)) "
   ]
  },
  {
   "cell_type": "code",
   "execution_count": 6,
   "metadata": {},
   "outputs": [],
   "source": [
    "keys = df_riz.columns[40:]\n",
    "N=300"
   ]
  },
  {
   "cell_type": "code",
   "execution_count": 7,
   "metadata": {},
   "outputs": [],
   "source": [
    "bs_xi_dict={}\n",
    "bs_xi_true_dict={}\n",
    "for key in keys:\n",
    "    bs_xi_dict[key]=np.load(\"/home/cz136/project/balrog/data/bootstrap/{}/{}.npy\".format(N,key))\n",
    "    bs_xi_true_dict[key]=np.load(\"/home/cz136/project/balrog/data/bootstrap/{}/{}_true.npy\".format(N,key))"
   ]
  },
  {
   "cell_type": "code",
   "execution_count": 15,
   "metadata": {},
   "outputs": [],
   "source": [
    "jk_xi_dict={}\n",
    "jk_xi_true_dict={}\n",
    "\n",
    "for key in keys:\n",
    "    jk_xi_dict[key]=np.load(\"/home/cz136/project/balrog/data/equalsize/{}.npy\".format(key))\n",
    "    jk_xi_true_dict[key]=np.load(\"/home/cz136/project/balrog/data/equalsize/{}_true.npy\".format(key))"
   ]
  },
  {
   "cell_type": "code",
   "execution_count": 9,
   "metadata": {},
   "outputs": [],
   "source": [
    "def get_ke(catalog,key):\n",
    "    \n",
    "    \n",
    "    delta_g1=catalog['e_1'].to_numpy()\n",
    "    delta_g2=catalog['e_2'].to_numpy()\n",
    "    k=catalog[key].to_numpy()\n",
    "    ra=catalog['ra'].to_numpy()\n",
    "    dec=catalog['dec'].to_numpy()\n",
    "\n",
    "    \n",
    "    kcat= treecorr.Catalog( k=k,\n",
    "                                 ra=ra, dec=dec, \n",
    "                                 ra_units='deg', dec_units='deg')\n",
    "    \n",
    "    gcat = treecorr.Catalog( g1=delta_g1, g2=delta_g2,\n",
    "                                 ra=ra, dec=dec, \n",
    "                                 ra_units='deg', dec_units='deg')\n",
    "    \n",
    "    kg = treecorr.KGCorrelation(nbins=20, min_sep=2.5, max_sep=250, sep_units='arcmin', bin_slop=0.2)\n",
    "    kg.process(kcat,gcat)\n",
    "    return (kg.xi)"
   ]
  },
  {
   "cell_type": "code",
   "execution_count": 10,
   "metadata": {},
   "outputs": [],
   "source": [
    "def get_ke_true(catalog,key):\n",
    "\n",
    "    \n",
    "    \n",
    "    \n",
    "    delta_g1=catalog['true_cm_g_1'].to_numpy()\n",
    "    delta_g2=catalog['true_cm_g_2'].to_numpy()\n",
    "    k=catalog[key].to_numpy()\n",
    "    ra=catalog['ra'].to_numpy()\n",
    "    dec=catalog['dec'].to_numpy()\n",
    "    \n",
    "    kcat= treecorr.Catalog( k=k,\n",
    "                                 ra=ra, dec=dec, \n",
    "                                 ra_units='deg', dec_units='deg')\n",
    "    \n",
    "    gcat = treecorr.Catalog( g1=delta_g1, g2=delta_g2,\n",
    "                                 ra=ra, dec=dec, \n",
    "                                 ra_units='deg', dec_units='deg')\n",
    "    \n",
    "    kg = treecorr.KGCorrelation(nbins=20, min_sep=2.5, max_sep=250, sep_units='arcmin', bin_slop=0.2)\n",
    "    kg.process(kcat,gcat)\n",
    "    \n",
    "    return (kg.xi)"
   ]
  },
  {
   "cell_type": "code",
   "execution_count": 11,
   "metadata": {},
   "outputs": [],
   "source": [
    "def get_chisqr(covariance,y_value):\n",
    "    return(np.dot(np.dot(y_value,np.linalg.inv(covariance)),y_value))\n",
    "\n",
    "def get_cov(jk_samples_for_key):\n",
    "    \n",
    "    xi_array=np.array(jk_samples_for_key[0])\n",
    "    xi_true_array=np.array(jk_samples_for_key[1])\n",
    "    \n",
    "    diff_array=xi_array-xi_true_array\n",
    "    \n",
    "    n = len(diff_array)\n",
    "    \n",
    "    emp_average=(1/n)*np.sum(diff_array,axis=0)\n",
    "    nd = len(diff_array[0])\n",
    "    cov=np.empty([nd,nd])\n",
    "    for row in range(nd):\n",
    "        for column in range(nd):\n",
    "            cov[row][column]=\\\n",
    "            1/n * np.sum((diff_array[:,row]-emp_average[row])*(diff_array[:,column]-emp_average[column]))\n",
    "    return (cov)\n",
    "\n",
    "def get_y_value(key):\n",
    "    y_value_true = get_ke(df_riz,key)\n",
    "    y_value = get_ke_true(df_riz,key)\n",
    "    diff=y_value-y_value_true\n",
    "    return (diff)\n",
    "\n",
    "def get_x_value(catalog,key):\n",
    "        \n",
    "    delta_g1=catalog['e_1'].to_numpy()\n",
    "    delta_g2=catalog['e_2'].to_numpy()\n",
    "    k=catalog[key].to_numpy()\n",
    "    ra=catalog['ra'].to_numpy()\n",
    "    dec=catalog['dec'].to_numpy()\n",
    "\n",
    "    \n",
    "    kcat= treecorr.Catalog( k=k,\n",
    "                                 ra=ra, dec=dec, \n",
    "                                 ra_units='deg', dec_units='deg')\n",
    "    \n",
    "    gcat = treecorr.Catalog( g1=delta_g1, g2=delta_g2,\n",
    "                                 ra=ra, dec=dec, \n",
    "                                 ra_units='deg', dec_units='deg')\n",
    "    \n",
    "    kg = treecorr.KGCorrelation(nbins=20, min_sep=2.5, max_sep=250, sep_units='arcmin', bin_slop=0.2)\n",
    "    kg.process(kcat,gcat)\n",
    "    return (np.exp(kg.meanlogr))"
   ]
  },
  {
   "cell_type": "code",
   "execution_count": 12,
   "metadata": {},
   "outputs": [],
   "source": [
    "def get_chi_sqr_from_matrices(xi_dict,xi_true_dict):\n",
    "    chi_sqr_array=np.array([])\n",
    "    for key in keys:\n",
    "        cov = get_cov((xi_dict[key],xi_true_dict[key]))\n",
    "        y = get_y_value(key)\n",
    "        chi_sqr=get_chisqr(cov,y)\n",
    "        chi_sqr_array=np.append(chi_sqr_array,chi_sqr)\n",
    "    return(chi_sqr_array)"
   ]
  },
  {
   "cell_type": "code",
   "execution_count": 13,
   "metadata": {},
   "outputs": [],
   "source": [
    "chi_sqrs=get_chi_sqr_from_matrices(bs_xi_dict,bs_xi_true_dict)"
   ]
  },
  {
   "cell_type": "code",
   "execution_count": 14,
   "metadata": {},
   "outputs": [],
   "source": [
    "chi_sqrs_series=pd.Series(chi_sqrs)"
   ]
  },
  {
   "cell_type": "code",
   "execution_count": 16,
   "metadata": {},
   "outputs": [
    {
     "data": {
      "image/png": "[encoded data removed]",
      "text/plain": [
       "<Figure size 432x288 with 1 Axes>"
      ]
     },
     "metadata": {},
     "output_type": "display_data"
    }
   ],
   "source": [
    "plt.hist(chi_sqrs_series)\n",
    "plt.xlabel(\"Bootstrap $\\chi^2$ Value\")\n",
    "plt.ylabel(\"Count\")\n",
    "plt.title(\"Bootstrap $n=300$   $\\chi^2$ Distribution\")\n",
    "plt.savefig(\"/home/cz136/project/balrog/data/bootstrap/300/n_300_chi_sqr\")"
   ]
  },
  {
   "cell_type": "code",
   "execution_count": 55,
   "metadata": {},
   "outputs": [
    {
     "data": {
      "text/plain": [
       "count    31.000000\n",
       "mean     19.955827\n",
       "std       1.867733\n",
       "min      11.203054\n",
       "25%      19.565794\n",
       "50%      20.106847\n",
       "75%      21.152678\n",
       "max      21.858996\n",
       "dtype: float64"
      ]
     },
     "execution_count": 55,
     "metadata": {},
     "output_type": "execute_result"
    }
   ],
   "source": [
    "chi_sqrs_series.describe()"
   ]
  },
  {
   "cell_type": "code",
   "execution_count": null,
   "metadata": {},
   "outputs": [],
   "source": []
  }
 ],
 "metadata": {
  "kernelspec": {
   "display_name": "Python 3",
   "language": "python",
   "name": "python3"
  },
  "language_info": {
   "codemirror_mode": {
    "name": "ipython",
    "version": 3
   },
   "file_extension": ".py",
   "mimetype": "text/x-python",
   "name": "python",
   "nbconvert_exporter": "python",
   "pygments_lexer": "ipython3",
   "version": "3.7.3"
  }
 },
 "nbformat": 4,
 "nbformat_minor": 4
}
