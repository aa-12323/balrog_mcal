{
 "cells": [
  {
   "cell_type": "code",
   "execution_count": 1,
   "metadata": {},
   "outputs": [],
   "source": [
    "import pandas as pd\n",
    "import numpy as np\n",
    "import pickle\n",
    "import treecorr\n",
    "from tqdm import tqdm_notebook as tqdm"
   ]
  },
  {
   "cell_type": "code",
   "execution_count": 2,
   "metadata": {},
   "outputs": [],
   "source": [
    "df_all=[None]*4"
   ]
  },
  {
   "cell_type": "code",
   "execution_count": 3,
   "metadata": {},
   "outputs": [],
   "source": [
    "for i in range(4):\n",
    "    df_all[i]=pd.read_pickle('/home/cz136/project/balrog/data/mcal{}_df_all.pkl'.format(i+2))"
   ]
  },
  {
   "cell_type": "code",
   "execution_count": 4,
   "metadata": {},
   "outputs": [],
   "source": [
    "df_riz = pd.read_pickle('/home/cz136/project/balrog/data/mcal{}_df_all.pkl'.format(3)) "
   ]
  },
  {
   "cell_type": "code",
   "execution_count": 5,
   "metadata": {},
   "outputs": [],
   "source": [
    "keys = df_riz.columns[40:]\n",
    "# keys=['ebv_planck13']"
   ]
  },
  {
   "cell_type": "code",
   "execution_count": 6,
   "metadata": {},
   "outputs": [],
   "source": [
    "true_df=pd.read_pickle(\"/home/cz136/project/balrog/data/true_df.pkl\")\n",
    "mcal_list = [df_all]\n",
    "df_riz_list= [df_riz]"
   ]
  },
  {
   "cell_type": "code",
   "execution_count": 7,
   "metadata": {},
   "outputs": [],
   "source": [
    "def add_tilename(df_list,true):\n",
    "    for i in range(4):\n",
    "        df_list[i]=pd.concat([df_list[i],true_df[['meas_tilename']]],axis=1,join='inner')"
   ]
  },
  {
   "cell_type": "code",
   "execution_count": 8,
   "metadata": {},
   "outputs": [],
   "source": [
    "for df_list in mcal_list:\n",
    "    add_tilename(df_list,true_df)"
   ]
  },
  {
   "cell_type": "code",
   "execution_count": 9,
   "metadata": {},
   "outputs": [],
   "source": [
    "df_riz=pd.concat([df_riz,true_df[['meas_tilename']]],axis=1,join='inner')"
   ]
  },
  {
   "cell_type": "code",
   "execution_count": 10,
   "metadata": {},
   "outputs": [],
   "source": [
    "data_len=len(df_riz)\n",
    "wpos1=np.ones(data_len)\n",
    "w_=np.zeros(data_len)"
   ]
  },
  {
   "cell_type": "code",
   "execution_count": 11,
   "metadata": {},
   "outputs": [],
   "source": [
    "def get_ke(catalog,key):\n",
    "    \n",
    "    \n",
    "    delta_g1=catalog['e_1'].to_numpy()\n",
    "    delta_g2=catalog['e_2'].to_numpy()\n",
    "    k=catalog[key].to_numpy()\n",
    "    ra=catalog['ra'].to_numpy()\n",
    "    dec=catalog['dec'].to_numpy()\n",
    "\n",
    "    \n",
    "    kcat= treecorr.Catalog( k=k,\n",
    "                                 ra=ra, dec=dec, \n",
    "                                 ra_units='deg', dec_units='deg')\n",
    "    \n",
    "    gcat = treecorr.Catalog( g1=delta_g1, g2=delta_g2,\n",
    "                                 ra=ra, dec=dec, \n",
    "                                 ra_units='deg', dec_units='deg')\n",
    "    \n",
    "    kg = treecorr.KGCorrelation(nbins=20, min_sep=2.5, max_sep=250, sep_units='arcmin', bin_slop=0.2)\n",
    "    kg.process(kcat,gcat)\n",
    "    xi=kg.xi*kg.npairs\n",
    "    return (np.array([xi,kg.npairs]))"
   ]
  },
  {
   "cell_type": "code",
   "execution_count": 12,
   "metadata": {},
   "outputs": [],
   "source": [
    "def get_ke_cross(catalog1,catalog2,key):\n",
    "    \n",
    "\n",
    "\n",
    "    k=catalog1[key].to_numpy()\n",
    "    \n",
    "    delta_g1=catalog2['e_1'].to_numpy()\n",
    "    delta_g2=catalog2['e_2'].to_numpy()\n",
    "    \n",
    "    ra1=catalog1['ra'].to_numpy()\n",
    "    dec1=catalog1['dec'].to_numpy()\n",
    "    \n",
    "    ra2=catalog2['ra'].to_numpy()\n",
    "    dec2=catalog2['dec'].to_numpy()\n",
    "    \n",
    "    \n",
    "    kcat= treecorr.Catalog( k=k,\n",
    "                                 ra=ra1, dec=dec1, \n",
    "                                 ra_units='deg', dec_units='deg')\n",
    "    \n",
    "    gcat = treecorr.Catalog( g1=delta_g1, g2=delta_g2,\n",
    "                                 ra=ra2, dec=dec2, \n",
    "                                 ra_units='deg', dec_units='deg')\n",
    "    \n",
    "    kg = treecorr.KGCorrelation(nbins=20, min_sep=2.5, max_sep=250, sep_units='arcmin', bin_slop=0.2)\n",
    "    kg.process_cross(kcat,gcat)\n",
    "    \n",
    "    return(np.array([kg.xi,kg.npairs]))"
   ]
  },
  {
   "cell_type": "code",
   "execution_count": 13,
   "metadata": {},
   "outputs": [],
   "source": [
    "def get_ke_true(catalog,key):\n",
    "    \n",
    "    \n",
    "    \n",
    "    delta_g1=catalog['true_cm_g_1'].to_numpy()\n",
    "    delta_g2=catalog['true_cm_g_2'].to_numpy()\n",
    "    k=catalog[key].to_numpy()\n",
    "    ra=catalog['ra'].to_numpy()\n",
    "    dec=catalog['dec'].to_numpy()\n",
    "    \n",
    "    kcat= treecorr.Catalog( k=k,\n",
    "                                 ra=ra, dec=dec, \n",
    "                                 ra_units='deg', dec_units='deg')\n",
    "    \n",
    "    gcat = treecorr.Catalog( g1=delta_g1, g2=delta_g2,\n",
    "                                 ra=ra, dec=dec, \n",
    "                                 ra_units='deg', dec_units='deg')\n",
    "    \n",
    "    kg = treecorr.KGCorrelation(nbins=20, min_sep=2.5, max_sep=250, sep_units='arcmin', bin_slop=0.2)\n",
    "    kg.process_cross(kcat,gcat)\n",
    "    xi=kg.xi*kg.npairs\n",
    "    return(np.array([xi,kg.npairs]))"
   ]
  },
  {
   "cell_type": "code",
   "execution_count": 14,
   "metadata": {},
   "outputs": [],
   "source": [
    "def get_ke_true_cross(catalog1,catalog2,key):\n",
    "    \n",
    " \n",
    "\n",
    "    k=catalog1[key].to_numpy()\n",
    "    \n",
    "    delta_g1=catalog2['true_cm_g_1'].to_numpy()\n",
    "    delta_g2=catalog2['true_cm_g_2'].to_numpy()\n",
    "    \n",
    "    ra1=catalog1['ra'].to_numpy()\n",
    "    dec1=catalog1['dec'].to_numpy()\n",
    "    \n",
    "    ra2=catalog2['ra'].to_numpy()\n",
    "    dec2=catalog2['dec'].to_numpy()\n",
    "    \n",
    "    kcat= treecorr.Catalog( k=k,\n",
    "                                 ra=ra1, dec=dec1, \n",
    "                                 ra_units='deg', dec_units='deg')\n",
    "    \n",
    "    gcat = treecorr.Catalog( g1=delta_g1, g2=delta_g2,\n",
    "                                 ra=ra2, dec=dec2, \n",
    "                                 ra_units='deg', dec_units='deg')\n",
    "    \n",
    "    kg = treecorr.KGCorrelation(nbins=20, min_sep=2.5, max_sep=250, sep_units='arcmin', bin_slop=0.2)\n",
    "    kg.process_cross(kcat,gcat)\n",
    "    \n",
    "    return(np.array([kg.xi,kg.npairs]))"
   ]
  },
  {
   "cell_type": "code",
   "execution_count": 15,
   "metadata": {},
   "outputs": [],
   "source": [
    "tile_list=df_riz['meas_tilename'].unique()\n",
    "        \n",
    "def jk_resample(df):\n",
    "    sample_dict={}\n",
    "    for i,tile in tqdm(enumerate(tile_list)):\n",
    "        jk_sample=df[(df['meas_tilename']==tile)]\n",
    "        sample_dict[tile]=jk_sample\n",
    "    return(sample_dict)"
   ]
  },
  {
   "cell_type": "code",
   "execution_count": null,
   "metadata": {},
   "outputs": [],
   "source": [
    "ind_samples_for_keys={}\n",
    "for key in keys:\n",
    "    ind_samples_for_keys[key]=jk_resample(df_riz)"
   ]
  },
  {
   "cell_type": "code",
   "execution_count": 17,
   "metadata": {},
   "outputs": [],
   "source": [
    "def get_corr_matrix(df,key):\n",
    "    n = len(tile_list)\n",
    "    corr_matrix= [ [ None for i in range(n) ] for j in range(n) ] \n",
    "    corr_matrix_true=[ [ None for i in range(n) ] for j in range(n) ] \n",
    "    for i,tile_i in tqdm(enumerate(tile_list)):\n",
    "        for j,tile_j in enumerate(tile_list):\n",
    "            if i==j:\n",
    "                corr_matrix[i][j]=get_ke(ind_samples_for_keys[key][tile_i],key)\n",
    "                corr_matrix_true[i][j]=get_ke_true(ind_samples_for_keys[key][tile_i],key)\n",
    "#                 print(corr_matrix[i][j])\n",
    "#                 print(corr_matrix_true[i])\n",
    "            if i!=j:\n",
    "                corr_matrix[i][j]=get_ke_cross(ind_samples_for_keys[key][tile_i],ind_samples_for_keys[key][tile_j],key)\n",
    "                corr_matrix_true[i][j]=get_ke_true_cross(ind_samples_for_keys[key][tile_i],ind_samples_for_keys[key][tile_j],key)\n",
    "#                 print(corr_matrix[i][j])\n",
    "#                 print(corr_matrix_true[i][j])\n",
    "    corr_matrix=np.array(corr_matrix)\n",
    "    corr_matrix_true=np.array(corr_matrix_true)\n",
    "    np.save(\"/home/cz136/project/balrog/data/matrices/corr_{}\".format(key),corr_matrix)\n",
    "    np.save(\"/home/cz136/project/balrog/data/matrices/corr_true_{}\".format(key),corr_matrix_true)\n",
    "    return(corr_matrix,corr_matrix_true)"
   ]
  },
  {
   "cell_type": "code",
   "execution_count": null,
   "metadata": {},
   "outputs": [],
   "source": [
    "corr_matrices_dict_tuple={}\n",
    "for key in keys:\n",
    "    corr_matrices_dict_tuple[key]=get_corr_matrix(df_riz,key)"
   ]
  },
  {
   "cell_type": "code",
   "execution_count": 27,
   "metadata": {},
   "outputs": [],
   "source": [
    "def get_jk_from_matrix(matrix_tuple):\n",
    "    def get_sub_matrix(matrix,i,j):\n",
    "        sub_matrix=[[entry for col_index,entry in enumerate(row) if col_index!=j] for row_index,row in enumerate(matrix) if row_index!=i]\n",
    "        return (sub_matrix)\n",
    "    def get_jked_sum(matrix,i):\n",
    "        sub_matrix=np.array(get_sub_matrix(matrix,i,i))\n",
    "        jk_sum=np.sum(np.sum(sub_matrix,axis=0),axis=0)\n",
    "        return (jk_sum)\n",
    "    corr_matrix, corr_matrix_true=matrix_tuple\n",
    "    jk_xi=[None]*len(corr_matrix)\n",
    "    jk_xi_true=[None]*len(corr_matrix)\n",
    "    for i in tqdm(range(len(corr_matrix))):\n",
    "        corr=get_jked_sum(corr_matrix,i)\n",
    "        corr_true=get_jked_sum(corr_matrix_true,i)\n",
    "        jk_xi[i]=corr[0]/corr[1]\n",
    "        jk_xi_true[i]=corr_true[0]/corr_true[1]\n",
    "    return(jk_xi,jk_xi_true)"
   ]
  },
  {
   "cell_type": "code",
   "execution_count": null,
   "metadata": {},
   "outputs": [],
   "source": [
    "jk_list={}\n",
    "for key in keys[1:4]:\n",
    "    print(key)\n",
    "    jk_list[key]=get_jk_from_matrix(corr_matrices_dict_tuple[key])"
   ]
  },
  {
   "cell_type": "code",
   "execution_count": null,
   "metadata": {},
   "outputs": [],
   "source": [
    "def get_chisqr(covariance,y_value):\n",
    "    return(np.dot(np.dot(y_value,np.linalg.inv(covariance)),y_value))\n",
    "\n",
    "def get_cov(jk_samples_for_key):\n",
    "    \n",
    "    xi_array=np.array(jk_samples_for_key[0])\n",
    "    xi_true_array=np.array(jk_samples_for_key[1])\n",
    "    \n",
    "    diff_array=xi_array-xi_true_array\n",
    "    \n",
    "    n = len(diff_array)\n",
    "    \n",
    "    emp_average=1/n*np.sum(diff_array,axis=0)\n",
    "    nd = len(diff_array[0])\n",
    "    cov=np.empty([nd,nd])\n",
    "    for row in range(nd):\n",
    "        for column in range(nd):\n",
    "            cov[row][column]=\\\n",
    "            (n-1)/n * np.sum((diff_array[:,row]-emp_average[row])*(diff_array[:,column]-emp_average[column]))\n",
    "    return (cov)\n",
    "\n",
    "def get_y_value(key):\n",
    "    y_value = get_ke(df_riz,key)[0]/ get_ke(df_riz,key)[1]\n",
    "    return (y_value)"
   ]
  },
  {
   "cell_type": "code",
   "execution_count": 69,
   "metadata": {},
   "outputs": [],
   "source": [
    "cov = get_cov(ebv)\n",
    "y_value=get_y_value('ebv_planck13')"
   ]
  },
  {
   "cell_type": "code",
   "execution_count": 70,
   "metadata": {},
   "outputs": [
    {
     "data": {
      "text/plain": [
       "3.780098790584814"
      ]
     },
     "execution_count": 70,
     "metadata": {},
     "output_type": "execute_result"
    }
   ],
   "source": [
    "get_chisqr(cov,y_value)"
   ]
  },
  {
   "cell_type": "code",
   "execution_count": 32,
   "metadata": {},
   "outputs": [],
   "source": [
    "star_density_cov=get_cov(jk_list['star_density_piffv23'])\n",
    "y_value=get_y_value('star_density_piffv23')"
   ]
  },
  {
   "cell_type": "code",
   "execution_count": 33,
   "metadata": {},
   "outputs": [
    {
     "data": {
      "text/plain": [
       "6.3195115328307"
      ]
     },
     "execution_count": 33,
     "metadata": {},
     "output_type": "execute_result"
    }
   ],
   "source": [
    "get_chisqr(star_density_cov,y_value)"
   ]
  },
  {
   "cell_type": "code",
   "execution_count": null,
   "metadata": {},
   "outputs": [],
   "source": []
  }
 ],
 "metadata": {
  "kernelspec": {
   "display_name": "Python 3",
   "language": "python",
   "name": "python3"
  },
  "language_info": {
   "codemirror_mode": {
    "name": "ipython",
    "version": 3
   },
   "file_extension": ".py",
   "mimetype": "text/x-python",
   "name": "python",
   "nbconvert_exporter": "python",
   "pygments_lexer": "ipython3",
   "version": "3.7.3"
  }
 },
 "nbformat": 4,
 "nbformat_minor": 4
}
