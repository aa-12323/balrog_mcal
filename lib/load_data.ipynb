{
 "cells": [
  {
   "cell_type": "markdown",
   "metadata": {},
   "source": [
    "# Import and Load Data"
   ]
  },
  {
   "cell_type": "code",
   "execution_count": 1,
   "metadata": {},
   "outputs": [],
   "source": [
    "import numpy as np\n",
    "import pandas as pd\n",
    "from pandas import Series,DataFrame\n",
    "from astropy.table import Table\n",
    "from astropy.io import fits\n",
    "import matplotlib.pyplot as plt\n",
    "import h5py\n",
    "from tqdm import tqdm\n",
    "from IPython.display import display, Math\n",
    "\n",
    "## modules I am still trying to learn how to use\n",
    "import numexpr\n",
    "import bottleneck\n",
    "\n",
    "##\n",
    "pd.set_option('display.float_format', lambda x: '%.3e' % x)\n",
    "np.set_printoptions(formatter={'all':lambda x: '%.3e'% x})"
   ]
  },
  {
   "cell_type": "markdown",
   "metadata": {},
   "source": [
    "## Functions to load data"
   ]
  },
  {
   "cell_type": "code",
   "execution_count": 2,
   "metadata": {},
   "outputs": [],
   "source": [
    "## function to extract fits and hdf data\n",
    "def load_true():\n",
    "    \"\"\"This is a function that takes fits and hdf data and return them to pandas dataframe\"\"\"\n",
    "\n",
    "    # detect = fits.open('/lsst/troxel/balrog/balrog_detection_catalog-v1.2.fits')[-1]\n",
    "    phot   = fits.open('/lsst/troxel/balrog/balrog_matched_catalog_flatten.fits')[1]\n",
    "    id_balrog = fits.open('/lsst/troxel/balrog/balrog_mcal_bal_ids_v1.2.fits')\n",
    "\n",
    "    #load true catalogs in pandas\n",
    "    # detectp_table=Table.read('/lsst/troxel/balrog/balrog_detection_catalog-v1.2.fits').to_pandas()\n",
    "    photdf=Table.read('/lsst/troxel/balrog/balrog_matched_catalog_flatten.fits').to_pandas()\n",
    "    id_balrogdf = Table.read('/lsst/troxel/balrog/balrog_mcal_bal_ids_v1.2.fits').to_pandas()\n",
    "    \n",
    "    photdf.drop_duplicates(['bal_id'],inplace=True)\n",
    "    \n",
    "    photdf.set_index('bal_id',inplace=True,verify_integrity=True)\n",
    "\n",
    "    return(photdf)\n",
    "\n",
    "\n",
    "def load_mcal():\n",
    "    #all objects riz\n",
    "#     mcal0= h5py.File('/lsst/troxel/balrog/balrog_mcal_stack-y3v02-0-riz-mcal-v1.2.h5','r')['catalog']['unsheared'] #with neighbor\n",
    "#     mcal1= h5py.File('/lsst/troxel/balrog/balrog_mcal_stack-y3v02-0-riz-noNB-mcal-v1.2.h5','r')['catalog']['unsheared'] #no neighbor\n",
    "    ##only matched balrog object riz\n",
    "    mcal2=h5py.File('/lsst/troxel/balrog/balrog_mcal_stack-y3v02-0-riz-mcal-1.3.h5','r')['catalog']['unsheared'] #with neighbor\n",
    "    mcal3=h5py.File('/lsst/troxel/balrog/balrog_mcal_stack-y3v02-0-riz-noNB-mcal-1.3.h5','r')['catalog']['unsheared'] #no neighbor\n",
    "    #only matched balrog object griz\n",
    "    mcal4=h5py.File('/lsst/troxel/balrog/balrog_mcal_stack-y3v02-0-griz-mcal-1.3.h5','r')['catalog']['unsheared'] #with neighbor\n",
    "    mcal5=h5py.File('/lsst/troxel/balrog/balrog_mcal_stack-y3v02-0-griz-noNB-mcal-1.3.h5','r')['catalog']['unsheared'] #no neighbor\n",
    "    \n",
    "    mcal_list=[mcal2,mcal3,mcal4,mcal5]\n",
    "    return (mcal_list)"
   ]
  },
  {
   "cell_type": "code",
   "execution_count": 3,
   "metadata": {},
   "outputs": [],
   "source": [
    "## function to convert \n",
    "def get_df_list(mcal_list):\n",
    "    mcal_df_list =[]\n",
    "    for catalog in mcal_list:\n",
    "        local_df=pd.DataFrame()\n",
    "        for key in catalog.keys():\n",
    "            local_df[key]=np.array(catalog[key][:]).byteswap().newbyteorder()\n",
    "        if 'bal_id' in local_df.keys():\n",
    "            local_df.set_index('bal_id',inplace=True,verify_integrity=True)\n",
    "        mcal_df_list.append(local_df)\n",
    "    return(mcal_df_list)"
   ]
  },
  {
   "cell_type": "code",
   "execution_count": 4,
   "metadata": {},
   "outputs": [],
   "source": [
    "photdf=load_true()"
   ]
  },
  {
   "cell_type": "code",
   "execution_count": 5,
   "metadata": {},
   "outputs": [],
   "source": [
    "mcal_df_list=get_df_list(load_mcal())"
   ]
  },
  {
   "cell_type": "markdown",
   "metadata": {},
   "source": [
    "## List of dtypes in mcal"
   ]
  },
  {
   "cell_type": "code",
   "execution_count": 6,
   "metadata": {},
   "outputs": [
    {
     "data": {
      "text/plain": [
       "R11                    >f8\n",
       "R12                    >f8\n",
       "R21                    >f8\n",
       "R22                    >f8\n",
       "T                  float64\n",
       "T_err              float64\n",
       "coadd_object_id      int64\n",
       "covmat_0_1         float64\n",
       "covmat_1_1         float64\n",
       "covmat_2_2         float64\n",
       "dec                float64\n",
       "e_1                float64\n",
       "e_2                float64\n",
       "flags                int32\n",
       "flux_err_g         float64\n",
       "flux_err_i         float64\n",
       "flux_err_r         float64\n",
       "flux_err_z         float64\n",
       "flux_g             float64\n",
       "flux_i             float64\n",
       "flux_r             float64\n",
       "flux_z             float64\n",
       "mask_frac          float64\n",
       "mcal_psf_T         float64\n",
       "mcal_psf_e1        float64\n",
       "mcal_psf_e2        float64\n",
       "nimage_tot_g         int32\n",
       "nimage_tot_i         int32\n",
       "nimage_tot_r         int32\n",
       "nimage_tot_z         int32\n",
       "nimage_use_g         int32\n",
       "nimage_use_i         int32\n",
       "nimage_use_r         int32\n",
       "nimage_use_z         int32\n",
       "psf_T              float64\n",
       "psf_e1             float64\n",
       "psf_e2             float64\n",
       "ra                 float64\n",
       "size_ratio         float64\n",
       "snr                float64\n",
       "dtype: object"
      ]
     },
     "execution_count": 6,
     "metadata": {},
     "output_type": "execute_result"
    }
   ],
   "source": [
    "mcal_df_list[2].dtypes"
   ]
  },
  {
   "cell_type": "markdown",
   "metadata": {},
   "source": [
    "## List of dtypes in phot"
   ]
  },
  {
   "cell_type": "code",
   "execution_count": 7,
   "metadata": {},
   "outputs": [
    {
     "data": {
      "text/plain": [
       "true_id                    int32\n",
       "true_number                int32\n",
       "true_flags                 int32\n",
       "true_obj_flags             int32\n",
       "true_cm_mof_flags          int32\n",
       "true_ra                  float64\n",
       "true_dec                 float64\n",
       "true_cm_T                float64\n",
       "true_cm_T_err            float64\n",
       "true_cm_s2n_r            float64\n",
       "true_cm_flags              int32\n",
       "true_cm_fracdev          float64\n",
       "true_cm_TdByTe           float32\n",
       "true_in_VHS_footprint      int32\n",
       "true_mag_auto_det        float32\n",
       "true_det_number            int32\n",
       "true_tilename             object\n",
       "meas_id                    int64\n",
       "meas_number                int32\n",
       "meas_ra                  float64\n",
       "meas_dec                 float64\n",
       "meas_fofid                 int64\n",
       "meas_flags                 int32\n",
       "meas_time_last_fit       float64\n",
       "meas_box_size              int16\n",
       "meas_obj_flags             int32\n",
       "meas_mask_frac           float64\n",
       "meas_psfrec_T            float64\n",
       "meas_cm_flags              int32\n",
       "meas_cm_T                float64\n",
       "                          ...   \n",
       "meas_nimage_use_i          int32\n",
       "meas_nimage_use_z          int32\n",
       "meas_psfrec_g_1          float64\n",
       "meas_psfrec_g_2          float64\n",
       "meas_cm_flux_cov_gg      float64\n",
       "meas_cm_flux_cov_rr      float64\n",
       "meas_cm_flux_cov_ii      float64\n",
       "meas_cm_flux_cov_zz      float64\n",
       "meas_cm_flux_g           float64\n",
       "meas_cm_flux_r           float64\n",
       "meas_cm_flux_i           float64\n",
       "meas_cm_flux_z           float64\n",
       "meas_cm_flux_s2n_g       float64\n",
       "meas_cm_flux_s2n_r       float64\n",
       "meas_cm_flux_s2n_i       float64\n",
       "meas_cm_flux_s2n_z       float64\n",
       "meas_cm_mag_g            float64\n",
       "meas_cm_mag_r            float64\n",
       "meas_cm_mag_i            float64\n",
       "meas_cm_mag_z            float64\n",
       "meas_cm_logsb_g          float64\n",
       "meas_cm_logsb_r          float64\n",
       "meas_cm_logsb_i          float64\n",
       "meas_cm_logsb_z          float64\n",
       "meas_cm_g_1              float64\n",
       "meas_cm_g_2              float64\n",
       "meas_cm_g_cov_1_1        float64\n",
       "meas_cm_g_cov_1_2        float64\n",
       "meas_cm_g_cov_2_1        float64\n",
       "meas_cm_g_cov_2_2        float64\n",
       "Length: 116, dtype: object"
      ]
     },
     "execution_count": 7,
     "metadata": {},
     "output_type": "execute_result"
    }
   ],
   "source": [
    "photdf.dtypes"
   ]
  },
  {
   "cell_type": "markdown",
   "metadata": {},
   "source": [
    "## sample of mcal data"
   ]
  },
  {
   "cell_type": "markdown",
   "metadata": {},
   "source": [
    "# Data manipulation"
   ]
  },
  {
   "cell_type": "markdown",
   "metadata": {},
   "source": [
    "## Constants"
   ]
  },
  {
   "cell_type": "code",
   "execution_count": 9,
   "metadata": {
    "pycharm": {
     "is_executing": false
    }
   },
   "outputs": [],
   "source": [
    "SNR_CUT = 10\n",
    "SIZE_RATIO_CUT = 0.5\n",
    "T_CUT = 1000"
   ]
  },
  {
   "cell_type": "markdown",
   "metadata": {},
   "source": [
    "## Filter by SNR T and size_ratio"
   ]
  },
  {
   "cell_type": "code",
   "execution_count": 10,
   "metadata": {},
   "outputs": [],
   "source": [
    "def filter_by_snr():\n",
    "    for i,catalog in enumerate(mcal_df_list):\n",
    "        mcal_df_list[i]=catalog[(catalog['snr']>SNR_CUT) & (catalog['T']<T_CUT) & (catalog['size_ratio']>SIZE_RATIO_CUT)]"
   ]
  },
  {
   "cell_type": "code",
   "execution_count": 11,
   "metadata": {},
   "outputs": [],
   "source": [
    "filter_by_snr()"
   ]
  },
  {
   "cell_type": "markdown",
   "metadata": {},
   "source": [
    "## Intersects paris of catalogs by bal_id. We only want objects existing in true catalog, MOF and woMOF  "
   ]
  },
  {
   "cell_type": "code",
   "execution_count": 13,
   "metadata": {},
   "outputs": [],
   "source": [
    "index_2_3=mcal_df_list[0].index.intersection(mcal_df_list[1].index)\n",
    "index_4_5=mcal_df_list[2].index.intersection(mcal_df_list[3].index)\n",
    "\n",
    "index_2_3_true=index_2_3.intersection(photdf.index).sort_values()\n",
    "index_4_5_true=index_4_5.intersection(photdf.index).sort_values()"
   ]
  },
  {
   "cell_type": "code",
   "execution_count": 14,
   "metadata": {},
   "outputs": [],
   "source": [
    "mcal_df_list[0]=mcal_df_list[0].reindex(index_2_3_true);\n",
    "mcal_df_list[1]=mcal_df_list[1].reindex(index_2_3_true);\n",
    "mcal_df_list[2]=mcal_df_list[2].reindex(index_4_5_true);\n",
    "mcal_df_list[3]=mcal_df_list[3].reindex(index_4_5_true);"
   ]
  },
  {
   "cell_type": "code",
   "execution_count": 15,
   "metadata": {},
   "outputs": [],
   "source": [
    "true_df_list=[None]*4\n",
    "for i in range(2):\n",
    "    true_df_list[i]=photdf.reindex(index_2_3_true)\n",
    "    true_df_list[i+2]=photdf.reindex(index_4_5_true)"
   ]
  },
  {
   "cell_type": "markdown",
   "metadata": {},
   "source": [
    "## Divings catalogs into smaller catalogs only with positive g and only with negative g"
   ]
  },
  {
   "cell_type": "code",
   "execution_count": 33,
   "metadata": {},
   "outputs": [],
   "source": [
    "mcal_df_list_positive=[None]*4\n",
    "mcal_df_list_negative=[None]*4\n",
    "\n",
    "index_2_3_true_positive=index_2_3_true.intersection(photdf[photdf['true_cm_g_1']>0].index.intersection(photdf[photdf['true_cm_g_2']>0].index))\n",
    "index_2_3_true_negative=index_2_3_true.intersection(photdf[photdf['true_cm_g_1']<0].index.intersection(photdf[photdf['true_cm_g_2']<0].index))\n",
    "\n",
    "index_4_5_true_positive=index_4_5_true.intersection(photdf[photdf['true_cm_g_1']>0].index.intersection(photdf[photdf['true_cm_g_2']>0].index))\n",
    "index_4_5_true_negative=index_4_5_true.intersection(photdf[photdf['true_cm_g_1']<0].index.intersection(photdf[photdf['true_cm_g_2']<0].index))\n",
    "\n",
    "for i in range(2):\n",
    "    mcal_df_list_positive[i]=mcal_df_list[i].reindex(index_2_3_true_positive)\n",
    "    mcal_df_list_positive[i+2]=mcal_df_list[1+2].reindex(index_4_5_true_positive)\n",
    "    mcal_df_list_negative[i]=mcal_df_list[i].reindex(index_2_3_true_negative)\n",
    "    mcal_df_list_negative[i+2]=mcal_df_list[1+2].reindex(index_4_5_true_negative)"
   ]
  }
 ],
 "metadata": {
  "kernelspec": {
   "display_name": "Python 3",
   "language": "python",
   "name": "python3"
  },
  "language_info": {
   "codemirror_mode": {
    "name": "ipython",
    "version": 3
   },
   "file_extension": ".py",
   "mimetype": "text/x-python",
   "name": "python",
   "nbconvert_exporter": "python",
   "pygments_lexer": "ipython3",
   "version": "3.7.3"
  }
 },
 "nbformat": 4,
 "nbformat_minor": 2
}
