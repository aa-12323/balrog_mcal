{
 "cells": [
  {
   "cell_type": "code",
   "execution_count": 76,
   "metadata": {},
   "outputs": [],
   "source": [
    "import pandas as pd\n",
    "import numpy as np\n",
    "import pickle\n",
    "import treecorr\n",
    "from tqdm import tqdm_notebook as tqdm"
   ]
  },
  {
   "cell_type": "code",
   "execution_count": 77,
   "metadata": {},
   "outputs": [],
   "source": [
    "N=50"
   ]
  },
  {
   "cell_type": "code",
   "execution_count": 78,
   "metadata": {},
   "outputs": [],
   "source": [
    "for i in range(4):\n",
    "    df_all[i]=pd.read_pickle('/home/cz136/project/balrog/data/mcal{}_df_all.pkl'.format(i+2))"
   ]
  },
  {
   "cell_type": "code",
   "execution_count": 79,
   "metadata": {},
   "outputs": [],
   "source": [
    "df_riz = pd.read_pickle('/home/cz136/project/balrog/data/mcal{}_df_all.pkl'.format(3)) "
   ]
  },
  {
   "cell_type": "code",
   "execution_count": 80,
   "metadata": {},
   "outputs": [],
   "source": [
    "keys = df_riz.columns[40:44]\n",
    "# keys=['ebv_planck13']"
   ]
  },
  {
   "cell_type": "code",
   "execution_count": 81,
   "metadata": {},
   "outputs": [],
   "source": [
    "true_df=pd.read_pickle(\"/home/cz136/project/balrog/data/true_df.pkl\")\n",
    "mcal_list = [df_all]\n",
    "df_riz_list= [df_riz]"
   ]
  },
  {
   "cell_type": "code",
   "execution_count": 82,
   "metadata": {},
   "outputs": [],
   "source": [
    "def add_tilename(df_list,true):\n",
    "    for i in range(4):\n",
    "        df_list[i]=pd.concat([df_list[i],true_df[['meas_tilename']]],axis=1,join='inner')"
   ]
  },
  {
   "cell_type": "code",
   "execution_count": 83,
   "metadata": {},
   "outputs": [],
   "source": [
    "for df_list in mcal_list:\n",
    "    add_tilename(df_list,true_df)"
   ]
  },
  {
   "cell_type": "code",
   "execution_count": 34,
   "metadata": {},
   "outputs": [],
   "source": [
    "df_riz=pd.concat([df_riz,true_df[['meas_tilename']]],axis=1,join='inner')"
   ]
  },
  {
   "cell_type": "code",
   "execution_count": 35,
   "metadata": {},
   "outputs": [],
   "source": [
    "data_len=len(df_riz)\n",
    "wpos1=np.ones(data_len)\n",
    "w_=np.zeros(data_len)"
   ]
  },
  {
   "cell_type": "code",
   "execution_count": 36,
   "metadata": {},
   "outputs": [],
   "source": [
    "def get_ke(catalog,key):\n",
    "    \n",
    "    \n",
    "    delta_g1=catalog['e_1'].to_numpy()\n",
    "    delta_g2=catalog['e_2'].to_numpy()\n",
    "    k=catalog[key].to_numpy()\n",
    "    ra=catalog['ra'].to_numpy()\n",
    "    dec=catalog['dec'].to_numpy()\n",
    "\n",
    "    \n",
    "    kcat= treecorr.Catalog( k=k,\n",
    "                                 ra=ra, dec=dec, \n",
    "                                 ra_units='deg', dec_units='deg')\n",
    "    \n",
    "    gcat = treecorr.Catalog( g1=delta_g1, g2=delta_g2,\n",
    "                                 ra=ra, dec=dec, \n",
    "                                 ra_units='deg', dec_units='deg')\n",
    "    \n",
    "    kg = treecorr.KGCorrelation(nbins=20, min_sep=2.5, max_sep=250, sep_units='arcmin', bin_slop=0.2)\n",
    "    kg.process(kcat,gcat)\n",
    "    xi=kg.xi*kg.npairs\n",
    "    return (np.array([xi,kg.npairs]))"
   ]
  },
  {
   "cell_type": "code",
   "execution_count": 37,
   "metadata": {},
   "outputs": [],
   "source": [
    "def get_ke_cross(catalog1,catalog2,key):\n",
    "    \n",
    "\n",
    "\n",
    "    k=catalog1[key].to_numpy()\n",
    "    \n",
    "    delta_g1=catalog2['e_1'].to_numpy()\n",
    "    delta_g2=catalog2['e_2'].to_numpy()\n",
    "    \n",
    "    ra1=catalog1['ra'].to_numpy()\n",
    "    dec1=catalog1['dec'].to_numpy()\n",
    "    \n",
    "    ra2=catalog2['ra'].to_numpy()\n",
    "    dec2=catalog2['dec'].to_numpy()\n",
    "    \n",
    "    \n",
    "    kcat= treecorr.Catalog( k=k,\n",
    "                                 ra=ra1, dec=dec1, \n",
    "                                 ra_units='deg', dec_units='deg')\n",
    "    \n",
    "    gcat = treecorr.Catalog( g1=delta_g1, g2=delta_g2,\n",
    "                                 ra=ra2, dec=dec2, \n",
    "                                 ra_units='deg', dec_units='deg')\n",
    "    \n",
    "    kg = treecorr.KGCorrelation(nbins=20, min_sep=2.5, max_sep=250, sep_units='arcmin', bin_slop=0.2)\n",
    "    kg.process_cross(kcat,gcat)\n",
    "    \n",
    "    return(np.array([kg.xi,kg.npairs]))"
   ]
  },
  {
   "cell_type": "code",
   "execution_count": 38,
   "metadata": {},
   "outputs": [],
   "source": [
    "def get_ke_true(catalog,key):\n",
    "    \n",
    "    \n",
    "    \n",
    "    delta_g1=catalog['true_cm_g_1'].to_numpy()\n",
    "    delta_g2=catalog['true_cm_g_2'].to_numpy()\n",
    "    k=catalog[key].to_numpy()\n",
    "    ra=catalog['ra'].to_numpy()\n",
    "    dec=catalog['dec'].to_numpy()\n",
    "    \n",
    "    kcat= treecorr.Catalog( k=k,\n",
    "                                 ra=ra, dec=dec, \n",
    "                                 ra_units='deg', dec_units='deg')\n",
    "    \n",
    "    gcat = treecorr.Catalog( g1=delta_g1, g2=delta_g2,\n",
    "                                 ra=ra, dec=dec, \n",
    "                                 ra_units='deg', dec_units='deg')\n",
    "    \n",
    "    kg = treecorr.KGCorrelation(nbins=20, min_sep=2.5, max_sep=250, sep_units='arcmin', bin_slop=0.2)\n",
    "    kg.process_cross(kcat,gcat)\n",
    "    xi=kg.xi*kg.npairs\n",
    "    return(np.array([xi,kg.npairs]))"
   ]
  },
  {
   "cell_type": "code",
   "execution_count": 39,
   "metadata": {},
   "outputs": [],
   "source": [
    "def get_ke_true_cross(catalog1,catalog2,key):\n",
    "    \n",
    " \n",
    "\n",
    "    k=catalog1[key].to_numpy()\n",
    "    \n",
    "    delta_g1=catalog2['true_cm_g_1'].to_numpy()\n",
    "    delta_g2=catalog2['true_cm_g_2'].to_numpy()\n",
    "    \n",
    "    ra1=catalog1['ra'].to_numpy()\n",
    "    dec1=catalog1['dec'].to_numpy()\n",
    "    \n",
    "    ra2=catalog2['ra'].to_numpy()\n",
    "    dec2=catalog2['dec'].to_numpy()\n",
    "    \n",
    "    kcat= treecorr.Catalog( k=k,\n",
    "                                 ra=ra1, dec=dec1, \n",
    "                                 ra_units='deg', dec_units='deg')\n",
    "    \n",
    "    gcat = treecorr.Catalog( g1=delta_g1, g2=delta_g2,\n",
    "                                 ra=ra2, dec=dec2, \n",
    "                                 ra_units='deg', dec_units='deg')\n",
    "    \n",
    "    kg = treecorr.KGCorrelation(nbins=20, min_sep=2.5, max_sep=250, sep_units='arcmin', bin_slop=0.2)\n",
    "    kg.process_cross(kcat,gcat)\n",
    "    \n",
    "    return(np.array([kg.xi,kg.npairs]))"
   ]
  },
  {
   "cell_type": "code",
   "execution_count": 54,
   "metadata": {},
   "outputs": [],
   "source": [
    "def get_jk_ke_resample(df,n):\n",
    "\n",
    "    random_df = df.sample(frac=1)\n",
    "    tile_length=int(len(random_df)/n)\n",
    "\n",
    "    jk_resample_list=[]\n",
    "\n",
    "    for i in range(n):\n",
    "        jk_resample_list.append(df[tile_length*i:tile_length*(i+1)])\n",
    "    return(jk_resample_list)"
   ]
  },
  {
   "cell_type": "code",
   "execution_count": 55,
   "metadata": {},
   "outputs": [],
   "source": [
    "jk_resample_list=get_jk_ke_resample(df_riz,N)"
   ]
  },
  {
   "cell_type": "code",
   "execution_count": 59,
   "metadata": {},
   "outputs": [],
   "source": [
    "def get_corr_matrix(df,key,n):\n",
    "    corr_matrix= [ [ None for i in range(n) ] for j in range(n) ] \n",
    "    corr_matrix_true=[ [ None for i in range(n) ] for j in range(n) ] \n",
    "    for i in tqdm(range(n)):\n",
    "        for j in range(n):\n",
    "            if i==j:\n",
    "                corr_matrix[i][j]=get_ke(jk_resample_list[i],key)\n",
    "                corr_matrix_true[i][j]=get_ke_true(jk_resample_list[j],key)\n",
    "#                 print(corr_matrix[i][j])\n",
    "#                 print(corr_matrix_true[i])\n",
    "            if i!=j:\n",
    "                corr_matrix[i][j]=get_ke_cross(jk_resample_list[i],jk_resample_list[j],key)\n",
    "                corr_matrix_true[i][j]=get_ke_true_cross(jk_resample_list[i],jk_resample_list[j],key)\n",
    "#                 print(corr_matrix[i][j])\n",
    "#                 print(corr_matrix_true[i][j])\n",
    "    corr_matrix=np.array(corr_matrix)\n",
    "    corr_matrix_true=np.array(corr_matrix_true)\n",
    "    np.save(\"/home/cz136/project/balrog/data/matrices/woTile/corr_{}\".format(key),corr_matrix)\n",
    "    np.save(\"/home/cz136/project/balrog/data/matrices/woTile/corr_true_{}\".format(key),corr_matrix_true)\n",
    "    return(corr_matrix,corr_matrix_true)"
   ]
  },
  {
   "cell_type": "code",
   "execution_count": 60,
   "metadata": {},
   "outputs": [
    {
     "data": {
      "application/vnd.jupyter.widget-view+json": {
       "model_id": "054c59dec2604faca1e880e19aaebb19",
       "version_major": 2,
       "version_minor": 0
      },
      "text/plain": [
       "HBox(children=(IntProgress(value=0, max=50), HTML(value='')))"
      ]
     },
     "metadata": {},
     "output_type": "display_data"
    },
    {
     "data": {
      "application/vnd.jupyter.widget-view+json": {
       "model_id": "4a764de3b76d4c40b1ce875222aa6fd5",
       "version_major": 2,
       "version_minor": 0
      },
      "text/plain": [
       "HBox(children=(IntProgress(value=0, max=50), HTML(value='')))"
      ]
     },
     "metadata": {},
     "output_type": "display_data"
    },
    {
     "data": {
      "application/vnd.jupyter.widget-view+json": {
       "model_id": "91bd73a0fa6f427592ddd5a7a34da7ea",
       "version_major": 2,
       "version_minor": 0
      },
      "text/plain": [
       "HBox(children=(IntProgress(value=0, max=50), HTML(value='')))"
      ]
     },
     "metadata": {},
     "output_type": "display_data"
    },
    {
     "data": {
      "application/vnd.jupyter.widget-view+json": {
       "model_id": "773bba8f44ce474cba979effdddfddb4",
       "version_major": 2,
       "version_minor": 0
      },
      "text/plain": [
       "HBox(children=(IntProgress(value=0, max=50), HTML(value='')))"
      ]
     },
     "metadata": {},
     "output_type": "display_data"
    }
   ],
   "source": [
    "corr_matrices_dict_tuple={}\n",
    "for key in keys:\n",
    "    corr_matrices_dict_tuple[key]=get_corr_matrix(df_riz,key,N)"
   ]
  },
  {
   "cell_type": "code",
   "execution_count": 61,
   "metadata": {},
   "outputs": [],
   "source": [
    "def get_jk_from_matrix(matrix_tuple):\n",
    "    def get_sub_matrix(matrix,i,j):\n",
    "        sub_matrix=[[entry for col_index,entry in enumerate(row) if col_index!=j] for row_index,row in enumerate(matrix) if row_index!=i]\n",
    "        return (sub_matrix)\n",
    "    def get_jked_sum(matrix,i):\n",
    "        sub_matrix=np.array(get_sub_matrix(matrix,i,i))\n",
    "        jk_sum=np.sum(np.sum(sub_matrix,axis=0),axis=0)\n",
    "        return (jk_sum)\n",
    "    corr_matrix, corr_matrix_true=matrix_tuple\n",
    "    jk_xi=[None]*len(corr_matrix)\n",
    "    jk_xi_true=[None]*len(corr_matrix)\n",
    "    for i in tqdm(range(len(corr_matrix))):\n",
    "        corr=get_jked_sum(corr_matrix,i)\n",
    "        corr_true=get_jked_sum(corr_matrix_true,i)\n",
    "        jk_xi[i]=corr[0]/corr[1]\n",
    "        jk_xi_true[i]=corr_true[0]/corr_true[1]\n",
    "    return(jk_xi,jk_xi_true)"
   ]
  },
  {
   "cell_type": "code",
   "execution_count": 63,
   "metadata": {},
   "outputs": [
    {
     "name": "stdout",
     "output_type": "stream",
     "text": [
      "ebv_planck13\n"
     ]
    },
    {
     "data": {
      "application/vnd.jupyter.widget-view+json": {
       "model_id": "b665064f92f848f782f1c71e1aa5c227",
       "version_major": 2,
       "version_minor": 0
      },
      "text/plain": [
       "HBox(children=(IntProgress(value=0, max=50), HTML(value='')))"
      ]
     },
     "metadata": {},
     "output_type": "display_data"
    },
    {
     "name": "stdout",
     "output_type": "stream",
     "text": [
      "star_density_piffv23\n"
     ]
    },
    {
     "data": {
      "application/vnd.jupyter.widget-view+json": {
       "model_id": "2aeb5cfeb9974798a816383d728d5677",
       "version_major": 2,
       "version_minor": 0
      },
      "text/plain": [
       "HBox(children=(IntProgress(value=0, max=50), HTML(value='')))"
      ]
     },
     "metadata": {},
     "output_type": "display_data"
    },
    {
     "name": "stdout",
     "output_type": "stream",
     "text": [
      "det_frac\n"
     ]
    },
    {
     "data": {
      "application/vnd.jupyter.widget-view+json": {
       "model_id": "b58361a4acc04f0bab0567c38264dfba",
       "version_major": 2,
       "version_minor": 0
      },
      "text/plain": [
       "HBox(children=(IntProgress(value=0, max=50), HTML(value='')))"
      ]
     },
     "metadata": {},
     "output_type": "display_data"
    },
    {
     "name": "stdout",
     "output_type": "stream",
     "text": [
      "('g', 'airmass')\n"
     ]
    },
    {
     "data": {
      "application/vnd.jupyter.widget-view+json": {
       "model_id": "dfb51073582044adbdefc0af3ac597ce",
       "version_major": 2,
       "version_minor": 0
      },
      "text/plain": [
       "HBox(children=(IntProgress(value=0, max=50), HTML(value='')))"
      ]
     },
     "metadata": {},
     "output_type": "display_data"
    }
   ],
   "source": [
    "jk_list={}\n",
    "for key in keys[0:4]:\n",
    "    print(key)\n",
    "    jk_list[key]=get_jk_from_matrix(corr_matrices_dict_tuple[key])"
   ]
  },
  {
   "cell_type": "code",
   "execution_count": 69,
   "metadata": {},
   "outputs": [],
   "source": [
    "def get_chisqr(covariance,y_value):\n",
    "    return(np.dot(np.dot(y_value,np.linalg.inv(covariance)),y_value))\n",
    "\n",
    "def get_cov(jk_samples_for_key):\n",
    "    \n",
    "    xi_array=np.array(jk_samples_for_key[0])\n",
    "    xi_true_array=np.array(jk_samples_for_key[1])\n",
    "    \n",
    "    diff_array=xi_array-xi_true_array\n",
    "    \n",
    "    n = len(diff_array)\n",
    "    \n",
    "    emp_average=(1/n)*np.sum(diff_array,axis=0)\n",
    "    nd = len(diff_array[0])\n",
    "    cov=np.empty([nd,nd])\n",
    "    for row in range(nd):\n",
    "        for column in range(nd):\n",
    "            cov[row][column]=\\\n",
    "            (n-1)/n * np.sum((diff_array[:,row]-emp_average[row])*(diff_array[:,column]-emp_average[column]))\n",
    "    return (cov)\n",
    "\n",
    "def get_y_value(key):\n",
    "    y_value = get_ke(df_riz,key)[0]/ get_ke(df_riz,key)[1]\n",
    "    return (y_value)"
   ]
  },
  {
   "cell_type": "code",
   "execution_count": null,
   "metadata": {},
   "outputs": [],
   "source": [
    "cov = get_cov(ebv)\n",
    "y_value=get_y_value('ebv_planck13')"
   ]
  },
  {
   "cell_type": "code",
   "execution_count": 71,
   "metadata": {},
   "outputs": [
    {
     "data": {
      "text/plain": [
       "3.875284914503152e-09"
      ]
     },
     "execution_count": 71,
     "metadata": {},
     "output_type": "execute_result"
    }
   ],
   "source": [
    "get_chisqr(cov,y_value)"
   ]
  },
  {
   "cell_type": "code",
   "execution_count": 72,
   "metadata": {},
   "outputs": [],
   "source": [
    "star_density_cov=get_cov(jk_list['star_density_piffv23'])\n",
    "y_value=get_y_value('star_density_piffv23')"
   ]
  },
  {
   "cell_type": "code",
   "execution_count": 73,
   "metadata": {},
   "outputs": [
    {
     "data": {
      "text/plain": [
       "5.442574659141648e-09"
      ]
     },
     "execution_count": 73,
     "metadata": {},
     "output_type": "execute_result"
    }
   ],
   "source": [
    "get_chisqr(star_density_cov,y_value)"
   ]
  },
  {
   "cell_type": "code",
   "execution_count": 74,
   "metadata": {},
   "outputs": [
    {
     "name": "stdout",
     "output_type": "stream",
     "text": [
      "ebv_planck13\n",
      "1.5159540796860652e-09\n",
      "star_density_piffv23\n",
      "5.442574659141613e-09\n",
      "det_frac\n",
      "3.906567978502837e-09\n",
      "('g', 'airmass')\n",
      "3.875284914503266e-09\n"
     ]
    }
   ],
   "source": [
    "for key in keys:\n",
    "    print (key)\n",
    "    cov_ = get_cov(jk_list[key])\n",
    "    y_value_=get_y_value(key)\n",
    "    chi_sqr=get_chisqr(cov_,y_value_)\n",
    "    print(chi_sqr)"
   ]
  }
 ],
 "metadata": {
  "kernelspec": {
   "display_name": "Python 3",
   "language": "python",
   "name": "python3"
  },
  "language_info": {
   "codemirror_mode": {
    "name": "ipython",
    "version": 3
   },
   "file_extension": ".py",
   "mimetype": "text/x-python",
   "name": "python",
   "nbconvert_exporter": "python",
   "pygments_lexer": "ipython3",
   "version": "3.7.3"
  }
 },
 "nbformat": 4,
 "nbformat_minor": 4
}
