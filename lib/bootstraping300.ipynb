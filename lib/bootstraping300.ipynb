{
 "cells": [
  {
   "cell_type": "code",
   "execution_count": 2,
   "metadata": {},
   "outputs": [],
   "source": [
    "import pandas as pd\n",
    "import numpy as np\n",
    "import pickle\n",
    "import treecorr\n",
    "from tqdm import tqdm\n",
    "import matplotlib.pyplot as plt"
   ]
  },
  {
   "cell_type": "code",
   "execution_count": 3,
   "metadata": {},
   "outputs": [],
   "source": [
    "N=300\n",
    "NString=\"300\""
   ]
  },
  {
   "cell_type": "code",
   "execution_count": 4,
   "metadata": {},
   "outputs": [],
   "source": [
    "df_riz = pd.read_pickle('/home/cz136/project/balrog/data/mcal{}_df_all.pkl'.format(3)) "
   ]
  },
  {
   "cell_type": "code",
   "execution_count": 5,
   "metadata": {},
   "outputs": [],
   "source": [
    "length=len(df_riz)"
   ]
  },
  {
   "cell_type": "code",
   "execution_count": 6,
   "metadata": {},
   "outputs": [],
   "source": [
    "keys = df_riz.columns[40:]\n",
    "# keys=['ebv_planck13']"
   ]
  },
  {
   "cell_type": "code",
   "execution_count": 7,
   "metadata": {},
   "outputs": [],
   "source": [
    "true_df=pd.read_pickle(\"/home/cz136/project/balrog/data/true_df.pkl\")\n",
    "df_riz_list= [df_riz]"
   ]
  },
  {
   "cell_type": "code",
   "execution_count": 8,
   "metadata": {},
   "outputs": [],
   "source": [
    "def add_tilename(df_list,true):\n",
    "    for i in range(4):\n",
    "        df_list[i]=pd.concat([df_list[i],true_df[['meas_tilename']]],axis=1,join='inner')"
   ]
  },
  {
   "cell_type": "code",
   "execution_count": 9,
   "metadata": {},
   "outputs": [],
   "source": [
    "df_riz=pd.concat([df_riz,true_df[['meas_tilename']]],axis=1,join='inner')"
   ]
  },
  {
   "cell_type": "code",
   "execution_count": 10,
   "metadata": {},
   "outputs": [],
   "source": [
    "from scipy.stats import truncnorm\n",
    "\n",
    "def get_truncated_normal(mean=0, sd=0.24, low=-1, upp=1):\n",
    "\n",
    "    return truncnorm(\n",
    "        (low - mean) / sd, (upp - mean) / sd, loc=mean, scale=sd)"
   ]
  },
  {
   "cell_type": "code",
   "execution_count": 11,
   "metadata": {},
   "outputs": [],
   "source": [
    "#foo_data\n",
    "\n",
    "# df_riz['e_1']=generator.rvs(length)\n",
    "# df_riz['e_2']=generator.rvs(length)\n",
    "# df_riz['true_cm_g_1']=generator.rvs(length)\n",
    "# df_riz['true_cm_g_2']=generator.rvs(length)\n"
   ]
  },
  {
   "cell_type": "code",
   "execution_count": 12,
   "metadata": {},
   "outputs": [],
   "source": [
    "# for key in keys:\n",
    "#     df_riz[key]=np.ones(length)"
   ]
  },
  {
   "cell_type": "code",
   "execution_count": 13,
   "metadata": {},
   "outputs": [],
   "source": [
    "def get_ke(catalog,key):\n",
    "    \n",
    "    \n",
    "    delta_g1=catalog['e_1'].to_numpy()\n",
    "    delta_g2=catalog['e_2'].to_numpy()\n",
    "    k=catalog[key].to_numpy()\n",
    "    ra=catalog['ra'].to_numpy()\n",
    "    dec=catalog['dec'].to_numpy()\n",
    "\n",
    "    \n",
    "    kcat= treecorr.Catalog( k=k,\n",
    "                                 ra=ra, dec=dec, \n",
    "                                 ra_units='deg', dec_units='deg')\n",
    "    \n",
    "    gcat = treecorr.Catalog( g1=delta_g1, g2=delta_g2,\n",
    "                                 ra=ra, dec=dec, \n",
    "                                 ra_units='deg', dec_units='deg')\n",
    "    \n",
    "    kg = treecorr.KGCorrelation(nbins=20, min_sep=2.5, max_sep=250, sep_units='arcmin', bin_slop=0.2)\n",
    "    kg.process(kcat,gcat)\n",
    "    return (kg.xi)"
   ]
  },
  {
   "cell_type": "code",
   "execution_count": 14,
   "metadata": {},
   "outputs": [],
   "source": [
    "def get_ke_true(catalog,key):\n",
    "\n",
    "    \n",
    "    \n",
    "    \n",
    "    delta_g1=catalog['true_cm_g_1'].to_numpy()\n",
    "    delta_g2=catalog['true_cm_g_2'].to_numpy()\n",
    "    k=catalog[key].to_numpy()\n",
    "    ra=catalog['ra'].to_numpy()\n",
    "    dec=catalog['dec'].to_numpy()\n",
    "    \n",
    "    kcat= treecorr.Catalog( k=k,\n",
    "                                 ra=ra, dec=dec, \n",
    "                                 ra_units='deg', dec_units='deg')\n",
    "    \n",
    "    gcat = treecorr.Catalog( g1=delta_g1, g2=delta_g2,\n",
    "                                 ra=ra, dec=dec, \n",
    "                                 ra_units='deg', dec_units='deg')\n",
    "    \n",
    "    kg = treecorr.KGCorrelation(nbins=20, min_sep=2.5, max_sep=250, sep_units='arcmin', bin_slop=0.2)\n",
    "    kg.process(kcat,gcat)\n",
    "    \n",
    "    return (kg.xi)"
   ]
  },
  {
   "cell_type": "code",
   "execution_count": 15,
   "metadata": {},
   "outputs": [],
   "source": [
    "def get_chisqr(covariance,y_value):\n",
    "    return(np.dot(np.dot(y_value,np.linalg.inv(covariance)),y_value))\n",
    "\n",
    "def get_cov(jk_samples_for_key):\n",
    "    \n",
    "    xi_array=np.array(jk_samples_for_key[0])\n",
    "    xi_true_array=np.array(jk_samples_for_key[1])\n",
    "    \n",
    "    diff_array=xi_array-xi_true_array\n",
    "    \n",
    "    n = len(diff_array)\n",
    "    \n",
    "    emp_average=(1/n)*np.sum(diff_array,axis=0)\n",
    "    nd = len(diff_array[0])\n",
    "    cov=np.empty([nd,nd])\n",
    "    for row in range(nd):\n",
    "        for column in range(nd):\n",
    "            cov[row][column]=\\\n",
    "            1/n * np.sum((diff_array[:,row]-emp_average[row])*(diff_array[:,column]-emp_average[column]))\n",
    "    return (cov)\n",
    "\n",
    "def get_y_value(key):\n",
    "    y_value_true = get_ke(df_riz,key)\n",
    "    y_value = get_ke_true(df_riz,key)\n",
    "    diff=y_value-y_value_true\n",
    "    return (diff)\n",
    "\n",
    "def get_x_value(catalog,key):\n",
    "        \n",
    "    delta_g1=catalog['e_1'].to_numpy()\n",
    "    delta_g2=catalog['e_2'].to_numpy()\n",
    "    k=catalog[key].to_numpy()\n",
    "    ra=catalog['ra'].to_numpy()\n",
    "    dec=catalog['dec'].to_numpy()\n",
    "\n",
    "    \n",
    "    kcat= treecorr.Catalog( k=k,\n",
    "                                 ra=ra, dec=dec, \n",
    "                                 ra_units='deg', dec_units='deg')\n",
    "    \n",
    "    gcat = treecorr.Catalog( g1=delta_g1, g2=delta_g2,\n",
    "                                 ra=ra, dec=dec, \n",
    "                                 ra_units='deg', dec_units='deg')\n",
    "    \n",
    "    kg = treecorr.KGCorrelation(nbins=20, min_sep=2.5, max_sep=250, sep_units='arcmin', bin_slop=0.2)\n",
    "    kg.process(kcat,gcat)\n",
    "    return (np.exp(kg.meanlogr))"
   ]
  },
  {
   "cell_type": "code",
   "execution_count": 16,
   "metadata": {},
   "outputs": [
    {
     "name": "stderr",
     "output_type": "stream",
     "text": [
      "100%|██████████| 300/300 [00:08<00:00, 34.31it/s]\n"
     ]
    }
   ],
   "source": [
    "def get_bs_resample(df,n):\n",
    "    bs_index_list=[]\n",
    "    for i in tqdm(range(n)):\n",
    "        random_index = np.random.choice(df.index.to_numpy(),size=length,\n",
    "                                       replace=True)\n",
    "        bs_index_list.append(random_index)\n",
    "    return (bs_index_list)\n",
    "\n",
    "bs_index_list=get_bs_resample(df_riz,N)"
   ]
  },
  {
   "cell_type": "code",
   "execution_count": 17,
   "metadata": {},
   "outputs": [],
   "source": [
    "def get_jk_ke_resample(df,bs_index_list,key):\n",
    "    \n",
    "    n=len(bs_index_list)\n",
    "        \n",
    "    xi_matrix=np.empty([n,20])\n",
    "    xi_true_matrix=np.empty([n,20])\n",
    "    \n",
    "    for i,bs_index in tqdm(enumerate(bs_index_list)):\n",
    "        \n",
    "        bs=df.loc[bs_index]\n",
    "        \n",
    "        xi_matrix[i,:]=get_ke(bs,key)\n",
    "        xi_true_matrix[i,:]=get_ke_true(bs,key)\n",
    "        \n",
    "        np.save(\"/home/cz136/project/balrog/data/bootstrap/{}/{}\".format(N,key),xi_matrix)\n",
    "        np.save(\"/home/cz136/project/balrog/data/bootstrap/{}/{}_true\".format(N,key),xi_true_matrix)\n",
    "        \n",
    "    return(xi_matrix,xi_true_matrix)"
   ]
  },
  {
   "cell_type": "code",
   "execution_count": 18,
   "metadata": {},
   "outputs": [],
   "source": [
    "def get_chi_sqr_for_key(jk_ke_resample,key):\n",
    "    print(\"Getting covariance\")\n",
    "    cov = get_cov(jk_ke_resample)\n",
    "    y_value=get_y_value(key)\n",
    "    return (get_chisqr(cov,y_value))"
   ]
  },
  {
   "cell_type": "code",
   "execution_count": 19,
   "metadata": {},
   "outputs": [],
   "source": [
    "def get_chi_sqr_from_df(df,key):\n",
    "    jk_ke_resample=get_jk_ke_resample(df_riz,bs_index_list,key)\n",
    "    return(get_chi_sqr_for_key(jk_ke_resample,key))"
   ]
  },
  {
   "cell_type": "code",
   "execution_count": null,
   "metadata": {},
   "outputs": [],
   "source": [
    "chi_sqr_array=np.empty(len(keys))\n",
    "\n",
    "with open('/home/cz136/project/balrog/data/chi_sqr_bootstrap.txt', 'w+') as f:\n",
    "    for i,key in enumerate(keys):\n",
    "        print (key)\n",
    "        chi_sqr=get_chi_sqr_from_df(df_riz,key)\n",
    "        chi_sqr_array[i]=chi_sqr\n",
    "        print(chi_sqr)\n",
    "        f.write(\"{}={}\".format(key,chi_sqr))\n",
    "        \n",
    "np.save(\"/home/cz136/project/balrog/data/bootstrap/{}/chi_sqr_bs\".format(N),chi_sqr_array)"
   ]
  },
  {
   "cell_type": "code",
   "execution_count": 20,
   "metadata": {},
   "outputs": [
    {
     "name": "stderr",
     "output_type": "stream",
     "text": [
      "300it [1:10:52, 14.18s/it]\n"
     ]
    },
    {
     "name": "stdout",
     "output_type": "stream",
     "text": [
      "Getting covariance\n"
     ]
    }
   ],
   "source": [
    "chi_sqr=get_chi_sqr_from_df(df_riz,keys[-2])"
   ]
  },
  {
   "cell_type": "code",
   "execution_count": null,
   "metadata": {},
   "outputs": [],
   "source": [
    "# chi_matrix={}\n",
    "# chi_true_matrix={}\n",
    "# for key in keys[:5]:\n",
    "#     chi_matrix[key]=np.load(\"/home/cz136/project/balrog/data/bootstrap/{}.npy\".format(key))\n",
    "#     chi_true_matrix[key]=np.load(\"/home/cz136/project/balrog/data/bootstrap/{}_true.npy\".format(key))"
   ]
  },
  {
   "cell_type": "code",
   "execution_count": null,
   "metadata": {},
   "outputs": [],
   "source": [
    "# test_key=keys[0]"
   ]
  },
  {
   "cell_type": "code",
   "execution_count": null,
   "metadata": {},
   "outputs": [],
   "source": [
    "# test_y=get_y_value(test_key)\n",
    "# test_x=get_x_value(df_riz,test_key)"
   ]
  },
  {
   "cell_type": "code",
   "execution_count": null,
   "metadata": {},
   "outputs": [],
   "source": [
    "# import matplotlib.pyplot as plt\n",
    "# fig, ax = plt.subplots()\n",
    "# ax.plot(test_x,test_y)\n",
    "# plt.show()"
   ]
  },
  {
   "cell_type": "code",
   "execution_count": null,
   "metadata": {},
   "outputs": [],
   "source": []
  }
 ],
 "metadata": {
  "kernelspec": {
   "display_name": "Python 3",
   "language": "python",
   "name": "python3"
  },
  "language_info": {
   "codemirror_mode": {
    "name": "ipython",
    "version": 3
   },
   "file_extension": ".py",
   "mimetype": "text/x-python",
   "name": "python",
   "nbconvert_exporter": "python",
   "pygments_lexer": "ipython3",
   "version": "3.7.3"
  }
 },
 "nbformat": 4,
 "nbformat_minor": 4
}
