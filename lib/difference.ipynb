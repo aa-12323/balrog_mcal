{
 "cells": [
  {
   "cell_type": "markdown",
   "metadata": {},
   "source": [
    "### TODO LIST\n",
    "3. select positive true_cm_g1 and negative true_cm_g2 objects and calculate g_i by formula\n",
    "4. fit linearly \n",
    "5. compare real value\n",
    "6. upper limit of snr\n",
    "7. hump\n",
    "8. select objects with input shape and repeat\n",
    "9. read covariance, point-correlation function"
   ]
  },
  {
   "cell_type": "markdown",
   "metadata": {},
   "source": [
    "# Header"
   ]
  },
  {
   "cell_type": "code",
   "execution_count": 1,
   "metadata": {
    "pycharm": {
     "is_executing": false
    }
   },
   "outputs": [],
   "source": [
    "import matplotlib\n",
    "# matplotlib.use(\"agg\")\n",
    "import matplotlib.pyplot as plt\n",
    "import pylab\n",
    "import numpy as np\n",
    "import h5py\n",
    "from astropy.io import fits\n",
    "from tqdm import tqdm\n"
   ]
  },
  {
   "cell_type": "code",
   "execution_count": 2,
   "metadata": {
    "pycharm": {
     "is_executing": false
    }
   },
   "outputs": [],
   "source": [
    "detect = fits.open('/lsst/troxel/balrog/balrog_detection_catalog-v1.2.fits')[-1]\n",
    "phot   = fits.open('/lsst/troxel/balrog/balrog_matched_catalog_flatten.fits')\n",
    "id_balrog = fits.open('/lsst/troxel/balrog/balrog_mcal_bal_ids_v1.2.fits')\n",
    "\n",
    "#all objects riz\n",
    "mcal   = h5py.File('/lsst/troxel/balrog/balrog_mcal_stack-y3v02-0-riz-mcal-v1.2.h5','r')['catalog'] #with neighbor\n",
    "mcal1  = h5py.File('/lsst/troxel/balrog/balrog_mcal_stack-y3v02-0-riz-noNB-mcal-v1.2.h5','r')['catalog'] #no neighbor\n",
    "#only balrog objects riz\n",
    "mcal2=h5py.File('/lsst/troxel/balrog/balrog_mcal_stack-y3v02-0-riz-mcal-1.3.h5','r')['catalog'] #with neighbor\n",
    "mcal3=h5py.File('/lsst/troxel/balrog/balrog_mcal_stack-y3v02-0-riz-noNB-mcal-1.3.h5','r')['catalog'] #no neighbor\n",
    "\n",
    "#only balrog griz\n",
    "mcal4=h5py.File('/lsst/troxel/balrog/balrog_mcal_stack-y3v02-0-griz-mcal-1.3.h5','r')['catalog'] #with neighbor\n",
    "mcal5=h5py.File('/lsst/troxel/balrog/balrog_mcal_stack-y3v02-0-griz-noNB-mcal-1.3.h5','r')['catalog'] #no neighbor"
   ]
  },
  {
   "cell_type": "code",
   "execution_count": 3,
   "metadata": {
    "pycharm": {
     "is_executing": false
    }
   },
   "outputs": [],
   "source": [
    "#setting cut threshold \n",
    "SNR_CUT = 10\n",
    "SIZE_RATIO_CUT = 0.5\n",
    "T_CUT = 1000"
   ]
  },
  {
   "cell_type": "code",
   "execution_count": 4,
   "metadata": {
    "pycharm": {
     "is_executing": false
    }
   },
   "outputs": [],
   "source": [
    "# noinspection JupyterKernel,JupyterKernel\n",
    "log_keys = ['snr','size_ratio','T','T_err','flux_i','flux_r','flux_z','covmat_1_1','covmat_1_2','covmat_2_1','covmat_2_2']\n",
    "excluded_keys = ['coadd_object_id','flags','bal_id','flags']\n",
    "excluded_balrog = excluded_keys + []"
   ]
  },
  {
   "cell_type": "markdown",
   "metadata": {},
   "source": [
    "# Metadata"
   ]
  },
  {
   "cell_type": "code",
   "execution_count": 5,
   "metadata": {
    "pycharm": {
     "is_executing": false
    }
   },
   "outputs": [],
   "source": [
    "# FITS format code         Description                     8-bit bytes\n",
    "\n",
    "# L                        logical (Boolean)               1\n",
    "# X                        bit                             *\n",
    "# B                        Unsigned byte                   1\n",
    "# I                        16-bit integer                  2\n",
    "# J                        32-bit integer                  4\n",
    "# K                        64-bit integer                  4\n",
    "# A                        character                       1\n",
    "# E                        single precision floating point 4\n",
    "# D                        double precision floating point 8\n",
    "# C                        single precision complex        8\n",
    "# M                        double precision complex        16\n",
    "# P                        array descriptor                8\n",
    "# Q                        array descriptor                16"
   ]
  },
  {
   "cell_type": "code",
   "execution_count": 6,
   "metadata": {
    "pycharm": {
     "is_executing": false
    }
   },
   "outputs": [],
   "source": [
    "def get_np_unsheared_array(catalog_array):\n",
    "    catalog_array_unsheared=[]\n",
    "    for catalog in catalog_array:\n",
    "        data_dict={}\n",
    "        for key in list(catalog['unsheared'].keys()):\n",
    "            data_dict[key]=catalog['unsheared'][key].value\n",
    "        catalog_array_unsheared.append(data_dict)\n",
    "    return (catalog_array_unsheared)"
   ]
  },
  {
   "cell_type": "code",
   "execution_count": 7,
   "metadata": {
    "pycharm": {
     "is_executing": false
    }
   },
   "outputs": [
    {
     "ename": "NameError",
     "evalue": "name 'catalog_array' is not defined",
     "output_type": "error",
     "traceback": [
      "\u001b[0;31m---------------------------------------------------------------------------\u001b[0m",
      "\u001b[0;31mNameError\u001b[0m                                 Traceback (most recent call last)",
      "\u001b[0;32m<ipython-input-7-2778aaa6cf69>\u001b[0m in \u001b[0;36m<module>\u001b[0;34m\u001b[0m\n\u001b[0;32m----> 1\u001b[0;31m \u001b[0mcatalog_array_unsheared\u001b[0m\u001b[0;34m=\u001b[0m\u001b[0mget_np_unsheared_array\u001b[0m\u001b[0;34m(\u001b[0m\u001b[0mcatalog_array\u001b[0m\u001b[0;34m)\u001b[0m\u001b[0;34m\u001b[0m\u001b[0;34m\u001b[0m\u001b[0m\n\u001b[0m",
      "\u001b[0;31mNameError\u001b[0m: name 'catalog_array' is not defined"
     ]
    }
   ],
   "source": [
    "catalog_array_unsheared=get_np_unsheared_array(catalog_array)"
   ]
  },
  {
   "cell_type": "code",
   "execution_count": null,
   "metadata": {
    "pycharm": {
     "is_executing": true
    }
   },
   "outputs": [],
   "source": [
    "name_array = [\"mcal\",\"mcal1\",\"mcal2\",\"mcal3\",\"mcal4\",\"mcal5\"]\n",
    "catalog_array = [mcal,mcal1,mcal2,mcal3,mcal4,mcal5]\n",
    "keys_array = [list(mcal.keys()) for mcal in catalog_array_unsheared]"
   ]
  },
  {
   "cell_type": "markdown",
   "metadata": {},
   "source": [
    "## Masking function"
   ]
  },
  {
   "cell_type": "code",
   "execution_count": null,
   "metadata": {
    "pycharm": {
     "is_executing": true
    }
   },
   "outputs": [],
   "source": [
    "def masking(catalog,SNR_CUT,SIZE_RATIO_CUT,T_CUT):\n",
    "    snr_mask = np.ma.masked_greater(catalog['snr'][:],SNR_CUT)\n",
    "    size_ratio_mask = np.ma.masked_greater(catalog['size_ratio'][:],SIZE_RATIO_CUT)\n",
    "    T_mask = np.ma.masked_less(catalog['T'],T_CUT)\n",
    "    mask_temp = np.logical_and(snr_mask.mask, size_ratio_mask.mask)\n",
    "    mask = np.logical_and(mask_temp, T_mask.mask)\n",
    "    return ([snr_mask,size_ratio_mask,T_mask,mask]) #index 3 is the final mask"
   ]
  },
  {
   "cell_type": "code",
   "execution_count": null,
   "metadata": {
    "pycharm": {
     "is_executing": true
    }
   },
   "outputs": [],
   "source": [
    "def get_mask(catalog_array_unsheared):\n",
    "    mask_array = []\n",
    "    for catalog in catalog_array_unsheared:\n",
    "        mask_array.append(masking(catalog,SNR_CUT,SIZE_RATIO_CUT,T_CUT))\n",
    "    return (mask_array)"
   ]
  },
  {
   "cell_type": "code",
   "execution_count": null,
   "metadata": {
    "pycharm": {
     "is_executing": true
    }
   },
   "outputs": [],
   "source": [
    "def print_mask():\n",
    "    for i,catalog in enumerate(catalog_array_unsheared):\n",
    "        print (\"For {:5}, snr > {:3} mask cuts {:8} elements, size_ratio > {:4} mask cuts {:8} elements, T > {:5} mask cuts {:5} elements\".format\n",
    "          (name_array[i],SNR_CUT,np.sum(~mask_array[i][0].mask),SIZE_RATIO_CUT,np.sum(~mask_array[i][1].mask),T_CUT,np.sum(~mask_array[i][2].mask)))"
   ]
  },
  {
   "cell_type": "code",
   "execution_count": null,
   "metadata": {
    "pycharm": {
     "is_executing": true
    }
   },
   "outputs": [],
   "source": [
    "mask_array = get_mask(catalog_array_unsheared)"
   ]
  },
  {
   "cell_type": "code",
   "execution_count": null,
   "metadata": {
    "pycharm": {
     "is_executing": true
    }
   },
   "outputs": [],
   "source": [
    "print_mask()"
   ]
  },
  {
   "cell_type": "code",
   "execution_count": 8,
   "metadata": {
    "pycharm": {
     "is_executing": false
    }
   },
   "outputs": [
    {
     "ename": "NameError",
     "evalue": "name 'mask_array' is not defined",
     "output_type": "error",
     "traceback": [
      "\u001b[0;31m---------------------------------------------------------------------------\u001b[0m",
      "\u001b[0;31mNameError\u001b[0m                                 Traceback (most recent call last)",
      "\u001b[0;32m<ipython-input-8-f2ca87b0dd5b>\u001b[0m in \u001b[0;36m<module>\u001b[0;34m\u001b[0m\n\u001b[0;32m----> 1\u001b[0;31m \u001b[0mmask_array\u001b[0m \u001b[0;34m=\u001b[0m \u001b[0;34m[\u001b[0m\u001b[0mmask\u001b[0m\u001b[0;34m[\u001b[0m\u001b[0;36m3\u001b[0m\u001b[0;34m]\u001b[0m \u001b[0;32mfor\u001b[0m \u001b[0mmask\u001b[0m \u001b[0;32min\u001b[0m \u001b[0mmask_array\u001b[0m\u001b[0;34m]\u001b[0m\u001b[0;34m\u001b[0m\u001b[0;34m\u001b[0m\u001b[0m\n\u001b[0m",
      "\u001b[0;31mNameError\u001b[0m: name 'mask_array' is not defined"
     ]
    }
   ],
   "source": [
    "mask_array = [mask[3] for mask in mask_array]"
   ]
  },
  {
   "cell_type": "markdown",
   "metadata": {},
   "source": [
    "# Std and mean"
   ]
  },
  {
   "cell_type": "code",
   "execution_count": 9,
   "metadata": {
    "pycharm": {
     "is_executing": false
    }
   },
   "outputs": [],
   "source": [
    "def mask_catalog_arrays(catalog_array,mask_array):\n",
    "    masked_catalog = []\n",
    "    for i,catalog in enumerate(catalog_array):\n",
    "        data_dict = {}\n",
    "        for key in list(catalog.keys()):\n",
    "            data_dict[key] = catalog[key][mask_array[i]]\n",
    "        masked_catalog.append(data_dict)\n",
    "    return (masked_catalog)"
   ]
  },
  {
   "cell_type": "code",
   "execution_count": 10,
   "metadata": {
    "pycharm": {
     "is_executing": false
    }
   },
   "outputs": [
    {
     "ename": "NameError",
     "evalue": "name 'catalog_array_unsheared' is not defined",
     "output_type": "error",
     "traceback": [
      "\u001b[0;31m---------------------------------------------------------------------------\u001b[0m",
      "\u001b[0;31mNameError\u001b[0m                                 Traceback (most recent call last)",
      "\u001b[0;32m<ipython-input-10-7756fb1703d0>\u001b[0m in \u001b[0;36m<module>\u001b[0;34m\u001b[0m\n\u001b[0;32m----> 1\u001b[0;31m \u001b[0mmasked_catalog\u001b[0m \u001b[0;34m=\u001b[0m \u001b[0mmask_catalog_arrays\u001b[0m\u001b[0;34m(\u001b[0m\u001b[0mcatalog_array_unsheared\u001b[0m\u001b[0;34m,\u001b[0m\u001b[0mmask_array\u001b[0m\u001b[0;34m)\u001b[0m\u001b[0;34m\u001b[0m\u001b[0;34m\u001b[0m\u001b[0m\n\u001b[0m",
      "\u001b[0;31mNameError\u001b[0m: name 'catalog_array_unsheared' is not defined"
     ]
    }
   ],
   "source": [
    "masked_catalog = mask_catalog_arrays(catalog_array_unsheared,mask_array)"
   ]
  },
  {
   "cell_type": "code",
   "execution_count": 11,
   "metadata": {
    "pycharm": {
     "is_executing": false
    }
   },
   "outputs": [
    {
     "ename": "NameError",
     "evalue": "name 'masked_catalog' is not defined",
     "output_type": "error",
     "traceback": [
      "\u001b[0;31m---------------------------------------------------------------------------\u001b[0m",
      "\u001b[0;31mNameError\u001b[0m                                 Traceback (most recent call last)",
      "\u001b[0;32m<ipython-input-11-8d7d26f23d7f>\u001b[0m in \u001b[0;36m<module>\u001b[0;34m\u001b[0m\n\u001b[0;32m----> 1\u001b[0;31m \u001b[0;32mfor\u001b[0m \u001b[0mcatalog\u001b[0m \u001b[0;32min\u001b[0m \u001b[0mmasked_catalog\u001b[0m\u001b[0;34m:\u001b[0m\u001b[0;34m\u001b[0m\u001b[0;34m\u001b[0m\u001b[0m\n\u001b[0m\u001b[1;32m      2\u001b[0m     \u001b[0mprint\u001b[0m\u001b[0;34m(\u001b[0m\u001b[0mlen\u001b[0m\u001b[0;34m(\u001b[0m\u001b[0mlist\u001b[0m\u001b[0;34m(\u001b[0m\u001b[0mcatalog\u001b[0m\u001b[0;34m.\u001b[0m\u001b[0mkeys\u001b[0m\u001b[0;34m(\u001b[0m\u001b[0;34m)\u001b[0m\u001b[0;34m)\u001b[0m\u001b[0;34m)\u001b[0m\u001b[0;34m)\u001b[0m\u001b[0;34m\u001b[0m\u001b[0;34m\u001b[0m\u001b[0m\n",
      "\u001b[0;31mNameError\u001b[0m: name 'masked_catalog' is not defined"
     ]
    }
   ],
   "source": [
    "for catalog in masked_catalog:\n",
    "    print(len(list(catalog.keys())))"
   ]
  },
  {
   "cell_type": "code",
   "execution_count": null,
   "metadata": {
    "pycharm": {
     "is_executing": true
    }
   },
   "outputs": [],
   "source": [
    "def get_mean_std(masked_catalog):\n",
    "    std_array=[]; mean_array=[]\n",
    "    mean_dict={}\n",
    "    std_dict={}\n",
    "    for i, catalog in enumerate(masked_catalog):\n",
    "        std_dict = {}\n",
    "        mean_dict = {}\n",
    "        for key in catalog:\n",
    "            std_dict[key] = np.std(catalog[key])\n",
    "            mean_dict[key] = np.mean(catalog[key])\n",
    "        std_array.append(std_dict)\n",
    "        mean_array.append(mean_dict)\n",
    "    return(mean_array,std_array)"
   ]
  },
  {
   "cell_type": "code",
   "execution_count": 12,
   "metadata": {
    "pycharm": {
     "is_executing": false
    }
   },
   "outputs": [
    {
     "ename": "NameError",
     "evalue": "name 'get_mean_std' is not defined",
     "output_type": "error",
     "traceback": [
      "\u001b[0;31m---------------------------------------------------------------------------\u001b[0m",
      "\u001b[0;31mNameError\u001b[0m                                 Traceback (most recent call last)",
      "\u001b[0;32m<ipython-input-12-4784e6b30789>\u001b[0m in \u001b[0;36m<module>\u001b[0;34m\u001b[0m\n\u001b[0;32m----> 1\u001b[0;31m \u001b[0mmean_array\u001b[0m\u001b[0;34m,\u001b[0m\u001b[0mstd_array\u001b[0m \u001b[0;34m=\u001b[0m \u001b[0mget_mean_std\u001b[0m\u001b[0;34m(\u001b[0m\u001b[0mmasked_catalog\u001b[0m\u001b[0;34m)\u001b[0m\u001b[0;34m\u001b[0m\u001b[0;34m\u001b[0m\u001b[0m\n\u001b[0m",
      "\u001b[0;31mNameError\u001b[0m: name 'get_mean_std' is not defined"
     ]
    }
   ],
   "source": [
    "mean_array,std_array = get_mean_std(masked_catalog)"
   ]
  },
  {
   "cell_type": "code",
   "execution_count": 13,
   "metadata": {
    "pycharm": {
     "is_executing": false
    }
   },
   "outputs": [
    {
     "ename": "FileNotFoundError",
     "evalue": "[Errno 2] No such file or directory: './hist/compare/val_stat.txt'",
     "output_type": "error",
     "traceback": [
      "\u001b[0;31m---------------------------------------------------------------------------\u001b[0m",
      "\u001b[0;31mFileNotFoundError\u001b[0m                         Traceback (most recent call last)",
      "\u001b[0;32m<ipython-input-13-97382c064f8a>\u001b[0m in \u001b[0;36m<module>\u001b[0;34m\u001b[0m\n\u001b[0;32m----> 1\u001b[0;31m \u001b[0mf\u001b[0m \u001b[0;34m=\u001b[0m \u001b[0mopen\u001b[0m\u001b[0;34m(\u001b[0m\u001b[0;34m'./hist/compare/val_stat.txt'\u001b[0m\u001b[0;34m,\u001b[0m\u001b[0;34m'w+'\u001b[0m\u001b[0;34m)\u001b[0m\u001b[0;34m\u001b[0m\u001b[0;34m\u001b[0m\u001b[0m\n\u001b[0m\u001b[1;32m      2\u001b[0m \u001b[0;34m\u001b[0m\u001b[0m\n\u001b[1;32m      3\u001b[0m \u001b[0msepbar\u001b[0m \u001b[0;34m=\u001b[0m \u001b[0;34m\"------------------------------------------------------------------------------------------------------------------------------------------------------------------------------------------\\n\"\u001b[0m\u001b[0;34m\u001b[0m\u001b[0;34m\u001b[0m\u001b[0m\n\u001b[1;32m      4\u001b[0m \u001b[0mf\u001b[0m\u001b[0;34m.\u001b[0m\u001b[0mwrite\u001b[0m \u001b[0;34m(\u001b[0m \u001b[0;34m\"std in {:15} is:   {:10} {:10} {:10} {:10} {:10} {:10}| mean is: {:10} {:10} {:10} {:10} {:10} {:10} \\n\"\u001b[0m\u001b[0;34m.\u001b[0m\u001b[0mformat\u001b[0m\u001b[0;34m(\u001b[0m\u001b[0;34m\"column\"\u001b[0m\u001b[0;34m,\u001b[0m\u001b[0;34m*\u001b[0m\u001b[0;34m(\u001b[0m\u001b[0mname_array\u001b[0m\u001b[0;34m)\u001b[0m\u001b[0;34m,\u001b[0m\u001b[0;34m*\u001b[0m\u001b[0;34m(\u001b[0m\u001b[0mname_array\u001b[0m\u001b[0;34m)\u001b[0m\u001b[0;34m)\u001b[0m\u001b[0;34m)\u001b[0m\u001b[0;34m\u001b[0m\u001b[0;34m\u001b[0m\u001b[0m\n\u001b[1;32m      5\u001b[0m \u001b[0mf\u001b[0m\u001b[0;34m.\u001b[0m\u001b[0mwrite\u001b[0m \u001b[0;34m(\u001b[0m\u001b[0msepbar\u001b[0m\u001b[0;34m)\u001b[0m\u001b[0;34m\u001b[0m\u001b[0;34m\u001b[0m\u001b[0m\n",
      "\u001b[0;31mFileNotFoundError\u001b[0m: [Errno 2] No such file or directory: './hist/compare/val_stat.txt'"
     ]
    }
   ],
   "source": [
    "f = open('./hist/compare/val_stat.txt','w+')\n",
    "\n",
    "sepbar = \"------------------------------------------------------------------------------------------------------------------------------------------------------------------------------------------\\n\"\n",
    "f.write ( \"std in {:15} is:   {:10} {:10} {:10} {:10} {:10} {:10}| mean is: {:10} {:10} {:10} {:10} {:10} {:10} \\n\".format(\"column\",*(name_array),*(name_array)))\n",
    "f.write (sepbar)\n",
    "for key in list(keys_array[4]):\n",
    "    if key not in excluded_keys:\n",
    "        if key in keys_array[0]:\n",
    "            key_std = lambda key:[std_array[i][key] for i in range(len(std_array))]\n",
    "            key_mean = lambda key:[mean_array[i][key] for i in range(len(mean_array))]\n",
    "            f.write (\"std in {:15} is: {:10.3e} {:10.3e} {:10.3e} {:10.3e} {:10.3e} {:10.3e}| mean is: {:10.3e} {:10.3e} {:10.3e} {:10.3e} {:10.3e} {:10.3e} \\n\".format(key,*key_std(key),*key_mean(key)))\n",
    "        else:\n",
    "            key_std=[None]*len(std_array)\n",
    "            key_mean=[None]*len(std_array)\n",
    "            for i in range(len(std_array)):\n",
    "                if key in std_array[i]:\n",
    "                    key_std[i] = std_array[i][key]\n",
    "                    key_mean[i]=mean_array[i][key]\n",
    "                else:\n",
    "                    key_std[i]=float(\"NaN\")\n",
    "                    key_mean[i] = float(\"NaN\")\n",
    "            f.write (\"std in {:15} is: {:10.3e} {:10.3e} {:10.3e} {:10.3e} {:10.3e} {:10.3e}| mean is: {:10.3e} {:10.3e} {:10.3e} {:10.3e} {:10.3e} {:10.3e} \\n\".format(key,*key_std,*key_mean))\n",
    "        f.write (sepbar)\n",
    "f.close()"
   ]
  },
  {
   "cell_type": "markdown",
   "metadata": {},
   "source": [
    "# Plotting"
   ]
  },
  {
   "cell_type": "code",
   "execution_count": null,
   "metadata": {
    "pycharm": {
     "is_executing": true
    }
   },
   "outputs": [],
   "source": [
    "import os\n",
    "\n",
    "def mkdir_p(mypath):    \n",
    "    try:  \n",
    "        os.mkdir(mypath)\n",
    "    except OSError as e:  \n",
    "        if e.errno != os.errno.EEXIST:\n",
    "            raise\n",
    "        pass"
   ]
  },
  {
   "cell_type": "code",
   "execution_count": 14,
   "metadata": {
    "pycharm": {
     "is_executing": false
    }
   },
   "outputs": [],
   "source": [
    "def hist_compare(catalog1,catalog2):\n",
    "\n",
    "    index1 = catalog_array.index(catalog1)\n",
    "    index2 = catalog_array.index(catalog2)\n",
    "    \n",
    "    name1 = name_array[index1]\n",
    "    name2 = name_array[index2]\n",
    "    \n",
    "    for i,key in enumerate(list(catalog1['unsheared'].keys())):\n",
    "        data1 = catalog1['unsheared'][key][:][mask_array[index1][3]]\n",
    "        data2= catalog2['unsheared'][key][:][mask_array[index2][3]]\n",
    "\n",
    "        lower1 = mean_array[index1][key] - 2*std_array[index1][key]\n",
    "        upper1 = mean_array[index1][key] + 2*std_array[index1][key]\n",
    "        lower2 = mean_array[index2][key] - 2*std_array[index2][key]\n",
    "        upper2 = mean_array[index2][key] + 2*std_array[index2][key]\n",
    "        lower = lower1 if lower1 <= lower2 else lower2;\n",
    "        upper = upper1 if upper1 >= upper2 else upper2;\n",
    "\n",
    "\n",
    "        fig = plt.figure();\n",
    "        ax = fig.add_subplot(111)\n",
    "        \n",
    "        if key in excluded_keys:\n",
    "            continue\n",
    "        elif key in log_keys:\n",
    "            lower = 10**(-2) if lower <= 0 else lower;\n",
    "            BINS = 10 ** np.linspace(np.log10(lower),np.log10(upper))\n",
    "            H1 = plt.hist(data1,label ='{}'.format(name_array[index1]),bins=BINS,log=True,histtype = 'step');\n",
    "            H2 = plt.hist(data2,label ='{}'.format(name_array[index2]),bins=BINS,log=True,histtype = 'step');\n",
    "            plt.xscale('log')\n",
    "    #     elif key in flux_keys:\n",
    "    #         data = 30 - 2.5 * np.log10(data)\n",
    "    #         H = plt.hist(data,label=labels,bins=100)\n",
    "        else:\n",
    "            H1 = plt.hist(data1,label ='{}'.format(name1),log=True, bins = 100,histtype = 'step');\n",
    "            H2 = plt.hist(data2,label ='{}'.format(name2),log=True, bins = 100,histtype = 'step');\n",
    "        ax.text(1,1,'{:5}:std={:05.3e} mean={:05.3e} \\n {:5}:std={:05.3e} mean={:05.3e}'\n",
    "                .format(name1,std_array[index1][key],mean_array[index1][key],name2,std_array[index2][key],mean_array[index2][key])\n",
    "                ,verticalalignment = 'top',horizontalalignment = 'right',\n",
    "        transform=ax.transAxes,color='black',fontsize=7)\n",
    "        \n",
    "        plt.xlabel(key)\n",
    "        plt.ylabel(\"frequency\")\n",
    "    #     plt.legend(loc=0)\n",
    "    \n",
    "        plt.title(\"Histogram of {}\".format(key));\n",
    "        output_dir = \"./hist/compare/{}_{}\".format(name1,name2)\n",
    "        mkdir_p(\"./hist/compare\")\n",
    "        mkdir_p(output_dir)\n",
    "        plt.savefig(\"{}/{}\".format(output_dir,key),dpi=300);\n",
    "        plt.close()"
   ]
  },
  {
   "cell_type": "markdown",
   "metadata": {},
   "source": [
    "# Calculate g_i"
   ]
  },
  {
   "cell_type": "code",
   "execution_count": 15,
   "metadata": {
    "pycharm": {
     "is_executing": false
    }
   },
   "outputs": [],
   "source": [
    "def g(e, R):\n",
    "    return (e/R)"
   ]
  },
  {
   "cell_type": "code",
   "execution_count": 16,
   "metadata": {
    "pycharm": {
     "is_executing": false
    }
   },
   "outputs": [],
   "source": [
    "def get_g_array(mean_array):\n",
    "    g_array = []\n",
    "    for i in range(len(mean_array)):\n",
    "        g_temp_array = []\n",
    "        for j in range(1,3):\n",
    "            g_temp_array.append(g(mean_array[i]['e_'+str(j)], mean_array[i]['R'+str(j)+str(j)]))\n",
    "        g_array.append(g_temp_array)\n",
    "    return(g_array)"
   ]
  },
  {
   "cell_type": "code",
   "execution_count": 17,
   "metadata": {
    "pycharm": {
     "is_executing": false
    }
   },
   "outputs": [
    {
     "ename": "NameError",
     "evalue": "name 'mean_array' is not defined",
     "output_type": "error",
     "traceback": [
      "\u001b[0;31m---------------------------------------------------------------------------\u001b[0m",
      "\u001b[0;31mNameError\u001b[0m                                 Traceback (most recent call last)",
      "\u001b[0;32m<ipython-input-17-cc798ca1fdf7>\u001b[0m in \u001b[0;36m<module>\u001b[0;34m\u001b[0m\n\u001b[0;32m----> 1\u001b[0;31m \u001b[0mg_array\u001b[0m\u001b[0;34m=\u001b[0m\u001b[0mget_g_array\u001b[0m\u001b[0;34m(\u001b[0m\u001b[0mmean_array\u001b[0m\u001b[0;34m)\u001b[0m\u001b[0;34m\u001b[0m\u001b[0;34m\u001b[0m\u001b[0m\n\u001b[0m",
      "\u001b[0;31mNameError\u001b[0m: name 'mean_array' is not defined"
     ]
    }
   ],
   "source": [
    "g_array=get_g_array(mean_array)"
   ]
  },
  {
   "cell_type": "code",
   "execution_count": 18,
   "metadata": {
    "pycharm": {
     "is_executing": false
    }
   },
   "outputs": [
    {
     "ename": "NameError",
     "evalue": "name 'g_array' is not defined",
     "output_type": "error",
     "traceback": [
      "\u001b[0;31m---------------------------------------------------------------------------\u001b[0m",
      "\u001b[0;31mNameError\u001b[0m                                 Traceback (most recent call last)",
      "\u001b[0;32m<ipython-input-18-5e0cca154e05>\u001b[0m in \u001b[0;36m<module>\u001b[0;34m\u001b[0m\n\u001b[0;32m----> 1\u001b[0;31m \u001b[0;32mfor\u001b[0m \u001b[0marray\u001b[0m \u001b[0;32min\u001b[0m \u001b[0mg_array\u001b[0m\u001b[0;34m:\u001b[0m\u001b[0;34m\u001b[0m\u001b[0;34m\u001b[0m\u001b[0m\n\u001b[0m\u001b[1;32m      2\u001b[0m     \u001b[0mprint\u001b[0m \u001b[0;34m(\u001b[0m\u001b[0;34m\"g1: {:10.3e} g2:{:10.3e}\"\u001b[0m\u001b[0;34m.\u001b[0m\u001b[0mformat\u001b[0m\u001b[0;34m(\u001b[0m\u001b[0;34m*\u001b[0m\u001b[0marray\u001b[0m\u001b[0;34m)\u001b[0m\u001b[0;34m)\u001b[0m\u001b[0;34m\u001b[0m\u001b[0;34m\u001b[0m\u001b[0m\n",
      "\u001b[0;31mNameError\u001b[0m: name 'g_array' is not defined"
     ]
    }
   ],
   "source": [
    "for array in g_array:\n",
    "    print (\"g1: {:10.3e} g2:{:10.3e}\".format(*array))"
   ]
  },
  {
   "cell_type": "markdown",
   "metadata": {},
   "source": [
    "# Difference comparing"
   ]
  },
  {
   "cell_type": "markdown",
   "metadata": {},
   "source": [
    "### Testing whether one set is the subset of the other"
   ]
  },
  {
   "cell_type": "code",
   "execution_count": 19,
   "metadata": {
    "pycharm": {
     "is_executing": false
    }
   },
   "outputs": [],
   "source": [
    "index_array = []\n",
    "\n",
    "def get_intersected_mask(catalog1,catalog2):\n",
    "    \n",
    "    id_array_1 = catalog1['bal_id'][:]\n",
    "    id_array_2 = catalog2['bal_id'][:]\n",
    "\n",
    "    mask1 = np.in1d(id_array_1,id_array_2)\n",
    "    mask2 = np.in1d(id_array_2,id_array_1)\n",
    "\n",
    "    if np.sum(mask1)==np.sum(mask2):\n",
    "        print(\"The number of elements after taking the intersection of two sets are {}\".format(np.sum(mask1)))\n",
    "        print(\"The intersection operation takes {} elements from array1\".format(len(id_array_1)-np.sum(mask1)))\n",
    "        print(\"The intersection operation takes {} elements from array2\".format(len(id_array_2)-np.sum(mask2)))\n",
    "\n",
    "    if np.all((id_array_1[mask1] == id_array_2[mask2])):\n",
    "        print(\"The balrog ids are two identical arrays after masking.\")\n",
    "        \n",
    "    return(mask1,mask2)"
   ]
  },
  {
   "cell_type": "code",
   "execution_count": 20,
   "metadata": {
    "pycharm": {
     "is_executing": false
    }
   },
   "outputs": [
    {
     "ename": "NameError",
     "evalue": "name 'catalog_array_unsheared' is not defined",
     "output_type": "error",
     "traceback": [
      "\u001b[0;31m---------------------------------------------------------------------------\u001b[0m",
      "\u001b[0;31mNameError\u001b[0m                                 Traceback (most recent call last)",
      "\u001b[0;32m<ipython-input-20-3efea466a465>\u001b[0m in \u001b[0;36m<module>\u001b[0;34m\u001b[0m\n\u001b[0;32m----> 1\u001b[0;31m \u001b[0mmask2\u001b[0m\u001b[0;34m,\u001b[0m\u001b[0mmask3\u001b[0m\u001b[0;34m=\u001b[0m\u001b[0mget_intersected_mask\u001b[0m\u001b[0;34m(\u001b[0m\u001b[0mcatalog_array_unsheared\u001b[0m\u001b[0;34m[\u001b[0m\u001b[0;36m2\u001b[0m\u001b[0;34m]\u001b[0m\u001b[0;34m,\u001b[0m\u001b[0mcatalog_array_unsheared\u001b[0m\u001b[0;34m[\u001b[0m\u001b[0;36m3\u001b[0m\u001b[0;34m]\u001b[0m\u001b[0;34m)\u001b[0m\u001b[0;34m\u001b[0m\u001b[0;34m\u001b[0m\u001b[0m\n\u001b[0m\u001b[1;32m      2\u001b[0m \u001b[0mmask4\u001b[0m\u001b[0;34m,\u001b[0m\u001b[0mmask5\u001b[0m\u001b[0;34m=\u001b[0m\u001b[0mget_intersected_mask\u001b[0m\u001b[0;34m(\u001b[0m\u001b[0mcatalog_array_unsheared\u001b[0m\u001b[0;34m[\u001b[0m\u001b[0;36m4\u001b[0m\u001b[0;34m]\u001b[0m\u001b[0;34m,\u001b[0m\u001b[0mcatalog_array_unsheared\u001b[0m\u001b[0;34m[\u001b[0m\u001b[0;36m5\u001b[0m\u001b[0;34m]\u001b[0m\u001b[0;34m)\u001b[0m\u001b[0;34m\u001b[0m\u001b[0;34m\u001b[0m\u001b[0m\n",
      "\u001b[0;31mNameError\u001b[0m: name 'catalog_array_unsheared' is not defined"
     ]
    }
   ],
   "source": [
    "mask2,mask3=get_intersected_mask(catalog_array_unsheared[2],catalog_array_unsheared[3])\n",
    "mask4,mask5=get_intersected_mask(catalog_array_unsheared[4],catalog_array_unsheared[5])"
   ]
  },
  {
   "cell_type": "code",
   "execution_count": 21,
   "metadata": {
    "pycharm": {
     "is_executing": false
    }
   },
   "outputs": [
    {
     "ename": "NameError",
     "evalue": "name 'mask2' is not defined",
     "output_type": "error",
     "traceback": [
      "\u001b[0;31m---------------------------------------------------------------------------\u001b[0m",
      "\u001b[0;31mNameError\u001b[0m                                 Traceback (most recent call last)",
      "\u001b[0;32m<ipython-input-21-ffd36806144b>\u001b[0m in \u001b[0;36m<module>\u001b[0;34m\u001b[0m\n\u001b[0;32m----> 1\u001b[0;31m \u001b[0mbal_mask_array\u001b[0m\u001b[0;34m=\u001b[0m\u001b[0;34m[\u001b[0m\u001b[0mmask2\u001b[0m\u001b[0;34m,\u001b[0m\u001b[0mmask3\u001b[0m\u001b[0;34m,\u001b[0m\u001b[0mmask4\u001b[0m\u001b[0;34m,\u001b[0m\u001b[0mmask5\u001b[0m\u001b[0;34m]\u001b[0m\u001b[0;34m\u001b[0m\u001b[0;34m\u001b[0m\u001b[0m\n\u001b[0m\u001b[1;32m      2\u001b[0m \u001b[0mbal_catalog_array\u001b[0m\u001b[0;34m=\u001b[0m\u001b[0mcatalog_array_unsheared\u001b[0m\u001b[0;34m[\u001b[0m\u001b[0;36m2\u001b[0m\u001b[0;34m:\u001b[0m\u001b[0;36m6\u001b[0m\u001b[0;34m]\u001b[0m\u001b[0;34m\u001b[0m\u001b[0;34m\u001b[0m\u001b[0m\n",
      "\u001b[0;31mNameError\u001b[0m: name 'mask2' is not defined"
     ]
    }
   ],
   "source": [
    "bal_mask_array=[mask2,mask3,mask4,mask5]\n",
    "bal_catalog_array=catalog_array_unsheared[2:6]"
   ]
  },
  {
   "cell_type": "code",
   "execution_count": 22,
   "metadata": {
    "pycharm": {
     "is_executing": false
    }
   },
   "outputs": [],
   "source": [
    "def get_bal_masked_dict(old_dict,mask):\n",
    "    masked_dict={}\n",
    "    for key in tqdm(old_dict.keys()):\n",
    "        masked_dict[key]=old_dict[key][mask]\n",
    "    return (masked_dict)"
   ]
  },
  {
   "cell_type": "code",
   "execution_count": 23,
   "metadata": {
    "pycharm": {
     "is_executing": false
    }
   },
   "outputs": [
    {
     "ename": "NameError",
     "evalue": "name 'bal_mask_array' is not defined",
     "output_type": "error",
     "traceback": [
      "\u001b[0;31m---------------------------------------------------------------------------\u001b[0m",
      "\u001b[0;31mNameError\u001b[0m                                 Traceback (most recent call last)",
      "\u001b[0;32m<ipython-input-23-ee4270c69670>\u001b[0m in \u001b[0;36m<module>\u001b[0;34m\u001b[0m\n\u001b[1;32m      1\u001b[0m \u001b[0mcatalog_bal_masked\u001b[0m\u001b[0;34m=\u001b[0m\u001b[0;34m[\u001b[0m\u001b[0;34m]\u001b[0m\u001b[0;34m\u001b[0m\u001b[0;34m\u001b[0m\u001b[0m\n\u001b[0;32m----> 2\u001b[0;31m \u001b[0;32mfor\u001b[0m \u001b[0mi\u001b[0m \u001b[0;32min\u001b[0m \u001b[0mrange\u001b[0m\u001b[0;34m(\u001b[0m\u001b[0mlen\u001b[0m\u001b[0;34m(\u001b[0m\u001b[0mbal_mask_array\u001b[0m\u001b[0;34m)\u001b[0m\u001b[0;34m)\u001b[0m\u001b[0;34m:\u001b[0m\u001b[0;34m\u001b[0m\u001b[0;34m\u001b[0m\u001b[0m\n\u001b[0m\u001b[1;32m      3\u001b[0m     \u001b[0mcatalog_bal_masked\u001b[0m\u001b[0;34m.\u001b[0m\u001b[0mappend\u001b[0m\u001b[0;34m(\u001b[0m\u001b[0mget_bal_masked_dict\u001b[0m\u001b[0;34m(\u001b[0m\u001b[0mbal_catalog_array\u001b[0m\u001b[0;34m[\u001b[0m\u001b[0mi\u001b[0m\u001b[0;34m]\u001b[0m\u001b[0;34m,\u001b[0m\u001b[0mbal_mask_array\u001b[0m\u001b[0;34m[\u001b[0m\u001b[0mi\u001b[0m\u001b[0;34m]\u001b[0m\u001b[0;34m)\u001b[0m\u001b[0;34m)\u001b[0m\u001b[0;34m\u001b[0m\u001b[0;34m\u001b[0m\u001b[0m\n",
      "\u001b[0;31mNameError\u001b[0m: name 'bal_mask_array' is not defined"
     ]
    }
   ],
   "source": [
    "catalog_bal_masked=[]\n",
    "for i in range(len(bal_mask_array)):\n",
    "    catalog_bal_masked.append(get_bal_masked_dict(bal_catalog_array[i],bal_mask_array[i]))"
   ]
  },
  {
   "cell_type": "code",
   "execution_count": 24,
   "metadata": {
    "pycharm": {
     "is_executing": false
    }
   },
   "outputs": [
    {
     "ename": "IndexError",
     "evalue": "list index out of range",
     "output_type": "error",
     "traceback": [
      "\u001b[0;31m---------------------------------------------------------------------------\u001b[0m",
      "\u001b[0;31mIndexError\u001b[0m                                Traceback (most recent call last)",
      "\u001b[0;32m<ipython-input-24-ce52fd6a9091>\u001b[0m in \u001b[0;36m<module>\u001b[0;34m\u001b[0m\n\u001b[0;32m----> 1\u001b[0;31m \u001b[0mprint\u001b[0m \u001b[0;34m(\u001b[0m\u001b[0mlen\u001b[0m\u001b[0;34m(\u001b[0m\u001b[0mcatalog_bal_masked\u001b[0m\u001b[0;34m[\u001b[0m\u001b[0;36m0\u001b[0m\u001b[0;34m]\u001b[0m\u001b[0;34m[\u001b[0m\u001b[0;34m'bal_id'\u001b[0m\u001b[0;34m]\u001b[0m\u001b[0;34m)\u001b[0m\u001b[0;34m)\u001b[0m\u001b[0;34m\u001b[0m\u001b[0;34m\u001b[0m\u001b[0m\n\u001b[0m\u001b[1;32m      2\u001b[0m \u001b[0mprint\u001b[0m \u001b[0;34m(\u001b[0m\u001b[0mlen\u001b[0m\u001b[0;34m(\u001b[0m\u001b[0mcatalog_bal_masked\u001b[0m\u001b[0;34m[\u001b[0m\u001b[0;36m1\u001b[0m\u001b[0;34m]\u001b[0m\u001b[0;34m[\u001b[0m\u001b[0;34m'bal_id'\u001b[0m\u001b[0;34m]\u001b[0m\u001b[0;34m)\u001b[0m\u001b[0;34m)\u001b[0m\u001b[0;34m\u001b[0m\u001b[0;34m\u001b[0m\u001b[0m\n\u001b[1;32m      3\u001b[0m \u001b[0mprint\u001b[0m \u001b[0;34m(\u001b[0m\u001b[0mlen\u001b[0m\u001b[0;34m(\u001b[0m\u001b[0mcatalog_bal_masked\u001b[0m\u001b[0;34m[\u001b[0m\u001b[0;36m2\u001b[0m\u001b[0;34m]\u001b[0m\u001b[0;34m[\u001b[0m\u001b[0;34m'bal_id'\u001b[0m\u001b[0;34m]\u001b[0m\u001b[0;34m)\u001b[0m\u001b[0;34m)\u001b[0m\u001b[0;34m\u001b[0m\u001b[0;34m\u001b[0m\u001b[0m\n\u001b[1;32m      4\u001b[0m \u001b[0mprint\u001b[0m \u001b[0;34m(\u001b[0m\u001b[0mlen\u001b[0m\u001b[0;34m(\u001b[0m\u001b[0mcatalog_bal_masked\u001b[0m\u001b[0;34m[\u001b[0m\u001b[0;36m3\u001b[0m\u001b[0;34m]\u001b[0m\u001b[0;34m[\u001b[0m\u001b[0;34m'bal_id'\u001b[0m\u001b[0;34m]\u001b[0m\u001b[0;34m)\u001b[0m\u001b[0;34m)\u001b[0m\u001b[0;34m\u001b[0m\u001b[0;34m\u001b[0m\u001b[0m\n",
      "\u001b[0;31mIndexError\u001b[0m: list index out of range"
     ]
    }
   ],
   "source": [
    "print (len(catalog_bal_masked[0]['bal_id']))\n",
    "print (len(catalog_bal_masked[1]['bal_id']))\n",
    "print (len(catalog_bal_masked[2]['bal_id']))\n",
    "print (len(catalog_bal_masked[3]['bal_id']))"
   ]
  },
  {
   "cell_type": "markdown",
   "metadata": {},
   "source": [
    "### clipping the arrays with logical and"
   ]
  },
  {
   "cell_type": "code",
   "execution_count": 25,
   "metadata": {
    "pycharm": {
     "is_executing": false
    }
   },
   "outputs": [],
   "source": [
    "SNR_mask_array_for_bal_masked = [masking(catalog,SNR_CUT,SIZE_RATIO_CUT,T_CUT) for catalog in catalog_bal_masked]"
   ]
  },
  {
   "cell_type": "code",
   "execution_count": 26,
   "metadata": {
    "pycharm": {
     "is_executing": false
    }
   },
   "outputs": [
    {
     "ename": "IndexError",
     "evalue": "list index out of range",
     "output_type": "error",
     "traceback": [
      "\u001b[0;31m---------------------------------------------------------------------------\u001b[0m",
      "\u001b[0;31mIndexError\u001b[0m                                Traceback (most recent call last)",
      "\u001b[0;32m<ipython-input-26-8744e1d7a57c>\u001b[0m in \u001b[0;36m<module>\u001b[0;34m\u001b[0m\n\u001b[0;32m----> 1\u001b[0;31m \u001b[0mprint\u001b[0m \u001b[0;34m(\u001b[0m\u001b[0mlen\u001b[0m\u001b[0;34m(\u001b[0m\u001b[0mSNR_mask_array_for_bal_masked\u001b[0m\u001b[0;34m[\u001b[0m\u001b[0;36m0\u001b[0m\u001b[0;34m]\u001b[0m\u001b[0;34m[\u001b[0m\u001b[0;36m3\u001b[0m\u001b[0;34m]\u001b[0m\u001b[0;34m)\u001b[0m\u001b[0;34m)\u001b[0m\u001b[0;34m\u001b[0m\u001b[0;34m\u001b[0m\u001b[0m\n\u001b[0m\u001b[1;32m      2\u001b[0m \u001b[0mprint\u001b[0m \u001b[0;34m(\u001b[0m\u001b[0mlen\u001b[0m\u001b[0;34m(\u001b[0m\u001b[0mSNR_mask_array_for_bal_masked\u001b[0m\u001b[0;34m[\u001b[0m\u001b[0;36m1\u001b[0m\u001b[0;34m]\u001b[0m\u001b[0;34m[\u001b[0m\u001b[0;36m3\u001b[0m\u001b[0;34m]\u001b[0m\u001b[0;34m)\u001b[0m\u001b[0;34m)\u001b[0m\u001b[0;34m\u001b[0m\u001b[0;34m\u001b[0m\u001b[0m\n\u001b[1;32m      3\u001b[0m \u001b[0mprint\u001b[0m \u001b[0;34m(\u001b[0m\u001b[0mlen\u001b[0m\u001b[0;34m(\u001b[0m\u001b[0mSNR_mask_array_for_bal_masked\u001b[0m\u001b[0;34m[\u001b[0m\u001b[0;36m2\u001b[0m\u001b[0;34m]\u001b[0m\u001b[0;34m[\u001b[0m\u001b[0;36m3\u001b[0m\u001b[0;34m]\u001b[0m\u001b[0;34m)\u001b[0m\u001b[0;34m)\u001b[0m\u001b[0;34m\u001b[0m\u001b[0;34m\u001b[0m\u001b[0m\n\u001b[1;32m      4\u001b[0m \u001b[0mprint\u001b[0m \u001b[0;34m(\u001b[0m\u001b[0mlen\u001b[0m\u001b[0;34m(\u001b[0m\u001b[0mSNR_mask_array_for_bal_masked\u001b[0m\u001b[0;34m[\u001b[0m\u001b[0;36m3\u001b[0m\u001b[0;34m]\u001b[0m\u001b[0;34m[\u001b[0m\u001b[0;36m3\u001b[0m\u001b[0;34m]\u001b[0m\u001b[0;34m)\u001b[0m\u001b[0;34m)\u001b[0m\u001b[0;34m\u001b[0m\u001b[0;34m\u001b[0m\u001b[0m\n",
      "\u001b[0;31mIndexError\u001b[0m: list index out of range"
     ]
    }
   ],
   "source": [
    "print (len(SNR_mask_array_for_bal_masked[0][3]))\n",
    "print (len(SNR_mask_array_for_bal_masked[1][3]))\n",
    "print (len(SNR_mask_array_for_bal_masked[2][3]))\n",
    "print (len(SNR_mask_array_for_bal_masked[3][3]))"
   ]
  },
  {
   "cell_type": "code",
   "execution_count": 27,
   "metadata": {
    "pycharm": {
     "is_executing": false
    }
   },
   "outputs": [],
   "source": [
    "def get_and_mask(catalog_array,mask_array):\n",
    "    and_masked_array=[]\n",
    "    mask_2_3 = np.logical_and(mask_array[0][3],mask_array[1][3])\n",
    "    mask_4_5=np.logical_and(mask_array[2][3],mask_array[3][3])\n",
    "    for i in range(2):\n",
    "        and_masked_array.append(mask_2_3)\n",
    "    for i in range(2):\n",
    "        and_masked_array.append(mask_4_5)\n",
    "    return (and_masked_array)\n",
    "        "
   ]
  },
  {
   "cell_type": "code",
   "execution_count": 28,
   "metadata": {
    "pycharm": {
     "is_executing": false
    }
   },
   "outputs": [
    {
     "ename": "NameError",
     "evalue": "name 'and_mask_array' is not defined",
     "output_type": "error",
     "traceback": [
      "\u001b[0;31m---------------------------------------------------------------------------\u001b[0m",
      "\u001b[0;31mNameError\u001b[0m                                 Traceback (most recent call last)",
      "\u001b[0;32m<ipython-input-28-05bc1a49c935>\u001b[0m in \u001b[0;36m<module>\u001b[0;34m\u001b[0m\n\u001b[0;32m----> 1\u001b[0;31m \u001b[0mprint\u001b[0m \u001b[0;34m(\u001b[0m\u001b[0mlen\u001b[0m\u001b[0;34m(\u001b[0m\u001b[0mand_mask_array\u001b[0m\u001b[0;34m)\u001b[0m\u001b[0;34m)\u001b[0m\u001b[0;34m\u001b[0m\u001b[0;34m\u001b[0m\u001b[0m\n\u001b[0m",
      "\u001b[0;31mNameError\u001b[0m: name 'and_mask_array' is not defined"
     ]
    }
   ],
   "source": [
    "print (len(and_mask_array))"
   ]
  },
  {
   "cell_type": "code",
   "execution_count": 29,
   "metadata": {
    "pycharm": {
     "is_executing": false
    }
   },
   "outputs": [
    {
     "ename": "IndexError",
     "evalue": "list index out of range",
     "output_type": "error",
     "traceback": [
      "\u001b[0;31m---------------------------------------------------------------------------\u001b[0m",
      "\u001b[0;31mIndexError\u001b[0m                                Traceback (most recent call last)",
      "\u001b[0;32m<ipython-input-29-d68d969ee123>\u001b[0m in \u001b[0;36m<module>\u001b[0;34m\u001b[0m\n\u001b[0;32m----> 1\u001b[0;31m \u001b[0mand_mask_array\u001b[0m\u001b[0;34m=\u001b[0m\u001b[0mget_and_mask\u001b[0m\u001b[0;34m(\u001b[0m\u001b[0mcatalog_bal_masked\u001b[0m\u001b[0;34m,\u001b[0m\u001b[0mSNR_mask_array_for_bal_masked\u001b[0m\u001b[0;34m)\u001b[0m\u001b[0;34m\u001b[0m\u001b[0;34m\u001b[0m\u001b[0m\n\u001b[0m",
      "\u001b[0;32m<ipython-input-27-2cad08b07e86>\u001b[0m in \u001b[0;36mget_and_mask\u001b[0;34m(catalog_array, mask_array)\u001b[0m\n\u001b[1;32m      1\u001b[0m \u001b[0;32mdef\u001b[0m \u001b[0mget_and_mask\u001b[0m\u001b[0;34m(\u001b[0m\u001b[0mcatalog_array\u001b[0m\u001b[0;34m,\u001b[0m\u001b[0mmask_array\u001b[0m\u001b[0;34m)\u001b[0m\u001b[0;34m:\u001b[0m\u001b[0;34m\u001b[0m\u001b[0;34m\u001b[0m\u001b[0m\n\u001b[1;32m      2\u001b[0m     \u001b[0mand_masked_array\u001b[0m\u001b[0;34m=\u001b[0m\u001b[0;34m[\u001b[0m\u001b[0;34m]\u001b[0m\u001b[0;34m\u001b[0m\u001b[0;34m\u001b[0m\u001b[0m\n\u001b[0;32m----> 3\u001b[0;31m     \u001b[0mmask_2_3\u001b[0m \u001b[0;34m=\u001b[0m \u001b[0mnp\u001b[0m\u001b[0;34m.\u001b[0m\u001b[0mlogical_and\u001b[0m\u001b[0;34m(\u001b[0m\u001b[0mmask_array\u001b[0m\u001b[0;34m[\u001b[0m\u001b[0;36m0\u001b[0m\u001b[0;34m]\u001b[0m\u001b[0;34m[\u001b[0m\u001b[0;36m3\u001b[0m\u001b[0;34m]\u001b[0m\u001b[0;34m,\u001b[0m\u001b[0mmask_array\u001b[0m\u001b[0;34m[\u001b[0m\u001b[0;36m1\u001b[0m\u001b[0;34m]\u001b[0m\u001b[0;34m[\u001b[0m\u001b[0;36m3\u001b[0m\u001b[0;34m]\u001b[0m\u001b[0;34m)\u001b[0m\u001b[0;34m\u001b[0m\u001b[0;34m\u001b[0m\u001b[0m\n\u001b[0m\u001b[1;32m      4\u001b[0m     \u001b[0mmask_4_5\u001b[0m\u001b[0;34m=\u001b[0m\u001b[0mnp\u001b[0m\u001b[0;34m.\u001b[0m\u001b[0mlogical_and\u001b[0m\u001b[0;34m(\u001b[0m\u001b[0mmask_array\u001b[0m\u001b[0;34m[\u001b[0m\u001b[0;36m2\u001b[0m\u001b[0;34m]\u001b[0m\u001b[0;34m[\u001b[0m\u001b[0;36m3\u001b[0m\u001b[0;34m]\u001b[0m\u001b[0;34m,\u001b[0m\u001b[0mmask_array\u001b[0m\u001b[0;34m[\u001b[0m\u001b[0;36m3\u001b[0m\u001b[0;34m]\u001b[0m\u001b[0;34m[\u001b[0m\u001b[0;36m3\u001b[0m\u001b[0;34m]\u001b[0m\u001b[0;34m)\u001b[0m\u001b[0;34m\u001b[0m\u001b[0;34m\u001b[0m\u001b[0m\n\u001b[1;32m      5\u001b[0m     \u001b[0;32mfor\u001b[0m \u001b[0mi\u001b[0m \u001b[0;32min\u001b[0m \u001b[0mrange\u001b[0m\u001b[0;34m(\u001b[0m\u001b[0;36m2\u001b[0m\u001b[0;34m)\u001b[0m\u001b[0;34m:\u001b[0m\u001b[0;34m\u001b[0m\u001b[0;34m\u001b[0m\u001b[0m\n",
      "\u001b[0;31mIndexError\u001b[0m: list index out of range"
     ]
    }
   ],
   "source": [
    "and_mask_array=get_and_mask(catalog_bal_masked,SNR_mask_array_for_bal_masked)"
   ]
  },
  {
   "cell_type": "code",
   "execution_count": 30,
   "metadata": {
    "pycharm": {
     "is_executing": false
    }
   },
   "outputs": [
    {
     "ename": "NameError",
     "evalue": "name 'and_mask_array' is not defined",
     "output_type": "error",
     "traceback": [
      "\u001b[0;31m---------------------------------------------------------------------------\u001b[0m",
      "\u001b[0;31mNameError\u001b[0m                                 Traceback (most recent call last)",
      "\u001b[0;32m<ipython-input-30-afa47aca5c83>\u001b[0m in \u001b[0;36m<module>\u001b[0;34m\u001b[0m\n\u001b[0;32m----> 1\u001b[0;31m \u001b[0mfinal_catalog_array\u001b[0m\u001b[0;34m=\u001b[0m\u001b[0mmask_catalog_arrays\u001b[0m\u001b[0;34m(\u001b[0m\u001b[0mcatalog_bal_masked\u001b[0m\u001b[0;34m,\u001b[0m\u001b[0mand_mask_array\u001b[0m\u001b[0;34m)\u001b[0m\u001b[0;34m\u001b[0m\u001b[0;34m\u001b[0m\u001b[0m\n\u001b[0m",
      "\u001b[0;31mNameError\u001b[0m: name 'and_mask_array' is not defined"
     ]
    }
   ],
   "source": [
    "final_catalog_array=mask_catalog_arrays(catalog_bal_masked,and_mask_array)"
   ]
  },
  {
   "cell_type": "code",
   "execution_count": 31,
   "metadata": {
    "pycharm": {
     "is_executing": false
    }
   },
   "outputs": [],
   "source": [
    "def get_difference(catalog_w,catalog_wo,keys):\n",
    "    diff_dict = {}\n",
    "    frac_diff = {}\n",
    "\n",
    "    for key in list(keys):\n",
    "        diff_dict[key] = catalog_wo[key]-catalog_w[key]\n",
    "\n",
    "    for key in list(keys):\n",
    "        frac_diff[key] = np.array(diff_dict[key])/((np.array(catalog_wo[key])+np.array(catalog_w[key])/2))\n",
    "\n",
    "    mean_diff = {}\n",
    "    std_diff = {}\n",
    "    \n",
    "    for key in list(keys):\n",
    "        std_diff[key] = np.std(diff_dict[key])\n",
    "        mean_diff[key]= np.mean(diff_dict[key])\n",
    "\n",
    "    std_frac = {}\n",
    "    mean_frac = {}\n",
    "    \n",
    "    for key in list(keys):\n",
    "        std_frac[key] = np.std(frac_diff[key])\n",
    "        mean_frac[key]= np.mean(frac_diff[key])\n",
    "        \n",
    "    return(diff_dict,frac_diff,mean_diff,std_diff,std_frac,mean_frac)"
   ]
  },
  {
   "cell_type": "markdown",
   "metadata": {},
   "source": [
    "### Plotting the absolute difference histogram"
   ]
  },
  {
   "cell_type": "code",
   "execution_count": 32,
   "metadata": {
    "pycharm": {
     "is_executing": false
    }
   },
   "outputs": [],
   "source": [
    "def diff_plot (name, diff_dict,mean_diff,std_diff,keys):\n",
    "    abs_name = name\n",
    "    for i,key in enumerate(keys):\n",
    "\n",
    "    #     print (\" {:05.2f}%\".format(i*100/len(mcal_keys)),sep=' ', end='',flush=True)\n",
    "        data = diff_dict[key][:]\n",
    "\n",
    "        lower = mean_diff[key] - 2*std_diff[key]\n",
    "        upper = mean_diff[key] + 2*std_diff[key]\n",
    "\n",
    "        fig = plt.figure();\n",
    "        ax = fig.add_subplot(111);\n",
    "\n",
    "        if key in excluded_balrog:\n",
    "            continue\n",
    "        elif key in log_keys:\n",
    "            lower = 10**(-2) if lower <= 0 else lower;\n",
    "            BINS = 10 ** np.linspace(np.log10(lower),np.log10(upper))\n",
    "            H = plt.hist(data,label ='{}'.format(abs_name),bins=BINS,log=True,histtype = 'step');\n",
    "            plt.xscale('log');\n",
    "            plt.xlabel(key+' in log scale');\n",
    "        else:\n",
    "            H = plt.hist(data,label ='{}'.format(abs_name),log=True, bins = 50,histtype = 'step');\n",
    "            plt.xlabel(key + \" in linear scale\");\n",
    "        ax.text(1,1,'std={:05.3e} mean={:05.3e}'\n",
    "                .format(std_diff[key],mean_diff[key]),verticalalignment = 'top',horizontalalignment = 'right',transform=ax.transAxes,color='black',fontsize=7);\n",
    "        plt.ylabel(\"frequency\");\n",
    "        plt.title(\"Histogram of difference in {}\".format(key));\n",
    "        mkdir_p(\"./hist/diff\")\n",
    "        output_dir = \"./hist/diff/{}\".format(abs_name);\n",
    "        mkdir_p(output_dir);\n",
    "        plt.savefig(\"{}/{}\".format(output_dir,key),dpi=300);\n",
    "        plt.close()"
   ]
  },
  {
   "cell_type": "code",
   "execution_count": 33,
   "metadata": {
    "pycharm": {
     "is_executing": false
    }
   },
   "outputs": [
    {
     "ename": "NameError",
     "evalue": "name 'riz_diff' is not defined",
     "output_type": "error",
     "traceback": [
      "\u001b[0;31m---------------------------------------------------------------------------\u001b[0m",
      "\u001b[0;31mNameError\u001b[0m                                 Traceback (most recent call last)",
      "\u001b[0;32m<ipython-input-33-597d5fb11e93>\u001b[0m in \u001b[0;36m<module>\u001b[0;34m\u001b[0m\n\u001b[0;32m----> 1\u001b[0;31m \u001b[0mdiff_plot\u001b[0m\u001b[0;34m(\u001b[0m\u001b[0;34m\"riz_abs_diff\"\u001b[0m\u001b[0;34m,\u001b[0m\u001b[0mriz_diff\u001b[0m\u001b[0;34m,\u001b[0m\u001b[0mriz_mean_diff\u001b[0m\u001b[0;34m,\u001b[0m\u001b[0mriz_std_diff\u001b[0m\u001b[0;34m,\u001b[0m\u001b[0mmcal1_keys\u001b[0m\u001b[0;34m)\u001b[0m\u001b[0;34m\u001b[0m\u001b[0;34m\u001b[0m\u001b[0m\n\u001b[0m\u001b[1;32m      2\u001b[0m \u001b[0mdiff_plot\u001b[0m\u001b[0;34m(\u001b[0m\u001b[0;34m\"griz_abs_diff\"\u001b[0m\u001b[0;34m,\u001b[0m\u001b[0mgriz_diff\u001b[0m\u001b[0;34m,\u001b[0m\u001b[0mgriz_mean_diff\u001b[0m\u001b[0;34m,\u001b[0m\u001b[0mgriz_std_diff\u001b[0m\u001b[0;34m,\u001b[0m\u001b[0mmcal_keys\u001b[0m\u001b[0;34m)\u001b[0m\u001b[0;34m\u001b[0m\u001b[0;34m\u001b[0m\u001b[0m\n",
      "\u001b[0;31mNameError\u001b[0m: name 'riz_diff' is not defined"
     ]
    }
   ],
   "source": [
    "diff_plot(\"riz_abs_diff\",riz_diff,riz_mean_diff,riz_std_diff,mcal1_keys)\n",
    "diff_plot(\"griz_abs_diff\",griz_diff,griz_mean_diff,griz_std_diff,mcal_keys)"
   ]
  },
  {
   "cell_type": "code",
   "execution_count": 34,
   "metadata": {
    "pycharm": {
     "is_executing": false
    }
   },
   "outputs": [
    {
     "ename": "NameError",
     "evalue": "name 'riz_frac' is not defined",
     "output_type": "error",
     "traceback": [
      "\u001b[0;31m---------------------------------------------------------------------------\u001b[0m",
      "\u001b[0;31mNameError\u001b[0m                                 Traceback (most recent call last)",
      "\u001b[0;32m<ipython-input-34-511c77b8d2b5>\u001b[0m in \u001b[0;36m<module>\u001b[0;34m\u001b[0m\n\u001b[0;32m----> 1\u001b[0;31m \u001b[0mdiff_plot\u001b[0m\u001b[0;34m(\u001b[0m\u001b[0;34m\"riz_frac_diff\"\u001b[0m\u001b[0;34m,\u001b[0m\u001b[0mriz_frac\u001b[0m\u001b[0;34m,\u001b[0m\u001b[0mriz_mean_frac\u001b[0m\u001b[0;34m,\u001b[0m\u001b[0mriz_std_frac\u001b[0m\u001b[0;34m,\u001b[0m\u001b[0mmcal1_keys\u001b[0m\u001b[0;34m)\u001b[0m\u001b[0;34m\u001b[0m\u001b[0;34m\u001b[0m\u001b[0m\n\u001b[0m\u001b[1;32m      2\u001b[0m \u001b[0mdiff_plot\u001b[0m\u001b[0;34m(\u001b[0m\u001b[0;34m\"griz_frac_diff\"\u001b[0m\u001b[0;34m,\u001b[0m\u001b[0mgriz_frac\u001b[0m\u001b[0;34m,\u001b[0m\u001b[0mgriz_mean_frac\u001b[0m\u001b[0;34m,\u001b[0m\u001b[0mgriz_std_frac\u001b[0m\u001b[0;34m,\u001b[0m\u001b[0mmcal_keys\u001b[0m\u001b[0;34m)\u001b[0m\u001b[0;34m\u001b[0m\u001b[0;34m\u001b[0m\u001b[0m\n",
      "\u001b[0;31mNameError\u001b[0m: name 'riz_frac' is not defined"
     ]
    }
   ],
   "source": [
    "diff_plot(\"riz_frac_diff\",riz_frac,riz_mean_frac,riz_std_frac,mcal1_keys)\n",
    "diff_plot(\"griz_frac_diff\",griz_frac,griz_mean_frac,griz_std_frac,mcal_keys)"
   ]
  },
  {
   "cell_type": "code",
   "execution_count": 35,
   "metadata": {
    "pycharm": {
     "is_executing": false,
     "name": "#%%\n"
    }
   },
   "outputs": [
    {
     "ename": "FileNotFoundError",
     "evalue": "[Errno 2] No such file or directory: './hist/diff/diff_stat.txt'",
     "output_type": "error",
     "traceback": [
      "\u001b[0;31m---------------------------------------------------------------------------\u001b[0m",
      "\u001b[0;31mFileNotFoundError\u001b[0m                         Traceback (most recent call last)",
      "\u001b[0;32m<ipython-input-35-42de40eb1cdf>\u001b[0m in \u001b[0;36m<module>\u001b[0;34m\u001b[0m\n\u001b[0;32m----> 1\u001b[0;31m \u001b[0mf\u001b[0m \u001b[0;34m=\u001b[0m \u001b[0mopen\u001b[0m\u001b[0;34m(\u001b[0m\u001b[0;34m'./hist/diff/diff_stat.txt'\u001b[0m\u001b[0;34m,\u001b[0m\u001b[0;34m'w+'\u001b[0m\u001b[0;34m)\u001b[0m\u001b[0;34m\u001b[0m\u001b[0;34m\u001b[0m\u001b[0m\n\u001b[0m\u001b[1;32m      2\u001b[0m \u001b[0;34m\u001b[0m\u001b[0m\n\u001b[1;32m      3\u001b[0m \u001b[0mf\u001b[0m\u001b[0;34m.\u001b[0m\u001b[0mwrite\u001b[0m \u001b[0;34m(\u001b[0m\u001b[0;34m\"{:15}      {:>15} {:>15} {:>15} {:>15} | {:>15} {:>15} {:>15} {:>15} \\n\"\u001b[0m\u001b[0;34m.\u001b[0m\u001b[0mformat\u001b[0m\u001b[0;34m(\u001b[0m\u001b[0;34m\"NAME\"\u001b[0m\u001b[0;34m,\u001b[0m \u001b[0;34m\"abs_diff_riz\"\u001b[0m\u001b[0;34m,\u001b[0m \u001b[0;34m\"frac_diff_riz\"\u001b[0m\u001b[0;34m,\u001b[0m \u001b[0;34m\"abs_diff_griz\"\u001b[0m\u001b[0;34m,\u001b[0m\u001b[0;34m\"frac_diff_griz\"\u001b[0m\u001b[0;34m,\u001b[0m\u001b[0;34m\"abs_diff_riz\"\u001b[0m\u001b[0;34m,\u001b[0m \u001b[0;34m\"frac_diff_riz\"\u001b[0m\u001b[0;34m,\u001b[0m \u001b[0;34m\"abs_diff_griz\"\u001b[0m\u001b[0;34m,\u001b[0m\u001b[0;34m\"frac_diff_griz\"\u001b[0m  \u001b[0;34m)\u001b[0m\u001b[0;34m)\u001b[0m\u001b[0;34m\u001b[0m\u001b[0;34m\u001b[0m\u001b[0m\n\u001b[1;32m      4\u001b[0m \u001b[0mf\u001b[0m\u001b[0;34m.\u001b[0m\u001b[0mwrite\u001b[0m \u001b[0;34m(\u001b[0m\u001b[0msepbar\u001b[0m\u001b[0;34m)\u001b[0m\u001b[0;34m\u001b[0m\u001b[0;34m\u001b[0m\u001b[0m\n\u001b[1;32m      5\u001b[0m \u001b[0;32mfor\u001b[0m \u001b[0mkey\u001b[0m \u001b[0;32min\u001b[0m \u001b[0mlist\u001b[0m\u001b[0;34m(\u001b[0m\u001b[0mmcal_keys\u001b[0m\u001b[0;34m)\u001b[0m\u001b[0;34m:\u001b[0m\u001b[0;34m\u001b[0m\u001b[0;34m\u001b[0m\u001b[0m\n",
      "\u001b[0;31mFileNotFoundError\u001b[0m: [Errno 2] No such file or directory: './hist/diff/diff_stat.txt'"
     ]
    }
   ],
   "source": [
    "f = open('./hist/diff/diff_stat.txt','w+')\n",
    "\n",
    "f.write (\"{:15}      {:>15} {:>15} {:>15} {:>15} | {:>15} {:>15} {:>15} {:>15} \\n\".format(\"NAME\", \"abs_diff_riz\", \"frac_diff_riz\", \"abs_diff_griz\",\"frac_diff_griz\",\"abs_diff_riz\", \"frac_diff_riz\", \"abs_diff_griz\",\"frac_diff_griz\"  ))\n",
    "f.write (sepbar)\n",
    "for key in list(mcal_keys):\n",
    "    if key not in excluded_keys:\n",
    "        if key in mcal1_keys:\n",
    "            f.write (\"{:15}      {:15.3e} {:15.3e} {:15.3e} {:15.3e} | {:15.3e} {:15.3e} {:15.3e} {:15.3e} \\n\".format(key,riz_std_diff[key], riz_std_frac[key], griz_std_diff[key],griz_std_frac[key],riz_mean_diff[key], riz_mean_frac[key], griz_mean_diff[key],griz_mean_frac[key] ))\n",
    "            f.write(sepbar)\n",
    "        else:\n",
    "#             key_std=[None]*len(std_array)\n",
    "#             key_mean=[None]*len(std_array)\n",
    "#             for i in range(len(std_array)):\n",
    "#                 if key in std_array[i]:\n",
    "#                     key_std[i] = std_array[i][key]\n",
    "#                     key_mean[i]=mean_array[i][key]\n",
    "#                 else:\n",
    "#                     key_std[i]=float(\"NaN\")\n",
    "#                     key_mean[i] = float(\"NaN\")\n",
    "            f.write (\"{:15}      {:15.3e} {:15.3e} {:15.3e} {:15.3e} | {:15.3e} {:15.3e} {:15.3e} {:15.3e} \\n\".format(key,float(\"NaN\"),float(\"NaN\") , griz_std_diff[key],griz_std_frac[key],float(\"NaN\"), float(\"NaN\"), griz_mean_diff[key],griz_mean_frac[key] ))\n",
    "            f.write (sepbar)\n",
    "f.close()\n",
    "\n",
    "\n"
   ]
  }
 ],
 "metadata": {
  "kernelspec": {
   "display_name": "Python 3",
   "language": "python",
   "name": "python3"
  },
  "language_info": {
   "codemirror_mode": {
    "name": "ipython",
    "version": 3
   },
   "file_extension": ".py",
   "mimetype": "text/x-python",
   "name": "python",
   "nbconvert_exporter": "python",
   "pygments_lexer": "ipython3",
   "version": "3.7.3"
  },
  "pycharm": {
   "stem_cell": {
    "cell_type": "raw",
    "metadata": {
     "collapsed": false
    },
    "source": []
   }
  }
 },
 "nbformat": 4,
 "nbformat_minor": 2
}
