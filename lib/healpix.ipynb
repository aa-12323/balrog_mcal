{
 "cells": [
  {
   "cell_type": "code",
   "execution_count": 1,
   "metadata": {},
   "outputs": [
    {
     "name": "stdout",
     "output_type": "stream",
     "text": [
      "['DataFrame', 'In', 'Math', 'Out', 'SIZE_RATIO_CUT', 'SNR_CUT', 'Series', 'T_CUT', 'Table', '_', '__', '___', '__builtin__', '__builtins__', '__doc__', '__loader__', '__name__', '__package__', '__spec__', '_dh', '_i', '_i1', '_ih', '_ii', '_iii', '_oh', 'bottleneck', 'display', 'exit', 'filter_by_snr', 'fits', 'get_df_list', 'get_ipython', 'h5py', 'i', 'index_2_3', 'index_2_3_true', 'index_2_3_true_negative', 'index_2_3_true_positive', 'index_4_5', 'index_4_5_true', 'index_4_5_true_negative', 'index_4_5_true_positive', 'load_mcal', 'load_true', 'mcal_df_list', 'mcal_df_list_negative', 'mcal_df_list_positive', 'np', 'numexpr', 'pd', 'photdf', 'plt', 'quit', 'tqdm', 'true_df_list']\n"
     ]
    }
   ],
   "source": [
    "%run load_data.ipynb\n",
    "print (dir())"
   ]
  },
  {
   "cell_type": "code",
   "execution_count": 2,
   "metadata": {},
   "outputs": [],
   "source": [
    "import healpy as hp\n",
    "import astropy_healpix as a_hp\n",
    "import matplotlib as mpl\n",
    "import matplotlib.pyplot as plt\n",
    "%matplotlib inline"
   ]
  },
  {
   "cell_type": "markdown",
   "metadata": {},
   "source": [
    "# Choose NSIDE"
   ]
  },
  {
   "cell_type": "code",
   "execution_count": 3,
   "metadata": {},
   "outputs": [
    {
     "name": "stdout",
     "output_type": "stream",
     "text": [
      "The number of pixels is: 786432.\n"
     ]
    }
   ],
   "source": [
    "NSIDE=256 #or 512\n",
    "NPIX=hp.nside2npix(NSIDE)\n",
    "print (\"The number of pixels is: {}.\".format(NPIX))\n",
    "G_INDEX=np.arange(NPIX)"
   ]
  },
  {
   "cell_type": "code",
   "execution_count": 4,
   "metadata": {},
   "outputs": [],
   "source": [
    "final_df_list=[None]*4\n",
    "for i,catalog in enumerate(mcal_df_list_positive):\n",
    "    final_df_list[i]=pd.concat([catalog,photdf[['true_cm_g_1','true_cm_g_2']]],axis=1,join='inner')"
   ]
  },
  {
   "cell_type": "code",
   "execution_count": 5,
   "metadata": {},
   "outputs": [],
   "source": [
    "def get_healpix(df):\n",
    "    print (\"The length of the df is: {}.\".format(len(df)))\n",
    "    print (\"The ratio of the length of the catagory to the total pixel number is: {:.2%}\".format(len(df)/NPIX))\n",
    "    df['ipix']=df.apply(lambda x:hp.ang2pix(NSIDE,np.pi/2-np.deg2rad(x['dec']),np.deg2rad(x['ra']),nest=True),axis=1)\n",
    "    print(\"The propotion of rendered objects is: {:.2%}\".format(np.sum(df['ipix']!=0)/len(df)))\n",
    "    print (\"Resetting indexes\")\n",
    "    df_ipix=df.set_index('ipix')\n",
    "    df_ipix_sorted=df_ipix.sort_index()\n",
    "    return (df_ipix_sorted)\n",
    "\n",
    "def group_ipix(df_ipix_sorted):\n",
    "    number_mask=df_ipix_sorted.groupby('ipix').count()['R11']<10\n",
    "    df_sorted_grouped=df_ipix_sorted.groupby('ipix').mean()\n",
    "    df_sorted_grouped_masked=df_sorted_grouped[number_mask]\n",
    "    print (\"The mean of R11 is {}, max is {}, min is {}\".format(df_sorted_grouped_masked['R11'].mean(),df_sorted_grouped_masked['R11'].max(),df_sorted_grouped_masked['R11'].min()))\n",
    "    print (\"The mean of R22 is {}, max is {}, min is {}\".format(df_sorted_grouped_masked['R22'].mean(),df_sorted_grouped_masked['R22'].max(),df_sorted_grouped_masked['R22'].min()))\n",
    "    R11 = df_sorted_grouped_masked['R11'].mean()\n",
    "    R22 = df_sorted_grouped_masked['R22'].mean()\n",
    "    df_sorted_grouped_masked['delta_g1']=df_sorted_grouped_masked.apply(lambda x:x['e_1']/R11-x['true_cm_g_1'],axis=1)\n",
    "    df_sorted_grouped_masked['delta_g2']=df_sorted_grouped_masked.apply(lambda x:x['e_2']/R22-x['true_cm_g_2'],axis=1)\n",
    "#     print (\"The propotion of averaged objects is: {:.2%}\".format((len(df_ipix_sorted)-len(df_sorted_grouped_masked))/len(df_ipix_sorted)))\n",
    "    print (\"---------------------------------\")\n",
    "    return (df_sorted_grouped_masked)"
   ]
  },
  {
   "cell_type": "code",
   "execution_count": 6,
   "metadata": {},
   "outputs": [
    {
     "name": "stdout",
     "output_type": "stream",
     "text": [
      "The length of the df is: 272818.\n",
      "The ratio of the length of the catagory to the total pixel number is: 34.69%\n",
      "The propotion of rendered objects is: 100.00%\n",
      "Resetting indexes\n",
      "The length of the df is: 272818.\n",
      "The ratio of the length of the catagory to the total pixel number is: 34.69%\n",
      "The propotion of rendered objects is: 100.00%\n",
      "Resetting indexes\n",
      "The length of the df is: 215145.\n",
      "The ratio of the length of the catagory to the total pixel number is: 27.36%\n",
      "The propotion of rendered objects is: 100.00%\n",
      "Resetting indexes\n",
      "The length of the df is: 215145.\n",
      "The ratio of the length of the catagory to the total pixel number is: 27.36%\n",
      "The propotion of rendered objects is: 100.00%\n",
      "Resetting indexes\n"
     ]
    }
   ],
   "source": [
    "ipix_sorted = [get_healpix(df) for df in final_df_list]"
   ]
  },
  {
   "cell_type": "code",
   "execution_count": 7,
   "metadata": {},
   "outputs": [
    {
     "name": "stdout",
     "output_type": "stream",
     "text": [
      "The mean of R11 is 0.78644835142623, max is 13.67369349540634, min is -6.992034474310287\n",
      "The mean of R22 is 0.7855622549926757, max is 10.63652140008755, min is -12.231064460480107\n"
     ]
    },
    {
     "name": "stderr",
     "output_type": "stream",
     "text": [
      "/home/cz136/anaconda3/envs/balrog/lib/python3.7/site-packages/ipykernel_launcher.py:19: SettingWithCopyWarning: \n",
      "A value is trying to be set on a copy of a slice from a DataFrame.\n",
      "Try using .loc[row_indexer,col_indexer] = value instead\n",
      "\n",
      "See the caveats in the documentation: http://pandas.pydata.org/pandas-docs/stable/indexing.html#indexing-view-versus-copy\n",
      "/home/cz136/anaconda3/envs/balrog/lib/python3.7/site-packages/ipykernel_launcher.py:20: SettingWithCopyWarning: \n",
      "A value is trying to be set on a copy of a slice from a DataFrame.\n",
      "Try using .loc[row_indexer,col_indexer] = value instead\n",
      "\n",
      "See the caveats in the documentation: http://pandas.pydata.org/pandas-docs/stable/indexing.html#indexing-view-versus-copy\n"
     ]
    },
    {
     "name": "stdout",
     "output_type": "stream",
     "text": [
      "---------------------------------\n",
      "The mean of R11 is 0.7750157162403251, max is 17.03993360179426, min is -6.842691657484413\n",
      "The mean of R22 is 0.7847042804545312, max is 21.176713510351416, min is -32.04549961794578\n",
      "---------------------------------\n",
      "The mean of R11 is 0.8033524948405488, max is 23.548710983418214, min is -28.97834777796125\n",
      "The mean of R22 is 0.7952090302924671, max is 36.132887083895895, min is -24.31547881220993\n",
      "---------------------------------\n",
      "The mean of R11 is 0.7722151369321218, max is 7.48179347176924, min is -26.84834620190807\n",
      "The mean of R22 is 0.81033143757935, max is 17.67501272412899, min is -10.426019279742748\n",
      "---------------------------------\n"
     ]
    }
   ],
   "source": [
    "ipix_sorted_filtered_grouped=[group_ipix(df) for df in ipix_sorted]"
   ]
  },
  {
   "cell_type": "code",
   "execution_count": 8,
   "metadata": {},
   "outputs": [],
   "source": [
    "def fill_for_plot(df,key_array):\n",
    "    df_filled=df[key_array].reindex(index=G_INDEX,fill_value=np.nan)\n",
    "    print(\"The propotion of filled pixels is: {}.\".format(np.sum(df_filled['delta_g1']>0)/NPIX))\n",
    "    return(df_filled)"
   ]
  },
  {
   "cell_type": "code",
   "execution_count": 9,
   "metadata": {},
   "outputs": [
    {
     "name": "stdout",
     "output_type": "stream",
     "text": [
      "The propotion of filled pixels is: 0.002887725830078125.\n",
      "The propotion of filled pixels is: 0.0029856363932291665.\n",
      "The propotion of filled pixels is: 0.003414154052734375.\n",
      "The propotion of filled pixels is: 0.003734588623046875.\n"
     ]
    }
   ],
   "source": [
    "hp_filled_list=[fill_for_plot(df,['delta_g1','delta_g2']) for df in ipix_sorted_filtered_grouped]"
   ]
  },
  {
   "cell_type": "code",
   "execution_count": 10,
   "metadata": {},
   "outputs": [
    {
     "name": "stdout",
     "output_type": "stream",
     "text": [
      "Untitled.ipynb     difference.ipynb  load_data.ipynb\n",
      "correlation.ipynb  healpix.ipynb     mcal.ipynb\n"
     ]
    }
   ],
   "source": [
    "ls"
   ]
  },
  {
   "cell_type": "code",
   "execution_count": 11,
   "metadata": {},
   "outputs": [
    {
     "name": "stderr",
     "output_type": "stream",
     "text": [
      "/home/cz136/anaconda3/envs/balrog/lib/python3.7/site-packages/healpy/pixelfunc.py:345: RuntimeWarning: invalid value encountered in less_equal\n",
      "  return np.absolute(m - badval) <= atol + rtol * np.absolute(badval)\n",
      "/home/cz136/anaconda3/envs/balrog/lib/python3.7/site-packages/healpy/projaxes.py:1196: MatplotlibDeprecationWarning: \n",
      "The iterable function was deprecated in Matplotlib 3.1 and will be removed in 3.3. Use np.iterable instead.\n",
      "  if matplotlib.cbook.iterable(value):\n",
      "/home/cz136/anaconda3/envs/balrog/lib/python3.7/site-packages/healpy/projaxes.py:1155: MatplotlibDeprecationWarning: \n",
      "The iterable function was deprecated in Matplotlib 3.1 and will be removed in 3.3. Use np.iterable instead.\n",
      "  if matplotlib.cbook.iterable(value):\n",
      "/home/cz136/anaconda3/envs/balrog/lib/python3.7/site-packages/healpy/projaxes.py:1176: RuntimeWarning: invalid value encountered in less\n",
      "  result.data[result.data < 0] = 0.0\n",
      "/home/cz136/anaconda3/envs/balrog/lib/python3.7/site-packages/healpy/projaxes.py:1177: RuntimeWarning: invalid value encountered in greater\n",
      "  result.data[result.data > 1] = 1.0\n"
     ]
    },
    {
     "name": "stdout",
     "output_type": "stream",
     "text": [
      "0.0 180.0 -180.0 180.0\n",
      "The interval between parallels is 30 deg -0.00'.\n",
      "The interval between meridians is 30 deg -0.00'.\n",
      "0.0 180.0 -180.0 180.0\n",
      "The interval between parallels is 30 deg -0.00'.\n",
      "The interval between meridians is 30 deg -0.00'.\n",
      "0.0 180.0 -180.0 180.0\n",
      "The interval between parallels is 30 deg -0.00'.\n",
      "The interval between meridians is 30 deg -0.00'.\n"
     ]
    }
   ],
   "source": [
    "fig1,(ax1,ax2)=plt.subplots(ncols=2)\n",
    "\n",
    "plt.axes(ax1)\n",
    "hp.mollview(hp_filled_list[0]['delta_g1'].to_numpy(),nest=True,title=\"$\\delta g_1$ for riz /w MOF\",hold=True)\n",
    "hp.graticule()\n",
    "\n",
    "plt.axes(ax2)\n",
    "hp.mollview(hp_filled_list[1]['delta_g1'].to_numpy(),nest=True,title=\"$\\delta g_1$ for riz /wo MOF\",hold=True)\n",
    "hp.graticule()\n",
    "\n",
    "\n",
    "\n",
    "plt.title('HEALPix comparison')\n",
    "\n",
    "plt.savefig('/home/cz136/project/balrog/image/hp/sample_delta_g1.png',dpi=2048)\n",
    "plt.close()"
   ]
  },
  {
   "cell_type": "code",
   "execution_count": 12,
   "metadata": {},
   "outputs": [],
   "source": [
    "fig, (ax1, ax2) = plt.subplots(ncols=2)\n",
    "\n",
    "plt.axes(ax1)\n",
    "hp.mollview(np.random.random(hp.nside2npix(32)), hold=True)\n",
    "\n",
    "plt.axes(ax2)\n",
    "hp.mollview(np.arange(hp.nside2npix(32)), hold=True)\n",
    "\n",
    "plt.close()"
   ]
  },
  {
   "cell_type": "markdown",
   "metadata": {},
   "source": [
    "# Compare maps"
   ]
  },
  {
   "cell_type": "code",
   "execution_count": 13,
   "metadata": {},
   "outputs": [],
   "source": [
    "maps=h5py.File('/home/cz136/project/balrog/data/Y3_GOLD_2_2_1_maps.h5','r')['maps'] #no neighbor"
   ]
  },
  {
   "cell_type": "code",
   "execution_count": 14,
   "metadata": {},
   "outputs": [],
   "source": [
    "gold=h5py.File('/home/cz136/project/balrog/data/Y3_GOLD_2_2_1_maps.h5','r')"
   ]
  },
  {
   "cell_type": "code",
   "execution_count": 15,
   "metadata": {},
   "outputs": [
    {
     "data": {
      "text/plain": [
       "['maps']"
      ]
     },
     "execution_count": 15,
     "metadata": {},
     "output_type": "execute_result"
    }
   ],
   "source": [
    "list(gold.keys())"
   ]
  },
  {
   "cell_type": "code",
   "execution_count": 16,
   "metadata": {},
   "outputs": [
    {
     "data": {
      "text/plain": [
       "['det_frac',\n",
       " 'ebv_planck13',\n",
       " 'g',\n",
       " 'hpix',\n",
       " 'i',\n",
       " 'r',\n",
       " 'star_density_piffv23',\n",
       " 'z']"
      ]
     },
     "execution_count": 16,
     "metadata": {},
     "output_type": "execute_result"
    }
   ],
   "source": [
    "list(gold['maps'].keys())"
   ]
  },
  {
   "cell_type": "code",
   "execution_count": 17,
   "metadata": {},
   "outputs": [],
   "source": [
    "# ['det_frac', Effective coverage fraction of each pixel(normalized to 1)\n",
    "#  'ebv_planck13', E(B-V)\n",
    "#  'g',\n",
    "#  'hpix',\n",
    "#  'i',\n",
    "#  'r',\n",
    "#  'star_density_piffv23', star density\n",
    "#  'z']"
   ]
  },
  {
   "cell_type": "code",
   "execution_count": 18,
   "metadata": {},
   "outputs": [
    {
     "data": {
      "text/plain": [
       "1.0"
      ]
     },
     "execution_count": 18,
     "metadata": {},
     "output_type": "execute_result"
    }
   ],
   "source": [
    "gold['maps']['det_frac'][:].max()"
   ]
  },
  {
   "cell_type": "code",
   "execution_count": 19,
   "metadata": {},
   "outputs": [
    {
     "data": {
      "text/plain": [
       "1.0"
      ]
     },
     "execution_count": 19,
     "metadata": {},
     "output_type": "execute_result"
    }
   ],
   "source": [
    "gold['maps']['det_frac'][:].max()"
   ]
  },
  {
   "cell_type": "code",
   "execution_count": 20,
   "metadata": {},
   "outputs": [
    {
     "data": {
      "text/plain": [
       "array([1.093e-02, 9.793e-03, 1.010e-02, 1.119e-02, 1.057e-02, 1.124e-02,\n",
       "       1.124e-02, 1.124e-02, 1.124e-02, 1.124e-02, 1.124e-02, 1.124e-02,\n",
       "       1.124e-02, 1.124e-02, 1.124e-02, 1.108e-02, 1.124e-02, 1.124e-02,\n",
       "       1.124e-02, 1.108e-02, 1.108e-02, 8.727e-03, 8.727e-03, 8.265e-03,\n",
       "       1.108e-02, 8.727e-03, 8.727e-03, 8.265e-03, 8.265e-03, 1.072e-02,\n",
       "       1.072e-02, 1.123e-02, 1.124e-02, 1.124e-02, 1.124e-02, 1.108e-02,\n",
       "       1.108e-02, 8.727e-03, 8.727e-03, 8.265e-03, 1.108e-02, 8.727e-03,\n",
       "       8.793e-03, 8.265e-03, 8.265e-03, 1.072e-02, 1.072e-02, 1.123e-02,\n",
       "       8.265e-03, 1.072e-02])"
      ]
     },
     "execution_count": 20,
     "metadata": {},
     "output_type": "execute_result"
    }
   ],
   "source": [
    "maps['g']['sigma_zp'][:][maps['g']['sigma_zp'][:]>0][0:50]"
   ]
  },
  {
   "cell_type": "code",
   "execution_count": 21,
   "metadata": {},
   "outputs": [],
   "source": [
    "# ['airmass', airmass \n",
    "#  'fwhm', fwhm of psf\n",
    "#  'mof_depth', no of coadd images\n",
    "#  'sigma_zp', \n",
    "#  'sky_var',\n",
    "#  'teff_mean', \n",
    "#  'teff_sum']"
   ]
  },
  {
   "cell_type": "code",
   "execution_count": 22,
   "metadata": {},
   "outputs": [
    {
     "name": "stdout",
     "output_type": "stream",
     "text": [
      "airmass 25169981\n",
      "fwhm 25169981\n",
      "mof_depth 25169981\n",
      "sigma_zp 25169981\n",
      "sky_var 25169981\n",
      "teff_mean 25169981\n",
      "teff_sum 25169981\n"
     ]
    }
   ],
   "source": [
    "list(maps['g'].keys())\n",
    "for key in maps['g'].keys():\n",
    "    print (key,len(maps['g'][key]))"
   ]
  },
  {
   "cell_type": "code",
   "execution_count": 23,
   "metadata": {},
   "outputs": [
    {
     "name": "stdout",
     "output_type": "stream",
     "text": [
      "det_frac             has 25169981 objects\n",
      "ebv_planck13         has 25169981 objects\n",
      "g                    has 7 objects\n",
      "hpix                 has 25169981 objects\n",
      "i                    has 7 objects\n",
      "r                    has 7 objects\n",
      "star_density_piffv23 has 25169981 objects\n",
      "z                    has 7 objects\n"
     ]
    }
   ],
   "source": [
    "for key in maps.keys():\n",
    "    print (\"{:20} has {} objects\".format(key,len(maps[key])))"
   ]
  },
  {
   "cell_type": "code",
   "execution_count": 24,
   "metadata": {},
   "outputs": [],
   "source": [
    "ipix_maps={}\n",
    "GOLD_INDEX=np.arange(hp.nside2npix(4096))\n",
    "for key in ['ebv_planck13','star_density_piffv23','det_frac']:\n",
    "    hpix=np.full(hp.nside2npix(4096),hp.UNSEEN)\n",
    "    hpix[maps['hpix']]=maps[key]\n",
    "    ipix_maps[key]=np.array(hpix)"
   ]
  },
  {
   "cell_type": "code",
   "execution_count": 25,
   "metadata": {},
   "outputs": [],
   "source": [
    "gold_df=pd.DataFrame(data=ipix_maps,index=GOLD_INDEX)"
   ]
  },
  {
   "cell_type": "code",
   "execution_count": 26,
   "metadata": {},
   "outputs": [],
   "source": [
    "band_columns=pd.MultiIndex.from_product([['g','r','i','z'],\n",
    "                                       ['airmass','fwhm','mof_depth','sigma_zp','sky_var','teff_mean','teff_sum']],\n",
    "                                     names=['band','data'])"
   ]
  },
  {
   "cell_type": "code",
   "execution_count": 27,
   "metadata": {},
   "outputs": [],
   "source": [
    "gold_df_band=pd.DataFrame(index=G_INDEX,columns=band_columns) "
   ]
  },
  {
   "cell_type": "code",
   "execution_count": 28,
   "metadata": {},
   "outputs": [],
   "source": [
    "def get_df_band():\n",
    "    band_maps={'g':{},'r':{},'i':{},'z':{}}\n",
    "    for band in ['g','r','i','z']:\n",
    "        for key in maps['r'].keys():\n",
    "            downgraded=[]\n",
    "            hpix=np.full(hp.nside2npix(4096),hp.UNSEEN)\n",
    "            hpix[maps['hpix']]=maps[band][key]\n",
    "            print(hpix)\n",
    "            downgraded=hp.pixelfunc.ud_grade(hpix, NSIDE, order_in='NESTED', order_out='NESTED',pess=False)\n",
    "            print(key,downgraded)\n",
    "            band_maps[band][key]=downgraded\n",
    "            gold_df_band.loc[:,(band,key)]=downgraded\n",
    "    return (gold_df_band)"
   ]
  },
  {
   "cell_type": "code",
   "execution_count": 29,
   "metadata": {},
   "outputs": [
    {
     "name": "stdout",
     "output_type": "stream",
     "text": [
      "[1.248e+00 1.215e+00 1.224e+00 ... -1.637e+30 -1.637e+30 -1.637e+30]\n",
      "airmass [1.258e+00 1.259e+00 1.259e+00 ... -1.637e+30 -1.637e+30 -1.637e+30]\n",
      "[8.339e-01 8.322e-01 8.326e-01 ... -1.637e+30 -1.637e+30 -1.637e+30]\n",
      "fwhm [8.239e-01 8.500e-01 8.113e-01 ... -1.637e+30 -1.637e+30 -1.637e+30]\n",
      "[2.224e+01 2.214e+01 2.219e+01 ... -1.637e+30 -1.637e+30 -1.637e+30]\n",
      "mof_depth [2.221e+01 2.216e+01 2.224e+01 ... -1.637e+30 -1.637e+30 -1.637e+30]\n",
      "[1.093e-02 9.793e-03 1.010e-02 ... -1.637e+30 -1.637e+30 -1.637e+30]\n",
      "sigma_zp [1.033e-02 1.033e-02 1.029e-02 ... -1.637e+30 -1.637e+30 -1.637e+30]\n",
      "[4.508e+03 4.514e+03 4.513e+03 ... -1.637e+30 -1.637e+30 -1.637e+30]\n",
      "sky_var [4.465e+03 4.483e+03 4.338e+03 ... -1.637e+30 -1.637e+30 -1.637e+30]\n",
      "[7.044e-01 7.101e-01 7.086e-01 ... -1.637e+30 -1.637e+30 -1.637e+30]\n",
      "teff_mean [7.027e-01 7.024e-01 7.026e-01 ... -1.637e+30 -1.637e+30 -1.637e+30]\n",
      "[1.206e+02 9.944e+01 1.052e+02 ... -1.637e+30 -1.637e+30 -1.637e+30]\n",
      "teff_sum [1.094e+02 1.095e+02 1.093e+02 ... -1.637e+30 -1.637e+30 -1.637e+30]\n",
      "[1.248e+00 1.215e+00 1.224e+00 ... -1.637e+30 -1.637e+30 -1.637e+30]\n",
      "airmass [1.258e+00 1.259e+00 1.259e+00 ... -1.637e+30 -1.637e+30 -1.637e+30]\n",
      "[8.339e-01 8.322e-01 8.326e-01 ... -1.637e+30 -1.637e+30 -1.637e+30]\n",
      "fwhm [8.239e-01 8.500e-01 8.113e-01 ... -1.637e+30 -1.637e+30 -1.637e+30]\n",
      "[2.224e+01 2.214e+01 2.219e+01 ... -1.637e+30 -1.637e+30 -1.637e+30]\n",
      "mof_depth [2.221e+01 2.216e+01 2.224e+01 ... -1.637e+30 -1.637e+30 -1.637e+30]\n",
      "[1.093e-02 9.793e-03 1.010e-02 ... -1.637e+30 -1.637e+30 -1.637e+30]\n",
      "sigma_zp [1.033e-02 1.033e-02 1.029e-02 ... -1.637e+30 -1.637e+30 -1.637e+30]\n",
      "[4.508e+03 4.514e+03 4.513e+03 ... -1.637e+30 -1.637e+30 -1.637e+30]\n",
      "sky_var [4.465e+03 4.483e+03 4.338e+03 ... -1.637e+30 -1.637e+30 -1.637e+30]\n",
      "[7.044e-01 7.101e-01 7.086e-01 ... -1.637e+30 -1.637e+30 -1.637e+30]\n",
      "teff_mean [7.027e-01 7.024e-01 7.026e-01 ... -1.637e+30 -1.637e+30 -1.637e+30]\n",
      "[1.206e+02 9.944e+01 1.052e+02 ... -1.637e+30 -1.637e+30 -1.637e+30]\n",
      "teff_sum [1.094e+02 1.095e+02 1.093e+02 ... -1.637e+30 -1.637e+30 -1.637e+30]\n",
      "[1.248e+00 1.215e+00 1.224e+00 ... -1.637e+30 -1.637e+30 -1.637e+30]\n",
      "airmass [1.258e+00 1.259e+00 1.259e+00 ... -1.637e+30 -1.637e+30 -1.637e+30]\n",
      "[8.339e-01 8.322e-01 8.326e-01 ... -1.637e+30 -1.637e+30 -1.637e+30]\n",
      "fwhm [8.239e-01 8.500e-01 8.113e-01 ... -1.637e+30 -1.637e+30 -1.637e+30]\n",
      "[2.224e+01 2.214e+01 2.219e+01 ... -1.637e+30 -1.637e+30 -1.637e+30]\n",
      "mof_depth [2.221e+01 2.216e+01 2.224e+01 ... -1.637e+30 -1.637e+30 -1.637e+30]\n",
      "[1.093e-02 9.793e-03 1.010e-02 ... -1.637e+30 -1.637e+30 -1.637e+30]\n",
      "sigma_zp [1.033e-02 1.033e-02 1.029e-02 ... -1.637e+30 -1.637e+30 -1.637e+30]\n",
      "[4.508e+03 4.514e+03 4.513e+03 ... -1.637e+30 -1.637e+30 -1.637e+30]\n",
      "sky_var [4.465e+03 4.483e+03 4.338e+03 ... -1.637e+30 -1.637e+30 -1.637e+30]\n",
      "[7.044e-01 7.101e-01 7.086e-01 ... -1.637e+30 -1.637e+30 -1.637e+30]\n",
      "teff_mean [7.027e-01 7.024e-01 7.026e-01 ... -1.637e+30 -1.637e+30 -1.637e+30]\n",
      "[1.206e+02 9.944e+01 1.052e+02 ... -1.637e+30 -1.637e+30 -1.637e+30]\n",
      "teff_sum [1.094e+02 1.095e+02 1.093e+02 ... -1.637e+30 -1.637e+30 -1.637e+30]\n",
      "[1.248e+00 1.215e+00 1.224e+00 ... -1.637e+30 -1.637e+30 -1.637e+30]\n",
      "airmass [1.258e+00 1.259e+00 1.259e+00 ... -1.637e+30 -1.637e+30 -1.637e+30]\n",
      "[8.339e-01 8.322e-01 8.326e-01 ... -1.637e+30 -1.637e+30 -1.637e+30]\n",
      "fwhm [8.239e-01 8.500e-01 8.113e-01 ... -1.637e+30 -1.637e+30 -1.637e+30]\n",
      "[2.224e+01 2.214e+01 2.219e+01 ... -1.637e+30 -1.637e+30 -1.637e+30]\n",
      "mof_depth [2.221e+01 2.216e+01 2.224e+01 ... -1.637e+30 -1.637e+30 -1.637e+30]\n",
      "[1.093e-02 9.793e-03 1.010e-02 ... -1.637e+30 -1.637e+30 -1.637e+30]\n",
      "sigma_zp [1.033e-02 1.033e-02 1.029e-02 ... -1.637e+30 -1.637e+30 -1.637e+30]\n",
      "[4.508e+03 4.514e+03 4.513e+03 ... -1.637e+30 -1.637e+30 -1.637e+30]\n",
      "sky_var [4.465e+03 4.483e+03 4.338e+03 ... -1.637e+30 -1.637e+30 -1.637e+30]\n",
      "[7.044e-01 7.101e-01 7.086e-01 ... -1.637e+30 -1.637e+30 -1.637e+30]\n",
      "teff_mean [7.027e-01 7.024e-01 7.026e-01 ... -1.637e+30 -1.637e+30 -1.637e+30]\n",
      "[1.206e+02 9.944e+01 1.052e+02 ... -1.637e+30 -1.637e+30 -1.637e+30]\n",
      "teff_sum [1.094e+02 1.095e+02 1.093e+02 ... -1.637e+30 -1.637e+30 -1.637e+30]\n"
     ]
    }
   ],
   "source": [
    "gold_df_band=get_df_band()"
   ]
  },
  {
   "cell_type": "code",
   "execution_count": 30,
   "metadata": {},
   "outputs": [],
   "source": [
    "gold_df_band[gold_df_band==hp.UNSEEN]=np.nan"
   ]
  },
  {
   "cell_type": "code",
   "execution_count": 31,
   "metadata": {},
   "outputs": [],
   "source": [
    "# gold_df_band={}\n",
    "# for band in ['g','r','i','z']:\n",
    "#     sub_df=pd.DataFrame()\n",
    "#     for key in maps['r'].keys():\n",
    "#         hpix=np.full(hp.nside2npix(4096),np.nan)\n",
    "#         hpix[maps['hpix']]=maps[band][key]\n",
    "#         downgraded_array=hp.pixelfunc.ud_grade(np.array(hpix), NSIDE, order_in='NESTED', order_out='NESTED',pess=True)\n",
    "#         sub_df.assign(key,downgraded_array)\n",
    "#     pd.concat(gold_df_band,axis=1)\n"
   ]
  },
  {
   "cell_type": "markdown",
   "metadata": {},
   "source": [
    "# Show star density map"
   ]
  },
  {
   "cell_type": "code",
   "execution_count": 32,
   "metadata": {},
   "outputs": [
    {
     "name": "stdout",
     "output_type": "stream",
     "text": [
      "0.0 180.0 -180.0 180.0\n",
      "The interval between parallels is 30 deg -0.00'.\n",
      "The interval between meridians is 30 deg -0.00'.\n"
     ]
    },
    {
     "data": {
      "text/plain": [
       "<Figure size 432x288 with 0 Axes>"
      ]
     },
     "metadata": {},
     "output_type": "display_data"
    }
   ],
   "source": [
    "fig=plt.figure()\n",
    "hp.mollview(gold_df['star_density_piffv23'].to_numpy(),nest=True,title=\"Star density of full DES footprint\")\n",
    "hp.graticule()\n",
    "plt.savefig('/home/cz136/project/balrog/image/hp/star_density.png',dpi=1024)\n",
    "plt.close()"
   ]
  },
  {
   "cell_type": "markdown",
   "metadata": {},
   "source": [
    "# Downgrade map"
   ]
  },
  {
   "cell_type": "code",
   "execution_count": 33,
   "metadata": {},
   "outputs": [],
   "source": [
    "downgraded_maps={}\n",
    "for key,value in ipix_maps.items():\n",
    "    downgraded_maps[key]=hp.pixelfunc.ud_grade(value, NSIDE, order_in='NESTED', order_out='NESTED',pess=True)"
   ]
  },
  {
   "cell_type": "code",
   "execution_count": 34,
   "metadata": {},
   "outputs": [],
   "source": [
    "gold_df_downgraded=pd.DataFrame(data=downgraded_maps,index=G_INDEX)"
   ]
  },
  {
   "cell_type": "code",
   "execution_count": 35,
   "metadata": {},
   "outputs": [],
   "source": [
    "gold_df_all=pd.concat([gold_df_downgraded,gold_df_band],axis=1,join='inner')"
   ]
  },
  {
   "cell_type": "code",
   "execution_count": 36,
   "metadata": {},
   "outputs": [],
   "source": [
    "gold_join_delta_g_list=[None]*4\n",
    "for i,catalog in enumerate(ipix_sorted_filtered_grouped):\n",
    "        gold_join_delta_g_list[i]=pd.concat([catalog,gold_df_all],axis=1,join='inner')\n",
    "        gold_join_delta_g_list[i].index.name=\"ipix\""
   ]
  },
  {
   "cell_type": "code",
   "execution_count": 37,
   "metadata": {},
   "outputs": [
    {
     "name": "stdout",
     "output_type": "stream",
     "text": [
      "The propotion of filled pixels is: 0.002887725830078125.\n",
      "The propotion of filled pixels is: 0.0029856363932291665.\n",
      "The propotion of filled pixels is: 0.003414154052734375.\n",
      "The propotion of filled pixels is: 0.003734588623046875.\n"
     ]
    }
   ],
   "source": [
    "gng_filled_list=[fill_for_plot(df,['delta_g1','delta_g2']) for df in gold_join_delta_g_list]"
   ]
  },
  {
   "cell_type": "code",
   "execution_count": 38,
   "metadata": {},
   "outputs": [],
   "source": [
    "gold_n_delta_g_list=[None]*4\n",
    "for i,df in enumerate(gng_filled_list):\n",
    "    gold_n_delta_g_list[i]=pd.concat([gold_df_all,df],axis=1)"
   ]
  },
  {
   "cell_type": "code",
   "execution_count": 39,
   "metadata": {},
   "outputs": [],
   "source": [
    "corr_list=[None]*4\n",
    "for i,df in enumerate(gold_n_delta_g_list):\n",
    "    corr_list[i]=df.corr(method='pearson').loc[:,['delta_g1','delta_g2']]"
   ]
  },
  {
   "cell_type": "markdown",
   "metadata": {},
   "source": [
    "# Correlations (only positive g)"
   ]
  },
  {
   "cell_type": "markdown",
   "metadata": {},
   "source": [
    "# mcal2: riz w MOF"
   ]
  },
  {
   "cell_type": "code",
   "execution_count": 40,
   "metadata": {},
   "outputs": [
    {
     "data": {
      "text/html": [
       "<div>\n",
       "<style scoped>\n",
       "    .dataframe tbody tr th:only-of-type {\n",
       "        vertical-align: middle;\n",
       "    }\n",
       "\n",
       "    .dataframe tbody tr th {\n",
       "        vertical-align: top;\n",
       "    }\n",
       "\n",
       "    .dataframe thead th {\n",
       "        text-align: right;\n",
       "    }\n",
       "</style>\n",
       "<table border=\"1\" class=\"dataframe\">\n",
       "  <thead>\n",
       "    <tr style=\"text-align: right;\">\n",
       "      <th></th>\n",
       "      <th>delta_g1</th>\n",
       "      <th>delta_g2</th>\n",
       "    </tr>\n",
       "  </thead>\n",
       "  <tbody>\n",
       "    <tr>\n",
       "      <th>count</th>\n",
       "      <td>3.300e+01</td>\n",
       "      <td>3.300e+01</td>\n",
       "    </tr>\n",
       "    <tr>\n",
       "      <th>mean</th>\n",
       "      <td>3.714e-02</td>\n",
       "      <td>3.342e-02</td>\n",
       "    </tr>\n",
       "    <tr>\n",
       "      <th>std</th>\n",
       "      <td>1.747e-01</td>\n",
       "      <td>1.761e-01</td>\n",
       "    </tr>\n",
       "    <tr>\n",
       "      <th>min</th>\n",
       "      <td>-1.096e-02</td>\n",
       "      <td>-2.954e-02</td>\n",
       "    </tr>\n",
       "    <tr>\n",
       "      <th>25%</th>\n",
       "      <td>-6.446e-03</td>\n",
       "      <td>-1.179e-02</td>\n",
       "    </tr>\n",
       "    <tr>\n",
       "      <th>50%</th>\n",
       "      <td>7.870e-03</td>\n",
       "      <td>-6.662e-03</td>\n",
       "    </tr>\n",
       "    <tr>\n",
       "      <th>75%</th>\n",
       "      <td>1.290e-02</td>\n",
       "      <td>1.991e-02</td>\n",
       "    </tr>\n",
       "    <tr>\n",
       "      <th>max</th>\n",
       "      <td>1.000e+00</td>\n",
       "      <td>1.000e+00</td>\n",
       "    </tr>\n",
       "  </tbody>\n",
       "</table>\n",
       "</div>"
      ],
      "text/plain": [
       "        delta_g1   delta_g2\n",
       "count  3.300e+01  3.300e+01\n",
       "mean   3.714e-02  3.342e-02\n",
       "std    1.747e-01  1.761e-01\n",
       "min   -1.096e-02 -2.954e-02\n",
       "25%   -6.446e-03 -1.179e-02\n",
       "50%    7.870e-03 -6.662e-03\n",
       "75%    1.290e-02  1.991e-02\n",
       "max    1.000e+00  1.000e+00"
      ]
     },
     "execution_count": 40,
     "metadata": {},
     "output_type": "execute_result"
    }
   ],
   "source": [
    "corr_list[0].describe()"
   ]
  },
  {
   "cell_type": "code",
   "execution_count": 41,
   "metadata": {},
   "outputs": [
    {
     "data": {
      "text/html": [
       "<div>\n",
       "<style scoped>\n",
       "    .dataframe tbody tr th:only-of-type {\n",
       "        vertical-align: middle;\n",
       "    }\n",
       "\n",
       "    .dataframe tbody tr th {\n",
       "        vertical-align: top;\n",
       "    }\n",
       "\n",
       "    .dataframe thead th {\n",
       "        text-align: right;\n",
       "    }\n",
       "</style>\n",
       "<table border=\"1\" class=\"dataframe\">\n",
       "  <thead>\n",
       "    <tr style=\"text-align: right;\">\n",
       "      <th></th>\n",
       "      <th>delta_g1</th>\n",
       "      <th>delta_g2</th>\n",
       "    </tr>\n",
       "  </thead>\n",
       "  <tbody>\n",
       "    <tr>\n",
       "      <th>ebv_planck13</th>\n",
       "      <td>4.149e-04</td>\n",
       "      <td>1.264e-02</td>\n",
       "    </tr>\n",
       "    <tr>\n",
       "      <th>star_density_piffv23</th>\n",
       "      <td>-1.011e-02</td>\n",
       "      <td>-8.953e-03</td>\n",
       "    </tr>\n",
       "    <tr>\n",
       "      <th>det_frac</th>\n",
       "      <td>4.149e-04</td>\n",
       "      <td>1.264e-02</td>\n",
       "    </tr>\n",
       "    <tr>\n",
       "      <th>(g, airmass)</th>\n",
       "      <td>-6.110e-03</td>\n",
       "      <td>-2.954e-02</td>\n",
       "    </tr>\n",
       "    <tr>\n",
       "      <th>(g, fwhm)</th>\n",
       "      <td>-1.096e-02</td>\n",
       "      <td>-2.075e-02</td>\n",
       "    </tr>\n",
       "    <tr>\n",
       "      <th>(g, mof_depth)</th>\n",
       "      <td>1.259e-02</td>\n",
       "      <td>1.393e-02</td>\n",
       "    </tr>\n",
       "    <tr>\n",
       "      <th>(g, sigma_zp)</th>\n",
       "      <td>7.870e-03</td>\n",
       "      <td>-6.662e-03</td>\n",
       "    </tr>\n",
       "    <tr>\n",
       "      <th>(g, sky_var)</th>\n",
       "      <td>-6.446e-03</td>\n",
       "      <td>-1.179e-02</td>\n",
       "    </tr>\n",
       "    <tr>\n",
       "      <th>(g, teff_mean)</th>\n",
       "      <td>1.290e-02</td>\n",
       "      <td>2.220e-02</td>\n",
       "    </tr>\n",
       "    <tr>\n",
       "      <th>(g, teff_sum)</th>\n",
       "      <td>1.458e-02</td>\n",
       "      <td>1.991e-02</td>\n",
       "    </tr>\n",
       "    <tr>\n",
       "      <th>(r, airmass)</th>\n",
       "      <td>-6.110e-03</td>\n",
       "      <td>-2.954e-02</td>\n",
       "    </tr>\n",
       "    <tr>\n",
       "      <th>(r, fwhm)</th>\n",
       "      <td>-1.096e-02</td>\n",
       "      <td>-2.075e-02</td>\n",
       "    </tr>\n",
       "    <tr>\n",
       "      <th>(r, mof_depth)</th>\n",
       "      <td>1.259e-02</td>\n",
       "      <td>1.393e-02</td>\n",
       "    </tr>\n",
       "    <tr>\n",
       "      <th>(r, sigma_zp)</th>\n",
       "      <td>7.870e-03</td>\n",
       "      <td>-6.662e-03</td>\n",
       "    </tr>\n",
       "    <tr>\n",
       "      <th>(r, sky_var)</th>\n",
       "      <td>-6.446e-03</td>\n",
       "      <td>-1.179e-02</td>\n",
       "    </tr>\n",
       "    <tr>\n",
       "      <th>(r, teff_mean)</th>\n",
       "      <td>1.290e-02</td>\n",
       "      <td>2.220e-02</td>\n",
       "    </tr>\n",
       "    <tr>\n",
       "      <th>(r, teff_sum)</th>\n",
       "      <td>1.458e-02</td>\n",
       "      <td>1.991e-02</td>\n",
       "    </tr>\n",
       "    <tr>\n",
       "      <th>(i, airmass)</th>\n",
       "      <td>-6.110e-03</td>\n",
       "      <td>-2.954e-02</td>\n",
       "    </tr>\n",
       "    <tr>\n",
       "      <th>(i, fwhm)</th>\n",
       "      <td>-1.096e-02</td>\n",
       "      <td>-2.075e-02</td>\n",
       "    </tr>\n",
       "    <tr>\n",
       "      <th>(i, mof_depth)</th>\n",
       "      <td>1.259e-02</td>\n",
       "      <td>1.393e-02</td>\n",
       "    </tr>\n",
       "    <tr>\n",
       "      <th>(i, sigma_zp)</th>\n",
       "      <td>7.870e-03</td>\n",
       "      <td>-6.662e-03</td>\n",
       "    </tr>\n",
       "    <tr>\n",
       "      <th>(i, sky_var)</th>\n",
       "      <td>-6.446e-03</td>\n",
       "      <td>-1.179e-02</td>\n",
       "    </tr>\n",
       "    <tr>\n",
       "      <th>(i, teff_mean)</th>\n",
       "      <td>1.290e-02</td>\n",
       "      <td>2.220e-02</td>\n",
       "    </tr>\n",
       "    <tr>\n",
       "      <th>(i, teff_sum)</th>\n",
       "      <td>1.458e-02</td>\n",
       "      <td>1.991e-02</td>\n",
       "    </tr>\n",
       "    <tr>\n",
       "      <th>(z, airmass)</th>\n",
       "      <td>-6.110e-03</td>\n",
       "      <td>-2.954e-02</td>\n",
       "    </tr>\n",
       "    <tr>\n",
       "      <th>(z, fwhm)</th>\n",
       "      <td>-1.096e-02</td>\n",
       "      <td>-2.075e-02</td>\n",
       "    </tr>\n",
       "    <tr>\n",
       "      <th>(z, mof_depth)</th>\n",
       "      <td>1.259e-02</td>\n",
       "      <td>1.393e-02</td>\n",
       "    </tr>\n",
       "    <tr>\n",
       "      <th>(z, sigma_zp)</th>\n",
       "      <td>7.870e-03</td>\n",
       "      <td>-6.662e-03</td>\n",
       "    </tr>\n",
       "    <tr>\n",
       "      <th>(z, sky_var)</th>\n",
       "      <td>-6.446e-03</td>\n",
       "      <td>-1.179e-02</td>\n",
       "    </tr>\n",
       "    <tr>\n",
       "      <th>(z, teff_mean)</th>\n",
       "      <td>1.290e-02</td>\n",
       "      <td>2.220e-02</td>\n",
       "    </tr>\n",
       "    <tr>\n",
       "      <th>(z, teff_sum)</th>\n",
       "      <td>1.458e-02</td>\n",
       "      <td>1.991e-02</td>\n",
       "    </tr>\n",
       "    <tr>\n",
       "      <th>delta_g1</th>\n",
       "      <td>1.000e+00</td>\n",
       "      <td>1.373e-01</td>\n",
       "    </tr>\n",
       "    <tr>\n",
       "      <th>delta_g2</th>\n",
       "      <td>1.373e-01</td>\n",
       "      <td>1.000e+00</td>\n",
       "    </tr>\n",
       "  </tbody>\n",
       "</table>\n",
       "</div>"
      ],
      "text/plain": [
       "                       delta_g1   delta_g2\n",
       "ebv_planck13          4.149e-04  1.264e-02\n",
       "star_density_piffv23 -1.011e-02 -8.953e-03\n",
       "det_frac              4.149e-04  1.264e-02\n",
       "(g, airmass)         -6.110e-03 -2.954e-02\n",
       "(g, fwhm)            -1.096e-02 -2.075e-02\n",
       "(g, mof_depth)        1.259e-02  1.393e-02\n",
       "(g, sigma_zp)         7.870e-03 -6.662e-03\n",
       "(g, sky_var)         -6.446e-03 -1.179e-02\n",
       "(g, teff_mean)        1.290e-02  2.220e-02\n",
       "(g, teff_sum)         1.458e-02  1.991e-02\n",
       "(r, airmass)         -6.110e-03 -2.954e-02\n",
       "(r, fwhm)            -1.096e-02 -2.075e-02\n",
       "(r, mof_depth)        1.259e-02  1.393e-02\n",
       "(r, sigma_zp)         7.870e-03 -6.662e-03\n",
       "(r, sky_var)         -6.446e-03 -1.179e-02\n",
       "(r, teff_mean)        1.290e-02  2.220e-02\n",
       "(r, teff_sum)         1.458e-02  1.991e-02\n",
       "(i, airmass)         -6.110e-03 -2.954e-02\n",
       "(i, fwhm)            -1.096e-02 -2.075e-02\n",
       "(i, mof_depth)        1.259e-02  1.393e-02\n",
       "(i, sigma_zp)         7.870e-03 -6.662e-03\n",
       "(i, sky_var)         -6.446e-03 -1.179e-02\n",
       "(i, teff_mean)        1.290e-02  2.220e-02\n",
       "(i, teff_sum)         1.458e-02  1.991e-02\n",
       "(z, airmass)         -6.110e-03 -2.954e-02\n",
       "(z, fwhm)            -1.096e-02 -2.075e-02\n",
       "(z, mof_depth)        1.259e-02  1.393e-02\n",
       "(z, sigma_zp)         7.870e-03 -6.662e-03\n",
       "(z, sky_var)         -6.446e-03 -1.179e-02\n",
       "(z, teff_mean)        1.290e-02  2.220e-02\n",
       "(z, teff_sum)         1.458e-02  1.991e-02\n",
       "delta_g1              1.000e+00  1.373e-01\n",
       "delta_g2              1.373e-01  1.000e+00"
      ]
     },
     "execution_count": 41,
     "metadata": {},
     "output_type": "execute_result"
    }
   ],
   "source": [
    "corr_list[0]"
   ]
  },
  {
   "cell_type": "markdown",
   "metadata": {},
   "source": [
    "# mcal3: riz wo MOF"
   ]
  },
  {
   "cell_type": "code",
   "execution_count": 42,
   "metadata": {},
   "outputs": [
    {
     "data": {
      "text/html": [
       "<div>\n",
       "<style scoped>\n",
       "    .dataframe tbody tr th:only-of-type {\n",
       "        vertical-align: middle;\n",
       "    }\n",
       "\n",
       "    .dataframe tbody tr th {\n",
       "        vertical-align: top;\n",
       "    }\n",
       "\n",
       "    .dataframe thead th {\n",
       "        text-align: right;\n",
       "    }\n",
       "</style>\n",
       "<table border=\"1\" class=\"dataframe\">\n",
       "  <thead>\n",
       "    <tr style=\"text-align: right;\">\n",
       "      <th></th>\n",
       "      <th>delta_g1</th>\n",
       "      <th>delta_g2</th>\n",
       "    </tr>\n",
       "  </thead>\n",
       "  <tbody>\n",
       "    <tr>\n",
       "      <th>count</th>\n",
       "      <td>3.300e+01</td>\n",
       "      <td>3.300e+01</td>\n",
       "    </tr>\n",
       "    <tr>\n",
       "      <th>mean</th>\n",
       "      <td>3.356e-02</td>\n",
       "      <td>3.089e-02</td>\n",
       "    </tr>\n",
       "    <tr>\n",
       "      <th>std</th>\n",
       "      <td>1.751e-01</td>\n",
       "      <td>1.764e-01</td>\n",
       "    </tr>\n",
       "    <tr>\n",
       "      <th>min</th>\n",
       "      <td>-5.880e-03</td>\n",
       "      <td>-2.592e-02</td>\n",
       "    </tr>\n",
       "    <tr>\n",
       "      <th>25%</th>\n",
       "      <td>-3.255e-03</td>\n",
       "      <td>-1.388e-02</td>\n",
       "    </tr>\n",
       "    <tr>\n",
       "      <th>50%</th>\n",
       "      <td>-1.010e-03</td>\n",
       "      <td>-1.207e-02</td>\n",
       "    </tr>\n",
       "    <tr>\n",
       "      <th>75%</th>\n",
       "      <td>6.496e-04</td>\n",
       "      <td>1.645e-02</td>\n",
       "    </tr>\n",
       "    <tr>\n",
       "      <th>max</th>\n",
       "      <td>1.000e+00</td>\n",
       "      <td>1.000e+00</td>\n",
       "    </tr>\n",
       "  </tbody>\n",
       "</table>\n",
       "</div>"
      ],
      "text/plain": [
       "        delta_g1   delta_g2\n",
       "count  3.300e+01  3.300e+01\n",
       "mean   3.356e-02  3.089e-02\n",
       "std    1.751e-01  1.764e-01\n",
       "min   -5.880e-03 -2.592e-02\n",
       "25%   -3.255e-03 -1.388e-02\n",
       "50%   -1.010e-03 -1.207e-02\n",
       "75%    6.496e-04  1.645e-02\n",
       "max    1.000e+00  1.000e+00"
      ]
     },
     "execution_count": 42,
     "metadata": {},
     "output_type": "execute_result"
    }
   ],
   "source": [
    "corr_list[1].describe()"
   ]
  },
  {
   "cell_type": "code",
   "execution_count": 43,
   "metadata": {},
   "outputs": [
    {
     "data": {
      "text/html": [
       "<div>\n",
       "<style scoped>\n",
       "    .dataframe tbody tr th:only-of-type {\n",
       "        vertical-align: middle;\n",
       "    }\n",
       "\n",
       "    .dataframe tbody tr th {\n",
       "        vertical-align: top;\n",
       "    }\n",
       "\n",
       "    .dataframe thead th {\n",
       "        text-align: right;\n",
       "    }\n",
       "</style>\n",
       "<table border=\"1\" class=\"dataframe\">\n",
       "  <thead>\n",
       "    <tr style=\"text-align: right;\">\n",
       "      <th></th>\n",
       "      <th>delta_g1</th>\n",
       "      <th>delta_g2</th>\n",
       "    </tr>\n",
       "  </thead>\n",
       "  <tbody>\n",
       "    <tr>\n",
       "      <th>ebv_planck13</th>\n",
       "      <td>-3.720e-03</td>\n",
       "      <td>2.199e-03</td>\n",
       "    </tr>\n",
       "    <tr>\n",
       "      <th>star_density_piffv23</th>\n",
       "      <td>1.017e-02</td>\n",
       "      <td>-1.207e-02</td>\n",
       "    </tr>\n",
       "    <tr>\n",
       "      <th>det_frac</th>\n",
       "      <td>-3.720e-03</td>\n",
       "      <td>2.199e-03</td>\n",
       "    </tr>\n",
       "    <tr>\n",
       "      <th>(g, airmass)</th>\n",
       "      <td>-1.010e-03</td>\n",
       "      <td>-2.592e-02</td>\n",
       "    </tr>\n",
       "    <tr>\n",
       "      <th>(g, fwhm)</th>\n",
       "      <td>-7.426e-04</td>\n",
       "      <td>-1.938e-02</td>\n",
       "    </tr>\n",
       "    <tr>\n",
       "      <th>(g, mof_depth)</th>\n",
       "      <td>-5.880e-03</td>\n",
       "      <td>4.594e-03</td>\n",
       "    </tr>\n",
       "    <tr>\n",
       "      <th>(g, sigma_zp)</th>\n",
       "      <td>-3.255e-03</td>\n",
       "      <td>-1.366e-02</td>\n",
       "    </tr>\n",
       "    <tr>\n",
       "      <th>(g, sky_var)</th>\n",
       "      <td>5.973e-03</td>\n",
       "      <td>-1.388e-02</td>\n",
       "    </tr>\n",
       "    <tr>\n",
       "      <th>(g, teff_mean)</th>\n",
       "      <td>-2.600e-03</td>\n",
       "      <td>2.551e-02</td>\n",
       "    </tr>\n",
       "    <tr>\n",
       "      <th>(g, teff_sum)</th>\n",
       "      <td>6.496e-04</td>\n",
       "      <td>1.645e-02</td>\n",
       "    </tr>\n",
       "    <tr>\n",
       "      <th>(r, airmass)</th>\n",
       "      <td>-1.010e-03</td>\n",
       "      <td>-2.592e-02</td>\n",
       "    </tr>\n",
       "    <tr>\n",
       "      <th>(r, fwhm)</th>\n",
       "      <td>-7.426e-04</td>\n",
       "      <td>-1.938e-02</td>\n",
       "    </tr>\n",
       "    <tr>\n",
       "      <th>(r, mof_depth)</th>\n",
       "      <td>-5.880e-03</td>\n",
       "      <td>4.594e-03</td>\n",
       "    </tr>\n",
       "    <tr>\n",
       "      <th>(r, sigma_zp)</th>\n",
       "      <td>-3.255e-03</td>\n",
       "      <td>-1.366e-02</td>\n",
       "    </tr>\n",
       "    <tr>\n",
       "      <th>(r, sky_var)</th>\n",
       "      <td>5.973e-03</td>\n",
       "      <td>-1.388e-02</td>\n",
       "    </tr>\n",
       "    <tr>\n",
       "      <th>(r, teff_mean)</th>\n",
       "      <td>-2.600e-03</td>\n",
       "      <td>2.551e-02</td>\n",
       "    </tr>\n",
       "    <tr>\n",
       "      <th>(r, teff_sum)</th>\n",
       "      <td>6.496e-04</td>\n",
       "      <td>1.645e-02</td>\n",
       "    </tr>\n",
       "    <tr>\n",
       "      <th>(i, airmass)</th>\n",
       "      <td>-1.010e-03</td>\n",
       "      <td>-2.592e-02</td>\n",
       "    </tr>\n",
       "    <tr>\n",
       "      <th>(i, fwhm)</th>\n",
       "      <td>-7.426e-04</td>\n",
       "      <td>-1.938e-02</td>\n",
       "    </tr>\n",
       "    <tr>\n",
       "      <th>(i, mof_depth)</th>\n",
       "      <td>-5.880e-03</td>\n",
       "      <td>4.594e-03</td>\n",
       "    </tr>\n",
       "    <tr>\n",
       "      <th>(i, sigma_zp)</th>\n",
       "      <td>-3.255e-03</td>\n",
       "      <td>-1.366e-02</td>\n",
       "    </tr>\n",
       "    <tr>\n",
       "      <th>(i, sky_var)</th>\n",
       "      <td>5.973e-03</td>\n",
       "      <td>-1.388e-02</td>\n",
       "    </tr>\n",
       "    <tr>\n",
       "      <th>(i, teff_mean)</th>\n",
       "      <td>-2.600e-03</td>\n",
       "      <td>2.551e-02</td>\n",
       "    </tr>\n",
       "    <tr>\n",
       "      <th>(i, teff_sum)</th>\n",
       "      <td>6.496e-04</td>\n",
       "      <td>1.645e-02</td>\n",
       "    </tr>\n",
       "    <tr>\n",
       "      <th>(z, airmass)</th>\n",
       "      <td>-1.010e-03</td>\n",
       "      <td>-2.592e-02</td>\n",
       "    </tr>\n",
       "    <tr>\n",
       "      <th>(z, fwhm)</th>\n",
       "      <td>-7.426e-04</td>\n",
       "      <td>-1.938e-02</td>\n",
       "    </tr>\n",
       "    <tr>\n",
       "      <th>(z, mof_depth)</th>\n",
       "      <td>-5.880e-03</td>\n",
       "      <td>4.594e-03</td>\n",
       "    </tr>\n",
       "    <tr>\n",
       "      <th>(z, sigma_zp)</th>\n",
       "      <td>-3.255e-03</td>\n",
       "      <td>-1.366e-02</td>\n",
       "    </tr>\n",
       "    <tr>\n",
       "      <th>(z, sky_var)</th>\n",
       "      <td>5.973e-03</td>\n",
       "      <td>-1.388e-02</td>\n",
       "    </tr>\n",
       "    <tr>\n",
       "      <th>(z, teff_mean)</th>\n",
       "      <td>-2.600e-03</td>\n",
       "      <td>2.551e-02</td>\n",
       "    </tr>\n",
       "    <tr>\n",
       "      <th>(z, teff_sum)</th>\n",
       "      <td>6.496e-04</td>\n",
       "      <td>1.645e-02</td>\n",
       "    </tr>\n",
       "    <tr>\n",
       "      <th>delta_g1</th>\n",
       "      <td>1.000e+00</td>\n",
       "      <td>1.323e-01</td>\n",
       "    </tr>\n",
       "    <tr>\n",
       "      <th>delta_g2</th>\n",
       "      <td>1.323e-01</td>\n",
       "      <td>1.000e+00</td>\n",
       "    </tr>\n",
       "  </tbody>\n",
       "</table>\n",
       "</div>"
      ],
      "text/plain": [
       "                       delta_g1   delta_g2\n",
       "ebv_planck13         -3.720e-03  2.199e-03\n",
       "star_density_piffv23  1.017e-02 -1.207e-02\n",
       "det_frac             -3.720e-03  2.199e-03\n",
       "(g, airmass)         -1.010e-03 -2.592e-02\n",
       "(g, fwhm)            -7.426e-04 -1.938e-02\n",
       "(g, mof_depth)       -5.880e-03  4.594e-03\n",
       "(g, sigma_zp)        -3.255e-03 -1.366e-02\n",
       "(g, sky_var)          5.973e-03 -1.388e-02\n",
       "(g, teff_mean)       -2.600e-03  2.551e-02\n",
       "(g, teff_sum)         6.496e-04  1.645e-02\n",
       "(r, airmass)         -1.010e-03 -2.592e-02\n",
       "(r, fwhm)            -7.426e-04 -1.938e-02\n",
       "(r, mof_depth)       -5.880e-03  4.594e-03\n",
       "(r, sigma_zp)        -3.255e-03 -1.366e-02\n",
       "(r, sky_var)          5.973e-03 -1.388e-02\n",
       "(r, teff_mean)       -2.600e-03  2.551e-02\n",
       "(r, teff_sum)         6.496e-04  1.645e-02\n",
       "(i, airmass)         -1.010e-03 -2.592e-02\n",
       "(i, fwhm)            -7.426e-04 -1.938e-02\n",
       "(i, mof_depth)       -5.880e-03  4.594e-03\n",
       "(i, sigma_zp)        -3.255e-03 -1.366e-02\n",
       "(i, sky_var)          5.973e-03 -1.388e-02\n",
       "(i, teff_mean)       -2.600e-03  2.551e-02\n",
       "(i, teff_sum)         6.496e-04  1.645e-02\n",
       "(z, airmass)         -1.010e-03 -2.592e-02\n",
       "(z, fwhm)            -7.426e-04 -1.938e-02\n",
       "(z, mof_depth)       -5.880e-03  4.594e-03\n",
       "(z, sigma_zp)        -3.255e-03 -1.366e-02\n",
       "(z, sky_var)          5.973e-03 -1.388e-02\n",
       "(z, teff_mean)       -2.600e-03  2.551e-02\n",
       "(z, teff_sum)         6.496e-04  1.645e-02\n",
       "delta_g1              1.000e+00  1.323e-01\n",
       "delta_g2              1.323e-01  1.000e+00"
      ]
     },
     "execution_count": 43,
     "metadata": {},
     "output_type": "execute_result"
    }
   ],
   "source": [
    "corr_list[1]"
   ]
  },
  {
   "cell_type": "markdown",
   "metadata": {},
   "source": [
    "# mcal4: griz w MOF"
   ]
  },
  {
   "cell_type": "code",
   "execution_count": 44,
   "metadata": {},
   "outputs": [
    {
     "data": {
      "text/html": [
       "<div>\n",
       "<style scoped>\n",
       "    .dataframe tbody tr th:only-of-type {\n",
       "        vertical-align: middle;\n",
       "    }\n",
       "\n",
       "    .dataframe tbody tr th {\n",
       "        vertical-align: top;\n",
       "    }\n",
       "\n",
       "    .dataframe thead th {\n",
       "        text-align: right;\n",
       "    }\n",
       "</style>\n",
       "<table border=\"1\" class=\"dataframe\">\n",
       "  <thead>\n",
       "    <tr style=\"text-align: right;\">\n",
       "      <th></th>\n",
       "      <th>delta_g1</th>\n",
       "      <th>delta_g2</th>\n",
       "    </tr>\n",
       "  </thead>\n",
       "  <tbody>\n",
       "    <tr>\n",
       "      <th>count</th>\n",
       "      <td>3.300e+01</td>\n",
       "      <td>3.300e+01</td>\n",
       "    </tr>\n",
       "    <tr>\n",
       "      <th>mean</th>\n",
       "      <td>3.721e-02</td>\n",
       "      <td>3.891e-02</td>\n",
       "    </tr>\n",
       "    <tr>\n",
       "      <th>std</th>\n",
       "      <td>1.751e-01</td>\n",
       "      <td>1.755e-01</td>\n",
       "    </tr>\n",
       "    <tr>\n",
       "      <th>min</th>\n",
       "      <td>-1.513e-02</td>\n",
       "      <td>-2.671e-02</td>\n",
       "    </tr>\n",
       "    <tr>\n",
       "      <th>25%</th>\n",
       "      <td>2.924e-03</td>\n",
       "      <td>-4.768e-03</td>\n",
       "    </tr>\n",
       "    <tr>\n",
       "      <th>50%</th>\n",
       "      <td>3.566e-03</td>\n",
       "      <td>1.012e-02</td>\n",
       "    </tr>\n",
       "    <tr>\n",
       "      <th>75%</th>\n",
       "      <td>5.542e-03</td>\n",
       "      <td>2.074e-02</td>\n",
       "    </tr>\n",
       "    <tr>\n",
       "      <th>max</th>\n",
       "      <td>1.000e+00</td>\n",
       "      <td>1.000e+00</td>\n",
       "    </tr>\n",
       "  </tbody>\n",
       "</table>\n",
       "</div>"
      ],
      "text/plain": [
       "        delta_g1   delta_g2\n",
       "count  3.300e+01  3.300e+01\n",
       "mean   3.721e-02  3.891e-02\n",
       "std    1.751e-01  1.755e-01\n",
       "min   -1.513e-02 -2.671e-02\n",
       "25%    2.924e-03 -4.768e-03\n",
       "50%    3.566e-03  1.012e-02\n",
       "75%    5.542e-03  2.074e-02\n",
       "max    1.000e+00  1.000e+00"
      ]
     },
     "execution_count": 44,
     "metadata": {},
     "output_type": "execute_result"
    }
   ],
   "source": [
    "corr_list[2].describe()"
   ]
  },
  {
   "cell_type": "code",
   "execution_count": 45,
   "metadata": {},
   "outputs": [
    {
     "data": {
      "text/html": [
       "<div>\n",
       "<style scoped>\n",
       "    .dataframe tbody tr th:only-of-type {\n",
       "        vertical-align: middle;\n",
       "    }\n",
       "\n",
       "    .dataframe tbody tr th {\n",
       "        vertical-align: top;\n",
       "    }\n",
       "\n",
       "    .dataframe thead th {\n",
       "        text-align: right;\n",
       "    }\n",
       "</style>\n",
       "<table border=\"1\" class=\"dataframe\">\n",
       "  <thead>\n",
       "    <tr style=\"text-align: right;\">\n",
       "      <th></th>\n",
       "      <th>delta_g1</th>\n",
       "      <th>delta_g2</th>\n",
       "    </tr>\n",
       "  </thead>\n",
       "  <tbody>\n",
       "    <tr>\n",
       "      <th>ebv_planck13</th>\n",
       "      <td>1.429e-02</td>\n",
       "      <td>2.522e-02</td>\n",
       "    </tr>\n",
       "    <tr>\n",
       "      <th>star_density_piffv23</th>\n",
       "      <td>2.924e-03</td>\n",
       "      <td>1.852e-02</td>\n",
       "    </tr>\n",
       "    <tr>\n",
       "      <th>det_frac</th>\n",
       "      <td>1.429e-02</td>\n",
       "      <td>2.522e-02</td>\n",
       "    </tr>\n",
       "    <tr>\n",
       "      <th>(g, airmass)</th>\n",
       "      <td>3.566e-03</td>\n",
       "      <td>-1.798e-02</td>\n",
       "    </tr>\n",
       "    <tr>\n",
       "      <th>(g, fwhm)</th>\n",
       "      <td>-3.808e-03</td>\n",
       "      <td>-2.671e-02</td>\n",
       "    </tr>\n",
       "    <tr>\n",
       "      <th>(g, mof_depth)</th>\n",
       "      <td>5.453e-03</td>\n",
       "      <td>1.012e-02</td>\n",
       "    </tr>\n",
       "    <tr>\n",
       "      <th>(g, sigma_zp)</th>\n",
       "      <td>-1.513e-02</td>\n",
       "      <td>2.453e-03</td>\n",
       "    </tr>\n",
       "    <tr>\n",
       "      <th>(g, sky_var)</th>\n",
       "      <td>5.542e-03</td>\n",
       "      <td>-4.768e-03</td>\n",
       "    </tr>\n",
       "    <tr>\n",
       "      <th>(g, teff_mean)</th>\n",
       "      <td>3.566e-03</td>\n",
       "      <td>3.103e-02</td>\n",
       "    </tr>\n",
       "    <tr>\n",
       "      <th>(g, teff_sum)</th>\n",
       "      <td>1.105e-02</td>\n",
       "      <td>2.074e-02</td>\n",
       "    </tr>\n",
       "    <tr>\n",
       "      <th>(r, airmass)</th>\n",
       "      <td>3.566e-03</td>\n",
       "      <td>-1.798e-02</td>\n",
       "    </tr>\n",
       "    <tr>\n",
       "      <th>(r, fwhm)</th>\n",
       "      <td>-3.808e-03</td>\n",
       "      <td>-2.671e-02</td>\n",
       "    </tr>\n",
       "    <tr>\n",
       "      <th>(r, mof_depth)</th>\n",
       "      <td>5.453e-03</td>\n",
       "      <td>1.012e-02</td>\n",
       "    </tr>\n",
       "    <tr>\n",
       "      <th>(r, sigma_zp)</th>\n",
       "      <td>-1.513e-02</td>\n",
       "      <td>2.453e-03</td>\n",
       "    </tr>\n",
       "    <tr>\n",
       "      <th>(r, sky_var)</th>\n",
       "      <td>5.542e-03</td>\n",
       "      <td>-4.768e-03</td>\n",
       "    </tr>\n",
       "    <tr>\n",
       "      <th>(r, teff_mean)</th>\n",
       "      <td>3.566e-03</td>\n",
       "      <td>3.103e-02</td>\n",
       "    </tr>\n",
       "    <tr>\n",
       "      <th>(r, teff_sum)</th>\n",
       "      <td>1.105e-02</td>\n",
       "      <td>2.074e-02</td>\n",
       "    </tr>\n",
       "    <tr>\n",
       "      <th>(i, airmass)</th>\n",
       "      <td>3.566e-03</td>\n",
       "      <td>-1.798e-02</td>\n",
       "    </tr>\n",
       "    <tr>\n",
       "      <th>(i, fwhm)</th>\n",
       "      <td>-3.808e-03</td>\n",
       "      <td>-2.671e-02</td>\n",
       "    </tr>\n",
       "    <tr>\n",
       "      <th>(i, mof_depth)</th>\n",
       "      <td>5.453e-03</td>\n",
       "      <td>1.012e-02</td>\n",
       "    </tr>\n",
       "    <tr>\n",
       "      <th>(i, sigma_zp)</th>\n",
       "      <td>-1.513e-02</td>\n",
       "      <td>2.453e-03</td>\n",
       "    </tr>\n",
       "    <tr>\n",
       "      <th>(i, sky_var)</th>\n",
       "      <td>5.542e-03</td>\n",
       "      <td>-4.768e-03</td>\n",
       "    </tr>\n",
       "    <tr>\n",
       "      <th>(i, teff_mean)</th>\n",
       "      <td>3.566e-03</td>\n",
       "      <td>3.103e-02</td>\n",
       "    </tr>\n",
       "    <tr>\n",
       "      <th>(i, teff_sum)</th>\n",
       "      <td>1.105e-02</td>\n",
       "      <td>2.074e-02</td>\n",
       "    </tr>\n",
       "    <tr>\n",
       "      <th>(z, airmass)</th>\n",
       "      <td>3.566e-03</td>\n",
       "      <td>-1.798e-02</td>\n",
       "    </tr>\n",
       "    <tr>\n",
       "      <th>(z, fwhm)</th>\n",
       "      <td>-3.808e-03</td>\n",
       "      <td>-2.671e-02</td>\n",
       "    </tr>\n",
       "    <tr>\n",
       "      <th>(z, mof_depth)</th>\n",
       "      <td>5.453e-03</td>\n",
       "      <td>1.012e-02</td>\n",
       "    </tr>\n",
       "    <tr>\n",
       "      <th>(z, sigma_zp)</th>\n",
       "      <td>-1.513e-02</td>\n",
       "      <td>2.453e-03</td>\n",
       "    </tr>\n",
       "    <tr>\n",
       "      <th>(z, sky_var)</th>\n",
       "      <td>5.542e-03</td>\n",
       "      <td>-4.768e-03</td>\n",
       "    </tr>\n",
       "    <tr>\n",
       "      <th>(z, teff_mean)</th>\n",
       "      <td>3.566e-03</td>\n",
       "      <td>3.103e-02</td>\n",
       "    </tr>\n",
       "    <tr>\n",
       "      <th>(z, teff_sum)</th>\n",
       "      <td>1.105e-02</td>\n",
       "      <td>2.074e-02</td>\n",
       "    </tr>\n",
       "    <tr>\n",
       "      <th>delta_g1</th>\n",
       "      <td>1.000e+00</td>\n",
       "      <td>1.556e-01</td>\n",
       "    </tr>\n",
       "    <tr>\n",
       "      <th>delta_g2</th>\n",
       "      <td>1.556e-01</td>\n",
       "      <td>1.000e+00</td>\n",
       "    </tr>\n",
       "  </tbody>\n",
       "</table>\n",
       "</div>"
      ],
      "text/plain": [
       "                       delta_g1   delta_g2\n",
       "ebv_planck13          1.429e-02  2.522e-02\n",
       "star_density_piffv23  2.924e-03  1.852e-02\n",
       "det_frac              1.429e-02  2.522e-02\n",
       "(g, airmass)          3.566e-03 -1.798e-02\n",
       "(g, fwhm)            -3.808e-03 -2.671e-02\n",
       "(g, mof_depth)        5.453e-03  1.012e-02\n",
       "(g, sigma_zp)        -1.513e-02  2.453e-03\n",
       "(g, sky_var)          5.542e-03 -4.768e-03\n",
       "(g, teff_mean)        3.566e-03  3.103e-02\n",
       "(g, teff_sum)         1.105e-02  2.074e-02\n",
       "(r, airmass)          3.566e-03 -1.798e-02\n",
       "(r, fwhm)            -3.808e-03 -2.671e-02\n",
       "(r, mof_depth)        5.453e-03  1.012e-02\n",
       "(r, sigma_zp)        -1.513e-02  2.453e-03\n",
       "(r, sky_var)          5.542e-03 -4.768e-03\n",
       "(r, teff_mean)        3.566e-03  3.103e-02\n",
       "(r, teff_sum)         1.105e-02  2.074e-02\n",
       "(i, airmass)          3.566e-03 -1.798e-02\n",
       "(i, fwhm)            -3.808e-03 -2.671e-02\n",
       "(i, mof_depth)        5.453e-03  1.012e-02\n",
       "(i, sigma_zp)        -1.513e-02  2.453e-03\n",
       "(i, sky_var)          5.542e-03 -4.768e-03\n",
       "(i, teff_mean)        3.566e-03  3.103e-02\n",
       "(i, teff_sum)         1.105e-02  2.074e-02\n",
       "(z, airmass)          3.566e-03 -1.798e-02\n",
       "(z, fwhm)            -3.808e-03 -2.671e-02\n",
       "(z, mof_depth)        5.453e-03  1.012e-02\n",
       "(z, sigma_zp)        -1.513e-02  2.453e-03\n",
       "(z, sky_var)          5.542e-03 -4.768e-03\n",
       "(z, teff_mean)        3.566e-03  3.103e-02\n",
       "(z, teff_sum)         1.105e-02  2.074e-02\n",
       "delta_g1              1.000e+00  1.556e-01\n",
       "delta_g2              1.556e-01  1.000e+00"
      ]
     },
     "execution_count": 45,
     "metadata": {},
     "output_type": "execute_result"
    }
   ],
   "source": [
    "corr_list[2]"
   ]
  },
  {
   "cell_type": "markdown",
   "metadata": {},
   "source": [
    "# mcal5: griz wo MOF"
   ]
  },
  {
   "cell_type": "code",
   "execution_count": 46,
   "metadata": {},
   "outputs": [
    {
     "data": {
      "text/html": [
       "<div>\n",
       "<style scoped>\n",
       "    .dataframe tbody tr th:only-of-type {\n",
       "        vertical-align: middle;\n",
       "    }\n",
       "\n",
       "    .dataframe tbody tr th {\n",
       "        vertical-align: top;\n",
       "    }\n",
       "\n",
       "    .dataframe thead th {\n",
       "        text-align: right;\n",
       "    }\n",
       "</style>\n",
       "<table border=\"1\" class=\"dataframe\">\n",
       "  <thead>\n",
       "    <tr style=\"text-align: right;\">\n",
       "      <th></th>\n",
       "      <th>delta_g1</th>\n",
       "      <th>delta_g2</th>\n",
       "    </tr>\n",
       "  </thead>\n",
       "  <tbody>\n",
       "    <tr>\n",
       "      <th>count</th>\n",
       "      <td>3.300e+01</td>\n",
       "      <td>3.300e+01</td>\n",
       "    </tr>\n",
       "    <tr>\n",
       "      <th>mean</th>\n",
       "      <td>3.668e-02</td>\n",
       "      <td>4.025e-02</td>\n",
       "    </tr>\n",
       "    <tr>\n",
       "      <th>std</th>\n",
       "      <td>1.750e-01</td>\n",
       "      <td>1.746e-01</td>\n",
       "    </tr>\n",
       "    <tr>\n",
       "      <th>min</th>\n",
       "      <td>-9.798e-03</td>\n",
       "      <td>-2.400e-02</td>\n",
       "    </tr>\n",
       "    <tr>\n",
       "      <th>25%</th>\n",
       "      <td>-8.845e-04</td>\n",
       "      <td>5.101e-03</td>\n",
       "    </tr>\n",
       "    <tr>\n",
       "      <th>50%</th>\n",
       "      <td>3.023e-03</td>\n",
       "      <td>9.772e-03</td>\n",
       "    </tr>\n",
       "    <tr>\n",
       "      <th>75%</th>\n",
       "      <td>5.342e-03</td>\n",
       "      <td>1.791e-02</td>\n",
       "    </tr>\n",
       "    <tr>\n",
       "      <th>max</th>\n",
       "      <td>1.000e+00</td>\n",
       "      <td>1.000e+00</td>\n",
       "    </tr>\n",
       "  </tbody>\n",
       "</table>\n",
       "</div>"
      ],
      "text/plain": [
       "        delta_g1   delta_g2\n",
       "count  3.300e+01  3.300e+01\n",
       "mean   3.668e-02  4.025e-02\n",
       "std    1.750e-01  1.746e-01\n",
       "min   -9.798e-03 -2.400e-02\n",
       "25%   -8.845e-04  5.101e-03\n",
       "50%    3.023e-03  9.772e-03\n",
       "75%    5.342e-03  1.791e-02\n",
       "max    1.000e+00  1.000e+00"
      ]
     },
     "execution_count": 46,
     "metadata": {},
     "output_type": "execute_result"
    }
   ],
   "source": [
    "corr_list[3].describe()"
   ]
  },
  {
   "cell_type": "code",
   "execution_count": 47,
   "metadata": {},
   "outputs": [
    {
     "data": {
      "text/html": [
       "<div>\n",
       "<style scoped>\n",
       "    .dataframe tbody tr th:only-of-type {\n",
       "        vertical-align: middle;\n",
       "    }\n",
       "\n",
       "    .dataframe tbody tr th {\n",
       "        vertical-align: top;\n",
       "    }\n",
       "\n",
       "    .dataframe thead th {\n",
       "        text-align: right;\n",
       "    }\n",
       "</style>\n",
       "<table border=\"1\" class=\"dataframe\">\n",
       "  <thead>\n",
       "    <tr style=\"text-align: right;\">\n",
       "      <th></th>\n",
       "      <th>delta_g1</th>\n",
       "      <th>delta_g2</th>\n",
       "    </tr>\n",
       "  </thead>\n",
       "  <tbody>\n",
       "    <tr>\n",
       "      <th>ebv_planck13</th>\n",
       "      <td>7.438e-03</td>\n",
       "      <td>2.004e-02</td>\n",
       "    </tr>\n",
       "    <tr>\n",
       "      <th>star_density_piffv23</th>\n",
       "      <td>5.342e-03</td>\n",
       "      <td>2.065e-02</td>\n",
       "    </tr>\n",
       "    <tr>\n",
       "      <th>det_frac</th>\n",
       "      <td>7.438e-03</td>\n",
       "      <td>2.004e-02</td>\n",
       "    </tr>\n",
       "    <tr>\n",
       "      <th>(g, airmass)</th>\n",
       "      <td>-5.385e-03</td>\n",
       "      <td>-2.198e-03</td>\n",
       "    </tr>\n",
       "    <tr>\n",
       "      <th>(g, fwhm)</th>\n",
       "      <td>3.023e-03</td>\n",
       "      <td>-2.400e-02</td>\n",
       "    </tr>\n",
       "    <tr>\n",
       "      <th>(g, mof_depth)</th>\n",
       "      <td>4.338e-03</td>\n",
       "      <td>9.772e-03</td>\n",
       "    </tr>\n",
       "    <tr>\n",
       "      <th>(g, sigma_zp)</th>\n",
       "      <td>-8.845e-04</td>\n",
       "      <td>5.101e-03</td>\n",
       "    </tr>\n",
       "    <tr>\n",
       "      <th>(g, sky_var)</th>\n",
       "      <td>1.649e-02</td>\n",
       "      <td>9.669e-03</td>\n",
       "    </tr>\n",
       "    <tr>\n",
       "      <th>(g, teff_mean)</th>\n",
       "      <td>-9.798e-03</td>\n",
       "      <td>1.284e-02</td>\n",
       "    </tr>\n",
       "    <tr>\n",
       "      <th>(g, teff_sum)</th>\n",
       "      <td>2.005e-03</td>\n",
       "      <td>1.791e-02</td>\n",
       "    </tr>\n",
       "    <tr>\n",
       "      <th>(r, airmass)</th>\n",
       "      <td>-5.385e-03</td>\n",
       "      <td>-2.198e-03</td>\n",
       "    </tr>\n",
       "    <tr>\n",
       "      <th>(r, fwhm)</th>\n",
       "      <td>3.023e-03</td>\n",
       "      <td>-2.400e-02</td>\n",
       "    </tr>\n",
       "    <tr>\n",
       "      <th>(r, mof_depth)</th>\n",
       "      <td>4.338e-03</td>\n",
       "      <td>9.772e-03</td>\n",
       "    </tr>\n",
       "    <tr>\n",
       "      <th>(r, sigma_zp)</th>\n",
       "      <td>-8.845e-04</td>\n",
       "      <td>5.101e-03</td>\n",
       "    </tr>\n",
       "    <tr>\n",
       "      <th>(r, sky_var)</th>\n",
       "      <td>1.649e-02</td>\n",
       "      <td>9.669e-03</td>\n",
       "    </tr>\n",
       "    <tr>\n",
       "      <th>(r, teff_mean)</th>\n",
       "      <td>-9.798e-03</td>\n",
       "      <td>1.284e-02</td>\n",
       "    </tr>\n",
       "    <tr>\n",
       "      <th>(r, teff_sum)</th>\n",
       "      <td>2.005e-03</td>\n",
       "      <td>1.791e-02</td>\n",
       "    </tr>\n",
       "    <tr>\n",
       "      <th>(i, airmass)</th>\n",
       "      <td>-5.385e-03</td>\n",
       "      <td>-2.198e-03</td>\n",
       "    </tr>\n",
       "    <tr>\n",
       "      <th>(i, fwhm)</th>\n",
       "      <td>3.023e-03</td>\n",
       "      <td>-2.400e-02</td>\n",
       "    </tr>\n",
       "    <tr>\n",
       "      <th>(i, mof_depth)</th>\n",
       "      <td>4.338e-03</td>\n",
       "      <td>9.772e-03</td>\n",
       "    </tr>\n",
       "    <tr>\n",
       "      <th>(i, sigma_zp)</th>\n",
       "      <td>-8.845e-04</td>\n",
       "      <td>5.101e-03</td>\n",
       "    </tr>\n",
       "    <tr>\n",
       "      <th>(i, sky_var)</th>\n",
       "      <td>1.649e-02</td>\n",
       "      <td>9.669e-03</td>\n",
       "    </tr>\n",
       "    <tr>\n",
       "      <th>(i, teff_mean)</th>\n",
       "      <td>-9.798e-03</td>\n",
       "      <td>1.284e-02</td>\n",
       "    </tr>\n",
       "    <tr>\n",
       "      <th>(i, teff_sum)</th>\n",
       "      <td>2.005e-03</td>\n",
       "      <td>1.791e-02</td>\n",
       "    </tr>\n",
       "    <tr>\n",
       "      <th>(z, airmass)</th>\n",
       "      <td>-5.385e-03</td>\n",
       "      <td>-2.198e-03</td>\n",
       "    </tr>\n",
       "    <tr>\n",
       "      <th>(z, fwhm)</th>\n",
       "      <td>3.023e-03</td>\n",
       "      <td>-2.400e-02</td>\n",
       "    </tr>\n",
       "    <tr>\n",
       "      <th>(z, mof_depth)</th>\n",
       "      <td>4.338e-03</td>\n",
       "      <td>9.772e-03</td>\n",
       "    </tr>\n",
       "    <tr>\n",
       "      <th>(z, sigma_zp)</th>\n",
       "      <td>-8.845e-04</td>\n",
       "      <td>5.101e-03</td>\n",
       "    </tr>\n",
       "    <tr>\n",
       "      <th>(z, sky_var)</th>\n",
       "      <td>1.649e-02</td>\n",
       "      <td>9.669e-03</td>\n",
       "    </tr>\n",
       "    <tr>\n",
       "      <th>(z, teff_mean)</th>\n",
       "      <td>-9.798e-03</td>\n",
       "      <td>1.284e-02</td>\n",
       "    </tr>\n",
       "    <tr>\n",
       "      <th>(z, teff_sum)</th>\n",
       "      <td>2.005e-03</td>\n",
       "      <td>1.791e-02</td>\n",
       "    </tr>\n",
       "    <tr>\n",
       "      <th>delta_g1</th>\n",
       "      <td>1.000e+00</td>\n",
       "      <td>1.511e-01</td>\n",
       "    </tr>\n",
       "    <tr>\n",
       "      <th>delta_g2</th>\n",
       "      <td>1.511e-01</td>\n",
       "      <td>1.000e+00</td>\n",
       "    </tr>\n",
       "  </tbody>\n",
       "</table>\n",
       "</div>"
      ],
      "text/plain": [
       "                       delta_g1   delta_g2\n",
       "ebv_planck13          7.438e-03  2.004e-02\n",
       "star_density_piffv23  5.342e-03  2.065e-02\n",
       "det_frac              7.438e-03  2.004e-02\n",
       "(g, airmass)         -5.385e-03 -2.198e-03\n",
       "(g, fwhm)             3.023e-03 -2.400e-02\n",
       "(g, mof_depth)        4.338e-03  9.772e-03\n",
       "(g, sigma_zp)        -8.845e-04  5.101e-03\n",
       "(g, sky_var)          1.649e-02  9.669e-03\n",
       "(g, teff_mean)       -9.798e-03  1.284e-02\n",
       "(g, teff_sum)         2.005e-03  1.791e-02\n",
       "(r, airmass)         -5.385e-03 -2.198e-03\n",
       "(r, fwhm)             3.023e-03 -2.400e-02\n",
       "(r, mof_depth)        4.338e-03  9.772e-03\n",
       "(r, sigma_zp)        -8.845e-04  5.101e-03\n",
       "(r, sky_var)          1.649e-02  9.669e-03\n",
       "(r, teff_mean)       -9.798e-03  1.284e-02\n",
       "(r, teff_sum)         2.005e-03  1.791e-02\n",
       "(i, airmass)         -5.385e-03 -2.198e-03\n",
       "(i, fwhm)             3.023e-03 -2.400e-02\n",
       "(i, mof_depth)        4.338e-03  9.772e-03\n",
       "(i, sigma_zp)        -8.845e-04  5.101e-03\n",
       "(i, sky_var)          1.649e-02  9.669e-03\n",
       "(i, teff_mean)       -9.798e-03  1.284e-02\n",
       "(i, teff_sum)         2.005e-03  1.791e-02\n",
       "(z, airmass)         -5.385e-03 -2.198e-03\n",
       "(z, fwhm)             3.023e-03 -2.400e-02\n",
       "(z, mof_depth)        4.338e-03  9.772e-03\n",
       "(z, sigma_zp)        -8.845e-04  5.101e-03\n",
       "(z, sky_var)          1.649e-02  9.669e-03\n",
       "(z, teff_mean)       -9.798e-03  1.284e-02\n",
       "(z, teff_sum)         2.005e-03  1.791e-02\n",
       "delta_g1              1.000e+00  1.511e-01\n",
       "delta_g2              1.511e-01  1.000e+00"
      ]
     },
     "execution_count": 47,
     "metadata": {},
     "output_type": "execute_result"
    }
   ],
   "source": [
    "corr_list[3]"
   ]
  },
  {
   "cell_type": "code",
   "execution_count": 48,
   "metadata": {},
   "outputs": [
    {
     "name": "stdout",
     "output_type": "stream",
     "text": [
      "0.0 180.0 -180.0 180.0\n",
      "The interval between parallels is 30 deg -0.00'.\n",
      "The interval between meridians is 30 deg -0.00'.\n"
     ]
    },
    {
     "ename": "KeyError",
     "evalue": "'star_density_piffv23'",
     "output_type": "error",
     "traceback": [
      "\u001b[0;31m---------------------------------------------------------------------------\u001b[0m",
      "\u001b[0;31mKeyError\u001b[0m                                  Traceback (most recent call last)",
      "\u001b[0;32m~/anaconda3/envs/balrog/lib/python3.7/site-packages/pandas/core/indexes/base.py\u001b[0m in \u001b[0;36mget_loc\u001b[0;34m(self, key, method, tolerance)\u001b[0m\n\u001b[1;32m   2656\u001b[0m             \u001b[0;32mtry\u001b[0m\u001b[0;34m:\u001b[0m\u001b[0;34m\u001b[0m\u001b[0;34m\u001b[0m\u001b[0m\n\u001b[0;32m-> 2657\u001b[0;31m                 \u001b[0;32mreturn\u001b[0m \u001b[0mself\u001b[0m\u001b[0;34m.\u001b[0m\u001b[0m_engine\u001b[0m\u001b[0;34m.\u001b[0m\u001b[0mget_loc\u001b[0m\u001b[0;34m(\u001b[0m\u001b[0mkey\u001b[0m\u001b[0;34m)\u001b[0m\u001b[0;34m\u001b[0m\u001b[0;34m\u001b[0m\u001b[0m\n\u001b[0m\u001b[1;32m   2658\u001b[0m             \u001b[0;32mexcept\u001b[0m \u001b[0mKeyError\u001b[0m\u001b[0;34m:\u001b[0m\u001b[0;34m\u001b[0m\u001b[0;34m\u001b[0m\u001b[0m\n",
      "\u001b[0;32mpandas/_libs/index.pyx\u001b[0m in \u001b[0;36mpandas._libs.index.IndexEngine.get_loc\u001b[0;34m()\u001b[0m\n",
      "\u001b[0;32mpandas/_libs/index.pyx\u001b[0m in \u001b[0;36mpandas._libs.index.IndexEngine.get_loc\u001b[0;34m()\u001b[0m\n",
      "\u001b[0;32mpandas/_libs/hashtable_class_helper.pxi\u001b[0m in \u001b[0;36mpandas._libs.hashtable.PyObjectHashTable.get_item\u001b[0;34m()\u001b[0m\n",
      "\u001b[0;32mpandas/_libs/hashtable_class_helper.pxi\u001b[0m in \u001b[0;36mpandas._libs.hashtable.PyObjectHashTable.get_item\u001b[0;34m()\u001b[0m\n",
      "\u001b[0;31mKeyError\u001b[0m: 'star_density_piffv23'",
      "\nDuring handling of the above exception, another exception occurred:\n",
      "\u001b[0;31mKeyError\u001b[0m                                  Traceback (most recent call last)",
      "\u001b[0;32m<ipython-input-48-f4dbfb8c8fcf>\u001b[0m in \u001b[0;36m<module>\u001b[0;34m\u001b[0m\n\u001b[1;32m      6\u001b[0m \u001b[0;34m\u001b[0m\u001b[0m\n\u001b[1;32m      7\u001b[0m \u001b[0mplt\u001b[0m\u001b[0;34m.\u001b[0m\u001b[0maxes\u001b[0m\u001b[0;34m(\u001b[0m\u001b[0max2\u001b[0m\u001b[0;34m)\u001b[0m\u001b[0;34m\u001b[0m\u001b[0;34m\u001b[0m\u001b[0m\n\u001b[0;32m----> 8\u001b[0;31m hp.mollview(gng_filled_list[0]['star_density_piffv23'].to_numpy(),nest=True,\n\u001b[0m\u001b[1;32m      9\u001b[0m             title=\"Star density plotted on balrog pixels\",hold=True)\n\u001b[1;32m     10\u001b[0m \u001b[0mhp\u001b[0m\u001b[0;34m.\u001b[0m\u001b[0mgraticule\u001b[0m\u001b[0;34m(\u001b[0m\u001b[0;34m)\u001b[0m\u001b[0;34m\u001b[0m\u001b[0;34m\u001b[0m\u001b[0m\n",
      "\u001b[0;32m~/anaconda3/envs/balrog/lib/python3.7/site-packages/pandas/core/frame.py\u001b[0m in \u001b[0;36m__getitem__\u001b[0;34m(self, key)\u001b[0m\n\u001b[1;32m   2925\u001b[0m             \u001b[0;32mif\u001b[0m \u001b[0mself\u001b[0m\u001b[0;34m.\u001b[0m\u001b[0mcolumns\u001b[0m\u001b[0;34m.\u001b[0m\u001b[0mnlevels\u001b[0m \u001b[0;34m>\u001b[0m \u001b[0;36m1\u001b[0m\u001b[0;34m:\u001b[0m\u001b[0;34m\u001b[0m\u001b[0;34m\u001b[0m\u001b[0m\n\u001b[1;32m   2926\u001b[0m                 \u001b[0;32mreturn\u001b[0m \u001b[0mself\u001b[0m\u001b[0;34m.\u001b[0m\u001b[0m_getitem_multilevel\u001b[0m\u001b[0;34m(\u001b[0m\u001b[0mkey\u001b[0m\u001b[0;34m)\u001b[0m\u001b[0;34m\u001b[0m\u001b[0;34m\u001b[0m\u001b[0m\n\u001b[0;32m-> 2927\u001b[0;31m             \u001b[0mindexer\u001b[0m \u001b[0;34m=\u001b[0m \u001b[0mself\u001b[0m\u001b[0;34m.\u001b[0m\u001b[0mcolumns\u001b[0m\u001b[0;34m.\u001b[0m\u001b[0mget_loc\u001b[0m\u001b[0;34m(\u001b[0m\u001b[0mkey\u001b[0m\u001b[0;34m)\u001b[0m\u001b[0;34m\u001b[0m\u001b[0;34m\u001b[0m\u001b[0m\n\u001b[0m\u001b[1;32m   2928\u001b[0m             \u001b[0;32mif\u001b[0m \u001b[0mis_integer\u001b[0m\u001b[0;34m(\u001b[0m\u001b[0mindexer\u001b[0m\u001b[0;34m)\u001b[0m\u001b[0;34m:\u001b[0m\u001b[0;34m\u001b[0m\u001b[0;34m\u001b[0m\u001b[0m\n\u001b[1;32m   2929\u001b[0m                 \u001b[0mindexer\u001b[0m \u001b[0;34m=\u001b[0m \u001b[0;34m[\u001b[0m\u001b[0mindexer\u001b[0m\u001b[0;34m]\u001b[0m\u001b[0;34m\u001b[0m\u001b[0;34m\u001b[0m\u001b[0m\n",
      "\u001b[0;32m~/anaconda3/envs/balrog/lib/python3.7/site-packages/pandas/core/indexes/base.py\u001b[0m in \u001b[0;36mget_loc\u001b[0;34m(self, key, method, tolerance)\u001b[0m\n\u001b[1;32m   2657\u001b[0m                 \u001b[0;32mreturn\u001b[0m \u001b[0mself\u001b[0m\u001b[0;34m.\u001b[0m\u001b[0m_engine\u001b[0m\u001b[0;34m.\u001b[0m\u001b[0mget_loc\u001b[0m\u001b[0;34m(\u001b[0m\u001b[0mkey\u001b[0m\u001b[0;34m)\u001b[0m\u001b[0;34m\u001b[0m\u001b[0;34m\u001b[0m\u001b[0m\n\u001b[1;32m   2658\u001b[0m             \u001b[0;32mexcept\u001b[0m \u001b[0mKeyError\u001b[0m\u001b[0;34m:\u001b[0m\u001b[0;34m\u001b[0m\u001b[0;34m\u001b[0m\u001b[0m\n\u001b[0;32m-> 2659\u001b[0;31m                 \u001b[0;32mreturn\u001b[0m \u001b[0mself\u001b[0m\u001b[0;34m.\u001b[0m\u001b[0m_engine\u001b[0m\u001b[0;34m.\u001b[0m\u001b[0mget_loc\u001b[0m\u001b[0;34m(\u001b[0m\u001b[0mself\u001b[0m\u001b[0;34m.\u001b[0m\u001b[0m_maybe_cast_indexer\u001b[0m\u001b[0;34m(\u001b[0m\u001b[0mkey\u001b[0m\u001b[0;34m)\u001b[0m\u001b[0;34m)\u001b[0m\u001b[0;34m\u001b[0m\u001b[0;34m\u001b[0m\u001b[0m\n\u001b[0m\u001b[1;32m   2660\u001b[0m         \u001b[0mindexer\u001b[0m \u001b[0;34m=\u001b[0m \u001b[0mself\u001b[0m\u001b[0;34m.\u001b[0m\u001b[0mget_indexer\u001b[0m\u001b[0;34m(\u001b[0m\u001b[0;34m[\u001b[0m\u001b[0mkey\u001b[0m\u001b[0;34m]\u001b[0m\u001b[0;34m,\u001b[0m \u001b[0mmethod\u001b[0m\u001b[0;34m=\u001b[0m\u001b[0mmethod\u001b[0m\u001b[0;34m,\u001b[0m \u001b[0mtolerance\u001b[0m\u001b[0;34m=\u001b[0m\u001b[0mtolerance\u001b[0m\u001b[0;34m)\u001b[0m\u001b[0;34m\u001b[0m\u001b[0;34m\u001b[0m\u001b[0m\n\u001b[1;32m   2661\u001b[0m         \u001b[0;32mif\u001b[0m \u001b[0mindexer\u001b[0m\u001b[0;34m.\u001b[0m\u001b[0mndim\u001b[0m \u001b[0;34m>\u001b[0m \u001b[0;36m1\u001b[0m \u001b[0;32mor\u001b[0m \u001b[0mindexer\u001b[0m\u001b[0;34m.\u001b[0m\u001b[0msize\u001b[0m \u001b[0;34m>\u001b[0m \u001b[0;36m1\u001b[0m\u001b[0;34m:\u001b[0m\u001b[0;34m\u001b[0m\u001b[0;34m\u001b[0m\u001b[0m\n",
      "\u001b[0;32mpandas/_libs/index.pyx\u001b[0m in \u001b[0;36mpandas._libs.index.IndexEngine.get_loc\u001b[0;34m()\u001b[0m\n",
      "\u001b[0;32mpandas/_libs/index.pyx\u001b[0m in \u001b[0;36mpandas._libs.index.IndexEngine.get_loc\u001b[0;34m()\u001b[0m\n",
      "\u001b[0;32mpandas/_libs/hashtable_class_helper.pxi\u001b[0m in \u001b[0;36mpandas._libs.hashtable.PyObjectHashTable.get_item\u001b[0;34m()\u001b[0m\n",
      "\u001b[0;32mpandas/_libs/hashtable_class_helper.pxi\u001b[0m in \u001b[0;36mpandas._libs.hashtable.PyObjectHashTable.get_item\u001b[0;34m()\u001b[0m\n",
      "\u001b[0;31mKeyError\u001b[0m: 'star_density_piffv23'"
     ]
    },
    {
     "data": {
      "image/png": "[encoded data removed]",
      "text/plain": [
       "<Figure size 432x288 with 3 Axes>"
      ]
     },
     "metadata": {
      "needs_background": "light"
     },
     "output_type": "display_data"
    }
   ],
   "source": [
    "fig2,(ax1,ax2)=plt.subplots(ncols=2)\n",
    "\n",
    "plt.axes(ax1)\n",
    "hp.mollview(gng_filled_list[0]['delta_g1'].to_numpy(),nest=True,title=\"$\\delta g_1$ for riz /w MOF\",hold=True)\n",
    "hp.graticule()\n",
    "\n",
    "plt.axes(ax2)\n",
    "hp.mollview(gng_filled_list[0]['star_density_piffv23'].to_numpy(),nest=True,\n",
    "            title=\"Star density plotted on balrog pixels\",hold=True)\n",
    "hp.graticule()\n",
    "\n",
    "# plt.title(\"Comparing $\\delta g$ with other data\")\n",
    "\n",
    "plt.savefig('/home/cz136/project/balrog/image/hp/compare.png',dpi=2048)\n",
    "plt.close()"
   ]
  },
  {
   "cell_type": "code",
   "execution_count": null,
   "metadata": {},
   "outputs": [],
   "source": []
  }
 ],
 "metadata": {
  "kernelspec": {
   "display_name": "Python 3",
   "language": "python",
   "name": "python3"
  },
  "language_info": {
   "codemirror_mode": {
    "name": "ipython",
    "version": 3
   },
   "file_extension": ".py",
   "mimetype": "text/x-python",
   "name": "python",
   "nbconvert_exporter": "python",
   "pygments_lexer": "ipython3",
   "version": "3.7.3"
  }
 },
 "nbformat": 4,
 "nbformat_minor": 2
}
