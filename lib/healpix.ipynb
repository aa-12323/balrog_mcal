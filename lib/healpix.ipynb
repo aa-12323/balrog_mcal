{
 "cells": [
  {
   "cell_type": "code",
   "execution_count": 1,
   "metadata": {},
   "outputs": [
    {
     "name": "stdout",
     "output_type": "stream",
     "text": [
      "{0: 3356849, 1: 47, 2: 159, 4: 885653, 67108864: 93686, 134217728: 28959}\n",
      "{0: 4290039, 1: 45, 2: 349, 4: 1627, 67108864: 16092, 134217728: 29906}\n",
      "0\n",
      "1\n",
      "10\n",
      "100\n",
      "100000000000000000000000000\n",
      "1000000000000000000000000000\n"
     ]
    },
    {
     "ename": "KeyboardInterrupt",
     "evalue": "",
     "output_type": "error",
     "traceback": [
      "\u001b[0;31m---------------------------------------------------------------------------\u001b[0m",
      "\u001b[0;31mKeyboardInterrupt\u001b[0m                         Traceback (most recent call last)",
      "\u001b[0;32m~/project/balrog/lib/load_data.ipynb\u001b[0m in \u001b[0;36m<module>\u001b[0;34m\u001b[0m\n\u001b[0;32m----> 1\u001b[0;31m \u001b[0mphotdf\u001b[0m\u001b[0;34m=\u001b[0m\u001b[0mload_true\u001b[0m\u001b[0;34m(\u001b[0m\u001b[0;34m)\u001b[0m\u001b[0;34m\u001b[0m\u001b[0;34m\u001b[0m\u001b[0m\n\u001b[0m",
      "\u001b[0;32m~/project/balrog/lib/load_data.ipynb\u001b[0m in \u001b[0;36mload_true\u001b[0;34m()\u001b[0m\n\u001b[1;32m      9\u001b[0m     \u001b[0;31m#load true catalogs in pandas\u001b[0m\u001b[0;34m\u001b[0m\u001b[0;34m\u001b[0m\u001b[0;34m\u001b[0m\u001b[0m\n\u001b[1;32m     10\u001b[0m     \u001b[0;31m# detectp_table=Table.read('/lsst/troxel/balrog/balrog_detection_catalog-v1.2.fits').to_pandas()\u001b[0m\u001b[0;34m\u001b[0m\u001b[0;34m\u001b[0m\u001b[0;34m\u001b[0m\u001b[0m\n\u001b[0;32m---> 11\u001b[0;31m     \u001b[0mphotdf\u001b[0m\u001b[0;34m=\u001b[0m\u001b[0mTable\u001b[0m\u001b[0;34m.\u001b[0m\u001b[0mread\u001b[0m\u001b[0;34m(\u001b[0m\u001b[0;34m'/lsst/troxel/balrog/balrog_matched_catalog_flatten.fits'\u001b[0m\u001b[0;34m)\u001b[0m\u001b[0;34m.\u001b[0m\u001b[0mto_pandas\u001b[0m\u001b[0;34m(\u001b[0m\u001b[0;34m)\u001b[0m\u001b[0;34m\u001b[0m\u001b[0;34m\u001b[0m\u001b[0m\n\u001b[0m\u001b[1;32m     12\u001b[0m     \u001b[0mid_balrogdf\u001b[0m \u001b[0;34m=\u001b[0m \u001b[0mTable\u001b[0m\u001b[0;34m.\u001b[0m\u001b[0mread\u001b[0m\u001b[0;34m(\u001b[0m\u001b[0;34m'/lsst/troxel/balrog/balrog_mcal_bal_ids_v1.2.fits'\u001b[0m\u001b[0;34m)\u001b[0m\u001b[0;34m.\u001b[0m\u001b[0mto_pandas\u001b[0m\u001b[0;34m(\u001b[0m\u001b[0;34m)\u001b[0m\u001b[0;34m\u001b[0m\u001b[0;34m\u001b[0m\u001b[0m\n\u001b[1;32m     13\u001b[0m \u001b[0;34m\u001b[0m\u001b[0m\n",
      "\u001b[0;32m~/anaconda3/envs/balrog/lib/python3.7/site-packages/astropy/table/table.py\u001b[0m in \u001b[0;36mto_pandas\u001b[0;34m(self, index)\u001b[0m\n\u001b[1;32m   2939\u001b[0m \u001b[0;34m\u001b[0m\u001b[0m\n\u001b[1;32m   2940\u001b[0m             \u001b[0;32mif\u001b[0m \u001b[0mout\u001b[0m\u001b[0;34m[\u001b[0m\u001b[0mname\u001b[0m\u001b[0;34m]\u001b[0m\u001b[0;34m.\u001b[0m\u001b[0mdtype\u001b[0m\u001b[0;34m.\u001b[0m\u001b[0mbyteorder\u001b[0m \u001b[0;32mnot\u001b[0m \u001b[0;32min\u001b[0m \u001b[0;34m(\u001b[0m\u001b[0;34m'='\u001b[0m\u001b[0;34m,\u001b[0m \u001b[0;34m'|'\u001b[0m\u001b[0;34m)\u001b[0m\u001b[0;34m:\u001b[0m\u001b[0;34m\u001b[0m\u001b[0;34m\u001b[0m\u001b[0m\n\u001b[0;32m-> 2941\u001b[0;31m                 \u001b[0mout\u001b[0m\u001b[0;34m[\u001b[0m\u001b[0mname\u001b[0m\u001b[0;34m]\u001b[0m \u001b[0;34m=\u001b[0m \u001b[0mout\u001b[0m\u001b[0;34m[\u001b[0m\u001b[0mname\u001b[0m\u001b[0;34m]\u001b[0m\u001b[0;34m.\u001b[0m\u001b[0mbyteswap\u001b[0m\u001b[0;34m(\u001b[0m\u001b[0;34m)\u001b[0m\u001b[0;34m.\u001b[0m\u001b[0mnewbyteorder\u001b[0m\u001b[0;34m(\u001b[0m\u001b[0;34m)\u001b[0m\u001b[0;34m\u001b[0m\u001b[0;34m\u001b[0m\u001b[0m\n\u001b[0m\u001b[1;32m   2942\u001b[0m \u001b[0;34m\u001b[0m\u001b[0m\n\u001b[1;32m   2943\u001b[0m         \u001b[0mkwargs\u001b[0m \u001b[0;34m=\u001b[0m \u001b[0;34m{\u001b[0m\u001b[0;34m'index'\u001b[0m\u001b[0;34m:\u001b[0m \u001b[0mout\u001b[0m\u001b[0;34m.\u001b[0m\u001b[0mpop\u001b[0m\u001b[0;34m(\u001b[0m\u001b[0mindex\u001b[0m\u001b[0;34m)\u001b[0m\u001b[0;34m}\u001b[0m \u001b[0;32mif\u001b[0m \u001b[0mindex\u001b[0m \u001b[0;32melse\u001b[0m \u001b[0;34m{\u001b[0m\u001b[0;34m}\u001b[0m\u001b[0;34m\u001b[0m\u001b[0;34m\u001b[0m\u001b[0m\n",
      "\u001b[0;31mKeyboardInterrupt\u001b[0m: "
     ]
    },
    {
     "name": "stdout",
     "output_type": "stream",
     "text": [
      "['DataFrame', 'In', 'Math', 'Out', 'Series', 'Table', '_', '__', '___', '__builtin__', '__builtins__', '__doc__', '__loader__', '__name__', '__package__', '__spec__', '_dh', '_i', '_i1', '_ih', '_ii', '_iii', '_oh', 'bottleneck', 'display', 'exit', 'fits', 'get_df_list', 'get_flag_counts', 'get_ipython', 'h5py', 'load_mcal', 'load_true', 'mcal2', 'mcal3', 'mcal4', 'mcal5', 'np', 'number', 'numexpr', 'pd', 'plt', 'quit', 'tqdm']\n"
     ]
    }
   ],
   "source": [
    "%run load_data.ipynb\n",
    "print (dir())"
   ]
  },
  {
   "cell_type": "code",
   "execution_count": 2,
   "metadata": {},
   "outputs": [],
   "source": [
    "import healpy as hp\n",
    "import astropy_healpix as a_hp\n",
    "import matplotlib as mpl\n",
    "import matplotlib.pyplot as plt\n",
    "%matplotlib inline"
   ]
  },
  {
   "cell_type": "markdown",
   "metadata": {},
   "source": [
    "# Choose NSIDE"
   ]
  },
  {
   "cell_type": "code",
   "execution_count": 3,
   "metadata": {},
   "outputs": [
    {
     "name": "stdout",
     "output_type": "stream",
     "text": [
      "The number of pixels is: 786432.\n"
     ]
    }
   ],
   "source": [
    "NSIDE=256 #or 512\n",
    "NPIX=hp.nside2npix(NSIDE)\n",
    "print (\"The number of pixels is: {}.\".format(NPIX))\n",
    "G_INDEX=np.arange(NPIX)"
   ]
  },
  {
   "cell_type": "code",
   "execution_count": 4,
   "metadata": {},
   "outputs": [
    {
     "ename": "NameError",
     "evalue": "name 'mcal_df_list_positive' is not defined",
     "output_type": "error",
     "traceback": [
      "\u001b[0;31m---------------------------------------------------------------------------\u001b[0m",
      "\u001b[0;31mNameError\u001b[0m                                 Traceback (most recent call last)",
      "\u001b[0;32m<ipython-input-4-5ab4d275e66c>\u001b[0m in \u001b[0;36m<module>\u001b[0;34m\u001b[0m\n\u001b[1;32m      1\u001b[0m \u001b[0mfinal_df_list\u001b[0m\u001b[0;34m=\u001b[0m\u001b[0;34m[\u001b[0m\u001b[0;32mNone\u001b[0m\u001b[0;34m]\u001b[0m\u001b[0;34m*\u001b[0m\u001b[0;36m4\u001b[0m\u001b[0;34m\u001b[0m\u001b[0;34m\u001b[0m\u001b[0m\n\u001b[0;32m----> 2\u001b[0;31m \u001b[0;32mfor\u001b[0m \u001b[0mi\u001b[0m\u001b[0;34m,\u001b[0m\u001b[0mcatalog\u001b[0m \u001b[0;32min\u001b[0m \u001b[0menumerate\u001b[0m\u001b[0;34m(\u001b[0m\u001b[0mmcal_df_list_positive\u001b[0m\u001b[0;34m)\u001b[0m\u001b[0;34m:\u001b[0m\u001b[0;34m\u001b[0m\u001b[0;34m\u001b[0m\u001b[0m\n\u001b[0m\u001b[1;32m      3\u001b[0m     \u001b[0mfinal_df_list\u001b[0m\u001b[0;34m[\u001b[0m\u001b[0mi\u001b[0m\u001b[0;34m]\u001b[0m\u001b[0;34m=\u001b[0m\u001b[0mpd\u001b[0m\u001b[0;34m.\u001b[0m\u001b[0mconcat\u001b[0m\u001b[0;34m(\u001b[0m\u001b[0;34m[\u001b[0m\u001b[0mcatalog\u001b[0m\u001b[0;34m,\u001b[0m\u001b[0mphotdf\u001b[0m\u001b[0;34m[\u001b[0m\u001b[0;34m[\u001b[0m\u001b[0;34m'true_cm_g_1'\u001b[0m\u001b[0;34m,\u001b[0m\u001b[0;34m'true_cm_g_2'\u001b[0m\u001b[0;34m]\u001b[0m\u001b[0;34m]\u001b[0m\u001b[0;34m]\u001b[0m\u001b[0;34m,\u001b[0m\u001b[0maxis\u001b[0m\u001b[0;34m=\u001b[0m\u001b[0;36m1\u001b[0m\u001b[0;34m,\u001b[0m\u001b[0mjoin\u001b[0m\u001b[0;34m=\u001b[0m\u001b[0;34m'inner'\u001b[0m\u001b[0;34m)\u001b[0m\u001b[0;34m\u001b[0m\u001b[0;34m\u001b[0m\u001b[0m\n",
      "\u001b[0;31mNameError\u001b[0m: name 'mcal_df_list_positive' is not defined"
     ]
    }
   ],
   "source": [
    "final_df_list=[None]*4\n",
    "for i,catalog in enumerate(mcal_df_list_positive):\n",
    "    final_df_list[i]=pd.concat([catalog,photdf[['true_cm_g_1','true_cm_g_2']]],axis=1,join='inner')"
   ]
  },
  {
   "cell_type": "code",
   "execution_count": null,
   "metadata": {},
   "outputs": [],
   "source": [
    "def get_healpix(df):\n",
    "    print (\"The length of the df is: {}.\".format(len(df)))\n",
    "    print (\"The ratio of the length of the catagory to the total pixel number is: {:.2%}\".format(len(df)/NPIX))\n",
    "    df['ipix']=df.apply(lambda x:hp.ang2pix(NSIDE,np.pi/2-np.deg2rad(x['dec']),np.deg2rad(x['ra']),nest=True),axis=1)\n",
    "    print(\"The propotion of rendered objects is: {:.2%}\".format(np.sum(df['ipix']!=0)/len(df)))\n",
    "    print (\"Resetting indexes\")\n",
    "    df_ipix=df.set_index('ipix')\n",
    "    df_ipix_sorted=df_ipix.sort_index()\n",
    "    return (df_ipix_sorted)\n",
    "\n",
    "def group_ipix(df_ipix_sorted):\n",
    "    number_mask=df_ipix_sorted.groupby('ipix').count()['R11']<10\n",
    "    df_sorted_grouped=df_ipix_sorted.groupby('ipix').mean()\n",
    "    df_sorted_grouped_masked=df_sorted_grouped[number_mask]\n",
    "    print (\"The mean of R11 is {}, max is {}, min is {}\".format(df_sorted_grouped_masked['R11'].mean(),df_sorted_grouped_masked['R11'].max(),df_sorted_grouped_masked['R11'].min()))\n",
    "    print (\"The mean of R22 is {}, max is {}, min is {}\".format(df_sorted_grouped_masked['R22'].mean(),df_sorted_grouped_masked['R22'].max(),df_sorted_grouped_masked['R22'].min()))\n",
    "    R11 = df_sorted_grouped_masked['R11'].mean()\n",
    "    R22 = df_sorted_grouped_masked['R22'].mean()\n",
    "    df_sorted_grouped_masked['calculated_g_1']=df_sorted_grouped_masked.apply(lambda x:x['e_1']/R11,axis=1)\n",
    "    df_sorted_grouped_masked['calculated_g_2']=df_sorted_grouped_masked.apply(lambda x:x['e_2']/R22,axis=1)\n",
    "    df_sorted_grouped_masked['delta_g1']=df_sorted_grouped_masked.apply(lambda x:x['calculated_g_1']-x['true_cm_g_1'],axis=1)\n",
    "    df_sorted_grouped_masked['delta_g2']=df_sorted_grouped_masked.apply(lambda x:x['calculated_g_2']-x['true_cm_g_2'],axis=1)\n",
    "#     print (\"The propotion of averaged objects is: {:.2%}\".format((len(df_ipix_sorted)-len(df_sorted_grouped_masked))/len(df_ipix_sorted)))\n",
    "    print (\"---------------------------------\")\n",
    "    return (df_sorted_grouped_masked)"
   ]
  },
  {
   "cell_type": "code",
   "execution_count": null,
   "metadata": {},
   "outputs": [],
   "source": [
    "ipix_sorted = [get_healpix(df) for df in final_df_list]"
   ]
  },
  {
   "cell_type": "code",
   "execution_count": null,
   "metadata": {},
   "outputs": [],
   "source": [
    "ipix_sorted_filtered_grouped=[group_ipix(df) for df in ipix_sorted]"
   ]
  },
  {
   "cell_type": "code",
   "execution_count": null,
   "metadata": {},
   "outputs": [],
   "source": [
    "def fill_for_plot(df,key_array):\n",
    "    df_filled=df[key_array].reindex(index=G_INDEX,fill_value=np.nan)\n",
    "    print(\"The propotion of filled pixels is: {}.\".format(np.sum(df_filled['delta_g1']>0)/NPIX))\n",
    "    return(df_filled)"
   ]
  },
  {
   "cell_type": "code",
   "execution_count": null,
   "metadata": {},
   "outputs": [],
   "source": [
    "hp_filled_list=[fill_for_plot(df,['delta_g1','delta_g2']) for df in ipix_sorted_filtered_grouped]"
   ]
  },
  {
   "cell_type": "code",
   "execution_count": null,
   "metadata": {},
   "outputs": [],
   "source": [
    "fig1,(ax1,ax2)=plt.subplots(ncols=2)\n",
    "\n",
    "plt.axes(ax1)\n",
    "hp.mollview(hp_filled_list[0]['delta_g1'].to_numpy(),nest=True,title=\"$\\delta g_1$ for riz /w MOF\",hold=True)\n",
    "hp.graticule()\n",
    "\n",
    "plt.axes(ax2)\n",
    "hp.mollview(hp_filled_list[1]['delta_g1'].to_numpy(),nest=True,title=\"$\\delta g_1$ for riz /wo MOF\",hold=True)\n",
    "hp.graticule()\n",
    "\n",
    "\n",
    "\n",
    "plt.title('HEALPix comparison')\n",
    "\n",
    "plt.savefig('/home/cz136/project/balrog/image/hp/sample_delta_g1.png',dpi=2048)\n",
    "plt.close()"
   ]
  },
  {
   "cell_type": "code",
   "execution_count": null,
   "metadata": {},
   "outputs": [],
   "source": [
    "fig, (ax1, ax2) = plt.subplots(ncols=2)\n",
    "\n",
    "plt.axes(ax1)\n",
    "hp.mollview(np.random.random(hp.nside2npix(32)), hold=True)\n",
    "\n",
    "plt.axes(ax2)\n",
    "hp.mollview(np.arange(hp.nside2npix(32)), hold=True)\n",
    "\n",
    "plt.close()"
   ]
  },
  {
   "cell_type": "markdown",
   "metadata": {},
   "source": [
    "# Compare maps"
   ]
  },
  {
   "cell_type": "code",
   "execution_count": null,
   "metadata": {},
   "outputs": [],
   "source": [
    "maps=h5py.File('/home/cz136/project/balrog/data/Y3_GOLD_2_2_1_maps.h5','r')['maps'] #no neighbor"
   ]
  },
  {
   "cell_type": "code",
   "execution_count": null,
   "metadata": {},
   "outputs": [],
   "source": [
    "gold=h5py.File('/home/cz136/project/balrog/data/Y3_GOLD_2_2_1_maps.h5','r')"
   ]
  },
  {
   "cell_type": "code",
   "execution_count": null,
   "metadata": {},
   "outputs": [],
   "source": [
    "list(gold.keys())"
   ]
  },
  {
   "cell_type": "code",
   "execution_count": null,
   "metadata": {},
   "outputs": [],
   "source": [
    "list(gold['maps'].keys())"
   ]
  },
  {
   "cell_type": "code",
   "execution_count": null,
   "metadata": {},
   "outputs": [],
   "source": [
    "# ['det_frac', Effective coverage fraction of each pixel(normalized to 1)\n",
    "#  'ebv_planck13', E(B-V)\n",
    "#  'g',\n",
    "#  'hpix',\n",
    "#  'i',\n",
    "#  'r',\n",
    "#  'star_density_piffv23', star density\n",
    "#  'z']"
   ]
  },
  {
   "cell_type": "code",
   "execution_count": null,
   "metadata": {},
   "outputs": [],
   "source": [
    "gold['maps']['det_frac'][:].max()"
   ]
  },
  {
   "cell_type": "code",
   "execution_count": null,
   "metadata": {},
   "outputs": [],
   "source": [
    "gold['maps']['det_frac'][:].max()"
   ]
  },
  {
   "cell_type": "code",
   "execution_count": null,
   "metadata": {},
   "outputs": [],
   "source": [
    "maps['g']['sigma_zp'][:][maps['g']['sigma_zp'][:]>0][0:50]"
   ]
  },
  {
   "cell_type": "code",
   "execution_count": null,
   "metadata": {},
   "outputs": [],
   "source": [
    "# ['airmass', airmass \n",
    "#  'fwhm', fwhm of psf\n",
    "#  'mof_depth', no of coadd images\n",
    "#  'sigma_zp', \n",
    "#  'sky_var',\n",
    "#  'teff_mean', \n",
    "#  'teff_sum']"
   ]
  },
  {
   "cell_type": "code",
   "execution_count": null,
   "metadata": {},
   "outputs": [],
   "source": [
    "list(maps['g'].keys())\n",
    "for key in maps['g'].keys():\n",
    "    print (key,len(maps['g'][key]))"
   ]
  },
  {
   "cell_type": "code",
   "execution_count": null,
   "metadata": {},
   "outputs": [],
   "source": [
    "for key in maps.keys():\n",
    "    print (\"{:20} has {} objects\".format(key,len(maps[key])))"
   ]
  },
  {
   "cell_type": "code",
   "execution_count": null,
   "metadata": {},
   "outputs": [],
   "source": [
    "ipix_maps={}\n",
    "GOLD_INDEX=np.arange(hp.nside2npix(4096))\n",
    "for key in ['ebv_planck13','star_density_piffv23','det_frac']:\n",
    "    hpix=np.full(hp.nside2npix(4096),np.nan)\n",
    "    hpix[maps['hpix']]=maps[key]\n",
    "    ipix_maps[key]=np.array(hpix)"
   ]
  },
  {
   "cell_type": "code",
   "execution_count": null,
   "metadata": {},
   "outputs": [],
   "source": [
    "gold_df=pd.DataFrame(data=ipix_maps,index=GOLD_INDEX)"
   ]
  },
  {
   "cell_type": "code",
   "execution_count": null,
   "metadata": {},
   "outputs": [],
   "source": [
    "gold_df[gold_df==hp.UNSEEN]=np.nan"
   ]
  },
  {
   "cell_type": "code",
   "execution_count": null,
   "metadata": {},
   "outputs": [],
   "source": [
    "band_columns=pd.MultiIndex.from_product([['g','r','i','z'],\n",
    "                                       ['airmass','fwhm','mof_depth','sigma_zp','sky_var','teff_mean','teff_sum']],\n",
    "                                     names=['band','data'])"
   ]
  },
  {
   "cell_type": "code",
   "execution_count": null,
   "metadata": {},
   "outputs": [],
   "source": [
    "gold_df_band=pd.DataFrame(index=G_INDEX,columns=band_columns) "
   ]
  },
  {
   "cell_type": "code",
   "execution_count": null,
   "metadata": {},
   "outputs": [],
   "source": [
    "def get_df_band():\n",
    "    band_maps={'g':{},'r':{},'i':{},'z':{}}\n",
    "    for band in ['g','r','i','z']:\n",
    "        for key in maps['r'].keys():\n",
    "            downgraded=[]\n",
    "            hpix=np.full(hp.nside2npix(4096),np.nan)\n",
    "            hpix[maps['hpix']]=maps[band][key]\n",
    "            print(hpix)\n",
    "            downgraded=hp.pixelfunc.ud_grade(hpix, NSIDE, order_in='NESTED', order_out='NESTED',pess=False)\n",
    "            print(key,downgraded)\n",
    "            band_maps[band][key]=downgraded\n",
    "            gold_df_band.loc[:,(band,key)]=downgraded\n",
    "    return (gold_df_band)"
   ]
  },
  {
   "cell_type": "code",
   "execution_count": null,
   "metadata": {},
   "outputs": [],
   "source": [
    "gold_df_band=get_df_band()"
   ]
  },
  {
   "cell_type": "code",
   "execution_count": null,
   "metadata": {},
   "outputs": [],
   "source": [
    "gold_df_band[gold_df_band==hp.UNSEEN]=np.nan"
   ]
  },
  {
   "cell_type": "code",
   "execution_count": null,
   "metadata": {},
   "outputs": [],
   "source": [
    "# gold_df_band={}\n",
    "# for band in ['g','r','i','z']:\n",
    "#     sub_df=pd.DataFrame()\n",
    "#     for key in maps['r'].keys():\n",
    "#         hpix=np.full(hp.nside2npix(4096),np.nan)\n",
    "#         hpix[maps['hpix']]=maps[band][key]\n",
    "#         downgraded_array=hp.pixelfunc.ud_grade(np.array(hpix), NSIDE, order_in='NESTED', order_out='NESTED',pess=True)\n",
    "#         sub_df.assign(key,downgraded_array)\n",
    "#     pd.concat(gold_df_band,axis=1)\n"
   ]
  },
  {
   "cell_type": "markdown",
   "metadata": {},
   "source": [
    "# Show star density map"
   ]
  },
  {
   "cell_type": "code",
   "execution_count": null,
   "metadata": {},
   "outputs": [],
   "source": [
    "fig=plt.figure()\n",
    "hp.mollview(gold_df['star_density_piffv23'].to_numpy(),nest=True,title=\"Star density of full DES footprint\")\n",
    "hp.graticule()\n",
    "plt.savefig('/home/cz136/project/balrog/image/hp/star_density.png',dpi=1024)\n",
    "plt.close()"
   ]
  },
  {
   "cell_type": "markdown",
   "metadata": {},
   "source": [
    "# Downgrade map"
   ]
  },
  {
   "cell_type": "code",
   "execution_count": null,
   "metadata": {},
   "outputs": [],
   "source": [
    "downgraded_maps={}\n",
    "for key,value in ipix_maps.items():\n",
    "    downgraded_maps[key]=hp.pixelfunc.ud_grade(value, NSIDE, order_in='NESTED', order_out='NESTED',pess=False)"
   ]
  },
  {
   "cell_type": "code",
   "execution_count": null,
   "metadata": {},
   "outputs": [],
   "source": [
    "gold_df_downgraded=pd.DataFrame(data=downgraded_maps,index=G_INDEX)"
   ]
  },
  {
   "cell_type": "code",
   "execution_count": null,
   "metadata": {},
   "outputs": [],
   "source": [
    "gold_df_all=pd.concat([gold_df_downgraded,gold_df_band],axis=1,join='inner')"
   ]
  },
  {
   "cell_type": "code",
   "execution_count": null,
   "metadata": {},
   "outputs": [],
   "source": [
    "gold_df_all[gold_df_all==hp.UNSEEN]=np.nan"
   ]
  },
  {
   "cell_type": "code",
   "execution_count": null,
   "metadata": {},
   "outputs": [],
   "source": [
    "gold_df_all.to_pickle('/home/cz136/project/balrog/data/gold_g/gold.pkl')"
   ]
  },
  {
   "cell_type": "code",
   "execution_count": null,
   "metadata": {},
   "outputs": [],
   "source": [
    "gold_join_delta_g_list=[None]*4\n",
    "for i,catalog in enumerate(ipix_sorted_filtered_grouped):\n",
    "        gold_join_delta_g_list[i]=pd.concat([catalog,gold_df_all],axis=1,join='inner')\n",
    "        gold_join_delta_g_list[i].index.name=\"ipix\""
   ]
  },
  {
   "cell_type": "code",
   "execution_count": null,
   "metadata": {},
   "outputs": [],
   "source": [
    "gng_filled_list=[fill_for_plot(df,['delta_g1','delta_g2']) for df in gold_join_delta_g_list]"
   ]
  },
  {
   "cell_type": "code",
   "execution_count": null,
   "metadata": {},
   "outputs": [],
   "source": [
    "gold_n_delta_g_list=[None]*4\n",
    "for i,df in enumerate(gng_filled_list):\n",
    "    gold_n_delta_g_list[i]=pd.concat([gold_df_all,df],axis=1)\n",
    "    gold_n_delta_g_list[i][gold_n_delta_g_list[1]==hp.UNSEEN]=np.nan"
   ]
  },
  {
   "cell_type": "code",
   "execution_count": null,
   "metadata": {},
   "outputs": [],
   "source": [
    "corr_list=[None]*4\n",
    "for i,df in enumerate(gold_n_delta_g_list):\n",
    "    print(len(df))\n",
    "    corr_list[i]=df.corr(method='pearson').loc[:,['delta_g1','delta_g2']]"
   ]
  },
  {
   "cell_type": "code",
   "execution_count": null,
   "metadata": {},
   "outputs": [],
   "source": [
    "gold_n_delta_g_list[1]"
   ]
  },
  {
   "cell_type": "markdown",
   "metadata": {},
   "source": [
    "# Correlations (only positive g)"
   ]
  },
  {
   "cell_type": "markdown",
   "metadata": {},
   "source": [
    "# mcal2: riz w MOF"
   ]
  },
  {
   "cell_type": "code",
   "execution_count": null,
   "metadata": {},
   "outputs": [],
   "source": [
    "corr_list[0].describe()"
   ]
  },
  {
   "cell_type": "code",
   "execution_count": null,
   "metadata": {},
   "outputs": [],
   "source": [
    "corr_list[0]"
   ]
  },
  {
   "cell_type": "markdown",
   "metadata": {},
   "source": [
    "# mcal3: riz wo MOF"
   ]
  },
  {
   "cell_type": "code",
   "execution_count": null,
   "metadata": {},
   "outputs": [],
   "source": [
    "corr_list[1].describe()"
   ]
  },
  {
   "cell_type": "code",
   "execution_count": null,
   "metadata": {},
   "outputs": [],
   "source": [
    "corr_list[1]"
   ]
  },
  {
   "cell_type": "markdown",
   "metadata": {},
   "source": [
    "# mcal4: griz w MOF"
   ]
  },
  {
   "cell_type": "code",
   "execution_count": null,
   "metadata": {},
   "outputs": [],
   "source": [
    "corr_list[2].describe()"
   ]
  },
  {
   "cell_type": "code",
   "execution_count": null,
   "metadata": {},
   "outputs": [],
   "source": [
    "corr_list[2]"
   ]
  },
  {
   "cell_type": "markdown",
   "metadata": {},
   "source": [
    "# mcal5: griz wo MOF"
   ]
  },
  {
   "cell_type": "code",
   "execution_count": null,
   "metadata": {},
   "outputs": [],
   "source": [
    "corr_list[3].describe()"
   ]
  },
  {
   "cell_type": "code",
   "execution_count": null,
   "metadata": {},
   "outputs": [],
   "source": [
    "corr_list[3]"
   ]
  },
  {
   "cell_type": "code",
   "execution_count": null,
   "metadata": {},
   "outputs": [],
   "source": [
    "# fig2,(ax1,ax2)=plt.subplots(ncols=2)\n",
    "\n",
    "# plt.axes(ax1)\n",
    "# hp.mollview(gng_filled_list[0]['delta_g1'].to_numpy(),nest=True,title=\"$\\delta g_1$ for riz /w MOF\",hold=True)\n",
    "# hp.graticule()\n",
    "\n",
    "# plt.axes(ax2)\n",
    "# hp.mollview(gng_filled_list[0]['star_density_piffv23'].to_numpy(),nest=True,\n",
    "#             title=\"Star density plotted on balrog pixels\",hold=True)\n",
    "# hp.graticule()\n",
    "\n",
    "# # plt.title(\"Comparing $\\delta g$ with other data\")\n",
    "\n",
    "# plt.savefig('/home/cz136/project/balrog/image/hp/compare.png',dpi=2048)\n",
    "# plt.close()"
   ]
  },
  {
   "cell_type": "code",
   "execution_count": null,
   "metadata": {},
   "outputs": [],
   "source": [
    "delta_g_and_g_filled_list=[fill_for_plot(df,['delta_g1','delta_g2','true_cm_g_1','true_cm_g_2','calculated_g_1','calculated_g_2','ra','dec','bal_id'])\n",
    "                           for df in gold_join_delta_g_list]"
   ]
  },
  {
   "cell_type": "code",
   "execution_count": null,
   "metadata": {},
   "outputs": [],
   "source": [
    "gold_delta_g_g_list=[None]*4\n",
    "for i,df in enumerate(delta_g_and_g_filled_list):\n",
    "    gold_delta_g_g_list[i]=pd.concat([gold_df_all,df],axis=1)"
   ]
  },
  {
   "cell_type": "code",
   "execution_count": null,
   "metadata": {},
   "outputs": [],
   "source": [
    "gold_delta_g_g_list[1].describe()"
   ]
  },
  {
   "cell_type": "code",
   "execution_count": null,
   "metadata": {},
   "outputs": [],
   "source": [
    "for i,df in enumerate(gold_delta_g_g_list):\n",
    "    path='/home/cz136/project/balrog/data/gold_g/mcal{}.pkl'.format(i+2)\n",
    "    df.to_pickle(path)"
   ]
  },
  {
   "cell_type": "code",
   "execution_count": null,
   "metadata": {},
   "outputs": [],
   "source": [
    "for i,df in enumerate(final_df_list)"
   ]
  },
  {
   "cell_type": "code",
   "execution_count": null,
   "metadata": {},
   "outputs": [],
   "source": []
  }
 ],
 "metadata": {
  "kernelspec": {
   "display_name": "Python 3",
   "language": "python",
   "name": "python3"
  },
  "language_info": {
   "codemirror_mode": {
    "name": "ipython",
    "version": 3
   },
   "file_extension": ".py",
   "mimetype": "text/x-python",
   "name": "python",
   "nbconvert_exporter": "python",
   "pygments_lexer": "ipython3",
   "version": "3.7.3"
  }
 },
 "nbformat": 4,
 "nbformat_minor": 2
}
