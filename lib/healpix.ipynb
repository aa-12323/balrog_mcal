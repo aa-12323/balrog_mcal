{
 "cells": [
  {
   "cell_type": "code",
   "execution_count": 1,
   "metadata": {},
   "outputs": [
    {
     "name": "stdout",
     "output_type": "stream",
     "text": [
      "['DataFrame', 'In', 'Math', 'Out', 'SIZE_RATIO_CUT', 'SNR_CUT', 'Series', 'T_CUT', 'Table', '_', '__', '___', '__builtin__', '__builtins__', '__doc__', '__loader__', '__name__', '__package__', '__spec__', '_dh', '_i', '_i1', '_ih', '_ii', '_iii', '_oh', 'bottleneck', 'display', 'exit', 'filter_by_snr', 'fits', 'get_df_list', 'get_ipython', 'h5py', 'i', 'index_2_3', 'index_2_3_true', 'index_2_3_true_negative', 'index_2_3_true_positive', 'index_4_5', 'index_4_5_true', 'index_4_5_true_negative', 'index_4_5_true_positive', 'load_mcal', 'load_true', 'mcal_df_list', 'mcal_df_list_negative', 'mcal_df_list_positive', 'np', 'numexpr', 'pd', 'photdf', 'plt', 'quit', 'tqdm', 'true_df_list']\n"
     ]
    }
   ],
   "source": [
    "%run load_data.ipynb\n",
    "print (dir())"
   ]
  },
  {
   "cell_type": "code",
   "execution_count": 2,
   "metadata": {},
   "outputs": [],
   "source": [
    "import healpy as hp\n",
    "import astropy_healpix as a_hp"
   ]
  },
  {
   "cell_type": "markdown",
   "metadata": {},
   "source": [
    "# Choose NSIDE"
   ]
  },
  {
   "cell_type": "code",
   "execution_count": 6,
   "metadata": {},
   "outputs": [
    {
     "name": "stdout",
     "output_type": "stream",
     "text": [
      "The number of pixels is: 786432.\n"
     ]
    }
   ],
   "source": [
    "NSIDE=256 #or 512\n",
    "NPIX=hp.nside2npix(NSIDE)\n",
    "print (\"The number of pixels is: {}.\".format(NPIX))\n",
    "ipix_index=np.arange(NPIX)"
   ]
  },
  {
   "cell_type": "code",
   "execution_count": 7,
   "metadata": {},
   "outputs": [],
   "source": [
    "final_df_list=[None]*4\n",
    "for i,catalog in enumerate(mcal_df_list_positive):\n",
    "    final_df_list[i]=pd.concat([catalog,photdf[['true_cm_g_1','true_cm_g_2']]],axis=1,join='inner')"
   ]
  },
  {
   "cell_type": "code",
   "execution_count": 71,
   "metadata": {},
   "outputs": [],
   "source": [
    "def get_healpix(df):\n",
    "    print (\"The length of the df is: {}.\".format(len(df)))\n",
    "    print (\"The ratio of the length of the catagory to the total pixel number is: {:.2%}\".format(len(df)/NPIX))\n",
    "    df['ipix']=df.apply(lambda x:hp.ang2pix(NSIDE,np.pi/2-np.deg2rad(x['dec']),np.deg2rad(x['ra'])),axis=1)\n",
    "    print(\"The propotion of rendered objects is: {:.2%}\".format(np.sum(df['ipix']!=0)/len(df)))\n",
    "    print (\"Resetting indexes\")\n",
    "    df_ipix=df.set_index('ipix')\n",
    "    df_ipix_sorted=df_ipix.sort_index()\n",
    "    return (df_ipix_sorted)\n",
    "\n",
    "def group_ipix(df_ipix_sorted):\n",
    "    number_mask=df_ipix_sorted.groupby('ipix').count()['R11']<10\n",
    "    df_sorted_grouped=df_ipix_sorted.groupby('ipix').mean()\n",
    "    df_sorted_grouped_masked=df_sorted_grouped[number_mask]\n",
    "    print (\"The mean of R11 is {}, max is {}, min is {}\".format(df_sorted_grouped_masked['R11'].mean(),df_sorted_grouped_masked['R11'].max(),df_sorted_grouped_masked['R11'].min()))\n",
    "    print (\"The mean of R22 is {}, max is {}, min is {}\".format(df_sorted_grouped_masked['R22'].mean(),df_sorted_grouped_masked['R22'].max(),df_sorted_grouped_masked['R22'].min()))\n",
    "    R11 = df_sorted_grouped_masked['R11'].mean()\n",
    "    R22 = df_sorted_grouped_masked['R22'].mean()\n",
    "    df_sorted_grouped_masked['delta_g1']=df_sorted_grouped_masked.apply(lambda x:x['e_1']/R11-x['true_cm_g_1'],axis=1)\n",
    "    df_sorted_grouped_masked['delta_g2']=df_sorted_grouped_masked.apply(lambda x:x['e_2']/R22-x['true_cm_g_2'],axis=1)\n",
    "    print (\"The propotion of averaged objects is: {:.2%}\".format((len(df)-len(df_sorted_grouped_masked))/len(df)))\n",
    "    print (\"---------------------------------\")\n",
    "    return (df_sorted_grouped_masked)"
   ]
  },
  {
   "cell_type": "code",
   "execution_count": 72,
   "metadata": {},
   "outputs": [
    {
     "name": "stdout",
     "output_type": "stream",
     "text": [
      "The length of the df is: 272818.\n",
      "The ratio of the length of the catagory to the total pixel number is: 34.69%\n",
      "The propotion of rendered objects is: 100.00%\n",
      "Resetting indexes\n",
      "The length of the df is: 272818.\n",
      "The ratio of the length of the catagory to the total pixel number is: 34.69%\n",
      "The propotion of rendered objects is: 100.00%\n",
      "Resetting indexes\n",
      "The length of the df is: 215145.\n",
      "The ratio of the length of the catagory to the total pixel number is: 27.36%\n",
      "The propotion of rendered objects is: 100.00%\n",
      "Resetting indexes\n",
      "The length of the df is: 215145.\n",
      "The ratio of the length of the catagory to the total pixel number is: 27.36%\n",
      "The propotion of rendered objects is: 100.00%\n",
      "Resetting indexes\n"
     ]
    }
   ],
   "source": [
    "ipix_sorted = [get_healpix(df) for df in final_df_list]"
   ]
  },
  {
   "cell_type": "code",
   "execution_count": 73,
   "metadata": {},
   "outputs": [
    {
     "name": "stdout",
     "output_type": "stream",
     "text": [
      "The mean of R11 is 0.7864483514262276, max is 13.67369349540634, min is -6.992034474310287\n",
      "The mean of R22 is 0.7855622549926764, max is 10.63652140008755, min is -12.231064460480107\n"
     ]
    },
    {
     "name": "stderr",
     "output_type": "stream",
     "text": [
      "/home/cz136/anaconda3/envs/balrog/lib/python3.7/site-packages/ipykernel_launcher.py:19: SettingWithCopyWarning: \n",
      "A value is trying to be set on a copy of a slice from a DataFrame.\n",
      "Try using .loc[row_indexer,col_indexer] = value instead\n",
      "\n",
      "See the caveats in the documentation: http://pandas.pydata.org/pandas-docs/stable/indexing.html#indexing-view-versus-copy\n",
      "/home/cz136/anaconda3/envs/balrog/lib/python3.7/site-packages/ipykernel_launcher.py:20: SettingWithCopyWarning: \n",
      "A value is trying to be set on a copy of a slice from a DataFrame.\n",
      "Try using .loc[row_indexer,col_indexer] = value instead\n",
      "\n",
      "See the caveats in the documentation: http://pandas.pydata.org/pandas-docs/stable/indexing.html#indexing-view-versus-copy\n"
     ]
    },
    {
     "name": "stdout",
     "output_type": "stream",
     "text": [
      "The propotion of averaged objects is: 97.78%\n",
      "---------------------------------\n",
      "The mean of R11 is 0.7750157162403232, max is 17.03993360179426, min is -6.842691657484415\n",
      "The mean of R22 is 0.7847042804545312, max is 21.176713510351416, min is -32.04549961794578\n",
      "The propotion of averaged objects is: 97.78%\n",
      "---------------------------------\n",
      "The mean of R11 is 0.7722151369321225, max is 7.48179347176924, min is -26.84834620190807\n",
      "The mean of R22 is 0.8103314375793471, max is 17.67501272412899, min is -10.426019279742748\n",
      "The propotion of averaged objects is: 97.37%\n",
      "---------------------------------\n",
      "The mean of R11 is 0.7722151369321225, max is 7.48179347176924, min is -26.84834620190807\n",
      "The mean of R22 is 0.8103314375793471, max is 17.67501272412899, min is -10.426019279742748\n",
      "The propotion of averaged objects is: 97.37%\n",
      "---------------------------------\n"
     ]
    }
   ],
   "source": [
    "ipix_sorted_filtered_grouped=[group_ipix(df) for df in ipix_sorted]"
   ]
  },
  {
   "cell_type": "code",
   "execution_count": 77,
   "metadata": {},
   "outputs": [],
   "source": [
    "def reduce_for_plot(df):\n",
    "    df_filled=df[['delta_g1','delta_g2']].reindex(index=ipix_index,fill_value=hp.pixelfunc.UNSEEN)\n",
    "    print(\"The propotion of filled pixels is: {}.\".format(np.sum(df_filled['delta_g1']>0)/NPIX))\n",
    "    return(df_filled)"
   ]
  },
  {
   "cell_type": "code",
   "execution_count": 78,
   "metadata": {},
   "outputs": [
    {
     "name": "stdout",
     "output_type": "stream",
     "text": [
      "The propotion of filled pixels is: 0.002887725830078125.\n",
      "The propotion of filled pixels is: 0.0029856363932291665.\n",
      "The propotion of filled pixels is: 0.003734588623046875.\n",
      "The propotion of filled pixels is: 0.003734588623046875.\n"
     ]
    }
   ],
   "source": [
    "hp_reduced_list=[reduce_for_plot(df) for df in ipix_sorted_filtered_grouped]"
   ]
  },
  {
   "cell_type": "raw",
   "metadata": {},
   "source": [
    "hp.mollzoom(hp_reduced_list[0]['delta_g1'].to_numpy())"
   ]
  }
 ],
 "metadata": {
  "kernelspec": {
   "display_name": "Python 3",
   "language": "python",
   "name": "python3"
  },
  "language_info": {
   "codemirror_mode": {
    "name": "ipython",
    "version": 3
   },
   "file_extension": ".py",
   "mimetype": "text/x-python",
   "name": "python",
   "nbconvert_exporter": "python",
   "pygments_lexer": "ipython3",
   "version": "3.7.3"
  }
 },
 "nbformat": 4,
 "nbformat_minor": 2
}
