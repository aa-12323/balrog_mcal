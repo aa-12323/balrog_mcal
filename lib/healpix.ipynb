{
 "cells": [
  {
   "cell_type": "code",
   "execution_count": 1,
   "metadata": {},
   "outputs": [
    {
     "name": "stdout",
     "output_type": "stream",
     "text": [
      "['DataFrame', 'In', 'Math', 'Out', 'SIZE_RATIO_CUT', 'SNR_CUT', 'Series', 'T_CUT', 'Table', '_', '__', '___', '__builtin__', '__builtins__', '__doc__', '__loader__', '__name__', '__package__', '__spec__', '_dh', '_i', '_i1', '_ih', '_ii', '_iii', '_oh', 'bottleneck', 'display', 'exit', 'filter_by_snr', 'fits', 'get_df_list', 'get_ipython', 'h5py', 'i', 'index_2_3', 'index_2_3_true', 'index_2_3_true_negative', 'index_2_3_true_positive', 'index_4_5', 'index_4_5_true', 'index_4_5_true_negative', 'index_4_5_true_positive', 'load_mcal', 'load_true', 'mcal_df_list', 'mcal_df_list_negative', 'mcal_df_list_positive', 'np', 'numexpr', 'pd', 'photdf', 'plt', 'quit', 'tqdm', 'true_df_list']\n"
     ]
    }
   ],
   "source": [
    "%run load_data.ipynb\n",
    "print (dir())"
   ]
  },
  {
   "cell_type": "code",
   "execution_count": 2,
   "metadata": {},
   "outputs": [],
   "source": [
    "import healpy as hp\n",
    "import astropy_healpix as a_hp"
   ]
  },
  {
   "cell_type": "markdown",
   "metadata": {},
   "source": [
    "# Choose NSIDE"
   ]
  },
  {
   "cell_type": "code",
   "execution_count": 6,
   "metadata": {},
   "outputs": [
    {
     "name": "stdout",
     "output_type": "stream",
     "text": [
      "The number of pixels is: 786432.\n"
     ]
    }
   ],
   "source": [
    "NSIDE=256 #or 512\n",
    "NPIX=hp.nside2npix(NSIDE)\n",
    "print (\"The number of pixels is: {}.\".format(NPIX))\n",
    "ipix_index=np.arange(NPIX)"
   ]
  },
  {
   "cell_type": "code",
   "execution_count": 7,
   "metadata": {},
   "outputs": [],
   "source": [
    "final_df_list=[None]*4\n",
    "for i,catalog in enumerate(mcal_df_list_positive):\n",
    "    final_df_list[i]=pd.concat([catalog,photdf[['true_cm_g_1','true_cm_g_2']]],axis=1,join='inner')"
   ]
  },
  {
   "cell_type": "code",
   "execution_count": 122,
   "metadata": {},
   "outputs": [],
   "source": [
    "def get_healpix(df):\n",
    "    print (\"The length of the df is: {}.\".format(len(df)))\n",
    "    print (\"The ratio of the length of the catagory to the total pixel number is: {:.2%}\".format(len(df)/NPIX))\n",
    "    df['ipix']=df.apply(lambda x:hp.ang2pix(NSIDE,np.pi/2-np.deg2rad(x['dec']),np.deg2rad(x['ra']),nest=True),axis=1)\n",
    "    print(\"The propotion of rendered objects is: {:.2%}\".format(np.sum(df['ipix']!=0)/len(df)))\n",
    "    print (\"Resetting indexes\")\n",
    "    df_ipix=df.set_index('ipix')\n",
    "    df_ipix_sorted=df_ipix.sort_index()\n",
    "    return (df_ipix_sorted)\n",
    "\n",
    "def group_ipix(df_ipix_sorted):\n",
    "    number_mask=df_ipix_sorted.groupby('ipix').count()['R11']<10\n",
    "    df_sorted_grouped=df_ipix_sorted.groupby('ipix').mean()\n",
    "    df_sorted_grouped_masked=df_sorted_grouped[number_mask]\n",
    "    print (\"The mean of R11 is {}, max is {}, min is {}\".format(df_sorted_grouped_masked['R11'].mean(),df_sorted_grouped_masked['R11'].max(),df_sorted_grouped_masked['R11'].min()))\n",
    "    print (\"The mean of R22 is {}, max is {}, min is {}\".format(df_sorted_grouped_masked['R22'].mean(),df_sorted_grouped_masked['R22'].max(),df_sorted_grouped_masked['R22'].min()))\n",
    "    R11 = df_sorted_grouped_masked['R11'].mean()\n",
    "    R22 = df_sorted_grouped_masked['R22'].mean()\n",
    "    df_sorted_grouped_masked['delta_g1']=df_sorted_grouped_masked.apply(lambda x:x['e_1']/R11-x['true_cm_g_1'],axis=1)\n",
    "    df_sorted_grouped_masked['delta_g2']=df_sorted_grouped_masked.apply(lambda x:x['e_2']/R22-x['true_cm_g_2'],axis=1)\n",
    "    print (\"The propotion of averaged objects is: {:.2%}\".format((len(df)-len(df_sorted_grouped_masked))/len(df)))\n",
    "    print (\"---------------------------------\")\n",
    "    return (df_sorted_grouped_masked)"
   ]
  },
  {
   "cell_type": "code",
   "execution_count": 123,
   "metadata": {},
   "outputs": [
    {
     "name": "stdout",
     "output_type": "stream",
     "text": [
      "The length of the df is: 272818.\n",
      "The ratio of the length of the catagory to the total pixel number is: 34.69%\n",
      "The propotion of rendered objects is: 100.00%\n",
      "Resetting indexes\n",
      "The length of the df is: 272818.\n",
      "The ratio of the length of the catagory to the total pixel number is: 34.69%\n",
      "The propotion of rendered objects is: 100.00%\n",
      "Resetting indexes\n",
      "The length of the df is: 215145.\n",
      "The ratio of the length of the catagory to the total pixel number is: 27.36%\n",
      "The propotion of rendered objects is: 100.00%\n",
      "Resetting indexes\n",
      "The length of the df is: 215145.\n",
      "The ratio of the length of the catagory to the total pixel number is: 27.36%\n",
      "The propotion of rendered objects is: 100.00%\n",
      "Resetting indexes\n"
     ]
    }
   ],
   "source": [
    "ipix_sorted = [get_healpix(df) for df in final_df_list]"
   ]
  },
  {
   "cell_type": "code",
   "execution_count": 124,
   "metadata": {},
   "outputs": [
    {
     "name": "stdout",
     "output_type": "stream",
     "text": [
      "The mean of R11 is 0.78644835142623, max is 13.67369349540634, min is -6.992034474310287\n",
      "The mean of R22 is 0.7855622549926757, max is 10.63652140008755, min is -12.231064460480107\n"
     ]
    },
    {
     "name": "stderr",
     "output_type": "stream",
     "text": [
      "/home/cz136/anaconda3/envs/balrog/lib/python3.7/site-packages/ipykernel_launcher.py:19: SettingWithCopyWarning: \n",
      "A value is trying to be set on a copy of a slice from a DataFrame.\n",
      "Try using .loc[row_indexer,col_indexer] = value instead\n",
      "\n",
      "See the caveats in the documentation: http://pandas.pydata.org/pandas-docs/stable/indexing.html#indexing-view-versus-copy\n",
      "/home/cz136/anaconda3/envs/balrog/lib/python3.7/site-packages/ipykernel_launcher.py:20: SettingWithCopyWarning: \n",
      "A value is trying to be set on a copy of a slice from a DataFrame.\n",
      "Try using .loc[row_indexer,col_indexer] = value instead\n",
      "\n",
      "See the caveats in the documentation: http://pandas.pydata.org/pandas-docs/stable/indexing.html#indexing-view-versus-copy\n"
     ]
    },
    {
     "name": "stdout",
     "output_type": "stream",
     "text": [
      "The propotion of averaged objects is: 97.78%\n",
      "---------------------------------\n",
      "The mean of R11 is 0.7750157162403251, max is 17.03993360179426, min is -6.842691657484413\n",
      "The mean of R22 is 0.7847042804545312, max is 21.176713510351416, min is -32.04549961794578\n",
      "The propotion of averaged objects is: 97.78%\n",
      "---------------------------------\n",
      "The mean of R11 is 0.7722151369321218, max is 7.48179347176924, min is -26.84834620190807\n",
      "The mean of R22 is 0.81033143757935, max is 17.67501272412899, min is -10.426019279742748\n",
      "The propotion of averaged objects is: 97.37%\n",
      "---------------------------------\n",
      "The mean of R11 is 0.7722151369321218, max is 7.48179347176924, min is -26.84834620190807\n",
      "The mean of R22 is 0.81033143757935, max is 17.67501272412899, min is -10.426019279742748\n",
      "The propotion of averaged objects is: 97.37%\n",
      "---------------------------------\n"
     ]
    }
   ],
   "source": [
    "ipix_sorted_filtered_grouped=[group_ipix(df) for df in ipix_sorted]"
   ]
  },
  {
   "cell_type": "code",
   "execution_count": 125,
   "metadata": {},
   "outputs": [],
   "source": [
    "def reduce_for_plot(df):\n",
    "    df_filled=df[['delta_g1','delta_g2']].reindex(index=ipix_index,fill_value=hp.pixelfunc.UNSEEN)\n",
    "    print(\"The propotion of filled pixels is: {}.\".format(np.sum(df_filled['delta_g1']>0)/NPIX))\n",
    "    return(df_filled)"
   ]
  },
  {
   "cell_type": "code",
   "execution_count": 126,
   "metadata": {},
   "outputs": [
    {
     "name": "stdout",
     "output_type": "stream",
     "text": [
      "The propotion of filled pixels is: 0.002887725830078125.\n",
      "The propotion of filled pixels is: 0.0029856363932291665.\n",
      "The propotion of filled pixels is: 0.003734588623046875.\n",
      "The propotion of filled pixels is: 0.003734588623046875.\n"
     ]
    }
   ],
   "source": [
    "hp_reduced_list=[reduce_for_plot(df) for df in ipix_sorted_filtered_grouped]"
   ]
  },
  {
   "cell_type": "raw",
   "metadata": {},
   "source": [
    "hp.mollzoom(hp_reduced_list[0]['delta_g1'].to_numpy())"
   ]
  },
  {
   "cell_type": "markdown",
   "metadata": {},
   "source": [
    "# Compare maps"
   ]
  },
  {
   "cell_type": "code",
   "execution_count": 97,
   "metadata": {},
   "outputs": [],
   "source": [
    "maps=h5py.File('/home/cz136/Y3_GOLD_2_2_1_maps.h5','r')['maps'] #no neighbor"
   ]
  },
  {
   "cell_type": "code",
   "execution_count": 108,
   "metadata": {},
   "outputs": [
    {
     "data": {
      "text/plain": [
       "['det_frac',\n",
       " 'ebv_planck13',\n",
       " 'g',\n",
       " 'hpix',\n",
       " 'i',\n",
       " 'r',\n",
       " 'star_density_piffv23',\n",
       " 'z']"
      ]
     },
     "execution_count": 108,
     "metadata": {},
     "output_type": "execute_result"
    }
   ],
   "source": [
    "list(maps.keys())"
   ]
  },
  {
   "cell_type": "code",
   "execution_count": 153,
   "metadata": {},
   "outputs": [
    {
     "data": {
      "text/plain": [
       "<HDF5 dataset \"det_frac\": shape (25169981,), type \"<f8\">"
      ]
     },
     "execution_count": 153,
     "metadata": {},
     "output_type": "execute_result"
    }
   ],
   "source": [
    "maps['det_frac']"
   ]
  },
  {
   "cell_type": "code",
   "execution_count": 129,
   "metadata": {},
   "outputs": [
    {
     "name": "stdout",
     "output_type": "stream",
     "text": [
      "det_frac 25169981\n",
      "ebv_planck13 25169981\n",
      "g 7\n",
      "hpix 25169981\n",
      "i 7\n",
      "r 7\n",
      "star_density_piffv23 25169981\n",
      "z 7\n"
     ]
    }
   ],
   "source": [
    "maps_ipix_dict={}\n",
    "for key in maps.keys():\n",
    "    print (key, len(maps[key]))\n",
    "    if len(maps[key])>10:\n",
    "        maps_ipix_dict[key]=np.array(maps[key])"
   ]
  },
  {
   "cell_type": "code",
   "execution_count": 130,
   "metadata": {},
   "outputs": [
    {
     "data": {
      "text/plain": [
       "{'det_frac': array([1.000e+00, 8.750e-01, 1.000e+00, ..., 9.375e-02, 8.125e-01,\n",
       "        6.250e-02]),\n",
       " 'ebv_planck13': array([1.074e-01, 1.094e-01, 1.040e-01, ..., 7.002e-02, 7.014e-02,\n",
       "        7.014e-02]),\n",
       " 'hpix': array([0.000e+00, 1.000e+00, 2.000e+00, ..., 2.013e+08, 2.013e+08,\n",
       "        2.013e+08]),\n",
       " 'star_density_piffv23': array([5.000e+00, -1.637e+30, -1.637e+30, ..., 6.000e+00, 9.000e+00,\n",
       "        -1.637e+30])}"
      ]
     },
     "execution_count": 130,
     "metadata": {},
     "output_type": "execute_result"
    }
   ],
   "source": [
    "maps_ipix_dict"
   ]
  },
  {
   "cell_type": "code",
   "execution_count": 137,
   "metadata": {},
   "outputs": [
    {
     "ename": "TypeError",
     "evalue": "bad number of pixels",
     "output_type": "error",
     "traceback": [
      "\u001b[0;31m---------------------------------------------------------------------------\u001b[0m",
      "\u001b[0;31mTypeError\u001b[0m                                 Traceback (most recent call last)",
      "\u001b[0;32m<ipython-input-137-8c6623880e53>\u001b[0m in \u001b[0;36m<module>\u001b[0;34m\u001b[0m\n\u001b[1;32m      1\u001b[0m \u001b[0mdowngraded_maps\u001b[0m\u001b[0;34m=\u001b[0m\u001b[0;34m{\u001b[0m\u001b[0;34m}\u001b[0m\u001b[0;34m\u001b[0m\u001b[0;34m\u001b[0m\u001b[0m\n\u001b[1;32m      2\u001b[0m \u001b[0;32mfor\u001b[0m \u001b[0mkey\u001b[0m\u001b[0;34m,\u001b[0m\u001b[0mvalue\u001b[0m \u001b[0;32min\u001b[0m \u001b[0mmaps_ipix_dict\u001b[0m\u001b[0;34m.\u001b[0m\u001b[0mitems\u001b[0m\u001b[0;34m(\u001b[0m\u001b[0;34m)\u001b[0m\u001b[0;34m:\u001b[0m\u001b[0;34m\u001b[0m\u001b[0;34m\u001b[0m\u001b[0m\n\u001b[0;32m----> 3\u001b[0;31m     \u001b[0mdowngraded_maps\u001b[0m\u001b[0;34m[\u001b[0m\u001b[0mkey\u001b[0m\u001b[0;34m]\u001b[0m\u001b[0;34m=\u001b[0m\u001b[0mhp\u001b[0m\u001b[0;34m.\u001b[0m\u001b[0mpixelfunc\u001b[0m\u001b[0;34m.\u001b[0m\u001b[0mud_grade\u001b[0m\u001b[0;34m(\u001b[0m\u001b[0mvalue\u001b[0m\u001b[0;34m,\u001b[0m \u001b[0mNSIDE\u001b[0m\u001b[0;34m,\u001b[0m \u001b[0morder_in\u001b[0m\u001b[0;34m=\u001b[0m\u001b[0;34m'NEST'\u001b[0m\u001b[0;34m,\u001b[0m \u001b[0morder_out\u001b[0m\u001b[0;34m=\u001b[0m\u001b[0;34m'NEST'\u001b[0m\u001b[0;34m)\u001b[0m\u001b[0;34m\u001b[0m\u001b[0;34m\u001b[0m\u001b[0m\n\u001b[0m",
      "\u001b[0;32m~/anaconda3/envs/balrog/lib/python3.7/site-packages/healpy/pixelfunc.py\u001b[0m in \u001b[0;36mwrapper\u001b[0;34m(map_in, *args, **kwds)\u001b[0m\n\u001b[1;32m    301\u001b[0m         \u001b[0mreturn_ma\u001b[0m \u001b[0;34m=\u001b[0m \u001b[0mis_ma\u001b[0m\u001b[0;34m(\u001b[0m\u001b[0mmap_in\u001b[0m\u001b[0;34m)\u001b[0m\u001b[0;34m\u001b[0m\u001b[0;34m\u001b[0m\u001b[0m\n\u001b[1;32m    302\u001b[0m         \u001b[0mm\u001b[0m \u001b[0;34m=\u001b[0m \u001b[0mma_to_array\u001b[0m\u001b[0;34m(\u001b[0m\u001b[0mmap_in\u001b[0m\u001b[0;34m)\u001b[0m\u001b[0;34m\u001b[0m\u001b[0;34m\u001b[0m\u001b[0m\n\u001b[0;32m--> 303\u001b[0;31m         \u001b[0mout\u001b[0m \u001b[0;34m=\u001b[0m \u001b[0mf\u001b[0m\u001b[0;34m(\u001b[0m\u001b[0mm\u001b[0m\u001b[0;34m,\u001b[0m \u001b[0;34m*\u001b[0m\u001b[0margs\u001b[0m\u001b[0;34m,\u001b[0m \u001b[0;34m**\u001b[0m\u001b[0mkwds\u001b[0m\u001b[0;34m)\u001b[0m\u001b[0;34m\u001b[0m\u001b[0;34m\u001b[0m\u001b[0m\n\u001b[0m\u001b[1;32m    304\u001b[0m         \u001b[0;32mreturn\u001b[0m \u001b[0mma\u001b[0m\u001b[0;34m(\u001b[0m\u001b[0mout\u001b[0m\u001b[0;34m)\u001b[0m \u001b[0;32mif\u001b[0m \u001b[0mreturn_ma\u001b[0m \u001b[0;32melse\u001b[0m \u001b[0mout\u001b[0m\u001b[0;34m\u001b[0m\u001b[0;34m\u001b[0m\u001b[0m\n\u001b[1;32m    305\u001b[0m \u001b[0;34m\u001b[0m\u001b[0m\n",
      "\u001b[0;32m~/anaconda3/envs/balrog/lib/python3.7/site-packages/healpy/pixelfunc.py\u001b[0m in \u001b[0;36mud_grade\u001b[0;34m(map_in, nside_out, pess, order_in, order_out, power, dtype)\u001b[0m\n\u001b[1;32m   1858\u001b[0m     \"\"\"\n\u001b[1;32m   1859\u001b[0m     \u001b[0mcheck_nside\u001b[0m\u001b[0;34m(\u001b[0m\u001b[0mnside_out\u001b[0m\u001b[0;34m,\u001b[0m \u001b[0mnest\u001b[0m\u001b[0;34m=\u001b[0m\u001b[0morder_in\u001b[0m \u001b[0;34m!=\u001b[0m \u001b[0;34m\"RING\"\u001b[0m\u001b[0;34m)\u001b[0m\u001b[0;34m\u001b[0m\u001b[0;34m\u001b[0m\u001b[0m\n\u001b[0;32m-> 1860\u001b[0;31m     \u001b[0mtyp\u001b[0m \u001b[0;34m=\u001b[0m \u001b[0mmaptype\u001b[0m\u001b[0;34m(\u001b[0m\u001b[0mmap_in\u001b[0m\u001b[0;34m)\u001b[0m\u001b[0;34m\u001b[0m\u001b[0;34m\u001b[0m\u001b[0m\n\u001b[0m\u001b[1;32m   1861\u001b[0m     \u001b[0;32mif\u001b[0m \u001b[0mtyp\u001b[0m \u001b[0;34m<\u001b[0m \u001b[0;36m0\u001b[0m\u001b[0;34m:\u001b[0m\u001b[0;34m\u001b[0m\u001b[0;34m\u001b[0m\u001b[0m\n\u001b[1;32m   1862\u001b[0m         \u001b[0;32mraise\u001b[0m \u001b[0mTypeError\u001b[0m\u001b[0;34m(\u001b[0m\u001b[0;34m\"Invalid map\"\u001b[0m\u001b[0;34m)\u001b[0m\u001b[0;34m\u001b[0m\u001b[0;34m\u001b[0m\u001b[0m\n",
      "\u001b[0;32m~/anaconda3/envs/balrog/lib/python3.7/site-packages/healpy/pixelfunc.py\u001b[0m in \u001b[0;36mmaptype\u001b[0;34m(m)\u001b[0m\n\u001b[1;32m    240\u001b[0m             \u001b[0;32mreturn\u001b[0m \u001b[0;36m0\u001b[0m\u001b[0;34m\u001b[0m\u001b[0;34m\u001b[0m\u001b[0m\n\u001b[1;32m    241\u001b[0m         \u001b[0;32melse\u001b[0m\u001b[0;34m:\u001b[0m\u001b[0;34m\u001b[0m\u001b[0;34m\u001b[0m\u001b[0m\n\u001b[0;32m--> 242\u001b[0;31m             \u001b[0;32mraise\u001b[0m \u001b[0mTypeError\u001b[0m\u001b[0;34m(\u001b[0m\u001b[0;34m\"bad number of pixels\"\u001b[0m\u001b[0;34m)\u001b[0m\u001b[0;34m\u001b[0m\u001b[0;34m\u001b[0m\u001b[0m\n\u001b[0m\u001b[1;32m    243\u001b[0m \u001b[0;34m\u001b[0m\u001b[0m\n\u001b[1;32m    244\u001b[0m \u001b[0;34m\u001b[0m\u001b[0m\n",
      "\u001b[0;31mTypeError\u001b[0m: bad number of pixels"
     ]
    }
   ],
   "source": [
    "downgraded_maps={}\n",
    "for key,value in maps_ipix_dict.items():\n",
    "    downgraded_maps[key]=hp.pixelfunc.ud_grade(value, NSIDE, order_in='NEST', order_out='NEST')"
   ]
  },
  {
   "cell_type": "code",
   "execution_count": null,
   "metadata": {},
   "outputs": [],
   "source": []
  }
 ],
 "metadata": {
  "kernelspec": {
   "display_name": "Python 3",
   "language": "python",
   "name": "python3"
  },
  "language_info": {
   "codemirror_mode": {
    "name": "ipython",
    "version": 3
   },
   "file_extension": ".py",
   "mimetype": "text/x-python",
   "name": "python",
   "nbconvert_exporter": "python",
   "pygments_lexer": "ipython3",
   "version": "3.7.3"
  }
 },
 "nbformat": 4,
 "nbformat_minor": 2
}
