{
 "cells": [
  {
   "cell_type": "markdown",
   "metadata": {},
   "source": [
    "# Load and import"
   ]
  },
  {
   "cell_type": "code",
   "execution_count": 1,
   "metadata": {},
   "outputs": [
    {
     "name": "stdout",
     "output_type": "stream",
     "text": [
      "{0: 3356849, 1: 47, 2: 159, 4: 885653, 67108864: 93686, 134217728: 28959}\n",
      "{0: 4290039, 1: 45, 2: 349, 4: 1627, 67108864: 16092, 134217728: 29906}\n",
      "0\n",
      "1\n",
      "10\n",
      "100\n",
      "100000000000000000000000000\n",
      "1000000000000000000000000000\n"
     ]
    },
    {
     "ename": "KeyboardInterrupt",
     "evalue": "",
     "output_type": "error",
     "traceback": [
      "\u001b[0;31m---------------------------------------------------------------------------\u001b[0m",
      "\u001b[0;31mKeyboardInterrupt\u001b[0m                         Traceback (most recent call last)",
      "\u001b[0;32m~/project/balrog/lib/load_data.ipynb\u001b[0m in \u001b[0;36m<module>\u001b[0;34m\u001b[0m\n\u001b[0;32m----> 1\u001b[0;31m \u001b[0mphotdf\u001b[0m\u001b[0;34m=\u001b[0m\u001b[0mload_true\u001b[0m\u001b[0;34m(\u001b[0m\u001b[0;34m)\u001b[0m\u001b[0;34m\u001b[0m\u001b[0;34m\u001b[0m\u001b[0m\n\u001b[0m",
      "\u001b[0;32m~/project/balrog/lib/load_data.ipynb\u001b[0m in \u001b[0;36mload_true\u001b[0;34m()\u001b[0m\n\u001b[1;32m      9\u001b[0m     \u001b[0;31m#load true catalogs in pandas\u001b[0m\u001b[0;34m\u001b[0m\u001b[0;34m\u001b[0m\u001b[0;34m\u001b[0m\u001b[0m\n\u001b[1;32m     10\u001b[0m     \u001b[0;31m# detectp_table=Table.read('/lsst/troxel/balrog/balrog_detection_catalog-v1.2.fits').to_pandas()\u001b[0m\u001b[0;34m\u001b[0m\u001b[0;34m\u001b[0m\u001b[0;34m\u001b[0m\u001b[0m\n\u001b[0;32m---> 11\u001b[0;31m     \u001b[0mphotdf\u001b[0m\u001b[0;34m=\u001b[0m\u001b[0mTable\u001b[0m\u001b[0;34m.\u001b[0m\u001b[0mread\u001b[0m\u001b[0;34m(\u001b[0m\u001b[0;34m'/lsst/troxel/balrog/balrog_matched_catalog_flatten.fits'\u001b[0m\u001b[0;34m)\u001b[0m\u001b[0;34m.\u001b[0m\u001b[0mto_pandas\u001b[0m\u001b[0;34m(\u001b[0m\u001b[0;34m)\u001b[0m\u001b[0;34m\u001b[0m\u001b[0;34m\u001b[0m\u001b[0m\n\u001b[0m\u001b[1;32m     12\u001b[0m     \u001b[0mid_balrogdf\u001b[0m \u001b[0;34m=\u001b[0m \u001b[0mTable\u001b[0m\u001b[0;34m.\u001b[0m\u001b[0mread\u001b[0m\u001b[0;34m(\u001b[0m\u001b[0;34m'/lsst/troxel/balrog/balrog_mcal_bal_ids_v1.2.fits'\u001b[0m\u001b[0;34m)\u001b[0m\u001b[0;34m.\u001b[0m\u001b[0mto_pandas\u001b[0m\u001b[0;34m(\u001b[0m\u001b[0;34m)\u001b[0m\u001b[0;34m\u001b[0m\u001b[0;34m\u001b[0m\u001b[0m\n\u001b[1;32m     13\u001b[0m \u001b[0;34m\u001b[0m\u001b[0m\n",
      "\u001b[0;32m~/anaconda3/envs/balrog/lib/python3.7/site-packages/astropy/table/table.py\u001b[0m in \u001b[0;36mto_pandas\u001b[0;34m(self, index)\u001b[0m\n\u001b[1;32m   2939\u001b[0m \u001b[0;34m\u001b[0m\u001b[0m\n\u001b[1;32m   2940\u001b[0m             \u001b[0;32mif\u001b[0m \u001b[0mout\u001b[0m\u001b[0;34m[\u001b[0m\u001b[0mname\u001b[0m\u001b[0;34m]\u001b[0m\u001b[0;34m.\u001b[0m\u001b[0mdtype\u001b[0m\u001b[0;34m.\u001b[0m\u001b[0mbyteorder\u001b[0m \u001b[0;32mnot\u001b[0m \u001b[0;32min\u001b[0m \u001b[0;34m(\u001b[0m\u001b[0;34m'='\u001b[0m\u001b[0;34m,\u001b[0m \u001b[0;34m'|'\u001b[0m\u001b[0;34m)\u001b[0m\u001b[0;34m:\u001b[0m\u001b[0;34m\u001b[0m\u001b[0;34m\u001b[0m\u001b[0m\n\u001b[0;32m-> 2941\u001b[0;31m                 \u001b[0mout\u001b[0m\u001b[0;34m[\u001b[0m\u001b[0mname\u001b[0m\u001b[0;34m]\u001b[0m \u001b[0;34m=\u001b[0m \u001b[0mout\u001b[0m\u001b[0;34m[\u001b[0m\u001b[0mname\u001b[0m\u001b[0;34m]\u001b[0m\u001b[0;34m.\u001b[0m\u001b[0mbyteswap\u001b[0m\u001b[0;34m(\u001b[0m\u001b[0;34m)\u001b[0m\u001b[0;34m.\u001b[0m\u001b[0mnewbyteorder\u001b[0m\u001b[0;34m(\u001b[0m\u001b[0;34m)\u001b[0m\u001b[0;34m\u001b[0m\u001b[0;34m\u001b[0m\u001b[0m\n\u001b[0m\u001b[1;32m   2942\u001b[0m \u001b[0;34m\u001b[0m\u001b[0m\n\u001b[1;32m   2943\u001b[0m         \u001b[0mkwargs\u001b[0m \u001b[0;34m=\u001b[0m \u001b[0;34m{\u001b[0m\u001b[0;34m'index'\u001b[0m\u001b[0;34m:\u001b[0m \u001b[0mout\u001b[0m\u001b[0;34m.\u001b[0m\u001b[0mpop\u001b[0m\u001b[0;34m(\u001b[0m\u001b[0mindex\u001b[0m\u001b[0;34m)\u001b[0m\u001b[0;34m}\u001b[0m \u001b[0;32mif\u001b[0m \u001b[0mindex\u001b[0m \u001b[0;32melse\u001b[0m \u001b[0;34m{\u001b[0m\u001b[0;34m}\u001b[0m\u001b[0;34m\u001b[0m\u001b[0;34m\u001b[0m\u001b[0m\n",
      "\u001b[0;31mKeyboardInterrupt\u001b[0m: "
     ]
    },
    {
     "name": "stdout",
     "output_type": "stream",
     "text": [
      "['DataFrame', 'In', 'Math', 'Out', 'Series', 'Table', '_', '__', '___', '__builtin__', '__builtins__', '__doc__', '__loader__', '__name__', '__package__', '__spec__', '_dh', '_i', '_i1', '_ih', '_ii', '_iii', '_oh', 'bottleneck', 'display', 'exit', 'fits', 'get_df_list', 'get_flag_counts', 'get_ipython', 'h5py', 'load_mcal', 'load_true', 'mcal2', 'mcal3', 'mcal4', 'mcal5', 'np', 'number', 'numexpr', 'pd', 'plt', 'quit', 'tqdm']\n"
     ]
    }
   ],
   "source": [
    "%run load_data.ipynb\n",
    "print (dir())"
   ]
  },
  {
   "cell_type": "markdown",
   "metadata": {},
   "source": [
    "### read gold dfs (gold maps and delta_g)"
   ]
  },
  {
   "cell_type": "code",
   "execution_count": 2,
   "metadata": {},
   "outputs": [],
   "source": [
    "g_gold_list_positive=[None]*4\n",
    "for i in range(4):\n",
    "    path='/home/cz136/project/balrog/data/gold_g/mcal{}.pkl'.format(i+2)\n",
    "    g_gold_list_positive[i]=pd.read_pickle(path)"
   ]
  },
  {
   "cell_type": "markdown",
   "metadata": {},
   "source": [
    "### read gold maps"
   ]
  },
  {
   "cell_type": "code",
   "execution_count": 3,
   "metadata": {},
   "outputs": [],
   "source": [
    "gold_all=pd.read_pickle('/home/cz136/project/balrog/data/gold_g/gold.pkl')"
   ]
  },
  {
   "cell_type": "code",
   "execution_count": 4,
   "metadata": {},
   "outputs": [],
   "source": [
    "import treecorr\n",
    "import numpy as np\n",
    "import pandas as pd\n",
    "import healpy as hp\n",
    "from tqdm import tqdm\n",
    "\n",
    "pd.set_option('display.float_format', lambda x: '%.3e' % x)\n",
    "np.set_printoptions(formatter={'all':lambda x: '%.3e'% x})"
   ]
  },
  {
   "cell_type": "markdown",
   "metadata": {},
   "source": [
    "# Constants"
   ]
  },
  {
   "cell_type": "code",
   "execution_count": 5,
   "metadata": {},
   "outputs": [
    {
     "name": "stdout",
     "output_type": "stream",
     "text": [
      "The number of pixels is: 786432.\n"
     ]
    }
   ],
   "source": [
    "NSIDE=256 #or 512\n",
    "NPIX=hp.nside2npix(NSIDE)\n",
    "print (\"The number of pixels is: {}.\".format(NPIX))\n",
    "G_INDEX=np.arange(NPIX)"
   ]
  },
  {
   "cell_type": "markdown",
   "metadata": {},
   "source": [
    "# data manipulating"
   ]
  },
  {
   "cell_type": "markdown",
   "metadata": {},
   "source": [
    "### get an df with nan rows dropped"
   ]
  },
  {
   "cell_type": "code",
   "execution_count": 6,
   "metadata": {},
   "outputs": [],
   "source": [
    "gold_all_not_null=gold_all[gold_all['ebv_planck13'].notnull()]\n",
    "# g_gold_list_negative_not_null=[df[df['ebv_planck13'].notnull()] for df in g_gold_list_negative]"
   ]
  },
  {
   "cell_type": "code",
   "execution_count": 7,
   "metadata": {},
   "outputs": [],
   "source": [
    "gold_columns=list(gold_all_not_null.columns)[:-8]"
   ]
  },
  {
   "cell_type": "code",
   "execution_count": 8,
   "metadata": {},
   "outputs": [
    {
     "ename": "NameError",
     "evalue": "name 'mcal_df_list_positive' is not defined",
     "output_type": "error",
     "traceback": [
      "\u001b[0;31m---------------------------------------------------------------------------\u001b[0m",
      "\u001b[0;31mNameError\u001b[0m                                 Traceback (most recent call last)",
      "\u001b[0;32m<ipython-input-8-056936f5ea77>\u001b[0m in \u001b[0;36m<module>\u001b[0;34m\u001b[0m\n\u001b[1;32m      1\u001b[0m \u001b[0mfinal_df_positive_list\u001b[0m\u001b[0;34m=\u001b[0m\u001b[0;34m[\u001b[0m\u001b[0;32mNone\u001b[0m\u001b[0;34m]\u001b[0m\u001b[0;34m*\u001b[0m\u001b[0;36m4\u001b[0m\u001b[0;34m\u001b[0m\u001b[0;34m\u001b[0m\u001b[0m\n\u001b[0;32m----> 2\u001b[0;31m \u001b[0;32mfor\u001b[0m \u001b[0mi\u001b[0m\u001b[0;34m,\u001b[0m\u001b[0mcatalog\u001b[0m \u001b[0;32min\u001b[0m \u001b[0menumerate\u001b[0m\u001b[0;34m(\u001b[0m\u001b[0mmcal_df_list_positive\u001b[0m\u001b[0;34m)\u001b[0m\u001b[0;34m:\u001b[0m\u001b[0;34m\u001b[0m\u001b[0;34m\u001b[0m\u001b[0m\n\u001b[0m\u001b[1;32m      3\u001b[0m     \u001b[0mfinal_df_positive_list\u001b[0m\u001b[0;34m[\u001b[0m\u001b[0mi\u001b[0m\u001b[0;34m]\u001b[0m\u001b[0;34m=\u001b[0m\u001b[0mpd\u001b[0m\u001b[0;34m.\u001b[0m\u001b[0mconcat\u001b[0m\u001b[0;34m(\u001b[0m\u001b[0;34m[\u001b[0m\u001b[0mcatalog\u001b[0m\u001b[0;34m,\u001b[0m\u001b[0mphotdf\u001b[0m\u001b[0;34m[\u001b[0m\u001b[0;34m[\u001b[0m\u001b[0;34m'true_cm_g_1'\u001b[0m\u001b[0;34m,\u001b[0m\u001b[0;34m'true_cm_g_2'\u001b[0m\u001b[0;34m]\u001b[0m\u001b[0;34m]\u001b[0m\u001b[0;34m]\u001b[0m\u001b[0;34m,\u001b[0m\u001b[0maxis\u001b[0m\u001b[0;34m=\u001b[0m\u001b[0;36m1\u001b[0m\u001b[0;34m,\u001b[0m\u001b[0mjoin\u001b[0m\u001b[0;34m=\u001b[0m\u001b[0;34m'inner'\u001b[0m\u001b[0;34m)\u001b[0m\u001b[0;34m\u001b[0m\u001b[0;34m\u001b[0m\u001b[0m\n",
      "\u001b[0;31mNameError\u001b[0m: name 'mcal_df_list_positive' is not defined"
     ]
    }
   ],
   "source": [
    "final_df_positive_list=[None]*4\n",
    "for i,catalog in enumerate(mcal_df_list_positive):\n",
    "    final_df_positive_list[i]=pd.concat([catalog,photdf[['true_cm_g_1','true_cm_g_2']]],axis=1,join='inner')"
   ]
  },
  {
   "cell_type": "code",
   "execution_count": null,
   "metadata": {},
   "outputs": [],
   "source": [
    "final_df_negative_list=[None]*4\n",
    "for i,catalog in enumerate(mcal_df_list_negative):\n",
    "    final_df_negative_list[i]=pd.concat([catalog,photdf[['true_cm_g_1','true_cm_g_2']]],axis=1,join='inner')"
   ]
  },
  {
   "cell_type": "markdown",
   "metadata": {},
   "source": [
    "### function for get delta_g columns"
   ]
  },
  {
   "cell_type": "code",
   "execution_count": null,
   "metadata": {},
   "outputs": [],
   "source": [
    "def get_delta_g(catalog):\n",
    "    R11 = catalog['R11'].mean()\n",
    "    R22 = catalog['R22'].mean()\n",
    "    catalog['calculated_g_1']=catalog.apply(lambda x:x['e_1']/R11,axis=1)\n",
    "    catalog['calculated_g_2']=catalog.apply(lambda x:x['e_2']/R22,axis=1)\n",
    "    catalog['delta_g1']=catalog.apply(lambda x:x['calculated_g_1']-x['true_cm_g_1'],axis=1)\n",
    "    catalog['delta_g2']=catalog.apply(lambda x:x['calculated_g_2']-x['true_cm_g_2'],axis=1)"
   ]
  },
  {
   "cell_type": "code",
   "execution_count": null,
   "metadata": {},
   "outputs": [],
   "source": [
    "for catalog in final_df_positive_list:\n",
    "    get_delta_g(catalog)\n",
    "for catalog in final_df_negative_list:\n",
    "    get_delta_g(catalog)"
   ]
  },
  {
   "cell_type": "markdown",
   "metadata": {},
   "source": [
    "### function to get correlation functions"
   ]
  },
  {
   "cell_type": "code",
   "execution_count": null,
   "metadata": {},
   "outputs": [],
   "source": [
    "def get_gg(catalog):\n",
    "    print(len(catalog))\n",
    "    delta_g1=catalog['delta_g1'].to_numpy()\n",
    "    delta_g2=catalog['delta_g2'].to_numpy()\n",
    "    ra=catalog['ra'].to_numpy()\n",
    "    dec=catalog['dec'].to_numpy()\n",
    "    \n",
    "    scat = treecorr.Catalog( g1 = delta_g1, g2   = delta_g2, \n",
    "                                 ra = ra, dec  = dec, \n",
    "                                 ra_units='deg', dec_units='deg')\n",
    "    \n",
    "    gg = treecorr.GGCorrelation(nbins=20, min_sep=2.5, max_sep=250, sep_units='arcmin', bin_slop=0.2)\n",
    "    gg.process(scat)\n",
    "    \n",
    "    gg_dict={'gg':gg, 'length':len(catalog), 'g1avg':np.mean(catalog['delta_g1']), 'g2avg':np.mean(catalog['delta_g2']),\n",
    "                'g1sigma':np.std(catalog['delta_g1']),'g2sigma':np.std(catalog['delta_g2'])}\n",
    "    \n",
    "    return(gg_dict)"
   ]
  },
  {
   "cell_type": "code",
   "execution_count": null,
   "metadata": {},
   "outputs": [],
   "source": [
    "def get_kg(catalog,key):\n",
    "    delta_g1=catalog['delta_g1'].to_numpy()\n",
    "    delta_g2=catalog['delta_g2'].to_numpy()\n",
    "    k=catalog[key].to_numpy()\n",
    "    ra=catalog['ra'].to_numpy()\n",
    "    dec=catalog['dec'].to_numpy()\n",
    "    \n",
    "    kcat= treecorr.Catalog( k=k,\n",
    "                                 ra=ra, dec=dec, \n",
    "                                 ra_units='deg', dec_units='deg')\n",
    "    \n",
    "    gcat = treecorr.Catalog( g1=delta_g1, g2=delta_g2,\n",
    "                                 ra=ra, dec=dec, \n",
    "                                 ra_units='deg', dec_units='deg')\n",
    "    \n",
    "    kg = treecorr.KGCorrelation(nbins=20, min_sep=2.5, max_sep=250, sep_units='arcmin', bin_slop=0.2)\n",
    "    kg.process(kcat,gcat)\n",
    "    return(kg)"
   ]
  },
  {
   "cell_type": "code",
   "execution_count": null,
   "metadata": {},
   "outputs": [],
   "source": [
    "gg_positive = [get_gg(catalog) for catalog in final_df_positive_list]\n",
    "gg_negative = [get_gg(catalog) for catalog in final_df_negative_list]"
   ]
  },
  {
   "cell_type": "markdown",
   "metadata": {},
   "source": [
    "### function for getting healpix indexes"
   ]
  },
  {
   "cell_type": "code",
   "execution_count": null,
   "metadata": {},
   "outputs": [],
   "source": [
    "def get_healpix(df):\n",
    "    print (\"The length of the df is: {}.\".format(len(df)))\n",
    "    print (\"The ratio of the length of the catagory to the total pixel number is: {:.2%}\".format(len(df)/NPIX))\n",
    "    df['ipix']=df.apply(lambda x:hp.ang2pix(NSIDE,np.pi/2-np.deg2rad(x['dec']),np.deg2rad(x['ra']),nest=True),axis=1)\n",
    "    print(\"The propotion of rendered objects is: {:.2%}\".format(np.sum(df['ipix']!=0)/len(df)))\n",
    "    return (df)"
   ]
  },
  {
   "cell_type": "code",
   "execution_count": null,
   "metadata": {},
   "outputs": [],
   "source": [
    "df_w_ipix = [get_healpix(df) for df in final_df_list]"
   ]
  },
  {
   "cell_type": "code",
   "execution_count": null,
   "metadata": {},
   "outputs": [],
   "source": [
    "df_w_ipix_positive=[get_healpix(df) for df in final_df_positive_list]\n",
    "df_w_ipix_negative=[get_healpix(df) for df in final_df_negative_list]"
   ]
  },
  {
   "cell_type": "code",
   "execution_count": null,
   "metadata": {},
   "outputs": [],
   "source": [
    "#index for gold map with valid pixels\n",
    "map_ipix=gold_all_not_null.index.to_numpy()"
   ]
  },
  {
   "cell_type": "code",
   "execution_count": null,
   "metadata": {},
   "outputs": [],
   "source": [
    "def fill_gold_values_to_mcal(df):\n",
    "    ##drop balrog objects that does not have a corresponding gold map healpix index\n",
    "    drop_mask=np.isin(df['ipix'].to_numpy(),map_ipix)\n",
    "    df_new=df[drop_mask]\n",
    "    #index for gold map values\n",
    "    gold_index=df_new['ipix'].to_numpy()\n",
    "    #balrog indexes for df_new\n",
    "    bal_index=df_new.index\n",
    "#     print(gold_index)\n",
    "#     print(len(gold_index))\n",
    "    #get gold values by ipix \n",
    "    gold_all_not_null_reindexed=gold_all_not_null.loc[gold_index]\n",
    "    #reset the index of gold df to balrog index\n",
    "    gold_all_not_null_reindexeded=gold_all_not_null_reindexed.set_index(bal_index)\n",
    "#     print(len(df_new),len(gold_all_not_null_reindexeded))\n",
    "#     df_new_joined=pd.concat([df_new,gold_all_not_null_reindexed],axis=1)\n",
    "    #concatenate gold values with mcal catalogues on balrog index\n",
    "    joined=pd.concat([df_new,gold_all_not_null_reindexeded],axis=1)\n",
    "#     print(len(temp))\n",
    "    return (joined)"
   ]
  },
  {
   "cell_type": "code",
   "execution_count": null,
   "metadata": {},
   "outputs": [],
   "source": [
    "filled_df_positive=[fill_gold_values_to_mcal(df) for df in final_df_positive_list]\n",
    "filled_df_negative=[fill_gold_values_to_mcal(df) for df in final_df_negative_list]"
   ]
  },
  {
   "cell_type": "code",
   "execution_count": null,
   "metadata": {},
   "outputs": [],
   "source": [
    "filled_df_list = [fill_gold_values_to_mcal(df) for df in final_df_list]"
   ]
  },
  {
   "cell_type": "code",
   "execution_count": null,
   "metadata": {},
   "outputs": [],
   "source": [
    "key_list=gold_all.columns"
   ]
  },
  {
   "cell_type": "code",
   "execution_count": null,
   "metadata": {},
   "outputs": [],
   "source": [
    "def get_kg_for_key(key):\n",
    "    return (lambda df:get_kg(df,key))\n"
   ]
  },
  {
   "cell_type": "code",
   "execution_count": null,
   "metadata": {},
   "outputs": [],
   "source": [
    "def get_kg_for_indi_df(df):\n",
    "    print(len(df))\n",
    "    kg_dict={}\n",
    "    for key in key_list:\n",
    "        kg_dict[key]={\"corrfunc\":get_kg_for_key(key)(df),\"length\":len(df),\"kaverage\":np.mean(df[key]),\"ksigma\":np.std(df[key]),\n",
    "                      'g1avg':np.mean(df['delta_g1']),'g1sigma':np.std(df['delta_g1'])} \n",
    "    return(kg_dict)"
   ]
  },
  {
   "cell_type": "code",
   "execution_count": null,
   "metadata": {},
   "outputs": [],
   "source": [
    "kg_positive=[get_kg_for_indi_df(df) for df in filled_df_positive]\n",
    "kg_negative=[get_kg_for_indi_df(df) for df in filled_df_negative]"
   ]
  },
  {
   "cell_type": "markdown",
   "metadata": {},
   "source": [
    "# Plotting"
   ]
  },
  {
   "cell_type": "code",
   "execution_count": null,
   "metadata": {},
   "outputs": [],
   "source": [
    "def plt_gg(gg,title=None):\n",
    "    corrfunc=gg['gg']\n",
    "    length = gg['length']\n",
    "    g1avg = gg['g1avg']\n",
    "    g2avg = gg['g2avg']\n",
    "    g1sigma=gg['g1sigma']\n",
    "    g2sigma=gg['g2sigma']\n",
    "    \n",
    "#     gg_dict={'gg':gg, 'length':len(catalog), 'g1avg':np.mean(catalog['delta_g1']), 'g2_avg':np.mean(catalog['delta_g1']),\n",
    "#                 'g1sigma':np.std(catalog['delta_g1']),'g2sigma':np.std(catalog['delta_g2'])} \n",
    "        \n",
    "    textstr = '\\n'.join((\n",
    "        r'$n=%.2e$' % (length, ),\n",
    "        r'$g1_{avg}=%.2e$' % (g1avg, ),\n",
    "        r'$\\sigma_{g1}=%.2e$' % (g1sigma, ),\n",
    "        r'$g2_{avg}=%.2e$' % (g2avg, ),\n",
    "        r'$\\sigma_{g2}=%.2e$' % (g2sigma, )))\n",
    "    \n",
    "    \n",
    "    props = dict(boxstyle='round', facecolor='wheat', alpha=0.5)\n",
    "\n",
    "    fig,ax = plt.subplots()\n",
    "    ax.errorbar(np.exp(corrfunc.meanlogr),corrfunc.xip,yerr=np.sqrt(corrfunc.varxip))\n",
    "    plt.xscale('log')\n",
    "    plt.yscale('log')\n",
    "    plt.title(title+'_xip')\n",
    "    plt.xlabel('$\\\\theta$/arcmin')\n",
    "    ax.text(0.80, 0.95, textstr, transform=ax.transAxes, fontsize=5,\n",
    "            verticalalignment='top', bbox=props)\n",
    "    plt.savefig('/home/cz136/project/balrog/image/corr/{}_xip'.format(title),dpi=500)\n",
    "    plt.close()\n",
    "    \n",
    "    fig,ax = plt.subplots()\n",
    "    plt.errorbar(corrfunc.meanlogr,corrfunc.xim,yerr=np.sqrt(corrfunc.varxim))\n",
    "    plt.xscale('log')\n",
    "    plt.yscale('log')\n",
    "    plt.title(title+'_xim')\n",
    "    plt.xlabel(r\"$\\theta$ /arcmin\")\n",
    "    ax.text(0.80, 0.95, textstr, transform=ax.transAxes, fontsize=5,\n",
    "            verticalalignment='top', bbox=props)\n",
    "    plt.savefig('/home/cz136/project/balrog/image/corr/{}_xim'.format(title),dpi=500)\n",
    "    plt.close()"
   ]
  },
  {
   "cell_type": "code",
   "execution_count": null,
   "metadata": {},
   "outputs": [],
   "source": [
    "def plt_kg(kg,key,title=None):\n",
    "    corrfunc = kg['corrfunc']\n",
    "    kavg = kg['kaverage']\n",
    "    ksig = kg['ksigma']\n",
    "    length=kg['length']\n",
    "    g1avg=kg['g1avg']\n",
    "    g1sigma=kg['g1sigma']\n",
    "    \n",
    "    textstr = '\\n'.join((\n",
    "        r'$n=%.2e$' % (length, ),\n",
    "        r'$\\kappa_{avg}=%.2e$' % (kavg, ),\n",
    "        r'$\\sigma_k=%.2e$' % (ksig, ),\n",
    "        r'$g1_{avg}=%.2e$' % (g1avg, ),\n",
    "        r'$\\sigma_{g1}=%.2e$' % (g1sigma, )))\n",
    "    \n",
    "    fig,ax = plt.subplots()\n",
    "    ax.errorbar(np.exp(corrfunc.meanlogr),corrfunc.xi,yerr=np.sqrt(corrfunc.varxi))\n",
    "    plt.xscale('log')\n",
    "    plt.yscale('log')\n",
    "    \n",
    "    props = dict(boxstyle='round', facecolor='wheat', alpha=0.5)\n",
    "\n",
    "    # place a text box in upper left in axe80808080808080808080808080808080808080808080808080808080808080808080808080808080808080808080808080808080808080808080808080808080808080808080808080808080808080s coords\n",
    "    ax.text(0.80, 0.95, textstr, transform=ax.transAxes, fontsize=5,\n",
    "            verticalalignment='top', bbox=props)\n",
    "   \n",
    "    \n",
    "    plt.title(title)\n",
    "    plt.xlabel(r\"$\\theta$ /arcsec\")\n",
    "    plt.savefig('/home/cz136/project/balrog/image/corr/{}'.format(title),dpi=500)\n",
    "    plt.close()"
   ]
  },
  {
   "cell_type": "code",
   "execution_count": null,
   "metadata": {},
   "outputs": [],
   "source": [
    "mcal_str=['riz with MOF', 'riz without MOF', 'griz with MOF', 'griz without MOF']\n",
    "\n",
    "for i,gg in enumerate(gg_positive):\n",
    "    plt_gg(gg, title='GG {} e>0'.format(mcal_str[i]))\n",
    "for i,gg in enumerate(gg_negative):\n",
    "    plt_gg(gg, title='GG {} e<0'.format(mcal_str[i]))"
   ]
  },
  {
   "cell_type": "code",
   "execution_count": null,
   "metadata": {},
   "outputs": [],
   "source": [
    "def plot_indi_kg_dict(kg_dict,title=None):\n",
    "    for key,value in kg_dict.items():\n",
    "        plt_kg(value,key,title=title+'_'+str(key))"
   ]
  },
  {
   "cell_type": "code",
   "execution_count": null,
   "metadata": {},
   "outputs": [],
   "source": [
    "FONT_SIZE = 6"
   ]
  },
  {
   "cell_type": "code",
   "execution_count": null,
   "metadata": {},
   "outputs": [],
   "source": [
    "for i,kg_dict in enumerate(kg_positive):\n",
    "    plot_indi_kg_dict(kg_dict,title='KG {} e>0'.format(mcal_str[i]))\n",
    "for i,kg_dict in enumerate(kg_negative):\n",
    "    plot_indi_kg_dict(kg_dict,title='KG {} e<0'.format(mcal_str[i]))"
   ]
  },
  {
   "cell_type": "code",
   "execution_count": null,
   "metadata": {},
   "outputs": [],
   "source": [
    "plt.rcParams['axes.grid'] = True\n",
    "band_str_list=['riz','griz']\n",
    "panel_title_list=['w/ MOF, e>0, ', 'w/ MOF, e<0, ', 'wo/ MOF, e>0, ', 'wo/ MOF, e<0, ']\n",
    "\n",
    "def plt_gg_sub(gg_positive,gg_negative):\n",
    "\n",
    "    for i in range(2): ## cycle through riz and griz\n",
    "        pmof=gg_positive[i]\n",
    "        p=gg_positive[i+1]\n",
    "        nmof=gg_negative[i]\n",
    "        n=gg_negative[i+1]\n",
    "        \n",
    "        corrfunc=gg['gg']\n",
    "\n",
    "        \n",
    "        def get_plt_arguments(gg_dict,mode):\n",
    "            if mode == \"xip\":\n",
    "                return({'x':np.exp(gg_dict['gg'].meanlogr),'y':gg_dict['gg'].xip,'yerr': np.sqrt(gg_dict['gg'].varxip)})\n",
    "            if mode == \"xim\":\n",
    "                return ({'x':np.exp(gg_dict['gg'].meanlogr),'y':gg_dict['gg'].xim,'yerr': np.sqrt(gg_dict['gg'].varxim)})\n",
    "            \n",
    "        def get_plt_stats(gg):\n",
    "            length=gg['length']\n",
    "            g1avg = gg['g1avg']\n",
    "            g2avg = gg['g2avg']\n",
    "            g1sigma=gg['g1sigma']\n",
    "            g2sigma=gg['g2sigma']\n",
    "            \n",
    "                \n",
    "            textstr = '\\n'.join((\n",
    "                r'$n=%.2e$' % (length, ),\n",
    "                r'$g1_{avg}=%.2e$' % (g1avg, ),\n",
    "                r'$\\sigma_{g1}=%.2e$' % (g1sigma, ),\n",
    "                r'$g2_{avg}=%.2e$' % (g2avg, ),\n",
    "                r'$\\sigma_{g2}=%.2e$' % (g2sigma, )))\n",
    "\n",
    "            return (textstr)\n",
    "        \n",
    "        \n",
    "        props = dict(boxstyle='round', facecolor='wheat', alpha=0.5)\n",
    "            \n",
    "        # plot PM NM\n",
    "        #      P  N\n",
    "        #   1st xip\n",
    "        fig, axs = plt.subplots(2,2)\n",
    "        fig.set_figheight(10)\n",
    "        fig.set_figwidth(15)\n",
    "        for j,ax in enumerate(fig.axes):\n",
    "            ax.set_xscale('log')\n",
    "            ax.set_yscale('log')\n",
    "            ax.set_title(r'$\\xi_{}(r)$ {} {}'.format('{+}',panel_title_list[j],band_str_list[i],y=0.93))\n",
    "\n",
    "            \n",
    "        axs[0,0].errorbar(**get_plt_arguments(pmof,\"xip\"))\n",
    "        axs[0,0].text(0.80, 0.95, get_plt_stats(pmof), transform=axs[0,0].transAxes, fontsize=FONT_SIZE,\n",
    "        verticalalignment='top', bbox=props)\n",
    "        axs[0,1].errorbar(**get_plt_arguments(nmof,\"xip\"))\n",
    "        axs[0,1].text(0.80, 0.95, get_plt_stats(nmof), transform=axs[0,1].transAxes, fontsize=FONT_SIZE,\n",
    "        verticalalignment='top', bbox=props)\n",
    "        axs[1,0].errorbar(**get_plt_arguments(p,\"xip\"))\n",
    "        axs[1,0].text(0.80, 0.95, get_plt_stats(p), transform=axs[1,0].transAxes, fontsize=FONT_SIZE,\n",
    "        verticalalignment='top', bbox=props)\n",
    "        axs[1,1].errorbar(**get_plt_arguments(n,\"xip\"))\n",
    "        axs[1,1].text(0.80, 0.95, get_plt_stats(n), transform=axs[1,1].transAxes, fontsize=FONT_SIZE,\n",
    "        verticalalignment='top', bbox=props)\n",
    "        plt.subplots_adjust(hspace=0)\n",
    "        plt.savefig('/home/cz136/project/balrog/image/corr/subplots/GG/GGxip_{}.png'.format(band_str_list[i]),dpi=500)\n",
    "        plt.close()\n",
    "        \n",
    "        \n",
    "        fig, axs = plt.subplots(2,2)\n",
    "        fig.set_figheight(10)\n",
    "        fig.set_figwidth(15)\n",
    "        for j,ax in enumerate(fig.axes):\n",
    "            ax.set_xscale('log')\n",
    "            ax.set_yscale('log')\n",
    "            ax.set_title(r'$\\xi_{}(r)$ {} {}'.format('{-}',panel_title_list[j],band_str_list[i]), y=0.93)\n",
    "        axs[0,0].errorbar(**get_plt_arguments(pmof,\"xim\"))\n",
    "        axs[0,0].text(0.80, 0.95, get_plt_stats(pmof), transform=axs[0,0].transAxes, fontsize=FONT_SIZE,\n",
    "        verticalalignment='top', bbox=props)\n",
    "        axs[0,1].errorbar(**get_plt_arguments(nmof,\"xim\"))\n",
    "        axs[0,1].text(0.80, 0.95, get_plt_stats(nmof), transform=axs[0,1].transAxes, fontsize=FONT_SIZE,\n",
    "        verticalalignment='top', bbox=props)\n",
    "        axs[1,0].errorbar(**get_plt_arguments(p,\"xim\"))\n",
    "        axs[1,0].text(0.80, 0.95, get_plt_stats(p), transform=axs[1,0].transAxes, fontsize=FONT_SIZE,\n",
    "        verticalalignment='top', bbox=props)\n",
    "        axs[1,1].errorbar(**get_plt_arguments(n,\"xim\"))\n",
    "        axs[1,1].text(0.80, 0.95, get_plt_stats(n), transform=axs[1,1].transAxes, fontsize=FONT_SIZE,\n",
    "        verticalalignment='top', bbox=props)\n",
    "        plt.subplots_adjust(hspace=0)\n",
    "        plt.savefig('/home/cz136/project/balrog/image/corr/subplots/GG/GGxim_{}.png'.format(band_str_list[i]),dpi=500)\n",
    "        plt.close\n",
    "        \n",
    "        \n",
    "#         for ax in axs:"
   ]
  },
  {
   "cell_type": "code",
   "execution_count": null,
   "metadata": {},
   "outputs": [],
   "source": [
    "plt_gg_sub(gg_positive,gg_negative)"
   ]
  },
  {
   "cell_type": "code",
   "execution_count": null,
   "metadata": {},
   "outputs": [],
   "source": [
    "def plt_kg_sub(kg_positive,kg_negative):\n",
    "\n",
    "    \n",
    "    def get_plt_arguments(gg_dict):\n",
    "        return({'x':np.exp(gg_dict['corrfunc'].meanlogr),'y':gg_dict['corrfunc'].xi,'yerr': np.sqrt(gg_dict['corrfunc'].varxi)})\n",
    "\n",
    "    def get_plt_stats(gg):\n",
    "        length=gg['length']\n",
    "        kavg=gg['kaverage']\n",
    "        ksig=gg['ksigma']\n",
    "        g1avg = gg['g1avg']\n",
    "        g1sigma=gg['g1sigma']\n",
    "\n",
    "\n",
    "        textstr = '\\n'.join((\n",
    "            r'$n=%.2e$' % (length, ),\n",
    "            r'$\\kappa_{avg}=%.2e$' % (kavg, ),\n",
    "            r'$\\sigma_k=%.2e$' % (ksig, ),\n",
    "            r'$g1_{avg}=%.2e$' % (g1avg, ),\n",
    "            r'$\\sigma_{g1}=%.2e$' % (g1sigma, )))\n",
    "        return (textstr)\n",
    "    \n",
    "       # plot PM NM\n",
    "        #      P  N\n",
    "        #   1st xip     \n",
    "\n",
    "    props = dict(boxstyle='round', facecolor='wheat', alpha=0.5)\n",
    "    for i in range(2):\n",
    "    \n",
    "        for key in key_list:\n",
    "            pmof=kg_positive[i][key]\n",
    "            p=kg_positive[i+1][key]\n",
    "            nmof=kg_negative[i][key]\n",
    "            n=kg_negative[i][key]\n",
    "\n",
    "            fig, axs = plt.subplots(2,2)\n",
    "            fig.set_figheight(10)\n",
    "            fig.set_figwidth(15)\n",
    "            for j,ax in enumerate(fig.axes):\n",
    "                ax.set_xscale('log')\n",
    "                ax.set_yscale('log')\n",
    "                ax.set_title(r'KG $\\xi(r)$ {} {} {}'.format(key,panel_title_list[j],band_str_list[i]), y=0.93)\n",
    "            axs[0,0].errorbar(**get_plt_arguments(pmof))\n",
    "            axs[0,0].text(0.85, 0.95, get_plt_stats(pmof), transform=axs[0,0].transAxes, fontsize=FONT_SIZE,\n",
    "            verticalalignment='top', bbox=props)\n",
    "            axs[0,1].errorbar(**get_plt_arguments(nmof))\n",
    "            axs[0,1].text(0.85, 0.95, get_plt_stats(nmof), transform=axs[0,1].transAxes, fontsize=FONT_SIZE,\n",
    "            verticalalignment='top', bbox=props)\n",
    "            axs[1,0].errorbar(**get_plt_arguments(p))\n",
    "            axs[1,0].text(0.85, 0.95, get_plt_stats(p), transform=axs[1,0].transAxes, fontsize=FONT_SIZE,\n",
    "            verticalalignment='top', bbox=props)\n",
    "            axs[1,1].errorbar(**get_plt_arguments(n))\n",
    "            axs[1,1].text(0.85, 0.95, get_plt_stats(n), transform=axs[1,1].transAxes, fontsize=8,\n",
    "            verticalalignment='top', bbox=props)\n",
    "            plt.subplots_adjust(hspace=0)\n",
    "            plt.savefig('/home/cz136/project/balrog/image/corr/subplots/KG/KG_{}_{}.png'.format(key,band_str_list[i]),dpi=500)\n",
    "            plt.close()"
   ]
  },
  {
   "cell_type": "code",
   "execution_count": null,
   "metadata": {},
   "outputs": [],
   "source": [
    "plt_kg_sub(kg_positive,kg_negative);"
   ]
  },
  {
   "cell_type": "markdown",
   "metadata": {},
   "source": [
    "## KE correlation"
   ]
  },
  {
   "cell_type": "code",
   "execution_count": null,
   "metadata": {},
   "outputs": [],
   "source": [
    "def get_ke(catalog,key):\n",
    "    delta_g1=catalog['e_1'].to_numpy()\n",
    "    delta_g2=catalog['e_2'].to_numpy()\n",
    "    k=catalog[key].to_numpy()\n",
    "    ra=catalog['ra'].to_numpy()\n",
    "    dec=catalog['dec'].to_numpy()\n",
    "    \n",
    "    kcat= treecorr.Catalog( k=k,\n",
    "                                 ra=ra, dec=dec, \n",
    "                                 ra_units='deg', dec_units='deg')\n",
    "    \n",
    "    gcat = treecorr.Catalog( g1=delta_g1, g2=delta_g2,\n",
    "                                 ra=ra, dec=dec, \n",
    "                                 ra_units='deg', dec_units='deg')\n",
    "    \n",
    "    kg = treecorr.KGCorrelation(nbins=20, min_sep=2.5, max_sep=250, sep_units='arcmin', bin_slop=0.2)\n",
    "    kg.process(kcat,gcat)\n",
    "    return(kg)"
   ]
  },
  {
   "cell_type": "code",
   "execution_count": null,
   "metadata": {},
   "outputs": [],
   "source": [
    "def get_ke_for_key(key):\n",
    "    return (lambda df:get_ke(df,key))\n",
    "\n",
    "def get_ke_for_indi_df(df):\n",
    "    print(len(df))\n",
    "    ke_dict={}\n",
    "    for key in key_list:\n",
    "        ke_dict[key]={\"corrfunc\":get_ke_for_key(key)(df),\"length\":len(df),\"kaverage\":np.mean(df[key]),\"ksigma\":np.std(df[key]),\n",
    "                      'e1avg':np.mean(df['e_1']),'e1sigma':np.std(df['e_1']),'e2avg':np.mean(df['e_2']),'e2sigma':np.std(df['e_2'])} \n",
    "    return(ke_dict)"
   ]
  },
  {
   "cell_type": "code",
   "execution_count": null,
   "metadata": {},
   "outputs": [],
   "source": [
    "ke_positive=[get_ke_for_indi_df(df) for df in filled_df_positive]\n",
    "ke_negative=[get_ke_for_indi_df(df) for df in filled_df_negative]"
   ]
  },
  {
   "cell_type": "code",
   "execution_count": null,
   "metadata": {},
   "outputs": [],
   "source": [
    "ke_list = [get_ke_for_indi_df(df) for df in filled_df_list]"
   ]
  },
  {
   "cell_type": "code",
   "execution_count": null,
   "metadata": {},
   "outputs": [],
   "source": [
    "def plt_no_slection_ke_sub(ke_list):\n",
    "    wo_selection_titles=['MOF, ', 'woMOF, ']\n",
    "    \n",
    "    def get_plt_arguments(gg_dict):\n",
    "        return({'x':np.exp(gg_dict['corrfunc'].meanlogr),'y':gg_dict['corrfunc'].xi,'yerr': np.sqrt(gg_dict['corrfunc'].varxi)})\n",
    "\n",
    "    def get_plt_stats(gg):\n",
    "        length=gg['length']\n",
    "        kavg=gg['kaverage']\n",
    "        ksig=gg['ksigma']\n",
    "        e1avg = gg['e1avg']\n",
    "        e1sigma=gg['e1sigma']\n",
    "        e2avg = gg['e2avg']\n",
    "        e2sigma=gg['e2sigma']\n",
    "\n",
    "\n",
    "        textstr = '\\n'.join((\n",
    "            r'$n=%.2e$' % (length, ),\n",
    "            r'$\\kappa_{avg}=%.2e$' % (kavg, ),\n",
    "            r'$\\sigma_k=%.2e$' % (ksig, ),\n",
    "            r'$e1_{avg}=%.2e$' % (e1avg, ),\n",
    "            r'$\\sigma_{e1}=%.2e$' % (e1sigma, ),\n",
    "            r'$e2_{avg}=%.2e$' % (e2avg, ),\n",
    "            r'$\\sigma_{e1}=%.2e$' % (e2sigma, )))\n",
    "        return (textstr)\n",
    "    \n",
    "       # plot PM NM\n",
    "        #      P  N\n",
    "        #   1st xip    \n",
    "        \n",
    "    FONT_SIZE=4\n",
    "\n",
    "    props = dict(boxstyle='round', facecolor='wheat', alpha=0.5)\n",
    "    for i in range(2):\n",
    "        for key in key_list:\n",
    "            mof=ke_list[0][key]\n",
    "            womof=ke_list[i+1][key]\n",
    "\n",
    "\n",
    "            fig, axs = plt.subplots(2,1)\n",
    "            fig.set_figheight(10)\n",
    "            fig.set_figwidth(7)\n",
    "            for j,ax in enumerate(fig.axes):\n",
    "                ax.set_xscale('log')\n",
    "                ax.set_yscale('log')\n",
    "                ax.set_title(r'KE all $\\xi(r)$ {} {} {}'.format(key,wo_selection_titles[j],band_str_list[i]), y=0.93)\n",
    "            axs[0].errorbar(**get_plt_arguments(mof))\n",
    "            axs[0].text(0.85, 0.95, get_plt_stats(mof), transform=axs[0].transAxes, fontsize=FONT_SIZE,\n",
    "            verticalalignment='top', bbox=props)\n",
    "            \n",
    "            axs[1].errorbar(**get_plt_arguments(womof))\n",
    "            axs[1].text(0.85, 0.95, get_plt_stats(womof), transform=axs[1].transAxes, fontsize=FONT_SIZE,\n",
    "            verticalalignment='top', bbox=props)\n",
    "            \n",
    "            plt.subplots_adjust(hspace=0)\n",
    "            plt.savefig('/home/cz136/project/balrog/image/corr/subplots/KE/all/KE_all_{}_{}.png'.format(key,band_str_list[i]),dpi=500)\n",
    "            plt.close()"
   ]
  },
  {
   "cell_type": "code",
   "execution_count": null,
   "metadata": {},
   "outputs": [],
   "source": [
    "plt_no_slection_ke_sub(ke_list);"
   ]
  },
  {
   "cell_type": "code",
   "execution_count": null,
   "metadata": {},
   "outputs": [],
   "source": []
  }
 ],
 "metadata": {
  "kernelspec": {
   "display_name": "Python 3",
   "language": "python",
   "name": "python3"
  },
  "language_info": {
   "codemirror_mode": {
    "name": "ipython",
    "version": 3
   },
   "file_extension": ".py",
   "mimetype": "text/x-python",
   "name": "python",
   "nbconvert_exporter": "python",
   "pygments_lexer": "ipython3",
   "version": "3.7.3"
  }
 },
 "nbformat": 4,
 "nbformat_minor": 2
}
