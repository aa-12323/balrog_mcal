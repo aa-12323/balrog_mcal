{
 "cells": [
  {
   "cell_type": "markdown",
   "metadata": {},
   "source": [
    "# Load and import"
   ]
  },
  {
   "cell_type": "code",
   "execution_count": 1,
   "metadata": {},
   "outputs": [
    {
     "name": "stdout",
     "output_type": "stream",
     "text": [
      "['DataFrame', 'In', 'Math', 'Out', 'SIZE_RATIO_CUT', 'SNR_CUT', 'Series', 'T_CUT', 'Table', '_', '__', '___', '__builtin__', '__builtins__', '__doc__', '__loader__', '__name__', '__package__', '__spec__', '_dh', '_i', '_i1', '_ih', '_ii', '_iii', '_oh', 'bottleneck', 'display', 'exit', 'filter_by_snr', 'fits', 'get_df_list', 'get_ipython', 'h5py', 'i', 'index_2_3', 'index_2_3_true', 'index_2_3_true_negative', 'index_2_3_true_positive', 'index_4_5', 'index_4_5_true', 'index_4_5_true_negative', 'index_4_5_true_positive', 'load_mcal', 'load_true', 'mcal_df_list', 'mcal_df_list_negative', 'mcal_df_list_positive', 'np', 'numexpr', 'pd', 'photdf', 'plt', 'quit', 'tqdm', 'true_df_list']\n"
     ]
    }
   ],
   "source": [
    "%run load_data.ipynb\n",
    "print (dir())"
   ]
  },
  {
   "cell_type": "markdown",
   "metadata": {},
   "source": [
    "### read gold dfs (gold maps and delta_g)"
   ]
  },
  {
   "cell_type": "code",
   "execution_count": 2,
   "metadata": {},
   "outputs": [],
   "source": [
    "g_gold_list_positive=[None]*4\n",
    "for i in range(4):\n",
    "    path='/home/cz136/project/balrog/data/gold_g/mcal{}.pkl'.format(i+2)\n",
    "    g_gold_list_positive[i]=pd.read_pickle(path)"
   ]
  },
  {
   "cell_type": "markdown",
   "metadata": {},
   "source": [
    "### read gold maps"
   ]
  },
  {
   "cell_type": "code",
   "execution_count": 3,
   "metadata": {},
   "outputs": [],
   "source": [
    "gold_all=pd.read_pickle('/home/cz136/project/balrog/data/gold_g/gold.pkl')"
   ]
  },
  {
   "cell_type": "code",
   "execution_count": 4,
   "metadata": {},
   "outputs": [],
   "source": [
    "import treecorr\n",
    "import numpy as np\n",
    "import pandas as pd\n",
    "import healpy as hp\n",
    "from tqdm import tqdm\n",
    "\n",
    "pd.set_option('display.float_format', lambda x: '%.3e' % x)\n",
    "np.set_printoptions(formatter={'all':lambda x: '%.3e'% x})"
   ]
  },
  {
   "cell_type": "markdown",
   "metadata": {},
   "source": [
    "# Constants"
   ]
  },
  {
   "cell_type": "code",
   "execution_count": 5,
   "metadata": {},
   "outputs": [
    {
     "name": "stdout",
     "output_type": "stream",
     "text": [
      "The number of pixels is: 786432.\n"
     ]
    }
   ],
   "source": [
    "NSIDE=256 #or 512\n",
    "NPIX=hp.nside2npix(NSIDE)\n",
    "print (\"The number of pixels is: {}.\".format(NPIX))\n",
    "G_INDEX=np.arange(NPIX)"
   ]
  },
  {
   "cell_type": "markdown",
   "metadata": {},
   "source": [
    "# data manipulating"
   ]
  },
  {
   "cell_type": "markdown",
   "metadata": {},
   "source": [
    "### get an df with nan rows dropped"
   ]
  },
  {
   "cell_type": "code",
   "execution_count": 6,
   "metadata": {},
   "outputs": [],
   "source": [
    "gold_all_not_null=gold_all[gold_all['ebv_planck13'].notnull()]\n",
    "# g_gold_list_negative_not_null=[df[df['ebv_planck13'].notnull()] for df in g_gold_list_negative]"
   ]
  },
  {
   "cell_type": "code",
   "execution_count": 7,
   "metadata": {},
   "outputs": [],
   "source": [
    "gold_columns=list(gold_all_not_null.columns)[:-8]"
   ]
  },
  {
   "cell_type": "code",
   "execution_count": 8,
   "metadata": {},
   "outputs": [],
   "source": [
    "final_df_positive_list=[None]*4\n",
    "for i,catalog in enumerate(mcal_df_list_positive):\n",
    "    final_df_positive_list[i]=pd.concat([catalog,photdf[['true_cm_g_1','true_cm_g_2']]],axis=1,join='inner')"
   ]
  },
  {
   "cell_type": "code",
   "execution_count": 9,
   "metadata": {},
   "outputs": [],
   "source": [
    "final_df_negative_list=[None]*4\n",
    "for i,catalog in enumerate(mcal_df_list_negative):\n",
    "    final_df_negative_list[i]=pd.concat([catalog,photdf[['true_cm_g_1','true_cm_g_2']]],axis=1,join='inner')"
   ]
  },
  {
   "cell_type": "markdown",
   "metadata": {},
   "source": [
    "### function for get delta_g columns"
   ]
  },
  {
   "cell_type": "code",
   "execution_count": 10,
   "metadata": {},
   "outputs": [],
   "source": [
    "def get_delta_g(catalog):\n",
    "    R11 = catalog['R11'].mean()\n",
    "    R22 = catalog['R22'].mean()\n",
    "    catalog['calculated_g_1']=catalog.apply(lambda x:x['e_1']/R11,axis=1)\n",
    "    catalog['calculated_g_2']=catalog.apply(lambda x:x['e_2']/R22,axis=1)\n",
    "    catalog['delta_g1']=catalog.apply(lambda x:x['calculated_g_1']-x['true_cm_g_1'],axis=1)\n",
    "    catalog['delta_g2']=catalog.apply(lambda x:x['calculated_g_2']-x['true_cm_g_2'],axis=1)"
   ]
  },
  {
   "cell_type": "code",
   "execution_count": 11,
   "metadata": {},
   "outputs": [],
   "source": [
    "for catalog in final_df_positive_list:\n",
    "    get_delta_g(catalog)\n",
    "for catalog in final_df_negative_list:\n",
    "    get_delta_g(catalog)"
   ]
  },
  {
   "cell_type": "markdown",
   "metadata": {},
   "source": [
    "### function to get correlation functions"
   ]
  },
  {
   "cell_type": "code",
   "execution_count": 110,
   "metadata": {},
   "outputs": [],
   "source": [
    "def get_gg(catalog):\n",
    "    print(len(catalog))\n",
    "    delta_g1=catalog['delta_g1'].to_numpy()\n",
    "    delta_g2=catalog['delta_g2'].to_numpy()\n",
    "    ra=catalog['ra'].to_numpy()\n",
    "    dec=catalog['dec'].to_numpy()\n",
    "    \n",
    "    scat = treecorr.Catalog( g1 = delta_g1, g2   = delta_g2, \n",
    "                                 ra = ra, dec  = dec, \n",
    "                                 ra_units='deg', dec_units='deg')\n",
    "    \n",
    "    gg = treecorr.GGCorrelation(nbins=20, min_sep=2.5, max_sep=250, sep_units='arcmin', bin_slop=0.2)\n",
    "    gg.process(scat)\n",
    "    \n",
    "    gg_dict={'gg':gg, 'length':len(catalog), 'g1avg':np.mean(catalog['delta_g1']), 'g2avg':np.mean(catalog['delta_g2']),\n",
    "                'g1sigma':np.std(catalog['delta_g1']),'g2sigma':np.std(catalog['delta_g2'])}\n",
    "    \n",
    "    return(gg_dict)"
   ]
  },
  {
   "cell_type": "code",
   "execution_count": 94,
   "metadata": {},
   "outputs": [],
   "source": [
    "def get_kg(catalog,key):\n",
    "    delta_g1=catalog['delta_g1'].to_numpy()\n",
    "    delta_g2=catalog['delta_g2'].to_numpy()\n",
    "    k=catalog[key].to_numpy()\n",
    "    ra=catalog['ra'].to_numpy()\n",
    "    dec=catalog['dec'].to_numpy()\n",
    "    \n",
    "    kcat= treecorr.Catalog( k=k,\n",
    "                                 ra=ra, dec=dec, \n",
    "                                 ra_units='deg', dec_units='deg')\n",
    "    \n",
    "    gcat = treecorr.Catalog( g1=delta_g1, g2=delta_g2,\n",
    "                                 ra=ra, dec=dec, \n",
    "                                 ra_units='deg', dec_units='deg')\n",
    "    \n",
    "    kg = treecorr.KGCorrelation(nbins=20, min_sep=2.5, max_sep=250, sep_units='arcmin', bin_slop=0.2)\n",
    "    kg.process(kcat,gcat)\n",
    "    return(kg)"
   ]
  },
  {
   "cell_type": "code",
   "execution_count": 113,
   "metadata": {},
   "outputs": [
    {
     "name": "stdout",
     "output_type": "stream",
     "text": [
      "272818\n",
      "272818\n",
      "215145\n",
      "215145\n",
      "270876\n",
      "270876\n",
      "213617\n",
      "213617\n"
     ]
    }
   ],
   "source": [
    "gg_positive = [get_gg(catalog) for catalog in final_df_positive_list]\n",
    "gg_negative = [get_gg(catalog) for catalog in final_df_negative_list]"
   ]
  },
  {
   "cell_type": "markdown",
   "metadata": {},
   "source": [
    "### function for getting healpix indexes"
   ]
  },
  {
   "cell_type": "code",
   "execution_count": 15,
   "metadata": {},
   "outputs": [],
   "source": [
    "def get_healpix(df):\n",
    "    print (\"The length of the df is: {}.\".format(len(df)))\n",
    "    print (\"The ratio of the length of the catagory to the total pixel number is: {:.2%}\".format(len(df)/NPIX))\n",
    "    df['ipix']=df.apply(lambda x:hp.ang2pix(NSIDE,np.pi/2-np.deg2rad(x['dec']),np.deg2rad(x['ra']),nest=True),axis=1)\n",
    "    print(\"The propotion of rendered objects is: {:.2%}\".format(np.sum(df['ipix']!=0)/len(df)))\n",
    "    print (\"Resetting indexes\")\n",
    "    return (df)"
   ]
  },
  {
   "cell_type": "code",
   "execution_count": 16,
   "metadata": {},
   "outputs": [
    {
     "name": "stdout",
     "output_type": "stream",
     "text": [
      "The length of the df is: 272818.\n",
      "The ratio of the length of the catagory to the total pixel number is: 34.69%\n",
      "The propotion of rendered objects is: 100.00%\n",
      "Resetting indexes\n",
      "The length of the df is: 272818.\n",
      "The ratio of the length of the catagory to the total pixel number is: 34.69%\n",
      "The propotion of rendered objects is: 100.00%\n",
      "Resetting indexes\n",
      "The length of the df is: 215145.\n",
      "The ratio of the length of the catagory to the total pixel number is: 27.36%\n",
      "The propotion of rendered objects is: 100.00%\n",
      "Resetting indexes\n",
      "The length of the df is: 215145.\n",
      "The ratio of the length of the catagory to the total pixel number is: 27.36%\n",
      "The propotion of rendered objects is: 100.00%\n",
      "Resetting indexes\n",
      "The length of the df is: 270876.\n",
      "The ratio of the length of the catagory to the total pixel number is: 34.44%\n",
      "The propotion of rendered objects is: 100.00%\n",
      "Resetting indexes\n",
      "The length of the df is: 270876.\n",
      "The ratio of the length of the catagory to the total pixel number is: 34.44%\n",
      "The propotion of rendered objects is: 100.00%\n",
      "Resetting indexes\n",
      "The length of the df is: 213617.\n",
      "The ratio of the length of the catagory to the total pixel number is: 27.16%\n",
      "The propotion of rendered objects is: 100.00%\n",
      "Resetting indexes\n",
      "The length of the df is: 213617.\n",
      "The ratio of the length of the catagory to the total pixel number is: 27.16%\n",
      "The propotion of rendered objects is: 100.00%\n",
      "Resetting indexes\n"
     ]
    }
   ],
   "source": [
    "df_w_ipix_positive=[get_healpix(df) for df in final_df_positive_list]\n",
    "df_w_ipix_negative=[get_healpix(df) for df in final_df_negative_list]"
   ]
  },
  {
   "cell_type": "code",
   "execution_count": 17,
   "metadata": {},
   "outputs": [],
   "source": [
    "#index for gold map with valid pixels\n",
    "map_ipix=gold_all_not_null.index.to_numpy()"
   ]
  },
  {
   "cell_type": "code",
   "execution_count": 18,
   "metadata": {},
   "outputs": [],
   "source": [
    "def fill_gold_values_to_mcal(df):\n",
    "    ##drop balrog objects that does not have a corresponding gold map healpix index\n",
    "    drop_mask=np.isin(df['ipix'].to_numpy(),map_ipix)\n",
    "    df_new=df[drop_mask]\n",
    "    #index for gold map values\n",
    "    gold_index=df_new['ipix'].to_numpy()\n",
    "    #balrog indexes for df_new\n",
    "    bal_index=df_new.index\n",
    "#     print(gold_index)\n",
    "#     print(len(gold_index))\n",
    "    #get gold values by ipix \n",
    "    gold_all_not_null_reindexed=gold_all_not_null.loc[gold_index]\n",
    "    #reset the index of gold df to balrog index\n",
    "    gold_all_not_null_reindexeded=gold_all_not_null_reindexed.set_index(bal_index)\n",
    "#     print(len(df_new),len(gold_all_not_null_reindexeded))\n",
    "#     df_new_joined=pd.concat([df_new,gold_all_not_null_reindexed],axis=1)\n",
    "    #concatenate gold values with mcal catalogues on balrog index\n",
    "    joined=pd.concat([df_new,gold_all_not_null_reindexeded],axis=1)\n",
    "#     print(len(temp))\n",
    "    return (joined)"
   ]
  },
  {
   "cell_type": "code",
   "execution_count": 19,
   "metadata": {},
   "outputs": [],
   "source": [
    "filled_df_positive=[fill_gold_values_to_mcal(df) for df in final_df_positive_list]\n",
    "filled_df_negative=[fill_gold_values_to_mcal(df) for df in final_df_negative_list]"
   ]
  },
  {
   "cell_type": "code",
   "execution_count": 20,
   "metadata": {},
   "outputs": [],
   "source": [
    "key_list=gold_all.columns"
   ]
  },
  {
   "cell_type": "code",
   "execution_count": 21,
   "metadata": {},
   "outputs": [],
   "source": [
    "def get_kg_for_key(key):\n",
    "    return (lambda df:get_kg(df,key))"
   ]
  },
  {
   "cell_type": "code",
   "execution_count": 46,
   "metadata": {},
   "outputs": [],
   "source": [
    "def get_kg_for_indi_df(df):\n",
    "    print(len(df))\n",
    "    kg_dict={}\n",
    "    for key in key_list:\n",
    "        kg_dict[key]={\"corrfunc\":get_kg_for_key(key)(df),\"length\":len(df),\"kaverage\":np.mean(df[key]),\"ksigma\":np.std(df[key]),\n",
    "                      'g1avg':np.mean(df['delta_g1']),'g1sigma':np.std(df['delta_g1'])} \n",
    "    return(kg_dict)"
   ]
  },
  {
   "cell_type": "code",
   "execution_count": 47,
   "metadata": {},
   "outputs": [
    {
     "name": "stdout",
     "output_type": "stream",
     "text": [
      "215727\n",
      "215727\n",
      "169940\n",
      "169940\n",
      "214531\n",
      "214531\n",
      "169167\n",
      "169167\n"
     ]
    }
   ],
   "source": [
    "kg_positive=[get_kg_for_indi_df(df) for df in filled_df_positive]\n",
    "kg_negative=[get_kg_for_indi_df(df) for df in filled_df_negative]"
   ]
  },
  {
   "cell_type": "markdown",
   "metadata": {},
   "source": [
    "# Plotting"
   ]
  },
  {
   "cell_type": "code",
   "execution_count": 114,
   "metadata": {},
   "outputs": [],
   "source": [
    "def plt_gg(gg,title=None):\n",
    "    corrfunc=gg['gg']\n",
    "    length = gg['length']\n",
    "    g1avg = gg['g1avg']\n",
    "    g2avg = gg['g2avg']\n",
    "    g1sigma=gg['g1sigma']\n",
    "    g2sigma=gg['g2sigma']\n",
    "    \n",
    "#     gg_dict={'gg':gg, 'length':len(catalog), 'g1avg':np.mean(catalog['delta_g1']), 'g2_avg':np.mean(catalog['delta_g1']),\n",
    "#                 'g1sigma':np.std(catalog['delta_g1']),'g2sigma':np.std(catalog['delta_g2'])} \n",
    "        \n",
    "    textstr = '\\n'.join((\n",
    "        r'$n=%.2e$' % (length, ),\n",
    "        r'$g1_{avg}=%.2e$' % (g1avg, ),\n",
    "        r'$\\sigma_{g1}=%.2e$' % (g1sigma, ),\n",
    "        r'$g2_{avg}=%.2e$' % (g2avg, ),\n",
    "        r'$\\sigma_{g2}=%.2e$' % (g2sigma, )))\n",
    "    \n",
    "    \n",
    "    props = dict(boxstyle='round', facecolor='wheat', alpha=0.5)\n",
    "\n",
    "    fig,ax = plt.subplots()\n",
    "    ax.errorbar(corrfunc.meanr,corrfunc.xip,yerr=np.sqrt(corrfunc.varxip))\n",
    "    plt.xscale('log')\n",
    "    plt.yscale('log')\n",
    "    plt.title(title+'_xip')\n",
    "    plt.xlabel('$\\\\theta$/arcsec')\n",
    "    ax.text(0.80, 0.95, textstr, transform=ax.transAxes, fontsize=5,\n",
    "            verticalalignment='top', bbox=props)\n",
    "    plt.savefig('/home/cz136/project/balrog/image/corr/{}_xip'.format(title),dpi=500)\n",
    "    plt.close()\n",
    "    \n",
    "    fig,ax = plt.subplots()\n",
    "    plt.errorbar(corrfunc.meanr,corrfunc.xim,yerr=np.sqrt(corrfunc.varxim))\n",
    "    plt.xscale('log')\n",
    "    plt.yscale('log')\n",
    "    plt.title(title+'_xim')\n",
    "    plt.xlabel(r\"$\\theta$ /arcsec\")\n",
    "    ax.text(0.80, 0.95, textstr, transform=ax.transAxes, fontsize=5,\n",
    "            verticalalignment='top', bbox=props)\n",
    "    plt.savefig('/home/cz136/project/balrog/image/corr/{}_xim'.format(title),dpi=500)\n",
    "    plt.close()"
   ]
  },
  {
   "cell_type": "code",
   "execution_count": 106,
   "metadata": {},
   "outputs": [],
   "source": [
    "def plt_kg(kg,key,title=None):\n",
    "    corrfunc = kg['corrfunc']\n",
    "    kavg = kg['kaverage']\n",
    "    ksig = kg['ksigma']\n",
    "    length=kg['length']\n",
    "    g1avg=kg['g1avg']\n",
    "    g1sigma=kg['g1sigma']\n",
    "    \n",
    "    textstr = '\\n'.join((\n",
    "        r'$n=%.2e$' % (length, ),\n",
    "        r'$\\kappa_{avg}=%.2e$' % (kavg, ),\n",
    "        r'$\\sigma_k=%.2e$' % (ksig, ),\n",
    "        r'$g1_{avg}=%.2e$' % (g1avg, ),\n",
    "        r'$\\sigma_{g1}=%.2e$' % (g1sigma, )))\n",
    "    \n",
    "    fig,ax = plt.subplots()\n",
    "    ax.errorbar(corrfunc.meanr,corrfunc.xi,yerr=np.sqrt(corrfunc.varxi))\n",
    "    plt.xscale('log')\n",
    "    plt.yscale('log')\n",
    "    \n",
    "    props = dict(boxstyle='round', facecolor='wheat', alpha=0.5)\n",
    "\n",
    "    # place a text box in upper left in axe80808080808080808080808080808080808080808080808080808080808080808080808080808080808080808080808080808080808080808080808080808080808080808080808080808080808080s coords\n",
    "    ax.text(0.80, 0.95, textstr, transform=ax.transAxes, fontsize=5,\n",
    "            verticalalignment='top', bbox=props)\n",
    "   \n",
    "    \n",
    "    plt.title(title)\n",
    "    plt.xlabel(r\"$\\theta$ /arcsec\")\n",
    "    plt.savefig('/home/cz136/project/balrog/image/corr/{}'.format(title),dpi=500)\n",
    "    plt.close()"
   ]
  },
  {
   "cell_type": "code",
   "execution_count": 115,
   "metadata": {},
   "outputs": [],
   "source": [
    "for i,gg in enumerate(gg_positive):\n",
    "    plt_gg(gg, title='gg_mcal_{}_positive'.format(i+2))\n",
    "for i,gg in enumerate(gg_negative):\n",
    "    plt_gg(gg, title='gg_mcal_{}_negative'.format(i+2))"
   ]
  },
  {
   "cell_type": "code",
   "execution_count": 108,
   "metadata": {},
   "outputs": [],
   "source": [
    "def plot_indi_kg_dict(kg_dict,title=None):\n",
    "    for key,value in kg_dict.items():\n",
    "        plt_kg(value,key,title=title+'_'+str(key))"
   ]
  },
  {
   "cell_type": "code",
   "execution_count": 109,
   "metadata": {},
   "outputs": [],
   "source": [
    "for i,kg_dict in enumerate(kg_positive):\n",
    "    plot_indi_kg_dict(kg_dict,title='kg_mcal_{}_positive'.format(i+2))\n",
    "for i,kg_dict in enumerate(kg_negative):\n",
    "    plot_indi_kg_dict(kg_dict,title='kg_mcal_{}_negative'.format(i+2))"
   ]
  }
 ],
 "metadata": {
  "kernelspec": {
   "display_name": "Python 3",
   "language": "python",
   "name": "python3"
  },
  "language_info": {
   "codemirror_mode": {
    "name": "ipython",
    "version": 3
   },
   "file_extension": ".py",
   "mimetype": "text/x-python",
   "name": "python",
   "nbconvert_exporter": "python",
   "pygments_lexer": "ipython3",
   "version": "3.7.3"
  }
 },
 "nbformat": 4,
 "nbformat_minor": 2
}
