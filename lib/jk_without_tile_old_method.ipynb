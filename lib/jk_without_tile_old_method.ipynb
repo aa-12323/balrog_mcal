{
 "cells": [
  {
   "cell_type": "code",
   "execution_count": 2,
   "metadata": {},
   "outputs": [],
   "source": [
    "import pandas as pd\n",
    "import numpy as np\n",
    "import pickle\n",
    "import treecorr\n",
    "from tqdm import tqdm_notebook as tqdm\n",
    "import seaborn as sns\n",
    "import matplotlib.pyplot as plt\n",
    "from scipy import stats"
   ]
  },
  {
   "cell_type": "code",
   "execution_count": 2,
   "metadata": {},
   "outputs": [],
   "source": [
    "from scipy.stats import truncnorm\n",
    "\n",
    "def get_truncated_normal(mean=0, sd=0.24, low=-1, upp=1):\n",
    "    return truncnorm(\n",
    "        (low - mean) / sd, (upp - mean) / sd, loc=mean, scale=sd)\n",
    "\n",
    "generator = get_truncated_normal()"
   ]
  },
  {
   "cell_type": "code",
   "execution_count": 3,
   "metadata": {},
   "outputs": [],
   "source": [
    "N=50"
   ]
  },
  {
   "cell_type": "code",
   "execution_count": 4,
   "metadata": {},
   "outputs": [],
   "source": [
    "df_riz = pd.read_pickle('/home/cz136/project/balrog/data/mcal{}_df_all.pkl'.format(3)) "
   ]
  },
  {
   "cell_type": "code",
   "execution_count": 5,
   "metadata": {},
   "outputs": [],
   "source": [
    "length=len(df_riz)"
   ]
  },
  {
   "cell_type": "code",
   "execution_count": 6,
   "metadata": {},
   "outputs": [],
   "source": [
    "keys = df_riz.columns[40:]\n",
    "# keys=['ebv_planck13']"
   ]
  },
  {
   "cell_type": "code",
   "execution_count": 7,
   "metadata": {},
   "outputs": [],
   "source": [
    "true_df=pd.read_pickle(\"/home/cz136/project/balrog/data/true_df.pkl\")"
   ]
  },
  {
   "cell_type": "code",
   "execution_count": 8,
   "metadata": {},
   "outputs": [],
   "source": [
    "def add_tilename(df_list,true):\n",
    "    for i in range(4):\n",
    "        df_list[i]=pd.concat([df_list[i],true_df[['meas_tilename']]],axis=1,join='inner')"
   ]
  },
  {
   "cell_type": "code",
   "execution_count": 9,
   "metadata": {},
   "outputs": [],
   "source": [
    "df_riz=pd.concat([df_riz,true_df[['meas_tilename']]],axis=1,join='inner')"
   ]
  },
  {
   "cell_type": "code",
   "execution_count": 10,
   "metadata": {},
   "outputs": [],
   "source": [
    "#foo_data\n",
    "\n",
    "# df_riz['e_1']=generator.rvs(length)\n",
    "# df_riz['e_2']=generator.rvs(length)\n",
    "# df_riz['true_cm_g_1']=generator.rvs(length)\n",
    "# df_riz['true_cm_g_2']=generator.rvs(length)"
   ]
  },
  {
   "cell_type": "code",
   "execution_count": 11,
   "metadata": {},
   "outputs": [],
   "source": [
    "# for key in keys:\n",
    "#     df_riz[key]=np.ones(length)"
   ]
  },
  {
   "cell_type": "code",
   "execution_count": 12,
   "metadata": {},
   "outputs": [],
   "source": [
    "def get_ke(catalog,key):\n",
    "    \n",
    "    \n",
    "    delta_g1=catalog['e_1'].to_numpy()\n",
    "    delta_g2=catalog['e_2'].to_numpy()\n",
    "    k=catalog[key].to_numpy()\n",
    "    ra=catalog['ra'].to_numpy()\n",
    "    dec=catalog['dec'].to_numpy()\n",
    "\n",
    "    \n",
    "    kcat= treecorr.Catalog( k=k,\n",
    "                                 ra=ra, dec=dec, \n",
    "                                 ra_units='deg', dec_units='deg')\n",
    "    \n",
    "    gcat = treecorr.Catalog( g1=delta_g1, g2=delta_g2,\n",
    "                                 ra=ra, dec=dec, \n",
    "                                 ra_units='deg', dec_units='deg')\n",
    "    \n",
    "    kg = treecorr.KGCorrelation(nbins=20, min_sep=2.5, max_sep=250, sep_units='arcmin', bin_slop=0.2)\n",
    "    kg.process(kcat,gcat)\n",
    "    return (kg.xi)"
   ]
  },
  {
   "cell_type": "code",
   "execution_count": 13,
   "metadata": {},
   "outputs": [],
   "source": [
    "def get_ke_true(catalog,key):\n",
    "\n",
    "    \n",
    "    \n",
    "    \n",
    "    delta_g1=catalog['true_cm_g_1'].to_numpy()\n",
    "    delta_g2=catalog['true_cm_g_2'].to_numpy()\n",
    "    k=catalog[key].to_numpy()\n",
    "    ra=catalog['ra'].to_numpy()\n",
    "    dec=catalog['dec'].to_numpy()\n",
    "    \n",
    "    kcat= treecorr.Catalog( k=k,\n",
    "                                 ra=ra, dec=dec, \n",
    "                                 ra_units='deg', dec_units='deg')\n",
    "    \n",
    "    gcat = treecorr.Catalog( g1=delta_g1, g2=delta_g2,\n",
    "                                 ra=ra, dec=dec, \n",
    "                                 ra_units='deg', dec_units='deg')\n",
    "    \n",
    "    kg = treecorr.KGCorrelation(nbins=20, min_sep=2.5, max_sep=250, sep_units='arcmin', bin_slop=0.2)\n",
    "    kg.process(kcat,gcat)\n",
    "    \n",
    "    return (kg.xi)"
   ]
  },
  {
   "cell_type": "code",
   "execution_count": 14,
   "metadata": {},
   "outputs": [],
   "source": [
    "def get_chisqr(covariance,y_value):\n",
    "    return(np.dot(np.dot(y_value,np.linalg.inv(covariance)),y_value))\n",
    "\n",
    "def get_cov(jk_samples_for_key):\n",
    "    \n",
    "    xi_array=np.array(jk_samples_for_key[0])\n",
    "    xi_true_array=np.array(jk_samples_for_key[1])\n",
    "    \n",
    "    diff_array=xi_array-xi_true_array\n",
    "    \n",
    "    n = len(diff_array)\n",
    "    \n",
    "    emp_average=(1/n)*np.sum(diff_array,axis=0)\n",
    "    nd = len(diff_array[0])\n",
    "    cov=np.empty([nd,nd])\n",
    "    for row in range(nd):\n",
    "        for column in range(nd):\n",
    "            cov[row][column]=\\\n",
    "            (n-1)/n * np.sum((diff_array[:,row]-emp_average[row])*(diff_array[:,column]-emp_average[column]))\n",
    "    return (cov)\n",
    "\n",
    "def get_y_value(key):\n",
    "    y_value_true = get_ke(df_riz,key)\n",
    "    y_value = get_ke_true(df_riz,key)\n",
    "    diff=y_value-y_value_true\n",
    "    return (diff)\n",
    "\n",
    "def get_x_value(catalog,key):\n",
    "        \n",
    "    delta_g1=catalog['e_1'].to_numpy()\n",
    "    delta_g2=catalog['e_2'].to_numpy()\n",
    "    k=catalog[key].to_numpy()\n",
    "    ra=catalog['ra'].to_numpy()\n",
    "    dec=catalog['dec'].to_numpy()\n",
    "\n",
    "    \n",
    "    kcat= treecorr.Catalog( k=k,\n",
    "                                 ra=ra, dec=dec, \n",
    "                                 ra_units='deg', dec_units='deg')\n",
    "    \n",
    "    gcat = treecorr.Catalog( g1=delta_g1, g2=delta_g2,\n",
    "                                 ra=ra, dec=dec, \n",
    "                                 ra_units='deg', dec_units='deg')\n",
    "    \n",
    "    kg = treecorr.KGCorrelation(nbins=20, min_sep=2.5, max_sep=250, sep_units='arcmin', bin_slop=0.2)\n",
    "    kg.process(kcat,gcat)\n",
    "    return (np.exp(kg.meanlogr))"
   ]
  },
  {
   "cell_type": "code",
   "execution_count": 15,
   "metadata": {},
   "outputs": [
    {
     "data": {
      "application/vnd.jupyter.widget-view+json": {
       "model_id": "93acb68946cc4fbd8aa924e3c5ae1eb4",
       "version_major": 2,
       "version_minor": 0
      },
      "text/plain": [
       "HBox(children=(IntProgress(value=0, max=50), HTML(value='')))"
      ]
     },
     "metadata": {},
     "output_type": "display_data"
    },
    {
     "name": "stdout",
     "output_type": "stream",
     "text": [
      "\n"
     ]
    }
   ],
   "source": [
    "def get_jk_list(df,n):\n",
    "    \n",
    "    jk_list=[]\n",
    "    \n",
    "    random_df = df.sample(frac=1)\n",
    "    \n",
    "    \n",
    "    for i in tqdm(range(n)):\n",
    "        tile_length=int(len(random_df)/n)\n",
    "        jked_index=df.index[tile_length*i:tile_length*(i+1)]\n",
    "        jk_list.append(jked_index)\n",
    "    \n",
    "    return(jk_list)\n",
    "\n",
    "jk_list=get_jk_list(df_riz,N)"
   ]
  },
  {
   "cell_type": "code",
   "execution_count": 16,
   "metadata": {},
   "outputs": [],
   "source": [
    "def get_jk_ke_resample(jk_list,key):\n",
    "    \n",
    "    n=len(jk_list)\n",
    "    \n",
    "    \n",
    "    xi_matrix=np.empty([n,20])\n",
    "    xi_true_matrix=np.empty([n,20])\n",
    "    \n",
    "    for i in tqdm(range(len(jk_list))):\n",
    "        \n",
    "        jked_sample=df_riz.drop(jk_list[i])\n",
    "        \n",
    "        xi_matrix[i,:]=get_ke(jked_sample,key)\n",
    "        xi_true_matrix[i,:]=get_ke_true(jked_sample,key)\n",
    "\n",
    "    np.save(\"/home/cz136/project/balrog/data/equalsize/{}\".format(key),xi_matrix)\n",
    "    np.save(\"/home/cz136/project/balrog/data/equalsize/{}_true\".format(key),xi_true_matrix)\n",
    "        \n",
    "    return(xi_matrix,xi_true_matrix)"
   ]
  },
  {
   "cell_type": "code",
   "execution_count": 17,
   "metadata": {},
   "outputs": [],
   "source": [
    "def get_chi_sqr_for_key(jk_ke_resample,key):\n",
    "    print(\"Getting covariance\")\n",
    "    cov = get_cov(jk_ke_resample)\n",
    "    y_value=get_y_value(key)\n",
    "    return (get_chisqr(cov,y_value))"
   ]
  },
  {
   "cell_type": "code",
   "execution_count": 18,
   "metadata": {},
   "outputs": [],
   "source": [
    "def get_chi_sqr_from_df(jk_list,key):\n",
    "    jk_ke_resample=get_jk_ke_resample(jk_list,key)\n",
    "    return(get_chi_sqr_for_key(jk_ke_resample,key))"
   ]
  },
  {
   "cell_type": "code",
   "execution_count": 19,
   "metadata": {},
   "outputs": [
    {
     "name": "stdout",
     "output_type": "stream",
     "text": [
      "ebv_planck13\n"
     ]
    },
    {
     "data": {
      "application/vnd.jupyter.widget-view+json": {
       "model_id": "036905a5a9d049258b602d801d4e77fe",
       "version_major": 2,
       "version_minor": 0
      },
      "text/plain": [
       "HBox(children=(IntProgress(value=0, max=50), HTML(value='')))"
      ]
     },
     "metadata": {},
     "output_type": "display_data"
    },
    {
     "name": "stdout",
     "output_type": "stream",
     "text": [
      "\n",
      "Getting covariance\n",
      "14.477646338760268\n",
      "star_density_piffv23\n"
     ]
    },
    {
     "data": {
      "application/vnd.jupyter.widget-view+json": {
       "model_id": "9c19351f5b5c4829b9b9754c974fd465",
       "version_major": 2,
       "version_minor": 0
      },
      "text/plain": [
       "HBox(children=(IntProgress(value=0, max=50), HTML(value='')))"
      ]
     },
     "metadata": {},
     "output_type": "display_data"
    },
    {
     "name": "stdout",
     "output_type": "stream",
     "text": [
      "\n",
      "Getting covariance\n",
      "21.458199946664184\n",
      "det_frac\n"
     ]
    },
    {
     "data": {
      "application/vnd.jupyter.widget-view+json": {
       "model_id": "680756d9f066484290f45b7961a8687d",
       "version_major": 2,
       "version_minor": 0
      },
      "text/plain": [
       "HBox(children=(IntProgress(value=0, max=50), HTML(value='')))"
      ]
     },
     "metadata": {},
     "output_type": "display_data"
    },
    {
     "name": "stdout",
     "output_type": "stream",
     "text": [
      "\n",
      "Getting covariance\n",
      "19.08427724458276\n",
      "('g', 'airmass')\n"
     ]
    },
    {
     "data": {
      "application/vnd.jupyter.widget-view+json": {
       "model_id": "17ec7dd4811748ac9cb3971e8bc90564",
       "version_major": 2,
       "version_minor": 0
      },
      "text/plain": [
       "HBox(children=(IntProgress(value=0, max=50), HTML(value='')))"
      ]
     },
     "metadata": {},
     "output_type": "display_data"
    },
    {
     "name": "stdout",
     "output_type": "stream",
     "text": [
      "\n",
      "Getting covariance\n",
      "20.23582443390158\n",
      "('g', 'fwhm')\n"
     ]
    },
    {
     "data": {
      "application/vnd.jupyter.widget-view+json": {
       "model_id": "bffe009be1f94e0b980f2c99956ccff6",
       "version_major": 2,
       "version_minor": 0
      },
      "text/plain": [
       "HBox(children=(IntProgress(value=0, max=50), HTML(value='')))"
      ]
     },
     "metadata": {},
     "output_type": "display_data"
    },
    {
     "name": "stdout",
     "output_type": "stream",
     "text": [
      "\n",
      "Getting covariance\n",
      "17.917950957499883\n",
      "('g', 'mof_depth')\n"
     ]
    },
    {
     "data": {
      "application/vnd.jupyter.widget-view+json": {
       "model_id": "20a4ca662ef14d83be3818e9df2e21bf",
       "version_major": 2,
       "version_minor": 0
      },
      "text/plain": [
       "HBox(children=(IntProgress(value=0, max=50), HTML(value='')))"
      ]
     },
     "metadata": {},
     "output_type": "display_data"
    },
    {
     "name": "stdout",
     "output_type": "stream",
     "text": [
      "\n",
      "Getting covariance\n",
      "18.984703830778688\n",
      "('g', 'sigma_zp')\n"
     ]
    },
    {
     "data": {
      "application/vnd.jupyter.widget-view+json": {
       "model_id": "172f8a5d441345cb8a80ec229c330842",
       "version_major": 2,
       "version_minor": 0
      },
      "text/plain": [
       "HBox(children=(IntProgress(value=0, max=50), HTML(value='')))"
      ]
     },
     "metadata": {},
     "output_type": "display_data"
    },
    {
     "name": "stdout",
     "output_type": "stream",
     "text": [
      "\n",
      "Getting covariance\n",
      "18.171986052680488\n",
      "('g', 'sky_var')\n"
     ]
    },
    {
     "data": {
      "application/vnd.jupyter.widget-view+json": {
       "model_id": "692177bf96f4463aac2f055d450dc9b7",
       "version_major": 2,
       "version_minor": 0
      },
      "text/plain": [
       "HBox(children=(IntProgress(value=0, max=50), HTML(value='')))"
      ]
     },
     "metadata": {},
     "output_type": "display_data"
    },
    {
     "name": "stdout",
     "output_type": "stream",
     "text": [
      "\n",
      "Getting covariance\n",
      "17.94743448882472\n",
      "('g', 'teff_mean')\n"
     ]
    },
    {
     "data": {
      "application/vnd.jupyter.widget-view+json": {
       "model_id": "4c02fe55e62c4950a0fee993e955d016",
       "version_major": 2,
       "version_minor": 0
      },
      "text/plain": [
       "HBox(children=(IntProgress(value=0, max=50), HTML(value='')))"
      ]
     },
     "metadata": {},
     "output_type": "display_data"
    },
    {
     "name": "stdout",
     "output_type": "stream",
     "text": [
      "\n",
      "Getting covariance\n",
      "19.0540555261494\n",
      "('g', 'teff_sum')\n"
     ]
    },
    {
     "data": {
      "application/vnd.jupyter.widget-view+json": {
       "model_id": "ef625d9cf6ed44c3893a596247402514",
       "version_major": 2,
       "version_minor": 0
      },
      "text/plain": [
       "HBox(children=(IntProgress(value=0, max=50), HTML(value='')))"
      ]
     },
     "metadata": {},
     "output_type": "display_data"
    },
    {
     "name": "stdout",
     "output_type": "stream",
     "text": [
      "\n",
      "Getting covariance\n",
      "20.34922362134406\n",
      "('r', 'airmass')\n"
     ]
    },
    {
     "data": {
      "application/vnd.jupyter.widget-view+json": {
       "model_id": "1c8e67dc086d4117aaff74fa9b8dcc5b",
       "version_major": 2,
       "version_minor": 0
      },
      "text/plain": [
       "HBox(children=(IntProgress(value=0, max=50), HTML(value='')))"
      ]
     },
     "metadata": {},
     "output_type": "display_data"
    },
    {
     "name": "stdout",
     "output_type": "stream",
     "text": [
      "\n",
      "Getting covariance\n",
      "20.2358244338861\n",
      "('r', 'fwhm')\n"
     ]
    },
    {
     "data": {
      "application/vnd.jupyter.widget-view+json": {
       "model_id": "11bfbef8f35a483d988a9fffb6a0f745",
       "version_major": 2,
       "version_minor": 0
      },
      "text/plain": [
       "HBox(children=(IntProgress(value=0, max=50), HTML(value='')))"
      ]
     },
     "metadata": {},
     "output_type": "display_data"
    },
    {
     "name": "stdout",
     "output_type": "stream",
     "text": [
      "\n",
      "Getting covariance\n",
      "17.917950957500654\n",
      "('r', 'mof_depth')\n"
     ]
    },
    {
     "data": {
      "application/vnd.jupyter.widget-view+json": {
       "model_id": "342aee560b0a44ae847b219ffc05613f",
       "version_major": 2,
       "version_minor": 0
      },
      "text/plain": [
       "HBox(children=(IntProgress(value=0, max=50), HTML(value='')))"
      ]
     },
     "metadata": {},
     "output_type": "display_data"
    },
    {
     "name": "stdout",
     "output_type": "stream",
     "text": [
      "\n",
      "Getting covariance\n",
      "18.98470383078271\n",
      "('r', 'sigma_zp')\n"
     ]
    },
    {
     "data": {
      "application/vnd.jupyter.widget-view+json": {
       "model_id": "6c1c8f64f61144a8a00e8ee9d1d29d11",
       "version_major": 2,
       "version_minor": 0
      },
      "text/plain": [
       "HBox(children=(IntProgress(value=0, max=50), HTML(value='')))"
      ]
     },
     "metadata": {},
     "output_type": "display_data"
    },
    {
     "name": "stdout",
     "output_type": "stream",
     "text": [
      "\n",
      "Getting covariance\n",
      "18.171986052682097\n",
      "('r', 'sky_var')\n"
     ]
    },
    {
     "data": {
      "application/vnd.jupyter.widget-view+json": {
       "model_id": "ab45039cea054d6bb0f50a3f989e5728",
       "version_major": 2,
       "version_minor": 0
      },
      "text/plain": [
       "HBox(children=(IntProgress(value=0, max=50), HTML(value='')))"
      ]
     },
     "metadata": {},
     "output_type": "display_data"
    },
    {
     "name": "stdout",
     "output_type": "stream",
     "text": [
      "\n",
      "Getting covariance\n",
      "17.947434488823667\n",
      "('r', 'teff_mean')\n"
     ]
    },
    {
     "data": {
      "application/vnd.jupyter.widget-view+json": {
       "model_id": "03cf4fcae4754e4fbed9e44e15e3ff0e",
       "version_major": 2,
       "version_minor": 0
      },
      "text/plain": [
       "HBox(children=(IntProgress(value=0, max=50), HTML(value='')))"
      ]
     },
     "metadata": {},
     "output_type": "display_data"
    },
    {
     "name": "stdout",
     "output_type": "stream",
     "text": [
      "\n",
      "Getting covariance\n",
      "19.054055526161417\n",
      "('r', 'teff_sum')\n"
     ]
    },
    {
     "data": {
      "application/vnd.jupyter.widget-view+json": {
       "model_id": "7b9ed196568045828d33b0d214106f32",
       "version_major": 2,
       "version_minor": 0
      },
      "text/plain": [
       "HBox(children=(IntProgress(value=0, max=50), HTML(value='')))"
      ]
     },
     "metadata": {},
     "output_type": "display_data"
    },
    {
     "name": "stdout",
     "output_type": "stream",
     "text": [
      "\n",
      "Getting covariance\n",
      "20.349223621341824\n",
      "('i', 'airmass')\n"
     ]
    },
    {
     "data": {
      "application/vnd.jupyter.widget-view+json": {
       "model_id": "c64ec2075ff94074a2344640b00efea9",
       "version_major": 2,
       "version_minor": 0
      },
      "text/plain": [
       "HBox(children=(IntProgress(value=0, max=50), HTML(value='')))"
      ]
     },
     "metadata": {},
     "output_type": "display_data"
    },
    {
     "name": "stdout",
     "output_type": "stream",
     "text": [
      "\n",
      "Getting covariance\n",
      "20.235824433903257\n",
      "('i', 'fwhm')\n"
     ]
    },
    {
     "data": {
      "application/vnd.jupyter.widget-view+json": {
       "model_id": "4eb1914b2be34a0aaaf4089a6cdc4e46",
       "version_major": 2,
       "version_minor": 0
      },
      "text/plain": [
       "HBox(children=(IntProgress(value=0, max=50), HTML(value='')))"
      ]
     },
     "metadata": {},
     "output_type": "display_data"
    },
    {
     "name": "stdout",
     "output_type": "stream",
     "text": [
      "\n",
      "Getting covariance\n",
      "17.917950957507053\n",
      "('i', 'mof_depth')\n"
     ]
    },
    {
     "data": {
      "application/vnd.jupyter.widget-view+json": {
       "model_id": "f517c7da68964306aaae6b21e2b5068e",
       "version_major": 2,
       "version_minor": 0
      },
      "text/plain": [
       "HBox(children=(IntProgress(value=0, max=50), HTML(value='')))"
      ]
     },
     "metadata": {},
     "output_type": "display_data"
    },
    {
     "name": "stdout",
     "output_type": "stream",
     "text": [
      "\n",
      "Getting covariance\n",
      "18.984703830774535\n",
      "('i', 'sigma_zp')\n"
     ]
    },
    {
     "data": {
      "application/vnd.jupyter.widget-view+json": {
       "model_id": "b0a9b92fd721473b8c8c0e6edcf8c4c3",
       "version_major": 2,
       "version_minor": 0
      },
      "text/plain": [
       "HBox(children=(IntProgress(value=0, max=50), HTML(value='')))"
      ]
     },
     "metadata": {},
     "output_type": "display_data"
    },
    {
     "name": "stdout",
     "output_type": "stream",
     "text": [
      "\n",
      "Getting covariance\n",
      "18.17198605267837\n",
      "('i', 'sky_var')\n"
     ]
    },
    {
     "data": {
      "application/vnd.jupyter.widget-view+json": {
       "model_id": "c75905bb28394aab81451e7042bbcbf1",
       "version_major": 2,
       "version_minor": 0
      },
      "text/plain": [
       "HBox(children=(IntProgress(value=0, max=50), HTML(value='')))"
      ]
     },
     "metadata": {},
     "output_type": "display_data"
    },
    {
     "name": "stdout",
     "output_type": "stream",
     "text": [
      "\n",
      "Getting covariance\n",
      "17.947434488821088\n",
      "('i', 'teff_mean')\n"
     ]
    },
    {
     "data": {
      "application/vnd.jupyter.widget-view+json": {
       "model_id": "168141616b2e4911b9c6acc851cd2630",
       "version_major": 2,
       "version_minor": 0
      },
      "text/plain": [
       "HBox(children=(IntProgress(value=0, max=50), HTML(value='')))"
      ]
     },
     "metadata": {},
     "output_type": "display_data"
    },
    {
     "name": "stdout",
     "output_type": "stream",
     "text": [
      "\n",
      "Getting covariance\n",
      "19.05405552615981\n",
      "('i', 'teff_sum')\n"
     ]
    },
    {
     "data": {
      "application/vnd.jupyter.widget-view+json": {
       "model_id": "6b01670dd12e4a0a8893095c30a3c714",
       "version_major": 2,
       "version_minor": 0
      },
      "text/plain": [
       "HBox(children=(IntProgress(value=0, max=50), HTML(value='')))"
      ]
     },
     "metadata": {},
     "output_type": "display_data"
    },
    {
     "name": "stdout",
     "output_type": "stream",
     "text": [
      "\n",
      "Getting covariance\n",
      "20.3492236213455\n",
      "('z', 'airmass')\n"
     ]
    },
    {
     "data": {
      "application/vnd.jupyter.widget-view+json": {
       "model_id": "4ab276f2431b4adf8a8344176d6cad9e",
       "version_major": 2,
       "version_minor": 0
      },
      "text/plain": [
       "HBox(children=(IntProgress(value=0, max=50), HTML(value='')))"
      ]
     },
     "metadata": {},
     "output_type": "display_data"
    },
    {
     "name": "stdout",
     "output_type": "stream",
     "text": [
      "\n",
      "Getting covariance\n",
      "20.235824433896823\n",
      "('z', 'fwhm')\n"
     ]
    },
    {
     "data": {
      "application/vnd.jupyter.widget-view+json": {
       "model_id": "ff7fb9641b8a4385a80ba553ebd9d83c",
       "version_major": 2,
       "version_minor": 0
      },
      "text/plain": [
       "HBox(children=(IntProgress(value=0, max=50), HTML(value='')))"
      ]
     },
     "metadata": {},
     "output_type": "display_data"
    },
    {
     "name": "stdout",
     "output_type": "stream",
     "text": [
      "\n",
      "Getting covariance\n",
      "17.917950957517206\n",
      "('z', 'mof_depth')\n"
     ]
    },
    {
     "data": {
      "application/vnd.jupyter.widget-view+json": {
       "model_id": "48131abe688a44f7aa3bf252b78e7afb",
       "version_major": 2,
       "version_minor": 0
      },
      "text/plain": [
       "HBox(children=(IntProgress(value=0, max=50), HTML(value='')))"
      ]
     },
     "metadata": {},
     "output_type": "display_data"
    },
    {
     "name": "stdout",
     "output_type": "stream",
     "text": [
      "\n",
      "Getting covariance\n",
      "18.984703830784994\n",
      "('z', 'sigma_zp')\n"
     ]
    },
    {
     "data": {
      "application/vnd.jupyter.widget-view+json": {
       "model_id": "6945a2a71c8e4353bef80fadaf71863a",
       "version_major": 2,
       "version_minor": 0
      },
      "text/plain": [
       "HBox(children=(IntProgress(value=0, max=50), HTML(value='')))"
      ]
     },
     "metadata": {},
     "output_type": "display_data"
    },
    {
     "name": "stdout",
     "output_type": "stream",
     "text": [
      "\n",
      "Getting covariance\n",
      "18.17198605266905\n",
      "('z', 'sky_var')\n"
     ]
    },
    {
     "data": {
      "application/vnd.jupyter.widget-view+json": {
       "model_id": "2c293e2e2d284486807e7aa09f38e1b5",
       "version_major": 2,
       "version_minor": 0
      },
      "text/plain": [
       "HBox(children=(IntProgress(value=0, max=50), HTML(value='')))"
      ]
     },
     "metadata": {},
     "output_type": "display_data"
    },
    {
     "name": "stdout",
     "output_type": "stream",
     "text": [
      "\n",
      "Getting covariance\n",
      "17.947434488818246\n",
      "('z', 'teff_mean')\n"
     ]
    },
    {
     "data": {
      "application/vnd.jupyter.widget-view+json": {
       "model_id": "fe344108dda346d7a78f0a3c371aa782",
       "version_major": 2,
       "version_minor": 0
      },
      "text/plain": [
       "HBox(children=(IntProgress(value=0, max=50), HTML(value='')))"
      ]
     },
     "metadata": {},
     "output_type": "display_data"
    },
    {
     "name": "stdout",
     "output_type": "stream",
     "text": [
      "\n",
      "Getting covariance\n",
      "19.05405552616327\n",
      "('z', 'teff_sum')\n"
     ]
    },
    {
     "data": {
      "application/vnd.jupyter.widget-view+json": {
       "model_id": "54e6744472d140b0b5172e74bb026a65",
       "version_major": 2,
       "version_minor": 0
      },
      "text/plain": [
       "HBox(children=(IntProgress(value=0, max=50), HTML(value='')))"
      ]
     },
     "metadata": {},
     "output_type": "display_data"
    },
    {
     "name": "stdout",
     "output_type": "stream",
     "text": [
      "\n",
      "Getting covariance\n",
      "20.349223621353865\n"
     ]
    }
   ],
   "source": [
    "with open('/home/cz136/project/balrog/data/chi_sqr_old.txt', 'w') as f:\n",
    "    for key in keys:\n",
    "        print (key)\n",
    "        chi_sqr=get_chi_sqr_from_df(jk_list,key)\n",
    "        print(chi_sqr)"
   ]
  },
  {
   "cell_type": "code",
   "execution_count": 20,
   "metadata": {},
   "outputs": [],
   "source": [
    "xi_dict={}\n",
    "xi_true_dict={}\n",
    "\n",
    "for key in keys:\n",
    "    xi_dict[key]=np.load(\"/home/cz136/project/balrog/data/equalsize/{}.npy\".format(key))\n",
    "    xi_true_dict[key]=np.load(\"/home/cz136/project/balrog/data/equalsize/{}_true.npy\".format(key))"
   ]
  },
  {
   "cell_type": "code",
   "execution_count": 21,
   "metadata": {},
   "outputs": [
    {
     "name": "stdout",
     "output_type": "stream",
     "text": [
      "Getting covariance\n",
      "14.477646338759355\n",
      "Getting covariance\n",
      "21.458199946663804\n",
      "Getting covariance\n",
      "19.0842772445838\n",
      "Getting covariance\n",
      "20.235824433901882\n",
      "Getting covariance\n",
      "17.917950957496178\n",
      "Getting covariance\n",
      "18.98470383077928\n",
      "Getting covariance\n",
      "18.17198605268134\n",
      "Getting covariance\n",
      "17.94743448882356\n",
      "Getting covariance\n",
      "19.05405552614875\n",
      "Getting covariance\n",
      "20.34922362134482\n",
      "Getting covariance\n",
      "20.235824433886542\n",
      "Getting covariance\n",
      "17.91795095750205\n",
      "Getting covariance\n",
      "18.984703830781037\n",
      "Getting covariance\n",
      "18.17198605268113\n",
      "Getting covariance\n",
      "17.947434488821546\n",
      "Getting covariance\n",
      "19.054055526159328\n",
      "Getting covariance\n",
      "20.349223621346486\n",
      "Getting covariance\n",
      "20.235824433902252\n",
      "Getting covariance\n",
      "17.91795095750736\n",
      "Getting covariance\n",
      "18.98470383077271\n",
      "Getting covariance\n",
      "18.171986052680605\n",
      "Getting covariance\n",
      "17.94743448882173\n",
      "Getting covariance\n",
      "19.054055526160933\n",
      "Getting covariance\n",
      "20.349223621347523\n",
      "Getting covariance\n",
      "20.235824433897132\n",
      "Getting covariance\n",
      "17.917950957516698\n",
      "Getting covariance\n",
      "18.984703830784152\n",
      "Getting covariance\n",
      "18.17198605266855\n",
      "Getting covariance\n",
      "17.947434488817755\n",
      "Getting covariance\n",
      "19.054055526163932\n",
      "Getting covariance\n",
      "20.34922362135038\n"
     ]
    }
   ],
   "source": [
    "chi_square_array=np.empty(len(keys))\n",
    "\n",
    "for i,key in enumerate(keys):\n",
    "    chi_sqr=get_chi_sqr_for_key((xi_dict[key],xi_true_dict[key]),key)\n",
    "    chi_square_array[i]=chi_sqr\n",
    "    print(chi_sqr)"
   ]
  },
  {
   "cell_type": "code",
   "execution_count": 22,
   "metadata": {},
   "outputs": [],
   "source": [
    "np.save(\"/home/cz136/project/balrog/data/equalsize/chi_sqr_array\",chi_square_array)"
   ]
  },
  {
   "cell_type": "code",
   "execution_count": 23,
   "metadata": {},
   "outputs": [
    {
     "data": {
      "image/png": "[encoded data removed]",
      "text/plain": [
       "<Figure size 432x288 with 1 Axes>"
      ]
     },
     "metadata": {
      "needs_background": "light"
     },
     "output_type": "display_data"
    }
   ],
   "source": [
    "\n",
    "fig, ax = plt.subplots()\n",
    "ax.hist(chi_square_array)\n",
    "ax.set_title(r\"Histogram of $\\chi^2$ from Jackknifed Tiles of Equal Size\")\n",
    "plt.savefig(\"/home/cz136/8_30.png\",dpi=300)\n",
    "plt.show()\n",
    "plt.close()"
   ]
  },
  {
   "cell_type": "code",
   "execution_count": 24,
   "metadata": {},
   "outputs": [],
   "source": [
    "chi_sr=pd.Series(chi_square_array)"
   ]
  },
  {
   "cell_type": "code",
   "execution_count": 25,
   "metadata": {},
   "outputs": [
    {
     "data": {
      "text/plain": [
       "count    31.000000\n",
       "mean     18.892414\n",
       "std       1.308986\n",
       "min      14.477646\n",
       "25%      17.947434\n",
       "50%      18.984704\n",
       "75%      20.235824\n",
       "max      21.458200\n",
       "dtype: float64"
      ]
     },
     "execution_count": 25,
     "metadata": {},
     "output_type": "execute_result"
    }
   ],
   "source": [
    "chi_sr.describe()"
   ]
  },
  {
   "cell_type": "code",
   "execution_count": 26,
   "metadata": {},
   "outputs": [
    {
     "data": {
      "text/plain": [
       "array([14.47764634, 21.45819995, 19.08427724, 20.23582443, 17.91795096,\n",
       "       18.98470383, 18.17198605, 17.94743449, 19.05405553, 20.34922362,\n",
       "       20.23582443, 17.91795096, 18.98470383, 18.17198605, 17.94743449,\n",
       "       19.05405553, 20.34922362, 20.23582443, 17.91795096, 18.98470383,\n",
       "       18.17198605, 17.94743449, 19.05405553, 20.34922362, 20.23582443,\n",
       "       17.91795096, 18.98470383, 18.17198605, 17.94743449, 19.05405553,\n",
       "       20.34922362])"
      ]
     },
     "execution_count": 26,
     "metadata": {},
     "output_type": "execute_result"
    }
   ],
   "source": [
    "chi_square_array"
   ]
  },
  {
   "cell_type": "code",
   "execution_count": 27,
   "metadata": {},
   "outputs": [
    {
     "data": {
      "text/plain": [
       "('g', 'airmass')"
      ]
     },
     "execution_count": 27,
     "metadata": {},
     "output_type": "execute_result"
    }
   ],
   "source": [
    "keys[3]"
   ]
  },
  {
   "cell_type": "code",
   "execution_count": 28,
   "metadata": {},
   "outputs": [
    {
     "data": {
      "image/png": "[encoded data removed]",
      "text/plain": [
       "<Figure size 432x288 with 1 Axes>"
      ]
     },
     "metadata": {
      "needs_background": "light"
     },
     "output_type": "display_data"
    }
   ],
   "source": [
    "g_airmass_y=get_y_value(keys[3])\n",
    "g_airmass_x=get_x_value(df_riz,keys[3])\n",
    "g_diff_array=xi_dict[keys[3]]-xi_true_dict[keys[3]]\n",
    "\n",
    "fig, ax = plt.subplots()\n",
    "ax.plot(g_airmass_x,g_airmass_y)\n",
    "\n",
    "for i in range(len(g_diff_array)):\n",
    "    \n",
    "    ax.scatter(g_airmass_x,g_diff_array[i,:])\n",
    "\n",
    "plt.show()"
   ]
  },
  {
   "cell_type": "code",
   "execution_count": null,
   "metadata": {},
   "outputs": [],
   "source": [
    "g_airmass_y=get_y_value(keys[3])\n",
    "g_airmass_x=get_x_value(df_riz,keys[3])\n",
    "g_diff_array=xi_dict[keys[3]]-xi_true_dict[keys[3]]\n",
    "\n",
    "fig, ax = plt.subplots()\n",
    "ax.plot(g_airmass_x,g_airmass_y)\n",
    "\n",
    "\n",
    "\n",
    "plt.show()"
   ]
  },
  {
   "cell_type": "code",
   "execution_count": null,
   "metadata": {},
   "outputs": [],
   "source": [
    "print (key)\n",
    "chi_sqr=get_chi_sqr_from_df(df_riz,keys[3])\n",
    "print(chi_sqr)"
   ]
  },
  {
   "cell_type": "code",
   "execution_count": 5,
   "metadata": {},
   "outputs": [],
   "source": [
    "chi_sqr=np.load(\"/home/cz136/project/balrog/data/equalsize/chi_sqr_array.npy\")"
   ]
  },
  {
   "cell_type": "code",
   "execution_count": 13,
   "metadata": {},
   "outputs": [
    {
     "data": {
      "image/png": "[encoded data removed]",
      "text/plain": [
       "<Figure size 432x288 with 1 Axes>"
      ]
     },
     "metadata": {
      "needs_background": "light"
     },
     "output_type": "display_data"
    }
   ],
   "source": [
    "plt.hist(chi_sqr)\n",
    "plt.xlabel(\"$\\chi^2$ Value\")\n",
    "plt.ylabel(\"Count\")\n",
    "plt.title(\"$\\chi^2$ Distribution of Random Partition Jackknifing\")\n",
    "plt.savefig(\"/home/cz136/project/balrog/data/equalsize/chi_sqr_hist\")"
   ]
  },
  {
   "cell_type": "code",
   "execution_count": 11,
   "metadata": {},
   "outputs": [
    {
     "data": {
      "text/plain": [
       "count    31.000000\n",
       "mean     18.892414\n",
       "std       1.308986\n",
       "min      14.477646\n",
       "25%      17.947434\n",
       "50%      18.984704\n",
       "75%      20.235824\n",
       "max      21.458200\n",
       "dtype: float64"
      ]
     },
     "execution_count": 11,
     "metadata": {},
     "output_type": "execute_result"
    }
   ],
   "source": [
    "pd.Series(chi_sqr).describe()"
   ]
  },
  {
   "cell_type": "code",
   "execution_count": null,
   "metadata": {},
   "outputs": [],
   "source": []
  }
 ],
 "metadata": {
  "kernelspec": {
   "display_name": "Python 3",
   "language": "python",
   "name": "python3"
  },
  "language_info": {
   "codemirror_mode": {
    "name": "ipython",
    "version": 3
   },
   "file_extension": ".py",
   "mimetype": "text/x-python",
   "name": "python",
   "nbconvert_exporter": "python",
   "pygments_lexer": "ipython3",
   "version": "3.7.3"
  }
 },
 "nbformat": 4,
 "nbformat_minor": 4
}
